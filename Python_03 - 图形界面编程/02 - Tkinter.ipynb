{
 "cells": [
  {
   "cell_type": "markdown",
   "metadata": {},
   "source": [
    "# 02. Tkinter\n",
    "- Tkinter 是 Python 的标准 GUI 库。\n",
    "- Python 使用 Tkinter 可以快速的创建 GUI 应用程序。\n",
    "- 由于 Tkinter 是内置到 python 的安装包中、只要安装好 Python 之后就能 import Tkinter 库、而且 IDLE 也是用 Tkinter 编写而成、对于简单的图形界面 Tkinter 还是能应付自如。"
   ]
  },
  {
   "cell_type": "code",
   "execution_count": null,
   "metadata": {},
   "outputs": [],
   "source": [
    "# 测试Tkinter包是否可用\n",
    "import tkinter\n",
    "\n",
    "# 执行模块内置测试程序\n",
    "tkinter._test()"
   ]
  },
  {
   "cell_type": "code",
   "execution_count": 1,
   "metadata": {},
   "outputs": [],
   "source": [
    "# 基础窗口示例\n",
    "import tkinter\n",
    "\n",
    "base = tkinter.Tk()\n",
    "\n",
    "# 创建并进入消息循环\n",
    "base.mainloop()"
   ]
  },
  {
   "cell_type": "markdown",
   "metadata": {},
   "source": [
    "## Tkinter常用组件（控件）\n",
    "| 组件 | 描述 |\n",
    "| ---- | :--- |\n",
    "| Button | 按钮控件：在程序中显示按钮 |\n",
    "| Canvas | 画布控件：显示图形元素如线条或文本 |\n",
    "| Checkbutton | 多选框控件：用于在程序中提供多项选择框 |\n",
    "| Entry | 输入控件：用于显示简单的文本内容 |\n",
    "| Frame | 框架控件：在屏幕上显示一个矩形区域，多用来作为容器 |\n",
    "| Label | 标签控件：可以显示文本和位图 |\n",
    "| Listbox | 列表框控件：在Listbox窗口小部件是用来显示一个字符串列表给用户 |\n",
    "| Menubutton | 菜单按钮控件：用于显示菜单项 |\n",
    "| Menu | 菜单控件：显示菜单栏,下拉菜单和弹出菜单 |\n",
    "| Message | 消息控件：用来显示多行文本，与label比较类似 |\n",
    "| Radiobutton | 单选按钮控件：显示一个单选的按钮状态 |\n",
    "| Scale | 范围控件：显示一个数值刻度，为输出限定范围的数字区间 |\n",
    "| Scrollbar | 滚动条控件：当内容超过可视化区域时使用，如列表框 |\n",
    "| Text | 文本控件：用于显示多行文本 |\n",
    "| Toplevel | 容器控件：用来提供一个单独的对话框，和Frame比较类似 |\n",
    "| Spinbox | 输入控件：与Entry类似，但是可以指定输入范围值 |\n",
    "| PanedWindow | 一个窗口布局管理的插件，可以包含一个或者多个子控件 |\n",
    "| LabelFrame | 一个简单的容器控件，常用与复杂的窗口布局 |\n",
    "| tkMessageBox | 用于显示你应用程序的消息框 |"
   ]
  },
  {
   "cell_type": "markdown",
   "metadata": {},
   "source": [
    "### 组件分类\n",
    "\n",
    "#### 按钮\n",
    "| 按钮类组件 | 描述 |\n",
    "| ---------- | :--- |\n",
    "| Button | 按钮控件：在程序中显示按钮 |\n",
    "| Checkbutton | 多选框控件：用于在程序中提供多项选择框 |\n",
    "| Radiobutton | 单选按钮控件：显示一个单选的按钮状态 |\n",
    "| Listbox | 列表框控件：在Listbox窗口小部件是用来显示一个字符串列表给用户 |\n",
    "\n",
    "#### 文本输入\n",
    "| 文本输入组件 | 描述 |\n",
    "| ------------ | :--- |\n",
    "| Entry | 输入控件：用于显示简单的文本内容 |\n",
    "| Text | 文本控件：用于显示多行文本 |\n",
    "| Spinbox | 输入控件：与Entry类似，但是可以指定输入范围值 |\n",
    "\n",
    "#### 标签\n",
    "| 标签组件 | 描述 |\n",
    "| -------- | :--- |\n",
    "| Label | 标签控件：可以显示文本和位图 |\n",
    "| Message | 消息控件：用来显示多行文本，与label比较类似 |\n",
    "\n",
    "#### 菜单\n",
    "| 菜单组件 | 描述 |\n",
    "| -------- | :--- |\n",
    "| Menu | 菜单控件：显示菜单栏,下拉菜单和弹出菜单 |\n",
    "| Menubutton | 菜单按钮控件：用于显示菜单项 |\n",
    "\n",
    "#### 滚动条\n",
    "| 滚动条组件 | 描述 |\n",
    "| ---------- | :--- |\n",
    "| Scale | 范围控件：显示一个数值刻度，为输出限定范围的数字区间 |\n",
    "| Scrollbar | 滚动条控件：当内容超过可视化区域时使用，如列表框 |\n",
    "\n",
    "#### 其他组件\n",
    "| 其他组件 | 描述 |\n",
    "| -------- | :--- |\n",
    "| Canvas | 画布控件：显示图形元素如线条或文本 |\n",
    "| Frame | 框架控件：在屏幕上显示一个矩形区域，多用来作为容器 |\n",
    "| Toplevel | 容器控件：用来提供一个单独的对话框，和Frame比较类似 |\n",
    "| PanedWindow | 一个窗口布局管理的插件，可以包含一个或者多个子控件 |\n",
    "| LabelFrame | 一个简单的容器控件，常用与复杂的窗口布局 |\n",
    "| tkMessageBox | 用于显示你应用程序的消息框 |"
   ]
  },
  {
   "cell_type": "markdown",
   "metadata": {},
   "source": [
    "## 创建一个GUI程序的步骤\n",
    "1. 创建总面板（框）\n",
    "2. 创建面板上的各种组件：\n",
    "    1. 指定组件的父组件，即指定依附关系\n",
    "    2. 利用相应的属性对组件进行设置\n",
    "    3. 给组件安排布局\n",
    "3. 启动总面板的消息循环"
   ]
  },
  {
   "cell_type": "code",
   "execution_count": 4,
   "metadata": {},
   "outputs": [],
   "source": [
    "# Label 示例\n",
    "import tkinter\n",
    "\n",
    "# 框\n",
    "base = tkinter.Tk()\n",
    "\n",
    "# 标题\n",
    "base.wm_title(\"Label Test\")\n",
    "\n",
    "# 定义一个 Label\n",
    "lb = tkinter.Label(base, text=\"Python Label\")\n",
    "\n",
    "# 给相应组件指定布局方式\n",
    "lb.pack()\n",
    "\n",
    "# 创建并进入消息循环\n",
    "base.mainloop()"
   ]
  },
  {
   "cell_type": "markdown",
   "metadata": {},
   "source": [
    "## Tkinter常用组件的标准属性\n",
    "| 属性| 描述 |\n",
    "| --- | :--- |\n",
    "| Dimension | 控件大小 |\n",
    "| Color | 控件颜色 |\n",
    "| Font | 控件字体 |\n",
    "| Anchor | 锚点 |\n",
    "| Relief | 控件样式|\n",
    "| Bitmap | 位图|\n",
    "| Cursor | 光标|"
   ]
  },
  {
   "cell_type": "code",
   "execution_count": 14,
   "metadata": {},
   "outputs": [],
   "source": [
    "# Label 设置示例\n",
    "import tkinter\n",
    "\n",
    "# 框\n",
    "base = tkinter.Tk()\n",
    "\n",
    "# 标题\n",
    "base.wm_title(\"Label Test\")\n",
    "\n",
    "# 定义 Label，并设置属性\n",
    "# 第一个参数，制定所属\n",
    "lb1= tkinter.Label(base, text=\"Python AI\")\n",
    "lb1.pack() # 指定布局\n",
    "\n",
    "lb2= tkinter.Label(base, text=\"绿色背景\", background=\"green\")\n",
    "lb2.pack() # 指定布局\n",
    "\n",
    "lb3= tkinter.Label(base, text=\"蓝色背景\", background=\"blue\")\n",
    "lb3.pack() # 指定布局\n",
    "\n",
    "# 创建并进入消息循环\n",
    "base.mainloop()"
   ]
  },
  {
   "cell_type": "code",
   "execution_count": 15,
   "metadata": {},
   "outputs": [
    {
     "data": {
      "text/plain": [
       "'\\nButton的属性：\\n\\nanchor \\t\\t\\t\\t设置按钮中文字的对其方式，相对于按钮的中心位置\\nbackground(bg) \\t\\t设置按钮的背景颜色\\nforeground(fg)\\t\\t设置按钮的前景色（文字的颜色）\\nborderwidth(bd)\\t\\t设置按钮边框宽度\\ncursor\\t\\t\\t\\t设置鼠标在按钮上的样式\\ncommand\\t\\t\\t\\t设定按钮点击时触发的函数\\nbitmap\\t\\t\\t\\t设置按钮上显示的位图\\nfont\\t\\t\\t\\t设置按钮上文本的字体\\nwidth\\t\\t\\t\\t设置按钮的宽度  (字符个数)\\nheight\\t\\t\\t\\t设置按钮的高度  (字符个数)\\nstate\\t\\t\\t\\t设置按钮的状态\\ntext\\t\\t\\t\\t设置按钮上的文字\\nimage\\t\\t\\t\\t设置按钮上的图片\\n'"
      ]
     },
     "execution_count": 15,
     "metadata": {},
     "output_type": "execute_result"
    }
   ],
   "source": [
    "# Button 示例\n",
    "import tkinter\n",
    "\n",
    "def showLabel():\n",
    "    global baseFrame\n",
    "    # 在函数中定义了一个label\n",
    "    # label的父组件是baseFrame\n",
    "    lb = tkinter.Label(baseFrame, text=\"显示Label\")\n",
    "    lb.pack()\n",
    "\n",
    "\n",
    "baseFrame = tkinter.Tk()\n",
    "# 生成一个按钮\n",
    "# command参数指示，当按钮被按下的时候，执行哪个函数\n",
    "btn = tkinter.Button(baseFrame, text=\"Show Label\", command=showLabel)\n",
    "#btn = tkinter.Button(baseFrame, text=\"Show Label\")\n",
    "btn.pack()\n",
    "\n",
    "baseFrame.mainloop()\n",
    "\n",
    "'''\n",
    "Button的属性：\n",
    "\n",
    "anchor \t\t\t\t设置按钮中文字的对其方式，相对于按钮的中心位置\n",
    "background(bg) \t\t设置按钮的背景颜色\n",
    "foreground(fg)\t\t设置按钮的前景色（文字的颜色）\n",
    "borderwidth(bd)\t\t设置按钮边框宽度\n",
    "cursor\t\t\t\t设置鼠标在按钮上的样式\n",
    "command\t\t\t\t设定按钮点击时触发的函数\n",
    "bitmap\t\t\t\t设置按钮上显示的位图\n",
    "font\t\t\t\t设置按钮上文本的字体\n",
    "width\t\t\t\t设置按钮的宽度  (字符个数)\n",
    "height\t\t\t\t设置按钮的高度  (字符个数)\n",
    "state\t\t\t\t设置按钮的状态\n",
    "text\t\t\t\t设置按钮上的文字\n",
    "image\t\t\t\t设置按钮上的图片\n",
    "'''"
   ]
  },
  {
   "cell_type": "markdown",
   "metadata": {},
   "source": [
    "## Tkinter常用组件的几何管理（布局方式）\n",
    "| 几何方法 | 描述 |\n",
    "| -------- | :--- |\n",
    "| pack() | 包装 |\n",
    "| grid() | 网格 |\n",
    "| place() | 位置 |"
   ]
  }
 ],
 "metadata": {
  "kernelspec": {
   "display_name": "Python 3",
   "language": "python",
   "name": "python3"
  },
  "language_info": {
   "codemirror_mode": {
    "name": "ipython",
    "version": 3
   },
   "file_extension": ".py",
   "mimetype": "text/x-python",
   "name": "python",
   "nbconvert_exporter": "python",
   "pygments_lexer": "ipython3",
   "version": "3.7.4"
  }
 },
 "nbformat": 4,
 "nbformat_minor": 2
}
