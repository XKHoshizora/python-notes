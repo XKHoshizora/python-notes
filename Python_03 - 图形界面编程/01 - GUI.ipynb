{
 "cells": [
  {
   "cell_type": "markdown",
   "metadata": {},
   "source": [
    "# 01. GUI - 图形用户界面\n",
    "- Graphical User Interface，简称 GUI，又称图形用户接口\n",
    "- 现在比较过时，一般不再用于前端开发，前端开发有专用的框架\n",
    "\n",
    "## Python中的GUI包：Tkinter，wxPython，PyQt，PyGTK\n",
    "- Tkinter：\n",
    "    - 绑定的是 TK GUI 工具集，用Python包装的Tcl代码\n",
    "- PyGTK：\n",
    "    - Tkinter的代替品\n",
    "- wxPython：\n",
    "    - 跨平台的Python GUI\n",
    "- PyQt：\n",
    "    - 跨平台的Python GUI\n",
    "    - 商业授权可能有问题"
   ]
  },
  {
   "cell_type": "markdown",
   "metadata": {},
   "source": [
    "## 推荐资料\n",
    "- 辛星GUI，辛星Python\n",
    "- Python GUI Programming Cookbook\n",
    "- Tkinter Reference a GUI for Python"
   ]
  }
 ],
 "metadata": {
  "kernelspec": {
   "display_name": "Python 3",
   "language": "python",
   "name": "python3"
  },
  "language_info": {
   "codemirror_mode": {
    "name": "ipython",
    "version": 3
   },
   "file_extension": ".py",
   "mimetype": "text/x-python",
   "name": "python",
   "nbconvert_exporter": "python",
   "pygments_lexer": "ipython3",
   "version": "3.7.4"
  }
 },
 "nbformat": 4,
 "nbformat_minor": 2
}
