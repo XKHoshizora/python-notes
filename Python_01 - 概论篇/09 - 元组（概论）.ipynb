{
 "cells": [
  {
   "cell_type": "markdown",
   "metadata": {},
   "source": [
    "# 元组（Tuple）\n",
    "- 可以理解成一个不允许更改的列表\n",
    "- tuple的创建方法：\n",
    "    - 直接用小括号创建，单个元素的时候，后面要加逗号\n",
    "    - 直接用逗号创建，末尾可加可不加逗号，一般不加\n",
    "    - 使用tuple定义，要求tuple参数必须可迭代"
   ]
  },
  {
   "cell_type": "code",
   "execution_count": 8,
   "metadata": {},
   "outputs": [
    {
     "name": "stdout",
     "output_type": "stream",
     "text": [
      "<class 'tuple'>\n",
      "<class 'int'>\n",
      "<class 'tuple'>\n"
     ]
    }
   ],
   "source": [
    "# tuple的创建\n",
    "\n",
    "# 直接用小括号创建\n",
    "ta = ()\n",
    "print(type(ta))\n",
    "\n",
    "# 当用小括号创建一个元素的tuple的时候\n",
    "tb = (100)\n",
    "print(type(tb))\n",
    "\n",
    "# 应该这样创建\n",
    "tc = (100,)\n",
    "print(type(tc))"
   ]
  },
  {
   "cell_type": "code",
   "execution_count": 9,
   "metadata": {},
   "outputs": [
    {
     "name": "stdout",
     "output_type": "stream",
     "text": [
      "<class 'tuple'>\n"
     ]
    }
   ],
   "source": [
    "# 直接用逗号创建\n",
    "ta = 100,\n",
    "print(type(ta))"
   ]
  },
  {
   "cell_type": "code",
   "execution_count": 10,
   "metadata": {},
   "outputs": [
    {
     "name": "stdout",
     "output_type": "stream",
     "text": [
      "<class 'tuple'>\n",
      "(1, 2, 3, 'BingBing')\n",
      "[1, 2, 3, 'BingBing']\n"
     ]
    }
   ],
   "source": [
    "# 使用tuple定义\n",
    "ta = tuple()\n",
    "print(type(ta))\n",
    "\n",
    "li = [1,2,3,\"BingBing\"]\n",
    "tb = tuple(li) # 要求tuple参数必须可迭代\n",
    "print(tb)\n",
    "print(li)"
   ]
  },
  {
   "cell_type": "markdown",
   "metadata": {},
   "source": [
    "## Tuple其他特征与List基本一致\n",
    "- 有序\n",
    "- 可以访问，但不可以被修改\n",
    "- 其中元素可以是任意类型\n",
    "\n",
    "## 对Tuple的操作\n",
    "- tuple索引操作\n",
    "- tuple分片操作\n",
    "- tuple的相加\n",
    "- tuple的乘法\n",
    "- tuple的成员检测\n",
    "- tuple的遍历\n",
    "- tuple的嵌套及对嵌套tuple的访问\n",
    "    - 使用双层循环访问\n",
    "    - 使用单层循环访问\n",
    "- tuple常用函数\n",
    "    - len：取长度（或元素个数）\n",
    "    - max / min：取元素中的最大最小值\n",
    "    - count：对某一元素计数\n",
    "    - index：某一元素在某范围内第一次出现的位置\n",
    "- tuple在Python中的特殊用法\n",
    "    - 互换"
   ]
  },
  {
   "cell_type": "code",
   "execution_count": 40,
   "metadata": {},
   "outputs": [
    {
     "name": "stdout",
     "output_type": "stream",
     "text": [
      "['I', 'love', 'BingBing']\n",
      "BingBing\n"
     ]
    }
   ],
   "source": [
    "# tuple索引操作\n",
    "la = [\"I\", \"love\", \"BingBing\"]\n",
    "print(la)\n",
    "ta = tuple(la)\n",
    "print(ta[2])"
   ]
  },
  {
   "cell_type": "code",
   "execution_count": 41,
   "metadata": {},
   "outputs": [
    {
     "name": "stdout",
     "output_type": "stream",
     "text": [
      "('I', 'love', 'BingBing')\n",
      "('I',)\n",
      "('love', 'BingBing')\n",
      "('BingBing', 'love', 'I')\n"
     ]
    }
   ],
   "source": [
    "# tuple分片操作\n",
    "print(ta[:])\n",
    "print(ta[:1])\n",
    "print(ta[1:])\n",
    "print(ta[-1::-1])"
   ]
  },
  {
   "cell_type": "code",
   "execution_count": 42,
   "metadata": {},
   "outputs": [
    {
     "name": "stdout",
     "output_type": "stream",
     "text": [
      "(100, 200, 300, 'I', 'love', 'BingBing')\n"
     ]
    }
   ],
   "source": [
    "# tuple的相加\n",
    "ta = 100,200,300\n",
    "tb = (\"I\", \"love\", \"BingBing\")\n",
    "tc = ta + tb\n",
    "print(tc)"
   ]
  },
  {
   "cell_type": "code",
   "execution_count": 43,
   "metadata": {},
   "outputs": [
    {
     "name": "stdout",
     "output_type": "stream",
     "text": [
      "('I', 'love', 'BingBing', 'I', 'love', 'BingBing')\n"
     ]
    }
   ],
   "source": [
    "# tuple的乘法\n",
    "tc = tb * 2\n",
    "print(tc)"
   ]
  },
  {
   "cell_type": "code",
   "execution_count": 44,
   "metadata": {},
   "outputs": [
    {
     "name": "stdout",
     "output_type": "stream",
     "text": [
      "('I', 'love', 'BingBing')\n",
      "有\n",
      "爱了\n"
     ]
    }
   ],
   "source": [
    "# tuple的成员检测\n",
    "print(tb)\n",
    "\n",
    "if \"BingBing\" in tb:\n",
    "    print(\"有\")\n",
    "\n",
    "if \"love\" in tb:\n",
    "    print(\"爱了\")"
   ]
  },
  {
   "cell_type": "code",
   "execution_count": 45,
   "metadata": {},
   "outputs": [
    {
     "name": "stdout",
     "output_type": "stream",
     "text": [
      "I\n",
      "love\n",
      "BingBing\n"
     ]
    }
   ],
   "source": [
    "# tuple的遍历\n",
    "for I in tb:\n",
    "    print(I)"
   ]
  },
  {
   "cell_type": "code",
   "execution_count": 46,
   "metadata": {},
   "outputs": [
    {
     "name": "stdout",
     "output_type": "stream",
     "text": [
      "BingBing\n",
      "10\n",
      "20\n",
      "30\n",
      "----------\n",
      "BingBing\n",
      "I\n",
      "love\n",
      "BingBing\n",
      "----------\n",
      "BingBing\n",
      "100\n",
      "200\n",
      "300\n",
      "----------\n"
     ]
    }
   ],
   "source": [
    "# tuple的嵌套\n",
    "ta = ((10,20,30),(\"I\", \"love\", \"BingBing\"),(100,200,300))\n",
    "# 嵌套tuple的访问\n",
    "# 1.双层循环访问\n",
    "for i in ta:\n",
    "    print(I)\n",
    "    for j in i:\n",
    "        print(j)\n",
    "    print(\"-\" * 10)"
   ]
  },
  {
   "cell_type": "code",
   "execution_count": 47,
   "metadata": {},
   "outputs": [
    {
     "name": "stdout",
     "output_type": "stream",
     "text": [
      "10 20 30\n",
      "I love BingBing\n",
      "100 200 300\n"
     ]
    }
   ],
   "source": [
    "# 2.使用单层循环访问\n",
    "for i,j,k in ta:\n",
    "    print(i, j, k)\n",
    "\n",
    "# 使用单层循环访问有一个规定，即i,j,k要跟tuple的元素个数对应，否则报错"
   ]
  },
  {
   "cell_type": "code",
   "execution_count": 48,
   "metadata": {},
   "outputs": [
    {
     "name": "stdout",
     "output_type": "stream",
     "text": [
      "7\n",
      "61\n",
      "5\n",
      "6\n"
     ]
    }
   ],
   "source": [
    "# tuple常用函数\n",
    "ta = (15,6,45,61,2,3,1)\n",
    "\n",
    "# len：取长度\n",
    "print(len(ta))\n",
    "\n",
    "# max / min：取最大最小值(数字和字符串之间无法进行比较)\n",
    "print(max(ta))\n",
    "\n",
    "# count：对某一元素计数\n",
    "ta = (15,6,45,61,2,3,1,6,6,6,6)\n",
    "print(ta.count(6))\n",
    "\n",
    "#index：某一元素在某范围内第一次出现的位置(此处为4到8之间第一次出现1的位置)\n",
    "print(ta.index(1,4,8))"
   ]
  },
  {
   "cell_type": "code",
   "execution_count": 49,
   "metadata": {},
   "outputs": [
    {
     "name": "stdout",
     "output_type": "stream",
     "text": [
      "100 Bing\n",
      "Bing 100\n"
     ]
    }
   ],
   "source": [
    "# tuple的特殊用法\n",
    "a = 100\n",
    "b = \"Bing\"\n",
    "# 要求对a, b值进行互换\n",
    "print(a, b)\n",
    "a, b = b, a\n",
    "# 此用法只能Python用\n",
    "print(a, b)"
   ]
  },
  {
   "cell_type": "code",
   "execution_count": null,
   "metadata": {},
   "outputs": [],
   "source": []
  }
 ],
 "metadata": {
  "kernelspec": {
   "display_name": "Python 3",
   "language": "python",
   "name": "python3"
  },
  "language_info": {
   "codemirror_mode": {
    "name": "ipython",
    "version": 3
   },
   "file_extension": ".py",
   "mimetype": "text/x-python",
   "name": "python",
   "nbconvert_exporter": "python",
   "pygments_lexer": "ipython3",
   "version": "3.7.3"
  }
 },
 "nbformat": 4,
 "nbformat_minor": 2
}
