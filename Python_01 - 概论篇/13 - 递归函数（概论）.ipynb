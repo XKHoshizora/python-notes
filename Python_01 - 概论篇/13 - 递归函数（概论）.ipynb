{
 "cells": [
  {
   "cell_type": "markdown",
   "metadata": {},
   "source": [
    "# 递归函数（Recursion）\n",
    "- 递归：函数直接或间接调用自己\n",
    "- 递归分为两个过程：\n",
    "    - 往下调用、分解的过程\n",
    "    - 往上回溯、综合的过程\n",
    "- 注意：递归一定要有结束条件\n",
    "- 递归调用并不快，是以资源换取编写速度的算法\n",
    "\n",
    "## 经典案例\n",
    "- 阶乘的计算\n",
    "- 斐波那契数列\n",
    "- 汉诺塔"
   ]
  },
  {
   "cell_type": "code",
   "execution_count": 31,
   "metadata": {},
   "outputs": [
    {
     "name": "stdout",
     "output_type": "stream",
     "text": [
      "10\n",
      "9\n",
      "8\n",
      "7\n",
      "6\n",
      "5\n",
      "4\n",
      "3\n",
      "2\n",
      "1\n",
      "----------\n",
      "10的阶乘为3628800\n"
     ]
    }
   ],
   "source": [
    "# 计算阶乘\n",
    "# 利用数学公式\n",
    "def func_a(n):\n",
    "    print(n)\n",
    "    if n == 1: # 递归一定要有结束条件，否则会死掉\n",
    "        return 1\n",
    "    return n * func_a(n-1)\n",
    "\n",
    "n = 10\n",
    "\n",
    "rst = func_a(n)\n",
    "print(\"-\"*10)\n",
    "print(\"%d的阶乘为%d\"%(n,rst))"
   ]
  },
  {
   "cell_type": "code",
   "execution_count": 34,
   "metadata": {},
   "outputs": [
    {
     "name": "stdout",
     "output_type": "stream",
     "text": [
      "斐波那契数列第20项为6765\n"
     ]
    }
   ],
   "source": [
    "# 斐波那契数列\n",
    "# 这个数列前两项为1，从第3项开始，每一项都等于前两项之和\n",
    "\n",
    "def fib(n):\n",
    "    if n == 1 or n == 2:\n",
    "        return 1\n",
    "    return fib(n-1) + fib(n-2)\n",
    "\n",
    "n = 20\n",
    "rst = fib(n)\n",
    "print(\"斐波那契数列第%d项为%d\"%(n,rst))"
   ]
  },
  {
   "cell_type": "code",
   "execution_count": 40,
   "metadata": {},
   "outputs": [
    {
     "name": "stdout",
     "output_type": "stream",
     "text": [
      "A-->B\n",
      "A-->C\n",
      "B-->C\n"
     ]
    }
   ],
   "source": [
    "# 汉诺塔\n",
    "# 圆盘从下面开始按大小顺序重新摆放在另一根柱子上。并且规定，在小圆盘上不能放大圆盘，在三根柱子之间一次只能移动一个圆盘\n",
    "\n",
    "a = \"A\"\n",
    "b = \"B\"\n",
    "c = \"C\"\n",
    "\n",
    "def hanoi(a,b,c,n):\n",
    "    if n == 1:\n",
    "        print(\"{}-->{}\".format(a,c))\n",
    "        return None\n",
    "    if n == 2:\n",
    "        print(\"{}-->{}\".format(a,b))\n",
    "        print(\"{}-->{}\".format(a,c))\n",
    "        print(\"{}-->{}\".format(b,c))\n",
    "        return None\n",
    "    hanoi(a,b,c,n-1)\n",
    "    print(\"{}-->{}\".format(a,c))\n",
    "    hanoi(b,a,c,n-1)\n",
    "\n",
    "hanoi(a, b, c, 2)   "
   ]
  },
  {
   "cell_type": "code",
   "execution_count": null,
   "metadata": {},
   "outputs": [],
   "source": []
  }
 ],
 "metadata": {
  "kernelspec": {
   "display_name": "Python 3",
   "language": "python",
   "name": "python3"
  },
  "language_info": {
   "codemirror_mode": {
    "name": "ipython",
    "version": 3
   },
   "file_extension": ".py",
   "mimetype": "text/x-python",
   "name": "python",
   "nbconvert_exporter": "python",
   "pygments_lexer": "ipython3",
   "version": "3.7.9"
  }
 },
 "nbformat": 4,
 "nbformat_minor": 2
}
