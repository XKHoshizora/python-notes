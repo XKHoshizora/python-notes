{
 "cells": [
  {
   "cell_type": "markdown",
   "metadata": {},
   "source": [
    "# 字符串（str）\n",
    "- 很多语言字符串使用string表示，但是Python中使用str表示字符串\n",
    "- 字符串及其表示\n",
    "- 转义字符\n",
    "- 格式化\n",
    "- 内建函数"
   ]
  },
  {
   "cell_type": "markdown",
   "metadata": {},
   "source": [
    "## 字符串及其表示\n",
    "- 字符串用来表示文字信息\n",
    "- 用单引号（' '）、双引号(\" \")、三引号括起来(''' '''或\"\"\" \"\"\")\n",
    "- 三引号中若分段，会自动空一行，可用“end=''”消除，若不分段则与单双引号相同\n",
    "- 可以使用“+”将两个字符串连接"
   ]
  },
  {
   "cell_type": "code",
   "execution_count": 11,
   "metadata": {},
   "outputs": [
    {
     "name": "stdout",
     "output_type": "stream",
     "text": [
      "I love BingBing\n"
     ]
    }
   ],
   "source": [
    "s = 'I love BingBing'\n",
    "print(s)"
   ]
  },
  {
   "cell_type": "code",
   "execution_count": 2,
   "metadata": {},
   "outputs": [
    {
     "name": "stdout",
     "output_type": "stream",
     "text": [
      "I love BingBing\n"
     ]
    }
   ],
   "source": [
    "s = \"I love BingBing\"\n",
    "print(s)"
   ]
  },
  {
   "cell_type": "code",
   "execution_count": 10,
   "metadata": {},
   "outputs": [
    {
     "name": "stdout",
     "output_type": "stream",
     "text": [
      "I love BingBing\n",
      "I\n",
      "love\n",
      "BingBing\n",
      "\n",
      "I\n",
      "love\n",
      "BingBing\n",
      "\n"
     ]
    }
   ],
   "source": [
    "s = '''I love BingBing'''\n",
    "print(s)\n",
    "\n",
    "s = '''I\n",
    "love\n",
    "BingBing\n",
    "'''\n",
    "print(s)\n",
    "\n",
    "s = \"\"\"I\n",
    "love\n",
    "BingBing\n",
    "\"\"\"\n",
    "print(s)"
   ]
  },
  {
   "cell_type": "code",
   "execution_count": 1,
   "metadata": {},
   "outputs": [
    {
     "name": "stdout",
     "output_type": "stream",
     "text": [
      "I love BingBing\n"
     ]
    }
   ],
   "source": [
    "s1 = 'I love'\n",
    "s2 = ' BingBing'\n",
    "s3 = s1 + s2\n",
    "\n",
    "print(s3)"
   ]
  },
  {
   "cell_type": "markdown",
   "metadata": {},
   "source": [
    "## 字符串及其操作\n",
    "- 索引取值（只能取值不能更改）\n",
    "- 切片（左包括，右不包括）\n",
    "- 求长度，len()\n",
    "- 去除首尾指定字符，strip()\n",
    "    - 没有指定参数时，默认去除空格、\\n和\\t\n",
    "- 通过指定分隔符对字符串进行切片分割，split() \n",
    "    - 语法：str.split(str=\"\", num=string.count(str))\n",
    "    - str -- 分隔符，默认为所有的空字符，包括空格、换行(\\n)、制表符(\\t)等。\n",
    "    - 如果参数 num 有指定值，则分隔 num+1 个子字符串\n",
    "    - 返回值：返回分割后的字符串**列表**\n",
    "    - 指定的分隔符必须在被切割字符串里存在\n",
    "- 转小写 lower()，转大写 upper()"
   ]
  },
  {
   "cell_type": "code",
   "execution_count": 2,
   "metadata": {},
   "outputs": [
    {
     "name": "stdout",
     "output_type": "stream",
     "text": [
      "B\n",
      "g\n"
     ]
    }
   ],
   "source": [
    "# 索引取值\n",
    "str1 = 'Hello Bingbing!'\n",
    "# 正向取\n",
    "print(str1[6])\n",
    "# 反向取\n",
    "print(str1[-6])"
   ]
  },
  {
   "cell_type": "code",
   "execution_count": 4,
   "metadata": {},
   "outputs": [
    {
     "name": "stdout",
     "output_type": "stream",
     "text": [
      "Hello \n",
      "Hlo\n",
      "!gnibgniB olleH\n"
     ]
    }
   ],
   "source": [
    "# 切片\n",
    "str1 = 'Hello Bingbing!'\n",
    "# 取索引0到5的字符\n",
    "print(str1[0:6])\n",
    "# 前两个表示范围，第三个表示步长\n",
    "print(str1[0:6:2])\n",
    "# 从末尾开始向前取所有值\n",
    "print(str1[::-1])"
   ]
  },
  {
   "cell_type": "code",
   "execution_count": 5,
   "metadata": {},
   "outputs": [
    {
     "name": "stdout",
     "output_type": "stream",
     "text": [
      "15\n"
     ]
    }
   ],
   "source": [
    "# 求长度\n",
    "str1 = 'Hello Bingbing!'\n",
    "\n",
    "print(len(str1))"
   ]
  },
  {
   "cell_type": "code",
   "execution_count": 16,
   "metadata": {},
   "outputs": [
    {
     "name": "stdout",
     "output_type": "stream",
     "text": [
      "Hello Bingbing!\n",
      "Hello *Bingbing!\n",
      "Hello *Bingbing!***\n",
      "***Hello *Bingbing!\n"
     ]
    }
   ],
   "source": [
    "# strip()去除首尾指定字符\n",
    "str1 = '     Hello Bingbing!   '\n",
    "str2 = '***Hello *Bingbing!***'\n",
    "print(str1.strip())\n",
    "print(str2.strip('*'))\n",
    "\n",
    "# 去除左边指定字符\n",
    "print(str2.lstrip('*'))\n",
    "# 去除右边指定字符\n",
    "print(str2.rstrip('*'))\n",
    "# 如果想要去除中间字符，需要用到循环"
   ]
  },
  {
   "cell_type": "code",
   "execution_count": 13,
   "metadata": {},
   "outputs": [
    {
     "name": "stdout",
     "output_type": "stream",
     "text": [
      "['Line1-abcd*ef', 'Line*2-abc', 'Line4-abcd']\n",
      "['Line1-abcd', 'ef \\nLine', '2-abc \\nLine4-abcd']\n"
     ]
    }
   ],
   "source": [
    "# split() \n",
    "str3 = \"Line1-abcd*ef \\nLine*2-abc \\nLine4-abcd\";\n",
    "print(str3.split())        # 以空格为分隔符，包含 \\n\n",
    "print(str3.split('*', 2 )) # 以*为分隔符，可指定分割次数，此处分隔成3个"
   ]
  },
  {
   "cell_type": "markdown",
   "metadata": {},
   "source": [
    "## 转义字符（\\）\n",
    "- 用一个特殊方法表示出一系列不方便写出的内容，比如回车键、换行符、退格键等\n",
    "- 借助反斜杠字符，一旦字符串中出现反斜杠，则其后面一个或几个字符所表示的意思已非原意，即进行了转义\n",
    "- 在字符串中，一旦出现反斜杠就要加倍小心，可能由转义字符出现\n",
    "- 不同系统对换行操作有不同的表示\n",
    "    - Windows：\\n 或 \\r\\n\n",
    "    - Linux：\\r\\n\n",
    "- 常用转义字符：\n",
    "    - \\： （在尾行时的）续行符\n",
    "    - \\a： 响铃  \n",
    "    - \\b： 退格  \n",
    "    - \\f： 换页  \n",
    "    - \\n： 换行  \n",
    "    - \\r： 回车  \n",
    "    - \\t： 水平制表  \n",
    "    - \\v： 垂直制表  \n",
    "    - \\\\\\： 反斜杠  \n",
    "    - \\0： 空字符（NULL）  \n",
    "    - \\\\?： 问号  \n",
    "    - \\\\'： 单引号  \n",
    "    - \\\\\"： 双引号"
   ]
  },
  {
   "cell_type": "code",
   "execution_count": 17,
   "metadata": {},
   "outputs": [
    {
     "name": "stdout",
     "output_type": "stream",
     "text": [
      "Let's Go!\n",
      "Let's Go!\n",
      "c:\\User\\Augsnano\n",
      "Ich\n",
      "liebe\n",
      "BingBing\n"
     ]
    }
   ],
   "source": [
    "# 转义字符案例\n",
    "\n",
    "# 比如表达 Let's Go！\n",
    "s = 'Let\\'s Go!'\n",
    "print(s)\n",
    "\n",
    "# 使用单双引号嵌套\n",
    "s = \"Let's Go!\"\n",
    "print(s)\n",
    "\n",
    "# 表示斜杠\n",
    "# 比如表示C:\\User\\Augsnano\n",
    "s = \"c:\\\\User\\\\Augsnano\"\n",
    "print(s)\n",
    "\n",
    "# 表示回车换行\n",
    "'''\n",
    "想表达的效果是：\n",
    "Ich\n",
    "liebe\n",
    "BingBing\n",
    "'''\n",
    "s = \"Ich\\nliebe\\nBingBing\"\n",
    "print(s)"
   ]
  },
  {
   "cell_type": "code",
   "execution_count": 20,
   "metadata": {},
   "outputs": [
    {
     "name": "stdout",
     "output_type": "stream",
     "text": [
      "斜斜斜杠杠杠\n"
     ]
    }
   ],
   "source": [
    "# 单个反斜杠的用法\n",
    "# 在Python里，单个反斜杠表示此行未结束，但出于美观，需要换到下一行继续\n",
    "def myDemo(x, \\\n",
    "          y, \\\n",
    "          z):\n",
    "    print(\"斜斜斜杠杠杠\")\n",
    "    \n",
    "myDemo(1,2,3)"
   ]
  },
  {
   "cell_type": "markdown",
   "metadata": {},
   "source": [
    "## 格式化\n",
    "- 把字符串按照一定格式打印或填充\n",
    "- 格式化分类：\n",
    "    - 传统格式化（较旧，不太提倡）\n",
    "    - format"
   ]
  },
  {
   "cell_type": "code",
   "execution_count": 21,
   "metadata": {},
   "outputs": [
    {
     "name": "stdout",
     "output_type": "stream",
     "text": [
      "I love BingBing\n",
      "I love Baby\n",
      "I love Xiaokeai\n"
     ]
    }
   ],
   "source": [
    "# 填充\n",
    "s = \"I love BingBing\"\n",
    "print(s)\n",
    "\n",
    "s = \"I love Baby\"\n",
    "print(s)\n",
    "\n",
    "s = \"I love Xiaokeai\"\n",
    "print(s)"
   ]
  },
  {
   "cell_type": "markdown",
   "metadata": {},
   "source": [
    "### 字符串的传统格式化法\n",
    "- 使用%进行格式化\n",
    "- 百分号：%，也叫占位符\n",
    "- 常用占位符：\n",
    "    - %s： 字符串 或 数字（数字会被自动转换为字符串）\n",
    "    - %r： 字符串，但是是使用repr，而不是str\n",
    "    - %c： 整数转换为单个字符\n",
    "    - %d： 十进制整数\n",
    "    - %u： 无符号整数\n",
    "    - %o： 八进制\n",
    "    - %x： 十六进制，字母为小写的时候，用小写x\n",
    "    - %X： 十六进制，字母为大写的时候，用大写X\n",
    "    - %e： 浮点数（e为小写），如 2.87e+12\n",
    "    - %E： 浮点数（E为小写），如 2.87E+12\n",
    "    - %f,%lf,%F,%LF： 浮点数十进制形式\n",
    "    - %g,%G： 十进制形式浮点或者指数浮点自动转换\n",
    "    - 注意：\n",
    "        - 格式字符前出现整数表示此占位符所占位置的宽度\n",
    "        - 格式字符前出现“-”，表示左对齐\n",
    "        - 格式字符前出现“+”，表示右对齐\n",
    "        - 0位数不足用“0”补齐\n",
    "        - width表示宽度\n",
    "        - pricision表示精度\n",
    "- 占位符一般只能被同类型替换，或者所替换类型能被转换成占位符类型"
   ]
  },
  {
   "cell_type": "code",
   "execution_count": 27,
   "metadata": {},
   "outputs": [
    {
     "name": "stdout",
     "output_type": "stream",
     "text": [
      "I love %s\n",
      "I love 冰冰\n",
      "I love 宝贝儿\n",
      "I love 小可爱\n"
     ]
    }
   ],
   "source": [
    "# %s 表示简单的字符串\n",
    "#占位符可单独使用\n",
    "a = \"I love %s\"\n",
    "print(a)\n",
    "print(a%\"冰冰\")\n",
    "print(a%\"宝贝儿\")\n",
    "print(a%\"小可爱\")"
   ]
  },
  {
   "cell_type": "code",
   "execution_count": 33,
   "metadata": {},
   "outputs": [
    {
     "name": "stdout",
     "output_type": "stream",
     "text": [
      "I love 冰冰\n",
      "I love 100\n",
      "今年大学2年级了\n"
     ]
    },
    {
     "ename": "TypeError",
     "evalue": "%d format: a number is required, not str",
     "output_type": "error",
     "traceback": [
      "\u001b[1;31m---------------------------------------------------------------------------\u001b[0m",
      "\u001b[1;31mTypeError\u001b[0m                                 Traceback (most recent call last)",
      "\u001b[1;32m<ipython-input-33-9bd1b652912d>\u001b[0m in \u001b[0;36m<module>\u001b[1;34m\u001b[0m\n\u001b[0;32m      7\u001b[0m \u001b[0mprint\u001b[0m\u001b[1;33m(\u001b[0m\u001b[0ms\u001b[0m\u001b[1;33m%\u001b[0m\u001b[1;36m2\u001b[0m\u001b[1;33m)\u001b[0m\u001b[1;33m\u001b[0m\u001b[1;33m\u001b[0m\u001b[0m\n\u001b[0;32m      8\u001b[0m \u001b[1;31m# 以下打印会报错\u001b[0m\u001b[1;33m\u001b[0m\u001b[1;33m\u001b[0m\u001b[1;33m\u001b[0m\u001b[0m\n\u001b[1;32m----> 9\u001b[1;33m \u001b[0mprint\u001b[0m\u001b[1;33m(\u001b[0m\u001b[0ms\u001b[0m\u001b[1;33m%\u001b[0m\u001b[1;34m\"2\"\u001b[0m\u001b[1;33m)\u001b[0m\u001b[1;33m\u001b[0m\u001b[1;33m\u001b[0m\u001b[0m\n\u001b[0m",
      "\u001b[1;31mTypeError\u001b[0m: %d format: a number is required, not str"
     ]
    }
   ],
   "source": [
    "print(\"I love %s\"%\"冰冰\")\n",
    "\n",
    "# 占位符一般只能被同类型替换，或者所替换类型能被转换成占位符类型\n",
    "print(\"I love %s\"%100)# 此为特例\n",
    "\n",
    "s = \"今年大学%d年级了\"\n",
    "print(s%2)\n",
    "# 以下打印会报错\n",
    "print(s%\"2\")"
   ]
  },
  {
   "cell_type": "code",
   "execution_count": 45,
   "metadata": {},
   "outputs": [
    {
     "name": "stdout",
     "output_type": "stream",
     "text": [
      "I'm %fkg weight, %fmheigh\n",
      "I'm 50.500000kg weight, 1.750000mheigh\n",
      "I'm 50.50kg weight, 1.75mheigh\n"
     ]
    }
   ],
   "source": [
    "# 对多个占位符进行代换，需要将%后的内容用括号括起来\n",
    "s = \"I'm %fkg weight, %fmheigh\"\n",
    "print(s)\n",
    "# 使用默认格式打印，则会出现多余的0\n",
    "print(s%(50.5,1.75))\n",
    "\n",
    "s = \"I'm %.2fkg weight, %.2fmheigh\"\n",
    "print(s%(50.5,1.75))\n",
    "\n",
    "# 实际需要进行格式化的信息数量，必须与占位符的数量一致，否则报错"
   ]
  },
  {
   "cell_type": "markdown",
   "metadata": {},
   "source": [
    "### 利用字典并使用“%（）”进行格式化\n",
    "- 括号内写入变量名\n",
    "- 括号后记述变量类型"
   ]
  },
  {
   "cell_type": "code",
   "execution_count": 1,
   "metadata": {},
   "outputs": [
    {
     "name": "stdout",
     "output_type": "stream",
     "text": [
      "我是星空ホシゾラ，我的网址是hoshizora，炮姐指尖跃动的电光\n"
     ]
    }
   ],
   "source": [
    "print(\"我是%(name)s，我的网址是%(address)s，%(paojie)s指尖跃动的电光\"\n",
    "      %{'name':\"星空ホシゾラ\", 'address':\"hoshizora\", 'paojie':\"炮姐\"})"
   ]
  },
  {
   "cell_type": "markdown",
   "metadata": {},
   "source": [
    "### format格式化\n",
    "- 使用函数形式进行格式化，代替以前的百分号\n",
    "- 使用“{}”占位，理论上可以有无限多个参数\n",
    "- 对数字的格式化：\n",
    "    - ^，<，> 分别表示居中、左对齐、右对齐，其后可带宽度\n",
    "    - : 号后面带填充的字符，只能是一个字符，不指定则默认是用空格填充\n",
    "    - \\+ 号表示在正数前显示 +，负数前显示 -\n",
    "    -  （空格） 表示在正数前加空格\n",
    "    - b、d、o、x 分别是二进制、十进制、八进制、十六进制\n",
    "    - 可用大括号“{}”来转义大括号\n",
    "- str + .format()"
   ]
  },
  {
   "cell_type": "code",
   "execution_count": 68,
   "metadata": {},
   "outputs": [
    {
     "name": "stdout",
     "output_type": "stream",
     "text": [
      "Hello world!\n",
      "Hello world!\n"
     ]
    }
   ],
   "source": [
    "# 不用指定位置，按顺序读取\n",
    "# 方式一\n",
    "s = \"{} {}!\"\n",
    "print(s.format(\"Hello\",\"world\"))\n",
    "\n",
    "# 方式二（该方式相当于直接打印“Hello world！”）\n",
    "s = \"Hel{} wo{}!\".format(\"lo\",\"rld\")\n",
    "print(s)"
   ]
  },
  {
   "cell_type": "code",
   "execution_count": 69,
   "metadata": {},
   "outputs": [
    {
     "name": "stdout",
     "output_type": "stream",
     "text": [
      "Hello world!\n",
      "Hello wolo!\n"
     ]
    },
    {
     "ename": "IndexError",
     "evalue": "tuple index out of range",
     "output_type": "error",
     "traceback": [
      "\u001b[1;31m---------------------------------------------------------------------------\u001b[0m",
      "\u001b[1;31mIndexError\u001b[0m                                Traceback (most recent call last)",
      "\u001b[1;32m<ipython-input-69-b62070a02cc0>\u001b[0m in \u001b[0;36m<module>\u001b[1;34m\u001b[0m\n\u001b[0;32m      7\u001b[0m \u001b[1;33m\u001b[0m\u001b[0m\n\u001b[0;32m      8\u001b[0m \u001b[1;31m# 以下案例报错\u001b[0m\u001b[1;33m\u001b[0m\u001b[1;33m\u001b[0m\u001b[1;33m\u001b[0m\u001b[0m\n\u001b[1;32m----> 9\u001b[1;33m \u001b[0ms\u001b[0m \u001b[1;33m=\u001b[0m \u001b[1;34m\"Hel{} wo{}!\"\u001b[0m\u001b[1;33m.\u001b[0m\u001b[0mformat\u001b[0m\u001b[1;33m(\u001b[0m\u001b[1;34m\"lo\"\u001b[0m\u001b[1;33m)\u001b[0m\u001b[1;33m\u001b[0m\u001b[1;33m\u001b[0m\u001b[0m\n\u001b[0m\u001b[0;32m     10\u001b[0m \u001b[0mprint\u001b[0m\u001b[1;33m(\u001b[0m\u001b[0ms\u001b[0m\u001b[1;33m)\u001b[0m\u001b[1;33m\u001b[0m\u001b[1;33m\u001b[0m\u001b[0m\n",
      "\u001b[1;31mIndexError\u001b[0m: tuple index out of range"
     ]
    }
   ],
   "source": [
    "# 设置指定位置，编号位置为format(0,1, 2, ...)\n",
    "s = \"Hel{0} wo{1}!\".format(\"lo\",\"rld\")\n",
    "print(s)\n",
    "\n",
    "s = \"Hel{0} wo{0}!\".format(\"lo\")\n",
    "print(s)\n",
    "\n",
    "# 以下案例报错\n",
    "s = \"Hel{} wo{}!\".format(\"lo\")\n",
    "print(s)"
   ]
  },
  {
   "cell_type": "code",
   "execution_count": 73,
   "metadata": {},
   "outputs": [
    {
     "name": "stdout",
     "output_type": "stream",
     "text": [
      "我是星空ホシゾラ，我的网址是hoshizora，炮姐指尖跃动的电光\n",
      "我是星空ホシゾラ，我的网址是hoshizora，炮姐指尖跃动的电光\n"
     ]
    }
   ],
   "source": [
    "# 使用命名参数\n",
    "s = \"我是{name}，我的网址是{address}，{paojie}指尖跃动的电光\"\n",
    "s = s.format(name=\"星空ホシゾラ\", address=\"hoshizora\", paojie=\"炮姐\")\n",
    "print(s)\n",
    "\n",
    "s = \"我是{name}，我的网址是{address}，{paojie}指尖跃动的电光\".format(name=\"星空ホシゾラ\", address=\"hoshizora\", paojie=\"炮姐\")\n",
    "print(s)"
   ]
  },
  {
   "cell_type": "code",
   "execution_count": 71,
   "metadata": {},
   "outputs": [
    {
     "name": "stdout",
     "output_type": "stream",
     "text": [
      "我是星空ホシゾラ，我的网址是hoshizora，炮姐指尖跃动的电光\n"
     ]
    }
   ],
   "source": [
    "# 通过字典设置参数，需要解包\n",
    "s = \"我是{name}，我的网址是{address}，{paojie}指尖跃动的电光\"\n",
    "s_dict = {\"name\":\"星空ホシゾラ\", \\\n",
    "          \"address\":\"hoshizora\", \\\n",
    "          \"paojie\":\"炮姐\"}# 这里只是想要试一下单反斜杠而已\n",
    "# **是解包操作，之后讲\n",
    "s = s.format(**s_dict)\n",
    "print(s)"
   ]
  },
  {
   "cell_type": "code",
   "execution_count": 77,
   "metadata": {},
   "outputs": [
    {
     "name": "stdout",
     "output_type": "stream",
     "text": [
      "I'm 50.50kg weight, 1.75mheigh\n",
      "format函数是使用{}来进行占位的\n"
     ]
    }
   ],
   "source": [
    "# 对数字的格式化\n",
    "s = \"I'm {:.2f}kg weight, {:.2f}mheigh\"\n",
    "print(s.format(50.5,1.75))\n",
    "\n",
    "# 用大括号“{}”来转义大括号\n",
    "s = \"format函数是使用{}来进行占位的\"\n",
    "print(s.format({}))"
   ]
  },
  {
   "cell_type": "markdown",
   "metadata": {},
   "source": [
    "### f-string格式化\n",
    "- python3.6引入了一种新的字符串格式化方式：f-string格式化字符串。\n",
    "- 速度最快\n",
    "- f-string用大括{}表示被替换字段，其中直接填入替换内容即可。\n",
    "- f-string的大括号{}可以填入表达式或调用函数，Python会求出其结果并填入返回的字符串内。\n",
    "- f-string中使用lambda匿名函数：可以做复杂的数值计算\n",
    "- f-string大括号内使用的引号不能和大括号外的引号定界符引号冲突，需根据情况灵活切换使用单引号、双引号、单三引号、双三引号。\n",
    "- f-string大括号外的引号还可以使用\\转义，但大括号内不能使用\\转义\n",
    "- f-string大括号外如果需要显示大括号，则应输入连续两个大括号{{ }}；大括号内需要引号，使用引号即可。\n",
    "- f-string填充\n",
    "    - 当我们指定了字符串最终的长度的时候，如果现有的字符串没有那么长，那么我们就用某种字符（填充字符）来填满这个长度，这就是“填充”。\n",
    "    - < 表示在输出内容之前填充，> 表示在输出内容之后填充，^ 表示在前后填充\n",
    "    - 默认使用空格填充\n",
    "    - 可用指定字符进行填充\n",
    "-  f-string数字符号相关格式描述符：仅针对数值有效\n",
    "- 其他用法自查"
   ]
  },
  {
   "cell_type": "code",
   "execution_count": 8,
   "metadata": {
    "scrolled": true
   },
   "outputs": [
    {
     "name": "stdout",
     "output_type": "stream",
     "text": [
      "Your Name:Hoshizora\n",
      "Hello, my name is Hoshizora.\n",
      "I have 2 apples.\n",
      "He has 95.5$.\n"
     ]
    }
   ],
   "source": [
    "# 直接填入替换内容\n",
    "name = input(\"Your Name:\")\n",
    "print(f\"Hello, my name is {name}.\")\n",
    "\n",
    "num = 2\n",
    "print(f\"I have {num} apples.\")\n",
    "\n",
    "price = 95.5\n",
    "print(f\"He has {price}$.\")"
   ]
  },
  {
   "cell_type": "code",
   "execution_count": 17,
   "metadata": {},
   "outputs": [
    {
     "name": "stdout",
     "output_type": "stream",
     "text": [
      "They have 12 apples\n",
      "my name is huang wei\n",
      "π的值为3.141592653589793\n"
     ]
    }
   ],
   "source": [
    "# 表达式或调用函数\n",
    "print(f\"They have {2+5*2} apples\")\n",
    "\n",
    "name = \"Huang Wei\"\n",
    "print(f\"my name is {name.lower()}\")\n",
    "\n",
    "import math\n",
    "print(f\"π的值为{math.pi}\")"
   ]
  },
  {
   "cell_type": "code",
   "execution_count": 11,
   "metadata": {},
   "outputs": [
    {
     "name": "stdout",
     "output_type": "stream",
     "text": [
      "615.28\n",
      "10\n"
     ]
    }
   ],
   "source": [
    "# 使用lambda匿名函数\n",
    "aa = 123.456\n",
    "print(f\"{(lambda x:x*5-2)(aa):.2f}\")\n",
    "\n",
    "bb = 8\n",
    "cc = 2\n",
    "print(f\"{(lambda x,y:x+y)(bb,cc)}\")"
   ]
  },
  {
   "cell_type": "code",
   "execution_count": 14,
   "metadata": {},
   "outputs": [
    {
     "ename": "SyntaxError",
     "evalue": "invalid syntax (<ipython-input-14-c3379f5f20a0>, line 11)",
     "output_type": "error",
     "traceback": [
      "\u001b[1;36m  File \u001b[1;32m\"<ipython-input-14-c3379f5f20a0>\"\u001b[1;36m, line \u001b[1;32m11\u001b[0m\n\u001b[1;33m    rint('Hoshi'}')\u001b[0m\n\u001b[1;37m                ^\u001b[0m\n\u001b[1;31mSyntaxError\u001b[0m\u001b[1;31m:\u001b[0m invalid syntax\n"
     ]
    }
   ],
   "source": [
    "# 引号冲突问题\n",
    "print(f'I am {\"Hoshi\"}')\n",
    "\n",
    "print(f'''I am {'Hoshi'}''')\n",
    "\n",
    "print(f\"\"\"I am {'Hoshi'}\"\"\")\n",
    "\n",
    "print(f\"\"\"I am {\"Hoshi\"}\"\"\")\n",
    "\n",
    "# 以下运行会报错\n",
    "rint('Hoshi'}')"
   ]
  },
  {
   "cell_type": "code",
   "execution_count": 17,
   "metadata": {},
   "outputs": [
    {
     "name": "stdout",
     "output_type": "stream",
     "text": [
      "           Huang Wei\n",
      "Huang Wei           \n",
      "     Huang Wei      \n",
      "___________Huang Wei\n",
      "Huang Wei___________\n",
      "_____Huang Wei______\n"
     ]
    }
   ],
   "source": [
    "# 填充\n",
    "\n",
    "# 默认为空格\n",
    "name = \"Huang Wei\"\n",
    "print(f\"{name:>20}\")\n",
    "print(f\"{name:<20}\")\n",
    "print(f\"{name:^20}\")\n",
    "\n",
    "# 用指定字符进行填充\n",
    "print(f\"{name:_>20}\")\n",
    "print(f\"{name:_<20}\")\n",
    "print(f\"{name:_^20}\")"
   ]
  },
  {
   "cell_type": "code",
   "execution_count": 19,
   "metadata": {},
   "outputs": [
    {
     "name": "stdout",
     "output_type": "stream",
     "text": [
      "+12\n",
      "-25\n",
      "12\n",
      "-25\n",
      " 12\n",
      "-25\n"
     ]
    }
   ],
   "source": [
    "# 数字符号\n",
    "a = 12\n",
    "b = -25\n",
    "\n",
    "# 填入“+”表示不论正负，数字前均会加入符号。正数前会加“+”，负数前会加“-”。\n",
    "print(f\"{a:+}\")\n",
    "print(f\"{b:+}\")\n",
    "\n",
    "# 填入“-”表示，正数前不会加入任何符号，负数前会加“-”。\n",
    "print(f\"{a:-}\")\n",
    "print(f\"{b:-}\")\n",
    "\n",
    "# 填入“空格”表示，正数前会加入空格，负数前会加“-”。\n",
    "print(f\"{a: }\")\n",
    "print(f\"{b: }\")"
   ]
  },
  {
   "cell_type": "markdown",
   "metadata": {},
   "source": [
    "## 字符串内置函数\n",
    "\n",
    "### 字符串查找类\n",
    "- find：查找字符串或该字符串某一片段中是否包含某个子字符串，并返回第一次发现子字符串的位置，若没找到，则返回 -1\n",
    "    - 语法：str.find(str, beg=0, end=len(string))\n",
    "    - 参数：\n",
    "        - str：指定检索的字符串。\n",
    "        - beg：开始索引，默认为0。\n",
    "        - end：结束索引，默认为字符串的长度。\n",
    "- index：查找字符串或该字符串某一片段中是否包含某个子字符串，并返回第一次发现子字符串的位置，若没找到，则报错或引发异常\n",
    "- lfind：从左开始查找\n",
    "- rfind：从右开始查找\n",
    "\n",
    "### 判断类\n",
    "- 此类函数特点是，一般用“is”开头，并返回布尔值\n",
    "- isalpha：判断该字符串是否全为字母并且至少有一个字符\n",
    "    - 此函数默认的前提是字符串至少包含一个字符，如果没有，则返回False\n",
    "    - 汉字被认为是alpha，所以此函数不能作为区分英语字母还是汉字的表示，区分中英文要用Unicode码\n",
    "- islower：判断该字符串是否全为小写字母与并且至少有一个字符\n",
    "- isupper：判断该字符串是否全为大写字母与并且至少有一个字符\n",
    "- isdigit，isnumeric，isdecimal三个判断数字的函数：\n",
    "    - isdigit：\n",
    "        - True：Unicode数字、byte数字（单字节）、全角数字（双字节）、罗马数字\n",
    "        - False：汉字数字\n",
    "        - Error：无\n",
    "    - isnumeric：\n",
    "        - True：Unicode数字、全角数字（双字节）\n",
    "        - False：罗马数字、汉字数字\n",
    "        - Error：byte数字（单字节）\n",
    "    - isdecimal：\n",
    "        - True：Unicode数字、全角数字（双字节）、罗马数字、汉字数字\n",
    "        - False：无\n",
    "        - Error：byte数字（单字节）\n",
    "    - 此类函数不建议使用。在爬虫中，判断是否是数字，建议采用正则表达式的方法"
   ]
  },
  {
   "cell_type": "code",
   "execution_count": 88,
   "metadata": {},
   "outputs": [
    {
     "ename": "ValueError",
     "evalue": "substring not found",
     "output_type": "error",
     "traceback": [
      "\u001b[1;31m---------------------------------------------------------------------------\u001b[0m",
      "\u001b[1;31mValueError\u001b[0m                                Traceback (most recent call last)",
      "\u001b[1;32m<ipython-input-88-d5f781745fb2>\u001b[0m in \u001b[0;36m<module>\u001b[1;34m\u001b[0m\n\u001b[0;32m     10\u001b[0m \u001b[0ms\u001b[0m\u001b[1;33m.\u001b[0m\u001b[0mindex\u001b[0m\u001b[1;33m(\u001b[0m\u001b[0ms1\u001b[0m\u001b[1;33m)\u001b[0m\u001b[1;33m\u001b[0m\u001b[1;33m\u001b[0m\u001b[0m\n\u001b[0;32m     11\u001b[0m \u001b[1;31m# 没找到则报错\u001b[0m\u001b[1;33m\u001b[0m\u001b[1;33m\u001b[0m\u001b[1;33m\u001b[0m\u001b[0m\n\u001b[1;32m---> 12\u001b[1;33m \u001b[0ms\u001b[0m\u001b[1;33m.\u001b[0m\u001b[0mindex\u001b[0m\u001b[1;33m(\u001b[0m\u001b[0ms2\u001b[0m\u001b[1;33m)\u001b[0m\u001b[1;33m\u001b[0m\u001b[1;33m\u001b[0m\u001b[0m\n\u001b[0m",
      "\u001b[1;31mValueError\u001b[0m: substring not found"
     ]
    }
   ],
   "source": [
    "s = \"Yibo love BingBing\"\n",
    "s1 = \"BingBing\"\n",
    "# 返回 第一次发现这个子字符串所在位置\n",
    "s.find(s1)\n",
    "\n",
    "# 返回 -1，表示没有找到\n",
    "s2 = \"某\"\n",
    "s.find(s2)\n",
    "\n",
    "s.index(s1)\n",
    "# 没找到则报错\n",
    "s.index(s2)"
   ]
  },
  {
   "cell_type": "code",
   "execution_count": 89,
   "metadata": {},
   "outputs": [
    {
     "data": {
      "text/plain": [
       "11"
      ]
     },
     "execution_count": 89,
     "metadata": {},
     "output_type": "execute_result"
    }
   ],
   "source": [
    "# 使用的时候可以使用区间\n",
    "s3 = \"i\"\n",
    "s.find(s3,6)"
   ]
  },
  {
   "cell_type": "code",
   "execution_count": 95,
   "metadata": {},
   "outputs": [
    {
     "name": "stdout",
     "output_type": "stream",
     "text": [
      "False\n",
      "False\n",
      "False\n"
     ]
    }
   ],
   "source": [
    "# 一下三个都不能用，因为有除了字母以外的空格等\n",
    "s1 = \"我爱冰冰，一定疼她\"\n",
    "s2 = \"BingBing is my girlfriend\"\n",
    "s3 = \"Python language is 1.st\"\n",
    "\n",
    "print(s1.isalpha())\n",
    "print(s2.isalpha())\n",
    "print(s3.isalpha())"
   ]
  },
  {
   "cell_type": "code",
   "execution_count": 102,
   "metadata": {},
   "outputs": [
    {
     "name": "stdout",
     "output_type": "stream",
     "text": [
      "False\n",
      "False\n",
      "True\n",
      "True\n",
      "False\n",
      "False\n"
     ]
    }
   ],
   "source": [
    "# 判断是否有大小写\n",
    "s1 = \"BingBing is my girlfriend\"\n",
    "s2 = \"BingBingismygirlfriend\"\n",
    "# 空格不影响判断\n",
    "s3 = \"bingbing is my girlfriend\"\n",
    "s4 = \"bingbingismygirlfriend\"\n",
    "s5 = \"冰冰是我女朋友\"\n",
    "\n",
    "print(s1.islower())\n",
    "print(s2.islower())\n",
    "\n",
    "print(s3.islower())\n",
    "print(s4.islower())\n",
    "# 汉字字符串无大小写概念，所以无法判断，都为False\n",
    "print(s5.islower())\n",
    "print(s5.isupper())"
   ]
  },
  {
   "cell_type": "code",
   "execution_count": 96,
   "metadata": {},
   "outputs": [
    {
     "name": "stdout",
     "output_type": "stream",
     "text": [
      "False\n",
      "True\n",
      "False\n"
     ]
    }
   ],
   "source": [
    "# 数字判断\n",
    "chin_num = \"一二三四\"\n",
    "print(chin_num.isdigit())\n",
    "print(chin_num.isnumeric())\n",
    "print(chin_num.isdecimal())"
   ]
  },
  {
   "cell_type": "markdown",
   "metadata": {},
   "source": [
    "### 内容判断类\n",
    "- startswith\n",
    "    - 用于检查字符串是否是以指定子字符串开头，如果是则返回 True，否则返回 False。\n",
    "    - 语法：\n",
    "        - str.startswith(substr, beg=0,end=len(string))\n",
    "    - 参数：\n",
    "        - str：检测的字符串。（必须有）\n",
    "        - substr：指定的子字符串。\n",
    "        - strbeg：可选参数用于设置字符串检测的起始位置。\n",
    "        - strend：可选参数用于设置字符串检测的结束位置。\n",
    "- endswith：\n",
    "    - 用于判断字符串是否以指定后缀结尾，如果以指定后缀结尾返回 True，否则返回 False。\n",
    "    - 语法：\n",
    "        - str.endswith(suffix[, start[, end]])\n",
    "    - 参数：\n",
    "        - suffix：该参数可以是一个字符串或者是一个元素。（必须有）\n",
    "        - start：字符串中的开始位置。（检查范围的开始处）\n",
    "        - end：字符中结束位置。（检查范围的结束处）\n",
    "- isdigit：\n",
    "    - 检测字符串是否只由数字组成。\n",
    "    - 语法：\n",
    "        - str.isdigit()\n",
    "    - 如果字符串只包含数字则返回 True 否则返回 False。"
   ]
  },
  {
   "cell_type": "code",
   "execution_count": 103,
   "metadata": {},
   "outputs": [
    {
     "name": "stdout",
     "output_type": "stream",
     "text": [
      "True\n",
      "True\n"
     ]
    }
   ],
   "source": [
    "hoshi = \"Hoshi zora\"\n",
    "bing = \"Baby Bing\"\n",
    "\n",
    "s = \"Hoshi zora love Baby Bing\"\n",
    "\n",
    "print(s.startswith(hoshi))\n",
    "print(s.endswith(bing))"
   ]
  },
  {
   "cell_type": "code",
   "execution_count": 1,
   "metadata": {},
   "outputs": [
    {
     "name": "stdout",
     "output_type": "stream",
     "text": [
      "False\n"
     ]
    }
   ],
   "source": [
    "str1 = '123a46'\n",
    "\n",
    "print(str1.isdigit())"
   ]
  },
  {
   "cell_type": "markdown",
   "metadata": {},
   "source": [
    "### 操作类函数\n",
    "- format：格式化用\n",
    "- strip（chars）：返回原字符串的副本，移除其中的前导和末尾字符\n",
    "    - chars 参数为指定要移除字符的字符串。如果省略或为 None，则 chars 参数默认移除空格符\n",
    "    - 实际上 chars 参数并非指定单个前缀或后缀，而是会移除参数值的**所有组合**\n",
    "    - chars 参数中的子字符串中必有一个单个字符在原字符串的开头或末尾\n",
    "- 同样还有lstrip和rstrip，此处l和r分别表示左边和右边，即删除字符串左边或右边指定字符，默认空格\n",
    "- join：这个函数主要对字符串进行拼接。它需要一个可以迭代的内容作为参数，功能是把可迭代的字符串拼接在一起，中间使用调用字符串作为分隔符\n",
    "- replace：把字符串中的 old（旧字符串）替换成 new(新字符串)。\n",
    "    - 语法：str.replace(old, new[, max])\n",
    "    - 参数：\n",
    "        - old：将被替换的子字符串。\n",
    "        - new：新字符串，用于替换old子字符串。\n",
    "        - max：可选字符串，替换不超过 max 次。\n",
    "    - 字符串不能被修改，但可被覆盖"
   ]
  },
  {
   "cell_type": "code",
   "execution_count": 133,
   "metadata": {},
   "outputs": [
    {
     "name": "stdout",
     "output_type": "stream",
     "text": [
      " HHHoshi zora love Baby Bing ---\n",
      "HHHoshi zora love Baby Bing---\n",
      " HHHoshi zora love Baby Bing \n",
      "oshi zora love Baby B\n"
     ]
    }
   ],
   "source": [
    "# 是否成功删除两边空格不好观察\n",
    "s1 = \" HHHoshi zora love Baby Bing \"\n",
    "\n",
    "print(s1,end=\"---\")\n",
    "print()\n",
    "print(s1.strip(),end=\"---\")\n",
    "\n",
    "print()\n",
    "# 因为字符串开头和末尾是空格，所以无法直接删除“Hing”的各种组合，需要在“Hing”中插入一个空格\n",
    "print(s1.strip('Hing'))\n",
    "print(s1.strip('Hg in'))"
   ]
  },
  {
   "cell_type": "code",
   "execution_count": 135,
   "metadata": {},
   "outputs": [
    {
     "name": "stdout",
     "output_type": "stream",
     "text": [
      "Hoshi&love&Baby&Bing\n",
      "Hoshi$love$Baby$Bing\n",
      "Hoshi love Baby Bing\n"
     ]
    }
   ],
   "source": [
    "# join 的例子1\n",
    "#使用s1，s2，s3 作为分隔符，把 ss 内的内容拼接在一起\n",
    "s1 = \"&\"\n",
    "s2 = \"$\"\n",
    "s3 = \" \"\n",
    "ss = [\"Hoshi\", \"love\", \"Baby\", \"Bing\"]\n",
    "\n",
    "print(s1.join(ss))\n",
    "print(s2.join(ss))\n",
    "print(s3.join(ss))"
   ]
  },
  {
   "cell_type": "code",
   "execution_count": 19,
   "metadata": {},
   "outputs": [
    {
     "name": "stdout",
     "output_type": "stream",
     "text": [
      "L*o*v*e\n"
     ]
    }
   ],
   "source": [
    "# join 的例子2\n",
    "# 将指定字符插入字符串\n",
    "str0 = 'Love'\n",
    "\n",
    "print('*'.join(str0))"
   ]
  },
  {
   "cell_type": "code",
   "execution_count": 20,
   "metadata": {},
   "outputs": [
    {
     "name": "stdout",
     "output_type": "stream",
     "text": [
      "Hoshi love Bing\n"
     ]
    }
   ],
   "source": [
    "# replace 的例子\n",
    "str1 = 'Hoshi like Bing'\n",
    "\n",
    "print(str1.replace('like', 'love'))"
   ]
  },
  {
   "cell_type": "code",
   "execution_count": null,
   "metadata": {},
   "outputs": [],
   "source": []
  }
 ],
 "metadata": {
  "kernelspec": {
   "display_name": "Python 3",
   "language": "python",
   "name": "python3"
  },
  "language_info": {
   "codemirror_mode": {
    "name": "ipython",
    "version": 3
   },
   "file_extension": ".py",
   "mimetype": "text/x-python",
   "name": "python",
   "nbconvert_exporter": "python",
   "pygments_lexer": "ipython3",
   "version": "3.7.9"
  }
 },
 "nbformat": 4,
 "nbformat_minor": 2
}
