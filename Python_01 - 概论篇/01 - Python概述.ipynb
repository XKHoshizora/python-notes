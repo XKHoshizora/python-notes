{
 "cells": [
  {
   "cell_type": "markdown",
   "metadata": {},
   "source": [
    "# Python基础\n",
    "## Python概述\n",
    "- 计算机语言概述\n",
    "    - 语言：交流的工具，沟通媒介\n",
    "    - 计算机语言：人跟计算机交流的工具，翻译官\n",
    "    - Python是计算机语言里的一种\n",
    "    - Python编程语言\n",
    "        - 代码：人类语言，同过代码命令机器，跟机器交流\n",
    "        - Python解释器： 就是那个担任翻译工作的二狗子同学\n",
    "        - 流程：\n",
    "            - 写代码\n",
    "            - 执行：由翻译官（Python解释器）把命令（Code）翻译给机器，同事把机器结果翻译给我们\n",
    "    - Python读音问题\n",
    "    - Pythgon简史\n",
    "        - 1989年， Guido van Rossum\n",
    "        - 2008： Python3.0 诞生\n",
    "        - 2014： 宣布2.7支持到2020\n",
    "        - 2017： AI元年，Python崛起\n",
    "    - Python特点\n",
    "        - 速度问题\n",
    "        - Python跟其他语言的选择问题\n",
    "    - Python的应用领域\n",
    "        - 全能\n",
    "        - 设计哲学：平衡发展，样样通，简洁明了\n",
    "    - Python为什么这么火\n",
    "        - 会不会持续火\n",
    "    - 环境问题\n",
    "        - Anaconda + PyCharm\n",
    "        - Python3.7\n",
    "    - 环境\n",
    "        - 学习环境\n",
    "            - 直播课：网易云课堂\n",
    "            - 讲义+代码： GitHub\n",
    "            - 教科书： Gitbook\n",
    "        - 工作环境\n",
    "            - 环境安装：\n",
    "                - Gitbook上有\n",
    "                - http://www.cnblogs.com/zhouzhishuai/p/8401103.html\n",
    "        - 操作系统\n",
    "              - Windows\n",
    "              - Linux\n",
    "              - MacOX\n",
    "              - 我们的标准系统： Windows下开虚拟机，虚拟机安装Ubuntu\n",
    "        - 软件环境：\n",
    "            - 不使用Python解释器\n",
    "            - 使用Anaconda3 + PyCharm代替\n",
    "            - 具体环境对各位讲师不做要求\n",
    "    - Python的执行方式\n",
    "        - 本质上Python是一堆命令的集合\n",
    "        - 执行过程是逐行执行，遇到问题即刻终止\n",
    "        - 打印Hello World\n",
    "- Python 跟 C/C++、 Java 的区别\n",
    "    - Python 是解释性语言，代码会一行一行边翻译边执行\n",
    "    - C/C++ 和 Java 则是编译性语言，执行代码时会提前默默执行一遍"
   ]
  },
  {
   "cell_type": "code",
   "execution_count": 1,
   "metadata": {
    "scrolled": true
   },
   "outputs": [
    {
     "name": "stdout",
     "output_type": "stream",
     "text": [
      "Hello world\n",
      "图灵学院\n",
      "I love wangmeili\n"
     ]
    }
   ],
   "source": [
    "print(\"Hello world\")\n",
    "print(\"图灵学院\")\n",
    "print(\"I love wangmeili\")"
   ]
  },
  {
   "cell_type": "markdown",
   "metadata": {
    "collapsed": true
   },
   "source": [
    "# 环境安装\n",
    "- 推荐Virtualbox + Ubuntu\n",
    "- 套件推荐 Anaconda3 + PyCharm\n",
    "- 如果机器内存大于4G，推荐虚拟机下启动系统\n",
    "- 小于4G的话，推荐用Windows下的 Anaconda + PyCharm"
   ]
  },
  {
   "cell_type": "code",
   "execution_count": 2,
   "metadata": {},
   "outputs": [
    {
     "name": "stdout",
     "output_type": "stream",
     "text": [
      "Hello World\n"
     ]
    },
    {
     "data": {
      "text/plain": [
       "'\\n这里边任何内容机器都不管了\\n我可以写好多\\n好多\\n'"
      ]
     },
     "execution_count": 2,
     "metadata": {},
     "output_type": "execute_result"
    }
   ],
   "source": [
    "# 代码的作用\n",
    "# 1. 给人看\n",
    "# 2. 给机器看\n",
    "# 注释是纯给人看的内容\n",
    "print(\"Hello World\") #打印hellow world出来\n",
    "'''\n",
    "这里边任何内容机器都不管了\n",
    "我可以写好多\n",
    "好多\n",
    "'''"
   ]
  },
  {
   "cell_type": "markdown",
   "metadata": {
    "collapsed": true
   },
   "source": [
    "# 注释\n",
    "- 机器不去执行注释内容\n",
    "- 注释一般用自然语言书写\n",
    "- 注释的写法：\n",
    "    - 行注释： 以井号开头，可以单独行，也可以跟在某行代码后边\n",
    "    - 块注释： 好几行代码或者内容，以三个连续单引号或双引号开始和结束，中间任何内容机器都忽略\n",
    "- 注释原则：\n",
    "    - 恰当\n",
    "    - 不是越多越好\n",
    "    - 复杂算法\n",
    "    - 难懂的代码"
   ]
  },
  {
   "cell_type": "code",
   "execution_count": null,
   "metadata": {},
   "outputs": [],
   "source": []
  }
 ],
 "metadata": {
  "kernelspec": {
   "display_name": "Python 3",
   "language": "python",
   "name": "python3"
  },
  "language_info": {
   "codemirror_mode": {
    "name": "ipython",
    "version": 3
   },
   "file_extension": ".py",
   "mimetype": "text/x-python",
   "name": "python",
   "nbconvert_exporter": "python",
   "pygments_lexer": "ipython3",
   "version": "3.7.6"
  }
 },
 "nbformat": 4,
 "nbformat_minor": 2
}
