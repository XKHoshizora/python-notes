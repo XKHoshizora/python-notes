{
 "cells": [
  {
   "cell_type": "markdown",
   "metadata": {},
   "source": [
    "# 集合（Set）\n",
    "- 与数学中集合的概念一致\n",
    "- 无序性：元素是无序的（不能当做一个有序数据用）\n",
    "- 唯一性：不会包含重复元素\n",
    "- 集合的创建方法：\n",
    "    - 通过set关键字\n",
    "    - 使用大括号创建\n",
    "    - 使用集合解析式创建\n",
    "- 参考：\n",
    "    - [Python set() 函数](https://www.runoob.com/python/python-func-set.html)"
   ]
  },
  {
   "cell_type": "code",
   "execution_count": 8,
   "metadata": {},
   "outputs": [
    {
     "name": "stdout",
     "output_type": "stream",
     "text": [
      "set()\n",
      "{1, 2, 3, 4, 5, 66, 41, 85, 21}\n",
      "{1, 2, 3, 4, 5, 66, 41, 85, 21}\n"
     ]
    }
   ],
   "source": [
    "# 集合的定义\n",
    "\n",
    "# 1.通过set关键字创建\n",
    "sa = set()\n",
    "print(sa)\n",
    "\n",
    "li = [1,5,2,3,85,4,21,66,41,2,1,5,3,2]\n",
    "sb = set(li)\n",
    "print(sb) # 输出结果无重复元素\n",
    "\n",
    "# 2.使用大括号创建\n",
    "sc = {1,5,2,3,85,4,21,66,41,2,1,5,3,2}\n",
    "print(sc)"
   ]
  },
  {
   "cell_type": "markdown",
   "metadata": {},
   "source": [
    "## 集合解析式\n",
    "- 能够自动实现去重\n",
    "- 语法：{expression for i in iterable}"
   ]
  },
  {
   "cell_type": "code",
   "execution_count": 1,
   "metadata": {},
   "outputs": [
    {
     "name": "stdout",
     "output_type": "stream",
     "text": [
      "{'a', 'b', 'c', 'v'}\n"
     ]
    }
   ],
   "source": [
    "# 使用集合解析式创建集合，并自动去重\n",
    "x = ['a', 'b', 'c', 'a', 'v', 'v']\n",
    "\n",
    "y = {i for i in x}\n",
    "print(y)"
   ]
  },
  {
   "cell_type": "markdown",
   "metadata": {},
   "source": [
    "## 对set的操作\n",
    "- in操作，用来判断某个元素是否在该集合中\n",
    "- set的遍历操作"
   ]
  },
  {
   "cell_type": "code",
   "execution_count": 16,
   "metadata": {},
   "outputs": [
    {
     "name": "stdout",
     "output_type": "stream",
     "text": [
      "2了\n"
     ]
    }
   ],
   "source": [
    "# in操作，用来判断某个元素是否在该集合中\n",
    "if 2 in sc:\n",
    "    print(\"2了\")"
   ]
  },
  {
   "cell_type": "code",
   "execution_count": 17,
   "metadata": {},
   "outputs": [
    {
     "name": "stdout",
     "output_type": "stream",
     "text": [
      "1\n",
      "2\n",
      "3\n",
      "4\n",
      "5\n",
      "66\n",
      "41\n",
      "85\n",
      "21\n"
     ]
    }
   ],
   "source": [
    "# set的遍历\n",
    "# 方法一\n",
    "for i in sc:\n",
    "    print(i)"
   ]
  },
  {
   "cell_type": "code",
   "execution_count": 18,
   "metadata": {},
   "outputs": [
    {
     "name": "stdout",
     "output_type": "stream",
     "text": [
      "I love BingBing\n",
      "456 1 87\n",
      "1 2 3\n"
     ]
    }
   ],
   "source": [
    "# 方法二\n",
    "# 集合内各tuple中元素个数必须一致，否则报错\n",
    "sa = {(1,2,3),(\"I\", \"love\", \"BingBing\"),(456,1,87)}\n",
    "\n",
    "for i,j,k in sa:\n",
    "    print(i,j,k)"
   ]
  },
  {
   "cell_type": "markdown",
   "metadata": {},
   "source": [
    "## 集合的生成式\n",
    "- 无条件格式：sb = {i for i in sa}\n",
    "- 条件格式：sb = {i for i in sa if 条件表达式}"
   ]
  },
  {
   "cell_type": "code",
   "execution_count": 22,
   "metadata": {},
   "outputs": [
    {
     "name": "stdout",
     "output_type": "stream",
     "text": [
      "{0, 1, 2, 3, 4, 5, 6, 7, 8, 9, 10}\n",
      "{0, 2, 4, 6, 8, 10}\n"
     ]
    }
   ],
   "source": [
    "# 集合的生成式\n",
    "\n",
    "sa = {0,1,2,3,4,5,6,7,8,9,10}\n",
    "\n",
    "# 利用sa生成一个sb\n",
    "sb = {i for i in sa}\n",
    "print(sb)\n",
    "\n",
    "sc = {i for i in sa if i % 2 == 0}\n",
    "print(sc)"
   ]
  },
  {
   "cell_type": "code",
   "execution_count": 25,
   "metadata": {},
   "outputs": [
    {
     "name": "stdout",
     "output_type": "stream",
     "text": [
      "{0, 1, 64, 4, 36, 100, 9, 16, 49, 81, 25}\n",
      "{0, 1, 2, 3, 4, 5, 6, 7, 8, 9, 10, 12, 14, 15, 16, 18, 20, 21, 24, 25, 27, 28, 30, 32, 35, 36, 40, 42, 45, 48, 49, 50, 54, 56, 60, 63, 64, 70, 72, 80, 81, 90, 100}\n",
      "43\n"
     ]
    }
   ],
   "source": [
    "# 1.单层for循环\n",
    "# 把sa里每个元素平方，并生成一个新的集合\n",
    "sd = {i**2 for i in sa}\n",
    "print(sd)\n",
    "\n",
    "# 2.双层for循环\n",
    "se = {m*n for m in sa for n in sa}\n",
    "print(se)"
   ]
  },
  {
   "cell_type": "markdown",
   "metadata": {},
   "source": [
    "## 集合的内置函数\n",
    "- len：取长度（或元素个数）\n",
    "- max / min：取元素中的最大最小值\n",
    "- add：向集合中添加元素\n",
    "- clera：清空\n",
    "- 删除操作函数：\n",
    "    - remove：要删除的值不在集合中，则报错\n",
    "    - discard：要删除的值不在集合中也不会报错\n",
    "- pop：弹出集合的一个内容，删除的内容随机，不推荐用\n",
    "- 数学操作函数：\n",
    "    - sa.intersection(sb)：求sa与sb的交集\n",
    "    - sa.difference(sb)：求sa与sb的差集，也可用 sa - sb 来表示\n",
    "    - sa.union(sb)：求sa与sb的并集，与求差集不同，不能用“+”来表示"
   ]
  },
  {
   "cell_type": "code",
   "execution_count": 37,
   "metadata": {},
   "outputs": [
    {
     "name": "stdout",
     "output_type": "stream",
     "text": [
      "43\n",
      "{0, 1, 2, 3, 4, 5, 6, 7, 8, 9, 10}\n",
      "None\n",
      "{0, 1, 2, 3, 4, 5, 6, 7, 8, 9, 10, 55}\n",
      "None\n"
     ]
    }
   ],
   "source": [
    "# 集合的内置函数\n",
    "\n",
    "# len函数\n",
    "print(len(se))\n",
    "\n",
    "# add函数\n",
    "sa = {0,1,2,3,4,5,6,7,8,9,10}\n",
    "print(sa)\n",
    "print(sa.add(55)) # 此处输出结果为何不是sa，而是None？\n",
    "print(sa)\n",
    "\n",
    "# 因为add函数只进行操作，是没有返回值的\n",
    "sb = sa.add(55)\n",
    "print(sb)"
   ]
  },
  {
   "cell_type": "code",
   "execution_count": 54,
   "metadata": {},
   "outputs": [
    {
     "name": "stdout",
     "output_type": "stream",
     "text": [
      "{0, 1, 2, 3, 4, 5, 6, 7, 8, 9, 10}\n",
      "{0, 1, 2, 3, 4, 6, 7, 8, 9, 10}\n"
     ]
    },
    {
     "ename": "KeyError",
     "evalue": "5",
     "output_type": "error",
     "traceback": [
      "\u001b[1;31m---------------------------------------------------------------------------\u001b[0m",
      "\u001b[1;31mKeyError\u001b[0m                                  Traceback (most recent call last)",
      "\u001b[1;32m<ipython-input-54-2bb480b2cc20>\u001b[0m in \u001b[0;36m<module>\u001b[1;34m\u001b[0m\n\u001b[0;32m      8\u001b[0m \u001b[1;33m\u001b[0m\u001b[0m\n\u001b[0;32m      9\u001b[0m \u001b[1;31m# 若remove要删除的值不在集合中，则报错\u001b[0m\u001b[1;33m\u001b[0m\u001b[1;33m\u001b[0m\u001b[1;33m\u001b[0m\u001b[0m\n\u001b[1;32m---> 10\u001b[1;33m \u001b[0msa\u001b[0m\u001b[1;33m.\u001b[0m\u001b[0mremove\u001b[0m\u001b[1;33m(\u001b[0m\u001b[1;36m5\u001b[0m\u001b[1;33m)\u001b[0m\u001b[1;33m\u001b[0m\u001b[1;33m\u001b[0m\u001b[0m\n\u001b[0m",
      "\u001b[1;31mKeyError\u001b[0m: 5"
     ]
    }
   ],
   "source": [
    "# 删除操作\n",
    "# remove和discard的区别\n",
    "sa = {0,1,2,3,4,5,6,7,8,9,10}\n",
    "print(sa)\n",
    "\n",
    "sa.remove(5)\n",
    "print(sa)\n",
    "\n",
    "# 若remove要删除的值不在集合中，则报错\n",
    "sa.remove(5)"
   ]
  },
  {
   "cell_type": "code",
   "execution_count": 39,
   "metadata": {},
   "outputs": [
    {
     "name": "stdout",
     "output_type": "stream",
     "text": [
      "{0, 1, 2, 3, 4, 5, 6, 7, 8, 9, 10}\n",
      "{0, 1, 2, 3, 4, 5, 6, 8, 9, 10}\n",
      "{0, 1, 2, 3, 4, 5, 6, 8, 9, 10}\n"
     ]
    }
   ],
   "source": [
    "sa = {0,1,2,3,4,5,6,7,8,9,10}\n",
    "print(sa)\n",
    "\n",
    "sa.discard(7)\n",
    "print(sa)\n",
    "\n",
    "# 而discard要删除的值不在集合中也不会报错\n",
    "sa.discard(7)\n",
    "print(sa)"
   ]
  },
  {
   "cell_type": "code",
   "execution_count": 59,
   "metadata": {},
   "outputs": [
    {
     "name": "stdout",
     "output_type": "stream",
     "text": [
      "{0, 1, 2, 3, 4, 5, 6, 7, 8, 9, 10}\n",
      "{1, 2, 3, 4, 5, 6, 7, 8, 9, 10}\n"
     ]
    }
   ],
   "source": [
    "# pop弹出集合的一个内容，若集合为空，则报错\n",
    "# 删除的内容无规律，随机\n",
    "sa = {0,1,2,3,4,5,6,7,8,9,10}\n",
    "print(sa)\n",
    "# 可能默认删除左端第一个元素\n",
    "sa.pop()\n",
    "print(sa)"
   ]
  },
  {
   "cell_type": "code",
   "execution_count": 60,
   "metadata": {},
   "outputs": [
    {
     "name": "stdout",
     "output_type": "stream",
     "text": [
      "{4, 5, 6}\n",
      "{1, 2, 3}\n",
      "{8, 9, 7}\n",
      "{1, 2, 3}\n",
      "{1, 2, 3, 4, 5, 6, 7, 8, 9}\n"
     ]
    }
   ],
   "source": [
    "# 集合的数学操作\n",
    "sa = {1,2,3,4,5,6}\n",
    "sb = {4,5,6,7,8,9}\n",
    "\n",
    "# intersection：交集\n",
    "print(sa.intersection(sb))\n",
    "\n",
    "# difference：差集\n",
    "print(sa.difference(sb))\n",
    "print(sb.difference(sa))\n",
    "#差集的另一种表示\n",
    "print(sa - sb)\n",
    "\n",
    "# union：并集\n",
    "print(sa.union(sb))"
   ]
  },
  {
   "cell_type": "markdown",
   "metadata": {},
   "source": [
    "## 冰冻集合（Frozenset）\n",
    "- 不允许修改的集合"
   ]
  },
  {
   "cell_type": "code",
   "execution_count": 62,
   "metadata": {},
   "outputs": [
    {
     "name": "stdout",
     "output_type": "stream",
     "text": [
      "{1, 2, 3, 4, 5, 6}\n",
      "frozenset({1, 2, 3, 4, 5, 6})\n"
     ]
    }
   ],
   "source": [
    "# 案列\n",
    "print(sa)\n",
    "\n",
    "sb = frozenset(sa)\n",
    "print(sb)"
   ]
  },
  {
   "cell_type": "code",
   "execution_count": null,
   "metadata": {},
   "outputs": [],
   "source": []
  }
 ],
 "metadata": {
  "kernelspec": {
   "display_name": "Python 3",
   "language": "python",
   "name": "python3"
  },
  "language_info": {
   "codemirror_mode": {
    "name": "ipython",
    "version": 3
   },
   "file_extension": ".py",
   "mimetype": "text/x-python",
   "name": "python",
   "nbconvert_exporter": "python",
   "pygments_lexer": "ipython3",
   "version": "3.7.9"
  }
 },
 "nbformat": 4,
 "nbformat_minor": 2
}
