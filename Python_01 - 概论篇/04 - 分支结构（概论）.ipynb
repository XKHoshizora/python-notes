{
 "cells": [
  {
   "cell_type": "markdown",
   "metadata": {},
   "source": [
    "# 程序结构\n",
    "- 程序的三种结构\n",
    "    - 顺序\n",
    "    - 循环\n",
    "    - 分支"
   ]
  },
  {
   "cell_type": "markdown",
   "metadata": {},
   "source": [
    "# 分支结构\n",
    "- 分支结构的基本语法结构\n",
    "    \n",
    "        if 条件表达式：\n",
    "            语句1\n",
    "            语句2\n",
    "            语句3\n",
    "            ......\n",
    "- 条件表达式就是运算结果必须为布尔值的表达式\n",
    "    - 字符串的真假\n",
    "        - 只有空字符串为 False\n",
    "        - 非空字符串均为 True\n",
    "- 表达式后面的冒号不能少\n",
    "- 注意 if 后面的出现的语句，如果属于 if 语句块，则必须是同一个缩进等级\n",
    "- 条件表达式结果为 True，则执行 if 后面缩进的语句块"
   ]
  },
  {
   "cell_type": "code",
   "execution_count": 5,
   "metadata": {},
   "outputs": [
    {
     "name": "stdout",
     "output_type": "stream",
     "text": [
      "去叫家长吧，孩纸\n",
      "我们不带你玩\n",
      "滚球的\n",
      "哈哈哈\n",
      "————————————————————————————————————————\n",
      "干得漂亮！\n",
      "b为空字符串，不执行\n",
      "啥玩意儿\n"
     ]
    }
   ],
   "source": [
    "# if 语句练习1\n",
    "\n",
    "# 如果 age 小于18岁，则打印信息“去叫家长”\n",
    "age = 17\n",
    "\n",
    "if  age < 18:\n",
    "    print(\"去叫家长吧，孩纸\")\n",
    "    print(\"我们不带你玩\")\n",
    "    print(\"滚球的\")\n",
    "else:\n",
    "    print(\"走你\")\n",
    "    \n",
    "print(\"哈哈哈\")\n",
    "\n",
    "print(\"——\" * 20)\n",
    "# if 语句练习2\n",
    "\n",
    "a = \"滚粗\"\n",
    "b = \"\"\n",
    "c = \"   \"\n",
    "\n",
    "if a:\n",
    "    print(\"干得漂亮！\")\n",
    "\n",
    "if b:\n",
    "    print(\"流批\")\n",
    "else:\n",
    "    print(\"b为空字符串，不执行\")\n",
    "\n",
    "if c:\n",
    "    print(\"啥玩意儿\")"
   ]
  },
  {
   "cell_type": "markdown",
   "metadata": {},
   "source": [
    "## 双向分支\n",
    "- 用 if...else... 表达\n",
    "- 语法结构\n",
    "        if 条件表达式:\n",
    "            语句1\n",
    "            语句2\n",
    "            ...\n",
    "        else:\n",
    "            语句1\n",
    "            语句2\n",
    "            .....\n",
    "            \n",
    "- 双向分支有两个分支，当程序执行到 if ... else... 语句的时候，一定会执行 if 或 else 中的一个，也仅执行一个\n",
    "- 缩进问题，if 和 else 一个层级，其余语句一个层级  "
   ]
  },
  {
   "cell_type": "code",
   "execution_count": 6,
   "metadata": {},
   "outputs": [],
   "source": [
    "# 参照之前练习"
   ]
  },
  {
   "cell_type": "markdown",
   "metadata": {},
   "source": [
    "（\n",
    "- input 的作用是\n",
    "    1. 在屏幕上输出括号内的字符串\n",
    "    2. 接收用户输入的内容，并返回内容给变量\n",
    "- input 返回的内容一定是字符串类型  \n",
    "）"
   ]
  },
  {
   "cell_type": "code",
   "execution_count": 10,
   "metadata": {},
   "outputs": [
    {
     "name": "stdout",
     "output_type": "stream",
     "text": [
      "请输入你的性别：man\n",
      "你输入的性别是：man\n",
      "来，我们纪念一下今天吧，代码敲十遍\n",
      "开始上课喽\n"
     ]
    }
   ],
   "source": [
    "# input 负责接收用户输入内容，并将内容返回给变量\n",
    "\n",
    "# 输入\n",
    "gender = input(\"请输入你的性别：\")\n",
    "# 输出用户输入内容\n",
    "print(\"你输入的性别是：{0}\".format(gender))\n",
    "\n",
    "if  gender == \"man\":\n",
    "    print(\"来，我们纪念一下今天吧，代码敲十遍\")\n",
    "else:\n",
    "    print(\"发糖喽发糖喽\")\n",
    "    print(\"你是女生，特殊照顾喽\")\n",
    "        \n",
    "print(\"开始上课喽\")"
   ]
  },
  {
   "cell_type": "code",
   "execution_count": 1,
   "metadata": {},
   "outputs": [
    {
     "name": "stdout",
     "output_type": "stream",
     "text": [
      "请输入用户名：hoshizora\n",
      "请输入密码：123\n",
      "用户名或密码错误。\n"
     ]
    }
   ],
   "source": [
    "data = {'username':'hoshizora', 'password':'xingkong'}\n",
    "\n",
    "username = input('请输入用户名：')\n",
    "password = input('请输入密码：')\n",
    "\n",
    "if username == data['username'] and password == data['password']:\n",
    "    print('用户名和密码正确。')\n",
    "else:\n",
    "    print('用户名或密码错误。')"
   ]
  },
  {
   "cell_type": "markdown",
   "metadata": {},
   "source": [
    "## 多路分支\n",
    "- 很多分支的情况，称为多路分支\n",
    "- elif 是 else if 的简写\n",
    "- 语法结构\n",
    "\n",
    "        if  条件表达式：\n",
    "            语句1\n",
    "            .....\n",
    "        elif 条件表达式：\n",
    "            语句1\n",
    "            .....\n",
    "        elif 条件表达式：\n",
    "            语句1\n",
    "            .....\n",
    "            \n",
    "        .....\n",
    "        else:\n",
    "            语句1\n",
    "            .....\n",
    "            \n",
    "- elif 可以有多个，根据实际情况\n",
    "- else 可有可无，根据实际情况决定\n",
    "- 多路分支最多只会选择一个执行"
   ]
  },
  {
   "cell_type": "code",
   "execution_count": 13,
   "metadata": {},
   "outputs": [
    {
     "name": "stdout",
     "output_type": "stream",
     "text": [
      "请输入学生成绩：56\n",
      "滚粗，我没你这撒学僧！\n"
     ]
    }
   ],
   "source": [
    "# score  存放学生成绩\n",
    "# 注意 input 的返回值类型为 str 类型\n",
    "score = input(\"请输入学生成绩：\")\n",
    "# 需要把 str 转换成 int\n",
    "score = int(score)\n",
    "\n",
    "if score >= 90:\n",
    "    print(\"S\")\n",
    "elif score >= 80:\n",
    "    print(\"A\")\n",
    "elif score >= 70:\n",
    "    print(\"B\")\n",
    "elif score >= 60:\n",
    "    print(\"C\")\n",
    "else:\n",
    "    print(\"滚粗，我没你这撒学僧！\")"
   ]
  },
  {
   "cell_type": "markdown",
   "metadata": {},
   "source": [
    "## if 语句补充\n",
    "- if 语句可以嵌套使用，但不推荐（容易漏掉情况）\n",
    "- Python 没有 switch - case 语句"
   ]
  }
 ],
 "metadata": {
  "kernelspec": {
   "display_name": "Python 3",
   "language": "python",
   "name": "python3"
  },
  "language_info": {
   "codemirror_mode": {
    "name": "ipython",
    "version": 3
   },
   "file_extension": ".py",
   "mimetype": "text/x-python",
   "name": "python",
   "nbconvert_exporter": "python",
   "pygments_lexer": "ipython3",
   "version": "3.7.9"
  }
 },
 "nbformat": 4,
 "nbformat_minor": 2
}
