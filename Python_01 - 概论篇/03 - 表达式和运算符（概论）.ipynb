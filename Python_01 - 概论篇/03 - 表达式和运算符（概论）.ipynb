{
 "cells": [
  {
   "cell_type": "markdown",
   "metadata": {},
   "source": [
    "# 表达式\n",
    "- 由一个或者几个数字，变量和运算符所组成的一行代码\n",
    "- 通常会返回一个结果\n",
    "\n",
    "# 运算符\n",
    "- 由一个以上的值经过一系列变化得到新值的过程就叫运算，用于运算的符号叫运算符\n",
    "- 运算符分类\n",
    "    - 算数运算符\n",
    "    - 比较或关系运算符\n",
    "    - 赋值运算符\n",
    "    - 逻辑运算符\n",
    "    - 位运算\n",
    "    - 成员运算符\n",
    "    - 身份运算符"
   ]
  },
  {
   "cell_type": "code",
   "execution_count": 2,
   "metadata": {},
   "outputs": [],
   "source": [
    "# 表达式案例\n",
    "a = 1 + 2"
   ]
  },
  {
   "cell_type": "markdown",
   "metadata": {},
   "source": [
    "## 算术运算符\n",
    "- 用来进行算数运算的符号，通常用来表示加减乘除\n",
    "- Python没有自增自减运算符\n",
    "    - 即没有 i++， i-- 运算\n",
    "- Python加减乘运算与其他语言相同，符号为 +， -， *\n",
    "- Python除法\n",
    "    - 普通除法， /\n",
    "    - Python取余，实际为取模运算， %\n",
    "        - 各个环境下 % 运算符的含义不同，比如C/C++，Java表示取余，而Python则为取模\n",
    "    - 地板除（取整）， //\n",
    "- Python幂运算，符号为 **"
   ]
  },
  {
   "cell_type": "code",
   "execution_count": 25,
   "metadata": {},
   "outputs": [
    {
     "name": "stdout",
     "output_type": "stream",
     "text": [
      "11\n",
      "7\n",
      "16\n",
      "4.5\n",
      "4\n",
      "1\n",
      "-3\n",
      "3\n",
      "-1\n",
      "49\n"
     ]
    }
   ],
   "source": [
    "# 算术运算符案例\n",
    "\n",
    "# 加减乘除跟数学意义基本一致\n",
    "a = 9 + 2\n",
    "print(a)\n",
    "\n",
    "b = 9 - 2\n",
    "print(b)\n",
    "\n",
    "c = 8 * 2\n",
    "print(c)\n",
    "\n",
    "# Python除法\n",
    "\n",
    "# 正常除法\n",
    "# 此操作符在 Python 2.x 和 Pythonn 3.x 中有不同\n",
    "d = 9 / 2\n",
    "print(d)\n",
    "\n",
    "# 地板除（取整）\n",
    "e = 9 // 2\n",
    "print(e)\n",
    "\n",
    "# 取余\n",
    "f = 9 % 2\n",
    "print(f)\n",
    "# 除以负数的结果，可以参照取余的定义来理解\n",
    "# (9 - g) / (-4) = Z，Z为整数，求g\n",
    "g = 9 % -4\n",
    "print(g)\n",
    "\n",
    "h = -9 % 4\n",
    "print(h)\n",
    "\n",
    "i = -9 % -4\n",
    "print(i)\n",
    "\n",
    "# 幂运算\n",
    "j = 7 ** 2\n",
    "print(j)"
   ]
  },
  {
   "cell_type": "markdown",
   "metadata": {},
   "source": [
    "## 比较运算符\n",
    "- 用于比较两个内容的运算符\n",
    "- 比较结果一定为一个布尔值，即 True/False\n",
    "- 符号\n",
    "    - 等于， ==\n",
    "    - 不等于， !=\n",
    "    - 大于， >\n",
    "    - 大于等于， >=\n",
    "    - 小于， <\n",
    "    - 小于等于， <=\n",
    "- 字符串也可以比较"
   ]
  },
  {
   "cell_type": "code",
   "execution_count": 19,
   "metadata": {},
   "outputs": [
    {
     "name": "stdout",
     "output_type": "stream",
     "text": [
      "False\n",
      "True\n",
      "False\n",
      "True\n"
     ]
    }
   ],
   "source": [
    "# 等于 ==\n",
    "a = 3 == 4 # 将 3 == 4 进行判断后的结果赋值给 a\n",
    "print(a)\n",
    "\n",
    "# 不等于 !=\n",
    "b = 3 != 4 # 将 3 != 4 进行判断后的结果赋值给 b\n",
    "print(b)\n",
    "\n",
    "# 其他符号\n",
    "print( 3 >= 8)\n",
    "# 字符串可以比较\n",
    "print(\"Yibo\" > \"Bingbing\")"
   ]
  },
  {
   "cell_type": "markdown",
   "metadata": {},
   "source": [
    "## 赋值运算符\n",
    "- 将一个内容放到变量之中\n",
    "- 赋值符号为 =\n",
    "- 赋值运算符优先等级最低\n",
    "- 纯赋值运算从右开始进行\n",
    "- 赋值运算的缩写\n",
    "    - 所有数学运算符都可以缩写\n",
    "    - 例如\n",
    "        - +=， -=， *=， /=， **=， %=， //=\n",
    "- 用连等式赋值时，两个不同变量名将会同时标记同一个内存区域，从而导致无法用身份运算符来区别两个变量"
   ]
  },
  {
   "cell_type": "code",
   "execution_count": 26,
   "metadata": {},
   "outputs": [
    {
     "name": "stdout",
     "output_type": "stream",
     "text": [
      "3\n",
      "6\n"
     ]
    }
   ],
   "source": [
    "# 赋值符号 =\n",
    "a = 9\n",
    "\n",
    "# 复杂赋值\n",
    "b = c = 10 # 赋值过程为，先将10赋值给c，再将c的值赋值给b\n",
    "\n",
    "d,e = 1,2 # 赋值号前后一一对应\n",
    "\n",
    "# 赋值运算的缩写\n",
    "f = 0\n",
    "f = f + 3\n",
    "print(f)\n",
    "\n",
    "# += 和 -= 等符号仅仅是一个缩写，无其他含义\n",
    "f += 3 # f = f + 3 的缩写\n",
    "print(f)"
   ]
  },
  {
   "cell_type": "markdown",
   "metadata": {},
   "source": [
    "## 逻辑运算符\n",
    "- 对布尔类型变量或值进行运算的符号\n",
    "- and 逻辑 与\n",
    "- or  逻辑 或\n",
    "- not 逻辑 非\n",
    "- Python逻辑运算中，没有异或运算\n",
    "- 运算规则：\n",
    "    - and 看做乘法， or 看做加法， not 为取反\n",
    "    - True 看做 1， False 看做 0\n",
    "    - 则逻辑运算就能转换成整数数学运算\n",
    "    - 最后结果如果是 0 则为 False， 否则为 True\n",
    "- 逻辑运算的短路问题\n",
    "    - 逻辑运算式，按照运算顺序运算，一旦能够确定整个式子未来的值，则不再进行运算，直接返回。\n",
    "    - 返回值为最终判定出整个式子的逻辑运算符（and,not,or）之前的值\n",
    "- 逻辑运算的优先级：not > and >or"
   ]
  },
  {
   "cell_type": "code",
   "execution_count": 27,
   "metadata": {},
   "outputs": [
    {
     "name": "stdout",
     "output_type": "stream",
     "text": [
      "True\n",
      "False\n",
      "False\n"
     ]
    }
   ],
   "source": [
    "# 逻辑表达案例\n",
    "# 布尔值与数字之间可相互转换\n",
    "a = True\n",
    "b = True\n",
    "c = False\n",
    "\n",
    "aa = a and b # 右边的表达式可以转换成 1 * 1，则 aa = 1\n",
    "print(aa)\n",
    "\n",
    "bb = a and c # 右边的表达式可以转换成 1 * 0，则 bb = 0\n",
    "print(bb)\n",
    "\n",
    "cc = 100 and c # 右边的表达式可以转换成 100 * 0，则 cc = 0\n",
    "print(cc)"
   ]
  },
  {
   "cell_type": "code",
   "execution_count": 2,
   "metadata": {},
   "outputs": [
    {
     "name": "stdout",
     "output_type": "stream",
     "text": [
      "True\n"
     ]
    }
   ],
   "source": [
    "# 短路问题案例1\n",
    "a = True\n",
    "b = True\n",
    "c = False\n",
    "\n",
    "aa = a or b and (a and c) # 可转换成 1 + 1 * (1 * 0)，即 1 + …… 不会等于 0\n",
    "print(aa)"
   ]
  },
  {
   "cell_type": "code",
   "execution_count": 34,
   "metadata": {},
   "outputs": [
    {
     "name": "stdout",
     "output_type": "stream",
     "text": [
      "a已执行\n",
      "b已执行\n",
      "A\n",
      "————————————————————————————————————————\n",
      "a已执行\n",
      "B\n"
     ]
    }
   ],
   "source": [
    "# 短路问题案例2\n",
    "def a():\n",
    "    print('a已执行')\n",
    "    return True\n",
    "\n",
    "def b():\n",
    "    print(\"b已执行\")\n",
    "    return True\n",
    "\n",
    "if a() and b():\n",
    "    print(\"A\")\n",
    "    \n",
    "print(\"——\" * 20) # 字符串乘以数字，表示将该字符串重复多少遍\n",
    "\n",
    "if a() or b(): # 短路发生， b() 没有执行\n",
    "    print(\"B\")"
   ]
  },
  {
   "cell_type": "code",
   "execution_count": 7,
   "metadata": {},
   "outputs": [
    {
     "name": "stdout",
     "output_type": "stream",
     "text": [
      "456\n",
      "abc\n"
     ]
    }
   ],
   "source": [
    "# 短路问题案例3\n",
    "# 返回值为最终判定出整个式子的逻辑运算符（and,not,or）之前的值\n",
    "print(0 and 1 or 'abc' and 456 or '' and 'a')\n",
    "                              # ↑这个“or”就是最终判定出整个式子的逻辑运算符，所以输出它之前的 456，且之后的部分不运行\n",
    "\n",
    "print(0 and 1 or 456 and 'abc' or '' and 'a')\n",
    "                              # ↑这个“or”就是最终判定出整个式子的逻辑运算符，所以输出它之前的 abc，且之后的部分不运行"
   ]
  },
  {
   "cell_type": "markdown",
   "metadata": {},
   "source": [
    "## 成员运算符\n",
    "- 用来检测某一个值或变量是否在某个集合里面\n",
    "- in 成员\n",
    "- not in 非成员"
   ]
  },
  {
   "cell_type": "code",
   "execution_count": 36,
   "metadata": {},
   "outputs": [
    {
     "name": "stdout",
     "output_type": "stream",
     "text": [
      "False\n",
      "True\n"
     ]
    }
   ],
   "source": [
    "# in 案例\n",
    "L = [1,2,3,4,5]\n",
    "a = 6\n",
    "\n",
    "aa = a in L # a 在 L 里？\n",
    "print(aa)\n",
    "\n",
    "aa = a not in L # a 不在 L 里？\n",
    "print(aa)"
   ]
  },
  {
   "cell_type": "markdown",
   "metadata": {},
   "source": [
    "## 身份运算符\n",
    "- 用来确定两个变量是否是同一变量（判断的是变量名（ID，即地址），而不是变量的值）\n",
    "- is 用来检测两个变量是否是同一个变量\n",
    "    - 语法就是  var1 is var2 \n",
    "- is not 两个变量不是同一个变量\n",
    "- Python里，当比较的变量所赋予的值比较小时，由于Python的内存分配问题（Python已经将 -5 到 256 之间的数字预分配了固定的内存区域），将不会把值分配给变量名标记的内存，而是直接将变量名标记给该值所在内存区域。将会导致变量值较小的时候，无法正确识别变量名的区别\n",
    "- is 和 == 的区别是：is 比较的是变量地址，== 比较的是变量值和变量地址"
   ]
  },
  {
   "cell_type": "code",
   "execution_count": 47,
   "metadata": {},
   "outputs": [
    {
     "name": "stdout",
     "output_type": "stream",
     "text": [
      "False\n",
      "False\n",
      "————————————————————————————————————————\n",
      "True\n",
      "False\n",
      "————————————————————————————————————————\n",
      "True\n",
      "False\n"
     ]
    }
   ],
   "source": [
    "# 身份运算符定义\n",
    "a = 1\n",
    "b = 15642104\n",
    "\n",
    "aa = a is b\n",
    "print(aa)\n",
    "\n",
    "# a, b 仅仅是值相同，值相同并不代表 a, b 是同一变量\n",
    "a = 15642104\n",
    "b = 15642104\n",
    "\n",
    "bb = a is b\n",
    "print(bb)\n",
    "\n",
    "print(\"——\" * 20)\n",
    "# 变量值较小的时候，无法识别变量名的区别\n",
    "a = 256\n",
    "b = 256\n",
    "c = 257\n",
    "d = 257\n",
    "\n",
    "cc = a is b\n",
    "print(cc)\n",
    "\n",
    "dd = c is d\n",
    "print(dd)\n",
    "\n",
    "print(\"——\" * 20)\n",
    "# 用连等式赋值时，两个不同变量名将会同时标记同一个内存区域，从而导致无法用身份运算符来区别两个变量\n",
    "e = f = 4562134864\n",
    "ee = e is f\n",
    "print(ee)\n",
    "\n",
    "e = 4562134864\n",
    "f = 4562134864\n",
    "ee = e is f\n",
    "print(ee)"
   ]
  },
  {
   "cell_type": "markdown",
   "metadata": {},
   "source": [
    "## 位运算符\n",
    "- 一般用不到，物联网用得比较多\n",
    "- 符号\n",
    "    - 右移， >>\n",
    "    - 左移， <<\n",
    "    - 其他"
   ]
  },
  {
   "cell_type": "markdown",
   "metadata": {},
   "source": [
    "## 运算符的优先级\n",
    "- 括号永远具有最高优先级\n",
    "- 优先级顺序\n",
    "    1. 指数 (最高优先级)， **\n",
    "    2. 按位翻转, 一元加号和减号 (最后两个的方法名为 +@ 和 -@)， ~ + -\n",
    "    3. 乘，除，取模和取整， *， /， %， // \n",
    "    4. 加法减法， +， -\n",
    "    5. 右移，左移运算符， >>，  <<\n",
    "    6. 位 'AND'， &\n",
    "    7. 位运算符， ^ |\n",
    "    8. 比较运算符， <=， <， >， >=\n",
    "    9. 等于运算符， <， >， ==， !=\n",
    "    10. 赋值运算符， =， %=， /=， //=， -=， +=， *=， **=\n",
    "    11. 身份运算符， is， is not\n",
    "    12. 成员运算符， in， not in\n",
    "    13. 逻辑运算符， not， or， and"
   ]
  }
 ],
 "metadata": {
  "kernelspec": {
   "display_name": "Python 3",
   "language": "python",
   "name": "python3"
  },
  "language_info": {
   "codemirror_mode": {
    "name": "ipython",
    "version": 3
   },
   "file_extension": ".py",
   "mimetype": "text/x-python",
   "name": "python",
   "nbconvert_exporter": "python",
   "pygments_lexer": "ipython3",
   "version": "3.7.9"
  }
 },
 "nbformat": 4,
 "nbformat_minor": 2
}
