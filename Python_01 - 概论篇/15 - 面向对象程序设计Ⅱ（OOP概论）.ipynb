{
 "cells": [
  {
   "cell_type": "markdown",
   "metadata": {},
   "source": [
    "# 面向对象的三大特征\n",
    "- 继承\n",
    "- 封装\n",
    "- 多态"
   ]
  },
  {
   "cell_type": "markdown",
   "metadata": {},
   "source": [
    "## 继承\n",
    "- 子类可以使用父类定义的内容或行为等\n",
    "- 继承的实现\n",
    "    - 父类（也称基类、超类，Base Class，Supper Class）：被继承的类\n",
    "    - 子类：有继承行为的类\n",
    "- 所有类都必须有一个父类\n",
    "    - 如果没有，则默认为是object的子类\n",
    "- Python中，子类可以有多个父类"
   ]
  },
  {
   "cell_type": "code",
   "execution_count": 5,
   "metadata": {},
   "outputs": [],
   "source": [
    "# 所有类必须有父类\n",
    "\n",
    "class Person1(): # 此处默认是 object\n",
    "    pass\n",
    "\n",
    "class Person2(object):\n",
    "    pass\n",
    "\n",
    "# Person1 其实与 Person2 相同"
   ]
  },
  {
   "cell_type": "code",
   "execution_count": 6,
   "metadata": {},
   "outputs": [
    {
     "name": "stdout",
     "output_type": "stream",
     "text": [
      "NoName\n"
     ]
    }
   ],
   "source": [
    "class Person():\n",
    "    name = \"NoName\"\n",
    "    age = 0\n",
    "\n",
    "# 父类写在类定义时候的括号内\n",
    "class Teacher(Person):\n",
    "    pass\n",
    "\n",
    "t = Teacher()\n",
    "\n",
    "print(t.name)"
   ]
  },
  {
   "cell_type": "code",
   "execution_count": 7,
   "metadata": {},
   "outputs": [
    {
     "name": "stdout",
     "output_type": "stream",
     "text": [
      "咕咕咕\n",
      "Yes, we can fly.\n"
     ]
    }
   ],
   "source": [
    "# 子类可以有多个父类\n",
    "\n",
    "class Bird():\n",
    "    fly = \"Yes, we can fly.\"\n",
    "    def flying(self): # 在类里面定义函数需要有一个变量名\n",
    "        print(\"咕咕咕\")\n",
    "\n",
    "class BirdMan(Person, Bird):\n",
    "    pass\n",
    "\n",
    "bm = BirdMan()\n",
    "\n",
    "bm.flying()\n",
    "\n",
    "print(bm.fly)"
   ]
  },
  {
   "cell_type": "markdown",
   "metadata": {},
   "source": [
    "### 使用 issubclass 来检测是否是子类\n",
    "- 可以用来检测两类之间的父子关系"
   ]
  },
  {
   "cell_type": "code",
   "execution_count": 8,
   "metadata": {},
   "outputs": [
    {
     "name": "stdout",
     "output_type": "stream",
     "text": [
      "True\n",
      "False\n",
      "True\n"
     ]
    }
   ],
   "source": [
    "# 利用上面所定义的Person，Teacher，Bird，BirdMan来检测父子关系\n",
    "\n",
    "print(issubclass(BirdMan, Bird))\n",
    "print(issubclass(BirdMan, Teacher))\n",
    "print(issubclass(BirdMan, Person))"
   ]
  },
  {
   "cell_type": "markdown",
   "metadata": {},
   "source": [
    "### 构造函数的继承\n",
    "- 构造函数默认继承，若子类没有构造函数，则自动调用父类构造函数\n",
    "- 一旦子类定义了构造函数，则不再自动调用父类构造函数"
   ]
  },
  {
   "cell_type": "code",
   "execution_count": 15,
   "metadata": {},
   "outputs": [
    {
     "name": "stdout",
     "output_type": "stream",
     "text": [
      "Human=(冰冰,16)\n"
     ]
    },
    {
     "ename": "TypeError",
     "evalue": "__init__() missing 2 required positional arguments: 'name' and 'age'",
     "output_type": "error",
     "traceback": [
      "\u001b[1;31m---------------------------------------------------------------------------\u001b[0m",
      "\u001b[1;31mTypeError\u001b[0m                                 Traceback (most recent call last)",
      "\u001b[1;32m<ipython-input-15-108923e12c12>\u001b[0m in \u001b[0;36m<module>\u001b[1;34m\u001b[0m\n\u001b[0;32m     12\u001b[0m \u001b[1;33m\u001b[0m\u001b[0m\n\u001b[0;32m     13\u001b[0m \u001b[1;31m# 一下案例报错\u001b[0m\u001b[1;33m\u001b[0m\u001b[1;33m\u001b[0m\u001b[1;33m\u001b[0m\u001b[0m\n\u001b[1;32m---> 14\u001b[1;33m \u001b[0mt\u001b[0m \u001b[1;33m=\u001b[0m \u001b[0mTeacher\u001b[0m\u001b[1;33m(\u001b[0m\u001b[1;33m)\u001b[0m \u001b[1;31m# 此处无参数，报错\u001b[0m\u001b[1;33m\u001b[0m\u001b[1;33m\u001b[0m\u001b[0m\n\u001b[0m",
      "\u001b[1;31mTypeError\u001b[0m: __init__() missing 2 required positional arguments: 'name' and 'age'"
     ]
    }
   ],
   "source": [
    "# 构造函数默认继承\n",
    "\n",
    "class Human():\n",
    "    def __init__(self,name,age): # 此处有两个参数（self不计入）\n",
    "        print(\"Human=({},{})\".format(name,age))\n",
    "\n",
    "class Teacher(Human):\n",
    "    pass\n",
    "\n",
    "# 此案例为正确案例\n",
    "t = Teacher(\"冰冰\",16) # 此处也应有两个参数\n",
    "\n",
    "# 一下案例报错\n",
    "t = Teacher() # 此处无参数，报错\n"
   ]
  },
  {
   "cell_type": "code",
   "execution_count": null,
   "metadata": {},
   "outputs": [],
   "source": []
  }
 ],
 "metadata": {
  "kernelspec": {
   "display_name": "Python 3",
   "language": "python",
   "name": "python3"
  },
  "language_info": {
   "codemirror_mode": {
    "name": "ipython",
    "version": 3
   },
   "file_extension": ".py",
   "mimetype": "text/x-python",
   "name": "python",
   "nbconvert_exporter": "python",
   "pygments_lexer": "ipython3",
   "version": "3.7.9"
  }
 },
 "nbformat": 4,
 "nbformat_minor": 2
}
