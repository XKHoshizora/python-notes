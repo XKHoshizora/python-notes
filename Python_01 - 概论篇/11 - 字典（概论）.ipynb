{
 "cells": [
  {
   "cell_type": "markdown",
   "metadata": {},
   "source": [
    "# 字典（$Dict$）\n",
    "- 字典是一种无序的组合数据，数据以键值对形式表示\n",
    "- 创建方法：\n",
    "    1. 直接用“{ }”创建\n",
    "    2. 使用 dict( ) 函数创建"
   ]
  },
  {
   "cell_type": "code",
   "execution_count": 10,
   "metadata": {},
   "outputs": [
    {
     "name": "stdout",
     "output_type": "stream",
     "text": [
      "{}\n",
      "{}\n",
      "{'one': 1, 'two': 2, 'three': 3}\n",
      "{'one': 1, 'two': 2, 'three': 3}\n",
      "{'one': 1, 'two': 2, 'three': 3}\n",
      "{'one': 1, 'two': 2, 'three': 3}\n"
     ]
    }
   ],
   "source": [
    "# 字典的创建\n",
    "\n",
    "# 创建空字典1\n",
    "a = {}\n",
    "print(a)\n",
    "\n",
    "# 创建空字典2\n",
    "b = dict()\n",
    "print(b)\n",
    "\n",
    "# 创建非空字典1，建议使用该种\n",
    "c = {\"one\":1, \"two\":2, \"three\":3}\n",
    "print(c)\n",
    "\n",
    "# 创建非空字典2\n",
    "d = dict({\"one\":1, \"two\":2, \"three\":3})\n",
    "print(d)\n",
    "\n",
    "# 创建非空字典3\n",
    "e = dict(one=1, two=2, three=3)\n",
    "print(e)\n",
    "\n",
    "# 创建非空字典4\n",
    "f = dict([(\"one\",1), (\"two\",2), (\"three\",3)])\n",
    "print(f)"
   ]
  },
  {
   "cell_type": "markdown",
   "metadata": {},
   "source": [
    "## 字典特征\n",
    "- 字典是无序序列类型，所以没有分片和索引\n",
    "- 字典中每个数据都由键值对（KV对）组成\n",
    "    - key：必须是可哈希的值，如：int，string，float，tuple。但是list，set，dict不行\n",
    "    - value：可为任何值"
   ]
  },
  {
   "cell_type": "markdown",
   "metadata": {},
   "source": [
    "## 字典常用操作\n",
    "- 访问数据\n",
    "- 赋值\n",
    "- 删除\n",
    "- 成员检测，检测的是“键”，而非“值”\n",
    "- 遍历\n",
    "    1. for循环：按key值使用for循环\n",
    "    2. 使用 keys( ) 函数遍历\n",
    "    3. 使用 values( ) 函数遍历\n",
    "    4. 使用 items( ) 函数遍历"
   ]
  },
  {
   "cell_type": "code",
   "execution_count": 34,
   "metadata": {},
   "outputs": [
    {
     "name": "stdout",
     "output_type": "stream",
     "text": [
      "2\n",
      "eins\n",
      "{'two': 2, 'three': 3}\n"
     ]
    }
   ],
   "source": [
    "# 访问数据\n",
    "a = {\"one\":1, \"two\":2, \"three\":3}\n",
    "# 中括号内是键值\n",
    "print(a[\"two\"])\n",
    "\n",
    "# 赋值操作\n",
    "a[\"one\"] = \"eins\"\n",
    "print(a[\"one\"])\n",
    "\n",
    "# 删除操作\n",
    "del a[\"one\"]\n",
    "print(a)"
   ]
  },
  {
   "cell_type": "code",
   "execution_count": 35,
   "metadata": {},
   "outputs": [
    {
     "name": "stdout",
     "output_type": "stream",
     "text": [
      "key\n"
     ]
    }
   ],
   "source": [
    "# 成员检测，in 或 not in\n",
    "# 成员检测检测的是“键”，而非“值”\n",
    "a = {\"one\":1, \"two\":2, \"three\":3}\n",
    "\n",
    "if 2 in a:\n",
    "    print(\"value\")\n",
    "\n",
    "if \"two\" in a:\n",
    "    print(\"key\")\n",
    "\n",
    "if (\"two\",2) in a:\n",
    "    print(\"KV\")"
   ]
  },
  {
   "cell_type": "code",
   "execution_count": 36,
   "metadata": {},
   "outputs": [
    {
     "name": "stdout",
     "output_type": "stream",
     "text": [
      "one 1\n",
      "two 2\n",
      "three 3\n",
      "one 1\n",
      "two 2\n",
      "three 3\n",
      "1\n",
      "2\n",
      "3\n",
      "one = 1\n",
      "two = 2\n",
      "three = 3\n"
     ]
    }
   ],
   "source": [
    "# 遍历\n",
    "# 使用for循环遍历\n",
    "a = {\"one\":1, \"two\":2, \"three\":3}\n",
    "for k in a:\n",
    "    print(k,a[k])\n",
    "\n",
    "# 使用 keys( ) 函数遍历\n",
    "for k in a.keys():\n",
    "    print(k,a[k])\n",
    "\n",
    "# 使用 values( ) 函数遍历\n",
    "for v in a.values():\n",
    "    print(v)\n",
    "\n",
    "# 以下为特殊用法\n",
    "for k,v in a.items():\n",
    "    print(k,\"=\",v)"
   ]
  },
  {
   "cell_type": "markdown",
   "metadata": {},
   "source": [
    "## 字典生成式（字典解析式）\n",
    "- 语法：{expression for i in iterable}\n",
    "- expression 应为 key:value 形式"
   ]
  },
  {
   "cell_type": "code",
   "execution_count": 44,
   "metadata": {},
   "outputs": [
    {
     "name": "stdout",
     "output_type": "stream",
     "text": [
      "{'one': 1, 'two': 2, 'three': 3}\n",
      "{'one': 1, 'two': 2, 'three': 3}\n"
     ]
    }
   ],
   "source": [
    "# 示例\n",
    "a = {\"one\":1, \"two\":2, \"three\":3}\n",
    "\n",
    "# 该写法主要是为了加限制条件进行过滤\n",
    "b = {k:v for k,v in a.items()}\n",
    "\n",
    "print(a)\n",
    "print(b)"
   ]
  },
  {
   "cell_type": "code",
   "execution_count": 45,
   "metadata": {},
   "outputs": [
    {
     "name": "stdout",
     "output_type": "stream",
     "text": [
      "{'two': 2}\n"
     ]
    }
   ],
   "source": [
    "# 加限制条件的字典生成式\n",
    "c = {k:v for k,v in a.items() if v % 2 == 0}\n",
    "\n",
    "print(c)"
   ]
  },
  {
   "cell_type": "code",
   "execution_count": 1,
   "metadata": {},
   "outputs": [
    {
     "name": "stdout",
     "output_type": "stream",
     "text": [
      "{'张三': 70, '王五': 67, '赵六': 80, '沈七': 99}\n"
     ]
    }
   ],
   "source": [
    "# 利用字典解析式筛选成绩\n",
    "x = {'张三':70, '李四':49, '王五':67, '赵六':80, '沈七':99}\n",
    "\n",
    "y = {k:v for k, v in x.items() if int(v) >= 60}\n",
    "print(y)"
   ]
  },
  {
   "cell_type": "markdown",
   "metadata": {},
   "source": [
    "## 字典常用函数\n",
    "- 通用函数：len，max，min，dict\n",
    "- str( )：返回字典的字符串格式\n",
    "- clear( )：清空\n",
    "- items( )：返回字典的键值对组成的元组格式，可迭代\n",
    "- keys( )：返回字典的键组成的一个结构，可迭代\n",
    "- values( )：返回一个可迭代的结构\n",
    "- get( )：根据指定键返回对应值，可以设置默认值（即使没有指定的键也不会报错），默认值可以设置\n",
    "    - 格式：get(k,默认值)：此处的默认值为找不到指定“键”时所返回的默认值\n",
    "- fromkeys( )：使用指定的序列作为键，使用一个值作为字典所有的键的值\n",
    "    - 格式：dict.fromkeys(列表或字典, 值)"
   ]
  },
  {
   "cell_type": "code",
   "execution_count": 46,
   "metadata": {},
   "outputs": [
    {
     "name": "stdout",
     "output_type": "stream",
     "text": [
      "dict_items([('one', 1), ('two', 2), ('three', 3)])\n"
     ]
    }
   ],
   "source": [
    "# items( ) 示例\n",
    "a = {\"one\":1, \"two\":2, \"three\":3}\n",
    "\n",
    "i = a.items()\n",
    "\n",
    "print(i)"
   ]
  },
  {
   "cell_type": "code",
   "execution_count": 47,
   "metadata": {},
   "outputs": [
    {
     "name": "stdout",
     "output_type": "stream",
     "text": [
      "dict_keys(['one', 'two', 'three'])\n"
     ]
    }
   ],
   "source": [
    "# keys( ) 示例\n",
    "a = {\"one\":1, \"two\":2, \"three\":3}\n",
    "\n",
    "i = a.keys()\n",
    "\n",
    "print(i)"
   ]
  },
  {
   "cell_type": "code",
   "execution_count": 48,
   "metadata": {},
   "outputs": [
    {
     "name": "stdout",
     "output_type": "stream",
     "text": [
      "dict_values([1, 2, 3])\n"
     ]
    }
   ],
   "source": [
    "# values( ) 示例\n",
    "a = {\"one\":1, \"two\":2, \"three\":3}\n",
    "\n",
    "i = a.values()\n",
    "\n",
    "print(i)"
   ]
  },
  {
   "cell_type": "code",
   "execution_count": 50,
   "metadata": {},
   "outputs": [
    {
     "name": "stdout",
     "output_type": "stream",
     "text": [
      "None\n",
      "22222\n"
     ]
    }
   ],
   "source": [
    "# get( ) 示例\n",
    "a = {\"one\":1, \"two\":2, \"three\":3}\n",
    "\n",
    "i = a.get(\"nsadk\")\n",
    "\n",
    "j = a.get(\"nsadk\",22222)\n",
    "print(i)\n",
    "print(j)"
   ]
  },
  {
   "cell_type": "code",
   "execution_count": 52,
   "metadata": {},
   "outputs": [
    {
     "name": "stdout",
     "output_type": "stream",
     "text": [
      "{'eins': 'nmsl', 'zwei': 'nmsl', 'dree': 'nmsl'}\n"
     ]
    }
   ],
   "source": [
    "# fromkeys( ) 示例\n",
    "l = [\"eins\", \"zwei\", \"dree\"]\n",
    "\n",
    "b = dict.fromkeys(l, \"nmsl\")\n",
    "\n",
    "print(b)"
   ]
  },
  {
   "cell_type": "code",
   "execution_count": null,
   "metadata": {},
   "outputs": [],
   "source": []
  }
 ],
 "metadata": {
  "kernelspec": {
   "display_name": "Python 3",
   "language": "python",
   "name": "python3"
  },
  "language_info": {
   "codemirror_mode": {
    "name": "ipython",
    "version": 3
   },
   "file_extension": ".py",
   "mimetype": "text/x-python",
   "name": "python",
   "nbconvert_exporter": "python",
   "pygments_lexer": "ipython3",
   "version": "3.7.9"
  }
 },
 "nbformat": 4,
 "nbformat_minor": 2
}
