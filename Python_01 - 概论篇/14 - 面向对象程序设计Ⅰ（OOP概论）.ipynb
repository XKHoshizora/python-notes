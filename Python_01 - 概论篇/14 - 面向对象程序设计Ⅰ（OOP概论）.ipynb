{
 "cells": [
  {
   "cell_type": "markdown",
   "metadata": {},
   "source": [
    "# 面向对象程序设计（Object Oriented Programming）\n",
    "\n",
    "## 思想\n",
    "- 以模块化思想解决工程问题\n",
    "- 区分：面向过程 和 面向对象\n",
    "- 由面向过程转向面向对象的过程，即模块化\n",
    "\n",
    "## 常用名词\n",
    "- OO（Object Oriented）：面向对象\n",
    "- OOA（Object-Oriented Analysis）：面向对象分析\n",
    "- OOD（Object-Oriented Design）：面向对象设计\n",
    "- OOP：面向对象程序设计\n",
    "- OOI（Object-Oriented Implementation）：面向对象实现\n",
    "- 步骤：OOA → OOD → OOI\n",
    "\n",
    "## 类 和 对象\n",
    "- 区分：\n",
    "    - 类：抽象，描述的是一个集合，侧重于共性\n",
    "    - 对象：具象，描述的是个体\n",
    "    - 关系：类相当于对象本身所拥有的属性\n",
    "- 类的内容（最多只有以下两个内容）：\n",
    "    - 动作，即函数\n",
    "    - 属性，即变量\n",
    "\n",
    "## 类的定义\n",
    "- 使用class关键字定义\n",
    "- 类的命名：\n",
    "    - 遵循“大驼峰”命名法\n",
    "    - 第一个字母大写\n",
    "- 格式：class PythonStudent():\n",
    "- 定义类中的函数，一般需要有self占位,其余跟普通函数基本相同\n",
    "\n",
    "## 定义对象\n",
    "- 格式：变量 = 类"
   ]
  },
  {
   "cell_type": "code",
   "execution_count": 40,
   "metadata": {},
   "outputs": [],
   "source": [
    "# 定义学生类，和几个学生\n",
    "\n",
    "class Student():\n",
    "    # 此处定义一个空类\n",
    "    # pass是关键字，表示占位，无意义，空类没有pass则报错\n",
    "    pass"
   ]
  },
  {
   "cell_type": "code",
   "execution_count": 41,
   "metadata": {},
   "outputs": [],
   "source": [
    "# 定义一个对象\n",
    "hoshizora = Student()"
   ]
  },
  {
   "cell_type": "markdown",
   "metadata": {},
   "source": [
    "## 类的属性和方法\n",
    "- 在类中定义的变量，通常被称为类属性（特征）。\n",
    "- 在类里面定义的函数，通常被称为方法（功能）。\n",
    "- 类里面的函数又分为普通方法、类方法和静态方法。\n",
    "    - 普通方法：又称实例方法，隐含的参数为类实例 self\n",
    "    - 类方法：类方法隐含的参数为类本身 cls。需要用到“@classmethod”装饰器来告诉编译器，这是一个类方法。\n",
    "    - 静态方法：静态方法无隐含参数，主要为了类实例也可以直接调用静态方法。需要用到“@staticmethod”装饰器来告诉编译器，这是一个静态方法。\n",
    "- 逻辑上，类方法被类调用，实例方法被实例调用，静态方法两者都能调用。\n",
    "- 主要区别在于参数传递上的区别，实例方法悄悄传递的是 self 引用作为参数，而类方法悄悄传递的是 cls 引用作为参数。"
   ]
  },
  {
   "cell_type": "code",
   "execution_count": 7,
   "metadata": {},
   "outputs": [],
   "source": [
    "# 类的例子\n",
    "# 注意类的定义\n",
    "class PythonStudent():\n",
    "    name = \"Hoshi\"\n",
    "    age = 23\n",
    "    course = \"Python\"\n",
    "    '''\n",
    "    定义类中的函数，一般需要有self占位\n",
    "    其余跟普通函数基本相同\n",
    "    '''\n",
    "    def iNeedMoney(self):\n",
    "        print(\"Give me your money\")\n",
    "        # 如果没有return，则会如何\n",
    "        return None"
   ]
  },
  {
   "cell_type": "code",
   "execution_count": 9,
   "metadata": {},
   "outputs": [
    {
     "name": "stdout",
     "output_type": "stream",
     "text": [
      "Hoshi\n",
      "23\n",
      "Python\n",
      "<bound method PythonStudent.iNeedMoney of <__main__.PythonStudent object at 0x00000189EC07F648>>\n",
      "Give me your money\n",
      "None\n"
     ]
    }
   ],
   "source": [
    "# 实例化\n",
    "hoshizora = PythonStudent()\n",
    "\n",
    "print(hoshizora.name)\n",
    "print(hoshizora.age)\n",
    "print(hoshizora.course)\n",
    "print(hoshizora.iNeedMoney)\n",
    "print(hoshizora.iNeedMoney())"
   ]
  },
  {
   "cell_type": "markdown",
   "metadata": {},
   "source": [
    "## self\n",
    "- self不是关键字，只是一个形式参数\n",
    "- self可以用其他名称代替\n",
    "- 作用是指代本身"
   ]
  },
  {
   "cell_type": "code",
   "execution_count": 44,
   "metadata": {},
   "outputs": [
    {
     "name": "stdout",
     "output_type": "stream",
     "text": [
      "Give me your money\n"
     ]
    }
   ],
   "source": [
    "# self举例\n",
    "# 实例调用函数\n",
    "zora = PythonStudent()\n",
    "\n",
    "# 让zora说点啥\n",
    "# 调用的时候并没有用参数\n",
    "zora.iNeedMoney()\n",
    "# 因为Python中默认将实例（此处为“zora”）作为第一个参数传入"
   ]
  },
  {
   "cell_type": "markdown",
   "metadata": {},
   "source": [
    "## 类的变量作用域的问题\n",
    "- 类变量：属于类的变量\n",
    "- 实例变量：属于实例的变量"
   ]
  },
  {
   "cell_type": "code",
   "execution_count": 54,
   "metadata": {},
   "outputs": [
    {
     "name": "stdout",
     "output_type": "stream",
     "text": [
      "Give me Hoshi's money\n"
     ]
    }
   ],
   "source": [
    "class Student():\n",
    "    # name，age，course是类的变量\n",
    "    # 注意类的变量的定义位置和方法\n",
    "    # 不需要前缀\n",
    "    \n",
    "    #此处是属性\n",
    "    name = \"Hoshi\"\n",
    "    age = 23\n",
    "    course = \"Python\"\n",
    "    \n",
    "    #此处是动作\n",
    "    def iNeedMoney(self):\n",
    "        print(\"Give me {}\\'s money\".format(self.name))\n",
    "        return None\n",
    "\n",
    "zora = Student()\n",
    "zora.iNeedMoney()"
   ]
  },
  {
   "cell_type": "code",
   "execution_count": 55,
   "metadata": {},
   "outputs": [
    {
     "name": "stdout",
     "output_type": "stream",
     "text": [
      "My name is zora, I'm 16 years old, my course is C++.\n",
      "--------------------\n",
      "My name is Hoshi, I'm 23 years old, my course is Python.\n",
      "--------------------\n",
      "My name is zora, I'm 16 years old, my course is C++.\n"
     ]
    }
   ],
   "source": [
    "class Student2():\n",
    "    name = \"Hoshi\"\n",
    "    age = 23\n",
    "    course = \"Python\"\n",
    "\n",
    "    def me(self, n, a, c):\n",
    "        self.name = n\n",
    "        self.age = a\n",
    "        self.course = c\n",
    "        \n",
    "        print(\"My name is {}, I\\'m {} years old, my course is {}.\".format(self.name, self.age, self.course))\n",
    "        return None\n",
    "\n",
    "# 以下案例说明，实例变量可以借用类变量\n",
    "zora = Student2()\n",
    "# 注意观察以下语句打开和关闭后的区别\n",
    "zora.me(\"zora\",16,\"C++\")\n",
    "print(\"-\"*20)\n",
    "\n",
    "print(\"My name is {}, I\\'m {} years old, my course is {}.\".format(Student2.name, Student2.age, Student2.course))\n",
    "print(\"-\"*20)\n",
    "\n",
    "print(\"My name is {}, I\\'m {} years old, my course is {}.\".format(zora.name, zora.age, zora.course))\n",
    "#如果访问实例的属性没有定义，则自动访问类的属性\n",
    "#如果类的属性也没有定义，则报错"
   ]
  },
  {
   "cell_type": "markdown",
   "metadata": {},
   "source": [
    "## 访问类的属性\n",
    "- 如果在类里面强制访问类的属性，则需要使用“\\__class__”，注意前后两个下划线\n",
    "- 类方法：\n",
    "    - 定义类的方法的时候，没有self参数\n",
    "    - 类的方法中只允许使用类的内容\n",
    "    - 两种方法：\n",
    "        - 类的名字\n",
    "        - \\_\\_class__"
   ]
  },
  {
   "cell_type": "code",
   "execution_count": 2,
   "metadata": {},
   "outputs": [],
   "source": [
    "class Student2():\n",
    "    name = \"Hoshi\"\n",
    "    age = 23\n",
    "    course = \"Python\"\n",
    "\n",
    "    def me(self):        \n",
    "        print(\"My name is {}, I\\'m {} years old, my course is {}.\".format(self.name, self.age, self.course))\n",
    "        return None\n",
    "    \n",
    "    # 访问类的内容的两种方法\n",
    "    def sos1():\n",
    "        # 类方法中不允许访问实例的任何内容\n",
    "        # 因为不含参数self\n",
    "        print(\"Help {}!\".format(Student2.name))\n",
    "        return None\n",
    "    \n",
    "    def sos2():\n",
    "        # 或用__class__代替\n",
    "        print(\"Help {}!\".format(__class__.name))\n",
    "        return None"
   ]
  },
  {
   "cell_type": "code",
   "execution_count": 66,
   "metadata": {},
   "outputs": [
    {
     "name": "stdout",
     "output_type": "stream",
     "text": [
      "My name is Hoshi, I'm 23 years old, my course is Python.\n",
      "Help Hoshi!\n",
      "Help Hoshi!\n"
     ]
    }
   ],
   "source": [
    "# 调用类方法的例子\n",
    "s = Student2()\n",
    "s.me()\n",
    "# 因原函数不含参数self，所以要用Student2调用\n",
    "Student2.sos1()\n",
    "\n",
    "Student2.sos2()"
   ]
  },
  {
   "cell_type": "markdown",
   "metadata": {},
   "source": [
    "## 构造函数\n",
    "- 类在实例化的时候，执行一些基础性的初始化工作\n",
    "- 使用特殊的名称和写法\n",
    "- 在实例化的时候被自动调用执行\n",
    "- 是在实例化的时候第一个被默认自动执行的函数\n",
    "- 要求第一个参数必须有，一般推荐叫做 self\n",
    "- 构造函数的名称有特殊格式\n",
    "- 一般不手动调用，实例化的时候自动调用，参数需要写入类名称后的小括号中"
   ]
  },
  {
   "cell_type": "code",
   "execution_count": 4,
   "metadata": {},
   "outputs": [
    {
     "name": "stdout",
     "output_type": "stream",
     "text": [
      "我是构造函数\n",
      "----------\n",
      "NoName\n",
      "0\n",
      "What\n"
     ]
    }
   ],
   "source": [
    "# 构造函数的调用1\n",
    "class Student():\n",
    "    name = \"NoName\"\n",
    "    age = 0\n",
    "    course = \"What\"\n",
    "    \n",
    "    # 构造函数名称固定，写法相对固定\n",
    "    def __init__(self):\n",
    "        print(\"我是构造函数\")\n",
    "        return None\n",
    "\n",
    "hoshi = Student() # 在此处被调用\n",
    "print(\"-\"*10)\n",
    "\n",
    "print(hoshi.name)\n",
    "print(hoshi.age)\n",
    "print(hoshi.course)"
   ]
  },
  {
   "cell_type": "code",
   "execution_count": 7,
   "metadata": {},
   "outputs": [
    {
     "name": "stdout",
     "output_type": "stream",
     "text": [
      "冰冰 16\n"
     ]
    }
   ],
   "source": [
    "# 构造函数的调用2\n",
    "class Person():\n",
    "    def __init__(self,name,age): # 此处有两个参数（self不计入）\n",
    "        print(name, age)\n",
    "\n",
    "p = Person(\"冰冰\",16) # 此处也应有两个参数"
   ]
  },
  {
   "cell_type": "code",
   "execution_count": null,
   "metadata": {},
   "outputs": [],
   "source": []
  }
 ],
 "metadata": {
  "kernelspec": {
   "display_name": "Python 3",
   "language": "python",
   "name": "python3"
  },
  "language_info": {
   "codemirror_mode": {
    "name": "ipython",
    "version": 3
   },
   "file_extension": ".py",
   "mimetype": "text/x-python",
   "name": "python",
   "nbconvert_exporter": "python",
   "pygments_lexer": "ipython3",
   "version": "3.7.9"
  }
 },
 "nbformat": 4,
 "nbformat_minor": 2
}
