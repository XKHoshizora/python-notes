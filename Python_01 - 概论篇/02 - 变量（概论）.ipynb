{
 "cells": [
  {
   "cell_type": "markdown",
   "metadata": {},
   "source": [
    "# 变量\n",
    "- 程序 = 数据结构+算法\n",
    "- 变量就是可以重复使用的一个量，或者叫一个代号\n",
    "- 变量命名的规则\n",
    "    - 变量命名可以包含数字，大小写字母，下划线或者更多，但是我们不推荐除了前三种内容之外的符号\n",
    "    - 数字不可以打头\n",
    "        - 4man, 5for 是不可以的\n",
    "        - man4, for5是可以的\n",
    "    - 一般在Python中，以下划线开头的内容具有特殊含义，不建议使用\n",
    "        - 比如 _age, _name，理论可以，但强烈不推荐，包括但不限于一个下划线开头和两个连续下划线开头\n",
    "    - 大小写不一样，俗称大小写敏感\n",
    "        - ForMan 跟 forMan不是一个变量名称\n",
    "    - 推荐：\n",
    "        - 使用具有固定含义的英文单词或者缩写， srv=server skt=socket,一般以posix命名规则为主\n",
    "        - 驼峰命名法\n",
    "            - 名称以单词自动连接，且每个单词首字母大写\n",
    "                - 大驼峰，每个单词第一个字母均大写\n",
    "                    - 在Python中给**类**命名使用此法\n",
    "                    - MyFirstLove, IntOne\n",
    "                - 小驼峰，类似大驼峰，但第一个字母小写\n",
    "                    - 在Python中一般给**普通变量**或者**函数**命名\n",
    "                    - myFirstLove, intOne\n",
    "                - posix写法\n",
    "                    - 多个单词用下划线链接\n",
    "                    - 单词全部小写\n",
    "                    - my_first_love, int_one\n",
    "    - 保留字和关键字\n",
    "        - 变量命名必须避开，不能跟关键字和保留字重复\n",
    "        - class， def， break，for\n",
    "- 变量一定要初始化"
   ]
  },
  {
   "cell_type": "code",
   "execution_count": 1,
   "metadata": {},
   "outputs": [
    {
     "name": "stdout",
     "output_type": "stream",
     "text": [
      "['False', 'None', 'True', 'and', 'as', 'assert', 'async', 'await', 'break', 'class', 'continue', 'def', 'del', 'elif', 'else', 'except', 'finally', 'for', 'from', 'global', 'if', 'import', 'in', 'is', 'lambda', 'nonlocal', 'not', 'or', 'pass', 'raise', 'return', 'try', 'while', 'with', 'yield']\n"
     ]
    }
   ],
   "source": [
    "# 查看关键字的方法\n",
    "import keyword #引入关键字模块\n",
    "# 打印出系统全部关键字\n",
    "print(keyword.kwlist)"
   ]
  },
  {
   "cell_type": "markdown",
   "metadata": {},
   "source": [
    "## 变量声明\n",
    "- 等式\n",
    "    - var_name = var_value\n",
    "- 连等式\n",
    "    - var1 = var2 = var3 = var_value\n",
    "\n",
    "- 等式两边一一对应\n",
    "    - var1, var2, var3 = v1, v2, v3"
   ]
  },
  {
   "cell_type": "code",
   "execution_count": 3,
   "metadata": {},
   "outputs": [
    {
     "name": "stdout",
     "output_type": "stream",
     "text": [
      "18\n",
      "18\n",
      "18\n",
      "18\n",
      "18\n",
      "12\n",
      "21\n",
      "45\n"
     ]
    }
   ],
   "source": [
    "# 定义变量age，把18放入变量age中\n",
    "age = 18\n",
    "print(age)\n",
    "print(18)\n",
    "\n",
    "# 给age1, age2, age3 放入同一个内容或值\n",
    "age1 = age2 = age3 = 18\n",
    "print(age1)\n",
    "print(age2)\n",
    "print(age3)\n",
    "\n",
    "# 一行内给多个变量赋值，一一对应\n",
    "age4, age5, age6 = 12, 21, 45\n",
    "print(age4)\n",
    "print(age5)\n",
    "print(age6)"
   ]
  },
  {
   "cell_type": "markdown",
   "metadata": {},
   "source": [
    "## 变量类型\n",
    "- 严格意义上讲，Python只有一个类型\n",
    "- 标准数据一共六种\n",
    "    - 数字类型 Number\n",
    "    - 字符串类型 str\n",
    "    - 列表 list\n",
    "    - 元组 tuple\n",
    "    - 字典 dict\n",
    "    - 集合 set"
   ]
  },
  {
   "cell_type": "markdown",
   "metadata": {},
   "source": [
    "## 数字类型（Number）\n",
    "- Python中数字类型没有大小限制\n",
    "## 常见数字分类\n",
    "- 整数\n",
    "    - 没有小数部分，表示个数的数字\n",
    "    - 正整数（自然数），0，负整数\n",
    "    - 二进制（计算机常用）\n",
    "        - 是唯一一种计算机能直接理解的数字\n",
    "        - 只有0，1\n",
    "        - 以0b开头的0，1串\n",
    "            - 例如\n",
    "              - 0b110\n",
    "              - 0b11110\n",
    "    - 八进制（不常用）\n",
    "        - 以0o开头，由包含0到7之间的数字组成的数\n",
    "            - 例如\n",
    "                - 0o71\n",
    "    - 十进制\n",
    "        - 跟日常写法相同\n",
    "    - 十六进制（应用广泛）\n",
    "        - 优点：节省空间，每一位十六进制数表示四位二进制数\n",
    "        - 以0x开头，由0到9之间的数字以及a到f之间的字母组合而成\n",
    "            - 例如\n",
    "                - 0x123adf        "
   ]
  },
  {
   "cell_type": "code",
   "execution_count": 5,
   "metadata": {},
   "outputs": [
    {
     "name": "stdout",
     "output_type": "stream",
     "text": [
      "6\n",
      "30\n"
     ]
    }
   ],
   "source": [
    "# 二进制案例\n",
    "a1 = 0b110\n",
    "print(a1)\n",
    "\n",
    "a2 = 0b11110\n",
    "print(a2)"
   ]
  },
  {
   "cell_type": "code",
   "execution_count": 7,
   "metadata": {},
   "outputs": [
    {
     "name": "stdout",
     "output_type": "stream",
     "text": [
      "57\n"
     ]
    }
   ],
   "source": [
    "# 八进制案例\n",
    "a3 = 0o71\n",
    "print(a3)"
   ]
  },
  {
   "cell_type": "code",
   "execution_count": 11,
   "metadata": {},
   "outputs": [
    {
     "name": "stdout",
     "output_type": "stream",
     "text": [
      "1194719\n",
      "65535\n"
     ]
    }
   ],
   "source": [
    "# 十六进制案例\n",
    "a4 = 0x123adf\n",
    "print(a4)\n",
    "\n",
    "a5 = 0xffff\n",
    "print(a5)"
   ]
  },
  {
   "cell_type": "markdown",
   "metadata": {},
   "source": [
    "## 常用进制转换函数\n",
    "- 十进制转二进制：bin()\n",
    "    - 二进制转十进制：int('0b...',2)\n",
    "- 十进制转十六进制：hex()\n",
    "    - 十六进制转十进制：int('0b...',16)\n",
    "- 十进制转八进制：oct()\n",
    "    - 八进制转十进制：int('0b...',8)"
   ]
  },
  {
   "cell_type": "code",
   "execution_count": 1,
   "metadata": {},
   "outputs": [
    {
     "name": "stdout",
     "output_type": "stream",
     "text": [
      "0b1000\n",
      "8\n"
     ]
    }
   ],
   "source": [
    "# 十进制转二进制\n",
    "print(bin(8))\n",
    "\n",
    "# 二进制转十进制\n",
    "print(int('0b1000', 2))"
   ]
  },
  {
   "cell_type": "code",
   "execution_count": 4,
   "metadata": {},
   "outputs": [
    {
     "name": "stdout",
     "output_type": "stream",
     "text": [
      "0x1b\n",
      "27\n"
     ]
    }
   ],
   "source": [
    "# 十进制转十六进制\n",
    "print(hex(27))\n",
    "\n",
    "# 十六进制转十进制\n",
    "print(int('0x1b', 16))"
   ]
  },
  {
   "cell_type": "code",
   "execution_count": 10,
   "metadata": {},
   "outputs": [
    {
     "name": "stdout",
     "output_type": "stream",
     "text": [
      "0o61\n",
      "49\n"
     ]
    }
   ],
   "source": [
    "# 十进制转八进制\n",
    "print(oct(49))\n",
    "\n",
    "# 八进制转十进制\n",
    "print(int('0o61', 8))"
   ]
  },
  {
   "cell_type": "markdown",
   "metadata": {},
   "source": [
    "## 浮点数（即通俗意义上的小数）\n",
    "- 计算机里边表示浮点数可以有条件省略\n",
    "    - 常见的案例格式\n",
    "        - 3.1415\n",
    "        - 3.\n",
    "        - 0.5\n",
    "        - .5\n",
    "- 科学计数法\n",
    "    - 定义跟数学定义相同\n",
    "    - 写法是用e/E后面跟整数表示10的指数（可以为负）\n",
    "        - 例如\n",
    "            - 176.23 == 1.7634e2\n",
    "            - 0.876 == 8.76e-1"
   ]
  },
  {
   "cell_type": "code",
   "execution_count": 13,
   "metadata": {},
   "outputs": [
    {
     "name": "stdout",
     "output_type": "stream",
     "text": [
      "0.2\n",
      "175\n",
      "175.0\n",
      "175.0\n"
     ]
    }
   ],
   "source": [
    "# 省略\n",
    "a = .2\n",
    "print(a)\n",
    "\n",
    "# 科学计数法\n",
    "high = 175\n",
    "print(high)\n",
    "\n",
    "high1 = 1.75e2\n",
    "high2 = 1.75E2\n",
    "print(high1)\n",
    "print(high2)"
   ]
  },
  {
   "cell_type": "markdown",
   "metadata": {},
   "source": [
    "## 复数（Complex）\n",
    "- 定义同数学定义一致，一个由实部和虚部构成的数字\n",
    "- 虚部用j/J表示\n",
    "    - 例如\n",
    "        - 5+3j\n",
    "        - 3j\n",
    "        - 3J\n",
    "        - （3j）（加括号可避免出错）"
   ]
  },
  {
   "cell_type": "code",
   "execution_count": 16,
   "metadata": {},
   "outputs": [
    {
     "name": "stdout",
     "output_type": "stream",
     "text": [
      "(5+3j)\n",
      "3j\n"
     ]
    }
   ],
   "source": [
    "# 复数\n",
    "a = 5+3j\n",
    "b = 3j\n",
    "print(a)\n",
    "print(b)"
   ]
  },
  {
   "cell_type": "markdown",
   "metadata": {},
   "source": [
    "## 布尔值\n",
    "- 用来表示真假的值\n",
    "- 只有两个值：True/False （首字母必大写）\n",
    "- 在Python中，布尔值可以当数字使用，可与数字直接操作\n",
    "    - 布尔值如果当做数字使用，则 True = 1, False = 0\n",
    "    - 如果用数字表示布尔值，则 0 = False, 非0 = True"
   ]
  },
  {
   "cell_type": "code",
   "execution_count": 20,
   "metadata": {},
   "outputs": [
    {
     "name": "stdout",
     "output_type": "stream",
     "text": [
      "19\n",
      "为0，则False\n",
      "非0，则True\n"
     ]
    }
   ],
   "source": [
    "# 布尔值当做数字使用\n",
    "\n",
    "#运算\n",
    "age1 = 18 + True\n",
    "print(age1)\n",
    "\n",
    "age2 = 18 + False\n",
    "\n",
    "# 判断语句\n",
    "a = 0\n",
    "\n",
    "if a:\n",
    "    print(\"非0，则True/执行\")\n",
    "else:\n",
    "    print(\"为0，则False\")\n",
    "\n",
    "b = -1\n",
    "\n",
    "if b:\n",
    "    print(\"非0，则True/执行\")\n",
    "else:\n",
    "    print(\"为0，则False\")    "
   ]
  },
  {
   "cell_type": "markdown",
   "metadata": {},
   "source": [
    "## 字符串\n",
    "- 表示文字信息\n",
    "- 表示形式为引号引起来的一段内容\n",
    "- 引号包括\n",
    "    - 单引号 ' '\n",
    "    - 双引号 \" \"\n",
    "    - 三引号 ''' ''', \"\"\" \"\"\"（三个单引号或三个双引号）\n",
    "        - 能够表示多行信息\n",
    "- 单双引号含义相同，可交错使用\n",
    "- 单双引号只认一行\n",
    "- (全选代码后，可使用“Ctrl”+“?”来一键注释所选代码）"
   ]
  },
  {
   "cell_type": "code",
   "execution_count": 22,
   "metadata": {},
   "outputs": [
    {
     "name": "stdout",
     "output_type": "stream",
     "text": [
      "冰冰\n",
      "bingbing\n",
      "\n",
      "冰\n",
      "冰\n",
      "\n",
      "\n",
      "我\n",
      "爱\n",
      "你\n",
      "\n"
     ]
    }
   ],
   "source": [
    "# 字符串案例\n",
    "\n",
    "# 单引号\n",
    "love = '冰冰'\n",
    "print(love)\n",
    "\n",
    "# 双引号\n",
    "love1 = \"bingbing\"\n",
    "print(love1)\n",
    "\n",
    "# 三引号\n",
    "love2 = '''\n",
    "冰\n",
    "冰\n",
    "'''\n",
    "print(love2)\n",
    "\n",
    "love3 = \"\"\"\n",
    "我\n",
    "爱\n",
    "你\n",
    "\"\"\"\n",
    "print(love3)\n"
   ]
  },
  {
   "cell_type": "markdown",
   "metadata": {},
   "source": [
    "## None类型\n",
    "- 表示什么都没有，通常用来占位\n",
    "    - 例如函数的返回值，用来表示返回一个空"
   ]
  },
  {
   "cell_type": "markdown",
   "metadata": {},
   "source": [
    "### print()语句\n",
    "- print(end='') 里 end='' 表示不自动换行"
   ]
  },
  {
   "cell_type": "code",
   "execution_count": null,
   "metadata": {},
   "outputs": [],
   "source": []
  }
 ],
 "metadata": {
  "kernelspec": {
   "display_name": "Python 3",
   "language": "python",
   "name": "python3"
  },
  "language_info": {
   "codemirror_mode": {
    "name": "ipython",
    "version": 3
   },
   "file_extension": ".py",
   "mimetype": "text/x-python",
   "name": "python",
   "nbconvert_exporter": "python",
   "pygments_lexer": "ipython3",
   "version": "3.9.1"
  }
 },
 "nbformat": 4,
 "nbformat_minor": 4
}
