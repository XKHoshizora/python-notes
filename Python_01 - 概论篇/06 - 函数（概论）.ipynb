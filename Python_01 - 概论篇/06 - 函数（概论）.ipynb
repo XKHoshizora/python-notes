{
 "cells": [
  {
   "cell_type": "markdown",
   "metadata": {},
   "source": [
    "# 函数\n",
    "- 函数是代码的一种组织形式\n",
    "- 函数应该能完成一项特定的工作，而且一般一个函数只完成一项工作\n",
    "- 一个函数尽量不要太长\n",
    "- 有些语言中，分函数和过程两个概念，通俗解释是，如果有返回值，称为函数，无返回值，则称为过程。Python 中不区分。\n",
    "- 函数的使用\n",
    "    - 使用函数需要先定义\n",
    "    - 使用函数，俗称调用"
   ]
  },
  {
   "cell_type": "markdown",
   "metadata": {},
   "source": [
    "## 定义函数（声明函数）\n",
    "- 一个函数，只是被定义（声明）的话不会执行\n",
    "- 定义（声明）格式\n",
    "    1. def 关键字，后跟一个空格\n",
    "    2. 函数名，自己定义，起名需要遵循便令命名规则，约定俗成，大驼峰命名只给类用\n",
    "    3. 小括号，括号内可以由参数，不能省略\n",
    "    4. 冒号，不能省略\n",
    "    4. 函数内所有代码都要缩进\n",
    "- 基本语法结构\n",
    "\n",
    "                def 函数名（参数1， 参数2，....):\n",
    "                    函数体\n",
    "                    \n",
    "                # 调用\n",
    "                函数名（value1, value2,.......)\n",
    "                \n",
    "                # 调用的时候，具体值参考的是位置，按位置赋值"
   ]
  },
  {
   "cell_type": "code",
   "execution_count": 1,
   "metadata": {},
   "outputs": [
    {
     "name": "stdout",
     "output_type": "stream",
     "text": [
      "结束\n"
     ]
    }
   ],
   "source": [
    "# 函数定义案例\n",
    "# 本案例中，函数 func 只是被定义，不会被执行\n",
    "\n",
    "def func():\n",
    "    print(\"我是一个函数\")\n",
    "    print(\"我爱冰冰\")\n",
    "    print(\"函数执行\")\n",
    "    \n",
    "print(\"结束\")"
   ]
  },
  {
   "cell_type": "markdown",
   "metadata": {},
   "source": [
    "## 函数的调用\n",
    "- 调用时，直接写出函数名，后面小括号不能省略，括号内根据情况决定有无内容"
   ]
  },
  {
   "cell_type": "code",
   "execution_count": 4,
   "metadata": {},
   "outputs": [
    {
     "name": "stdout",
     "output_type": "stream",
     "text": [
      "我是一个函数\n",
      "我爱冰冰\n",
      "函数执行\n"
     ]
    }
   ],
   "source": [
    "# 函数的简单调用案例\n",
    "\n",
    "func()"
   ]
  },
  {
   "cell_type": "markdown",
   "metadata": {},
   "source": [
    "## 函数的参数和返回值\n",
    "- 参数： 负责给函数传递一些必要的数据或信息\n",
    "    - 形参（形式参数）： 在定义函数时用到的参数，无具体值，只是一个占位的符号\n",
    "    - 实参（实际参数）： 在调用函数时输入的值\n",
    "- 返回值： 函数执行后的结果\n",
    "    - 使用 return 关键字返回结果\n",
    "    - 函数一旦执行 return，则立即返回，即立即结束函数的执行\n",
    "    - 如果没有 return，默认返回一个 None\n",
    "        - 即使没有需要返回的值，也推荐写出来 return None 来表示此函数结束"
   ]
  },
  {
   "cell_type": "code",
   "execution_count": 6,
   "metadata": {},
   "outputs": [
    {
     "name": "stdout",
     "output_type": "stream",
     "text": [
      "小埋,你好啊\n",
      "小埋,你吃饭了么？\n"
     ]
    }
   ],
   "source": [
    "# 形参和实参案例\n",
    "# 参数 x 只是一个占位符号\n",
    "# 调用函数的时候会使用另一个\n",
    "\n",
    "# 定义函数\n",
    "def hello(x):\n",
    "    print(\"{0},你好啊\".format(x)) # .format() 括号里的值将会替换掉前面 {} 中的值\n",
    "    print(\"{},你吃饭了么？\".format(x))\n",
    "\n",
    "# 设置变量 p 为实参\n",
    "p = \"小埋\"\n",
    "# 调用函数，并将 p 作为实参带入\n",
    "hello(p)"
   ]
  },
  {
   "cell_type": "code",
   "execution_count": 8,
   "metadata": {},
   "outputs": [
    {
     "name": "stdout",
     "output_type": "stream",
     "text": [
      "小埋,你好啊\n",
      "小埋,你吃饭了么？\n",
      "None\n"
     ]
    }
   ],
   "source": [
    "# 返回值案例\n",
    "# 无 return 关键字的情况\n",
    "# Python 默认输出 None\n",
    "\n",
    "y = hello(p)\n",
    "print(y)"
   ]
  },
  {
   "cell_type": "markdown",
   "metadata": {},
   "source": [
    "## Python 有很多内置工具\n",
    "- 比如\n",
    "    - help 函数，负责随时为你提供帮助，查询系统自带工具\n",
    "        - help[]\n"
   ]
  },
  {
   "cell_type": "code",
   "execution_count": 10,
   "metadata": {},
   "outputs": [
    {
     "name": "stdout",
     "output_type": "stream",
     "text": [
      "Help on built-in function print in module builtins:\n",
      "\n",
      "print(...)\n",
      "    print(value, ..., sep=' ', end='\\n', file=sys.stdout, flush=False)\n",
      "    \n",
      "    Prints the values to a stream, or to sys.stdout by default.\n",
      "    Optional keyword arguments:\n",
      "    file:  a file-like object (stream); defaults to the current sys.stdout.\n",
      "    sep:   string inserted between values, default a space.\n",
      "    end:   string appended after the last value, default a newline.\n",
      "    flush: whether to forcibly flush the stream.\n",
      "\n"
     ]
    }
   ],
   "source": [
    "# help 函数案例1\n",
    "# 查找函数作用及用法\n",
    "# print 后如果加 ()，就相当于调用 print 函数，所以不能加 ()\n",
    "\n",
    "help(print)"
   ]
  },
  {
   "cell_type": "code",
   "execution_count": 12,
   "metadata": {},
   "outputs": [
    {
     "name": "stdout",
     "output_type": "stream",
     "text": [
      "\n",
      "Help on NoneType object:\n",
      "\n",
      "class NoneType(object)\n",
      " |  Methods defined here:\n",
      " |  \n",
      " |  __bool__(self, /)\n",
      " |      self != 0\n",
      " |  \n",
      " |  __repr__(self, /)\n",
      " |      Return repr(self).\n",
      " |  \n",
      " |  ----------------------------------------------------------------------\n",
      " |  Static methods defined here:\n",
      " |  \n",
      " |  __new__(*args, **kwargs) from builtins.type\n",
      " |      Create and return a new object.  See help(type) for accurate signature.\n",
      "\n"
     ]
    }
   ],
   "source": [
    "# help 函数案例2\n",
    "# help(print()) 中，由于 print() 括号里没有输入内容，所以系统会默认给 print 函数返回一个 None\n",
    "# 所以 help(print()) 就等价于 help(None)\n",
    "\n",
    "help(print())"
   ]
  },
  {
   "cell_type": "code",
   "execution_count": 39,
   "metadata": {},
   "outputs": [
    {
     "name": "stdout",
     "output_type": "stream",
     "text": [
      "1\n",
      "2\n",
      "3\n",
      "4\n",
      "5\n",
      "6\n",
      "7\n",
      "8\n",
      "9\n",
      "\n",
      "\n",
      "2\n",
      "4\n",
      "6\n",
      "8\n",
      "10\n",
      "12\n",
      "14\n",
      "16\n",
      "18\n",
      "\n",
      "\n",
      "3\n",
      "6\n",
      "9\n",
      "12\n",
      "15\n",
      "18\n",
      "21\n",
      "24\n",
      "27\n",
      "\n",
      "\n",
      "4\n",
      "8\n",
      "12\n",
      "16\n",
      "20\n",
      "24\n",
      "28\n",
      "32\n",
      "36\n",
      "\n",
      "\n",
      "5\n",
      "10\n",
      "15\n",
      "20\n",
      "25\n",
      "30\n",
      "35\n",
      "40\n",
      "45\n",
      "\n",
      "\n",
      "6\n",
      "12\n",
      "18\n",
      "24\n",
      "30\n",
      "36\n",
      "42\n",
      "48\n",
      "54\n",
      "\n",
      "\n",
      "7\n",
      "14\n",
      "21\n",
      "28\n",
      "35\n",
      "42\n",
      "49\n",
      "56\n",
      "63\n",
      "\n",
      "\n",
      "8\n",
      "16\n",
      "24\n",
      "32\n",
      "40\n",
      "48\n",
      "56\n",
      "64\n",
      "72\n",
      "\n",
      "\n",
      "9\n",
      "18\n",
      "27\n",
      "36\n",
      "45\n",
      "54\n",
      "63\n",
      "72\n",
      "81\n",
      "\n",
      "\n"
     ]
    }
   ],
   "source": [
    "# 函数应用前置案例\n",
    "\n",
    "# 九九乘法表\n",
    "# Version 1.0\n",
    "\n",
    "list = [1,2,3,4,5,6,7,8,9]\n",
    "\n",
    "# row: 行\n",
    "# line: 列\n",
    "for row in list:\n",
    "    for line in list:\n",
    "        n = row * line\n",
    "        print(n)\n",
    "        line += 1 \n",
    "    print(\"\\n\")"
   ]
  },
  {
   "cell_type": "code",
   "execution_count": 47,
   "metadata": {},
   "outputs": [
    {
     "name": "stdout",
     "output_type": "stream",
     "text": [
      "1\n",
      "24\n",
      "369\n",
      "481216\n",
      "510152025\n",
      "61218243036\n",
      "7142128354249\n",
      "816243240485664\n",
      "91827364554637281\n"
     ]
    }
   ],
   "source": [
    "# 九九乘法表\n",
    "# Version 2.0\n",
    "\n",
    "for row in range(1,10): # 控制外循环，从 1 到 9\n",
    "    for line in range(1, row + 1): # 内循环，每次从第一个数字开始，打印到跟行数相同的数字\n",
    "        n = row * line\n",
    "        print(n, end=\"\") # 格式上，end=\"\" 中的 end、=、\"\" 之间不能加空格\n",
    "    print(\"\")"
   ]
  },
  {
   "cell_type": "code",
   "execution_count": 28,
   "metadata": {},
   "outputs": [
    {
     "name": "stdout",
     "output_type": "stream",
     "text": [
      "1  \n",
      "2  4  \n",
      "3  6  9  \n",
      "4  8  12  16  \n",
      "5  10  15  20  25  \n",
      "6  12  18  24  30  36  \n",
      "7  14  21  28  35  42  49  \n",
      "8  16  24  32  40  48  56  64  \n",
      "9  18  27  36  45  54  63  72  81  \n"
     ]
    }
   ],
   "source": [
    "# 九九乘法表\n",
    "# Version 3.0\n",
    "\n",
    "for row in range(1,10): # 控制外循环，从 1 到 9\n",
    "    for line in range(1, row + 1): # 内循环，每次从第一个数字开始，打印到跟行数相同的数字\n",
    "        n = row * line\n",
    "        print(n, end = \"\")\n",
    "        print(\"  \", end=\"\")\n",
    "    print()"
   ]
  },
  {
   "cell_type": "code",
   "execution_count": 48,
   "metadata": {},
   "outputs": [
    {
     "name": "stdout",
     "output_type": "stream",
     "text": [
      "1  \n",
      "2  4  \n",
      "3  6  9  \n",
      "4  8  12  16  \n",
      "5  10  15  20  25  \n",
      "6  12  18  24  30  36  \n",
      "7  14  21  28  35  42  49  \n",
      "8  16  24  32  40  48  56  64  \n",
      "9  18  27  36  45  54  63  72  81  \n"
     ]
    }
   ],
   "source": [
    "# 九九乘法表\n",
    "# Version 3.1\n",
    "\n",
    "for row in range(1,10): # 控制外循环，从 1 到 9\n",
    "    for line in range(1, row + 1): # 内循环，每次从第一个数字开始，打印到跟行数相同的数字\n",
    "        n = row * line\n",
    "        print(n, end=\"  \") # 将 3.0 中的 print(\" \", end=\"\") 省略，将空格放在此行代码的 \"\" 中\n",
    "    print()"
   ]
  },
  {
   "cell_type": "code",
   "execution_count": 49,
   "metadata": {},
   "outputs": [
    {
     "name": "stdout",
     "output_type": "stream",
     "text": [
      "1  \n",
      "2  4  \n",
      "3  6  9  \n",
      "4  8  12  16  \n",
      "5  10  15  20  25  \n",
      "6  12  18  24  30  36  \n",
      "7  14  21  28  35  42  49  \n",
      "8  16  24  32  40  48  56  64  \n",
      "9  18  27  36  45  54  63  72  81  \n",
      "1  \n",
      "2  4  \n",
      "3  6  9  \n",
      "4  8  12  16  \n",
      "5  10  15  20  25  \n",
      "6  12  18  24  30  36  \n",
      "7  14  21  28  35  42  49  \n",
      "8  16  24  32  40  48  56  64  \n",
      "9  18  27  36  45  54  63  72  81  \n"
     ]
    }
   ],
   "source": [
    "# 函数应用案例\n",
    "# 试用函数制作九九乘法表\n",
    "\n",
    "def nmt():\n",
    "    for row in range(1,10):\n",
    "        for line in range(1, row + 1):\n",
    "            n = row * line\n",
    "            print(n, end=\"  \")\n",
    "        print()\n",
    "    \n",
    "    return None\n",
    "\n",
    "    \n",
    "nmt()\n",
    "nmt()"
   ]
  },
  {
   "cell_type": "code",
   "execution_count": 1,
   "metadata": {},
   "outputs": [
    {
     "name": "stdout",
     "output_type": "stream",
     "text": [
      "1  \n",
      "2  4  \n",
      "3  6  9  \n",
      "4  8  12  16  \n",
      "5  10  15  20  25  \n",
      "6  12  18  24  30  36  \n",
      "7  14  21  28  35  42  49  \n",
      "8  16  24  32  40  48  56  64  \n",
      "9  18  27  36  45  54  63  72  81  \n"
     ]
    }
   ],
   "source": [
    "# 改造上面的函数\n",
    "\n",
    "# printLine 函数只负责打印一行九九乘法表\n",
    "# line_num: 行号\n",
    "def printLine(line_num):\n",
    "    for line in range(1, line_num + 1):\n",
    "        n = line_num * line\n",
    "        print(n, end=\"  \")\n",
    "    print()\n",
    "        \n",
    "    return None\n",
    "\n",
    "def nmt():\n",
    "    for row in range(1,10):\n",
    "        printLine(row)\n",
    "    \n",
    "    return None\n",
    "\n",
    "nmt()"
   ]
  },
  {
   "cell_type": "markdown",
   "metadata": {},
   "source": [
    "## 参数详解\n",
    "- 参数分类\n",
    "    - 普通参数（位置参数）\n",
    "    - 默认参数\n",
    "        - 当用户没有给定实参时，使用默认值执行\n",
    "        - 当用户给定实参时，替换掉默认值来执行\n",
    "        - 格式：参数名=默认值\n",
    "        - 比如：three=100（一般不加空格）\n",
    "    - 关键字参数\n",
    "        - 输入时，形参和实参可以不一一对应，但需要输入函数名（不对应位置，直接对应函数名，一般不加空格）\n",
    "        - 优点是摆脱了位置的束缚，而且对应的参数很明确\n",
    "    - 收集参数（可变长度参数）：必须是最后一个参数\n",
    "        - \\*args：用元组保存多余参数\n",
    "        - \\*\\*kargs：将多余带有关键字的参数，以键值对的方式储存为字典\n",
    "- 调用函数时，位置参数和关键字参数可以混合使用，但是位置参数必须在前，若位置参数之前已经定义了某个关键字参数，则会报错"
   ]
  },
  {
   "cell_type": "code",
   "execution_count": 52,
   "metadata": {},
   "outputs": [
    {
     "name": "stdout",
     "output_type": "stream",
     "text": [
      "3\n"
     ]
    }
   ],
   "source": [
    "# 普通参数案例\n",
    "\n",
    "def normal_para(one, two, three):\n",
    "    print(one + two)\n",
    "    \n",
    "    return None\n",
    "\n",
    "normal_para(1, 2, 3)"
   ]
  },
  {
   "cell_type": "code",
   "execution_count": 5,
   "metadata": {},
   "outputs": [
    {
     "name": "stdout",
     "output_type": "stream",
     "text": [
      "3\n",
      "100\n",
      "12\n",
      "3\n"
     ]
    }
   ],
   "source": [
    "# 默认参数案例\n",
    "\n",
    "def default_para(one, two, three=100):\n",
    "    print(one + two)\n",
    "    print(three)\n",
    "    return None\n",
    "\n",
    "default_para(1, 2)\n",
    "\n",
    "default_para(10, 2, 3)"
   ]
  },
  {
   "cell_type": "code",
   "execution_count": 58,
   "metadata": {},
   "outputs": [
    {
     "name": "stdout",
     "output_type": "stream",
     "text": [
      "3\n",
      "30\n",
      "3\n",
      "30\n"
     ]
    }
   ],
   "source": [
    "# 关键字参数案例\n",
    "\n",
    "def keys_para(one, two, three):\n",
    "    print(one + two)\n",
    "    print(three)\n",
    "    \n",
    "    return None\n",
    "\n",
    "keys_para(one=1, two=2, three=30)\n",
    "\n",
    "keys_para(three=30, two=2, one=1)"
   ]
  },
  {
   "cell_type": "markdown",
   "metadata": {},
   "source": [
    "## 常用函数\n",
    "\n",
    "### eval( ) 函数\n",
    "- 把一个字符串当成一个表达式来执行，返回表达式执行后的结果\n",
    "- 格式：eval(string_code, global=None, locals=None) "
   ]
  },
  {
   "cell_type": "code",
   "execution_count": 6,
   "metadata": {},
   "outputs": [
    {
     "name": "stdout",
     "output_type": "stream",
     "text": [
      "300\n",
      "300\n"
     ]
    }
   ],
   "source": [
    "# eval() 示例\n",
    "\n",
    "x = 100\n",
    "y = 200\n",
    "\n",
    "z1 = x + y\n",
    "z2 = eval(\"x + y\")\n",
    "\n",
    "print(z1)\n",
    "print(z2)"
   ]
  },
  {
   "cell_type": "markdown",
   "metadata": {},
   "source": [
    "### exec( ) 函数\n",
    "- 与 eval( ) 函数功能类似，但不返回执行结果\n",
    "- 格式：exec(string_code, global=None, locals=None)"
   ]
  },
  {
   "cell_type": "code",
   "execution_count": 11,
   "metadata": {},
   "outputs": [
    {
     "name": "stdout",
     "output_type": "stream",
     "text": [
      "x + y = 300\n",
      "300\n",
      "None None\n"
     ]
    }
   ],
   "source": [
    "# exec() 示例\n",
    "\n",
    "x = 100\n",
    "y = 200\n",
    "\n",
    "# 1. 注意字符串中引号的写法\n",
    "# 2. 对比exec函数执行结果与代码执行结果\n",
    "z1 = x + y\n",
    "z2 = exec(\"x + y\")\n",
    "z3 = exec(\"print('x + y =', x+y)\")\n",
    "\n",
    "print(z1)\n",
    "print(z2, z3)"
   ]
  },
  {
   "cell_type": "code",
   "execution_count": null,
   "metadata": {},
   "outputs": [],
   "source": []
  }
 ],
 "metadata": {
  "kernelspec": {
   "display_name": "Python 3",
   "language": "python",
   "name": "python3"
  },
  "language_info": {
   "codemirror_mode": {
    "name": "ipython",
    "version": 3
   },
   "file_extension": ".py",
   "mimetype": "text/x-python",
   "name": "python",
   "nbconvert_exporter": "python",
   "pygments_lexer": "ipython3",
   "version": "3.7.9"
  }
 },
 "nbformat": 4,
 "nbformat_minor": 2
}
