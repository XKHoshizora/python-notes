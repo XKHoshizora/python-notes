{
 "cells": [
  {
   "cell_type": "markdown",
   "metadata": {},
   "source": [
    "## Python中的内置类型\n",
    "- str\n",
    "- list\n",
    "- tuple\n",
    "- set\n",
    "- dict\n",
    "\n",
    "## 内置函数的概念\n",
    "- help：帮助函数\n",
    "- type：显示变量类型\n",
    "- id：显示变量在内存中的位置（地址），用来判断两个变量是否是同一个变量\n",
    "- print"
   ]
  },
  {
   "cell_type": "markdown",
   "metadata": {},
   "source": [
    "# 列表（List）\n",
    "- 一组由有序数据组成的序列\n",
    "    - 数据具有先后顺序\n",
    "    - 数据可以不是一类数据\n",
    "- 列表的创建\n",
    "    - 直接创建：用中括号创建，数据之间用英文逗号隔开\n",
    "    - 使用list创建\n",
    "    - 使用列表生成式（列表解析式）创建\n",
    "    - 列表包含单个字符串的时候是一个特例"
   ]
  },
  {
   "cell_type": "code",
   "execution_count": 4,
   "metadata": {},
   "outputs": [
    {
     "name": "stdout",
     "output_type": "stream",
     "text": [
      "[1, 2, 3, 4, 5]\n",
      "[1, 2, 3, 'Bing', 'Hoshi']\n"
     ]
    }
   ],
   "source": [
    "# 直接赋值创建列表\n",
    "L1 = [1,2,3,4,5]\n",
    "# list内的数据可以不是一个类型\n",
    "L2 = [1,2,3,\"Bing\",\"Hoshi\"]\n",
    "\n",
    "print(L1)\n",
    "print(L2)"
   ]
  },
  {
   "cell_type": "code",
   "execution_count": 9,
   "metadata": {},
   "outputs": [
    {
     "name": "stdout",
     "output_type": "stream",
     "text": [
      "<class 'list'>\n",
      "[]\n"
     ]
    }
   ],
   "source": [
    "# 用list创建\n",
    "L3 = list()\n",
    "print(type(L3))\n",
    "print(L3)"
   ]
  },
  {
   "cell_type": "code",
   "execution_count": 1,
   "metadata": {},
   "outputs": [
    {
     "name": "stdout",
     "output_type": "stream",
     "text": [
      "<class 'list'>\n",
      "['H', 'o', 's', 'h', 'i', ' ', 'Z', 'o', 'r', 'a']\n",
      "<class 'list'>\n",
      "['Hoshi Zora']\n"
     ]
    }
   ],
   "source": [
    "# 用list创建的特例演示\n",
    "\n",
    "s = \"Hoshi Zora\"\n",
    "\n",
    "# 想创建一个只包含L1一个字符串的列表\n",
    "L1 = list(s)\n",
    "print(type(L1))\n",
    "print(L1)\n",
    "\n",
    "# 遇到以上情况，用 L1 = [s]\n",
    "L1 = [s]\n",
    "print(type(L1))\n",
    "print(L1)"
   ]
  },
  {
   "cell_type": "code",
   "execution_count": 4,
   "metadata": {},
   "outputs": [
    {
     "name": "stdout",
     "output_type": "stream",
     "text": [
      "[0, 1, 2, 3, 4, 5, 6, 7, 8, 9]\n"
     ]
    }
   ],
   "source": [
    "# 使用循环语句与列表addend操作生成列表\n",
    "L3 = []\n",
    "\n",
    "for i in range(10):\n",
    "    L3.append(i)\n",
    "\n",
    "print(L3)"
   ]
  },
  {
   "cell_type": "markdown",
   "metadata": {},
   "source": [
    "## 列表生成式（列表解析式）\n",
    "1. 一般形式\n",
    "    - 语法：[expression for i in iterable]\n",
    "2. 带 if 的列表解析式\n",
    "    - 语法：[expression for i in iterable if...]\n",
    "3. 带 if...else.. 的列表解析式\n",
    "    - 语法：[expression if...else... for i in iterable]"
   ]
  },
  {
   "cell_type": "code",
   "execution_count": 1,
   "metadata": {},
   "outputs": [
    {
     "name": "stdout",
     "output_type": "stream",
     "text": [
      "[1, 4, 9, 16, 25]\n",
      "[0, 1, 2, 3, 4, 5, 6, 7, 8, 9]\n"
     ]
    }
   ],
   "source": [
    "# 1.一般形式\n",
    "# 使用其他列表创建\n",
    "L1 = [1, 2, 3, 4, 5]\n",
    "L2 = [i**2 for i in L1]\n",
    "\n",
    "print(L2)\n",
    "\n",
    "# 使用 range() 函数创建\n",
    "L2 = [i for i in range(10)]\n",
    "\n",
    "print(L2)"
   ]
  },
  {
   "cell_type": "code",
   "execution_count": 2,
   "metadata": {},
   "outputs": [
    {
     "name": "stdout",
     "output_type": "stream",
     "text": [
      "[2, 4, 6, 8, 10]\n"
     ]
    }
   ],
   "source": [
    "# 2.带 if 的列表解析式\n",
    "L1 = [1, 2, 3, 4, 5, 6, 7, 8, 9, 10]\n",
    "L2 = [i for i in L1 if i % 2 == 0]\n",
    "\n",
    "print(L2)"
   ]
  },
  {
   "cell_type": "code",
   "execution_count": 3,
   "metadata": {},
   "outputs": [
    {
     "name": "stdout",
     "output_type": "stream",
     "text": [
      "['我是奇数', '我是偶数', '我是奇数', '我是偶数', '我是奇数', '我是偶数']\n"
     ]
    }
   ],
   "source": [
    "# 3.带 if...else.. 的列表解析式\n",
    "L1 = [1, 2, 3, 4, 5, 6]\n",
    "L2 = ['我是偶数' if i % 2 == 0 else '我是奇数' for i in L1]\n",
    "\n",
    "print(L2)"
   ]
  },
  {
   "cell_type": "markdown",
   "metadata": {},
   "source": [
    "## 列表的常见操作\n",
    "- 访问\n",
    "    - 使用下标操作，也叫索引\n",
    "    - 列表的元素索引是从0开始\n",
    "- 切片操作\n",
    "    - 对列表进行任意一段的截取\n",
    "    - 截取之后，生成一个新的列表（也是原列表的子列表）\n",
    "    - 切片操作需要注意取值范围：左包括，右边不包括\n",
    "    - 格式：  \n",
    "      L[a:b:c]，a是开始下标，b是结束下标，c是增长幅度\n",
    "    - 需要倒序表示的时候，增长幅度用负数"
   ]
  },
  {
   "cell_type": "code",
   "execution_count": 20,
   "metadata": {},
   "outputs": [
    {
     "name": "stdout",
     "output_type": "stream",
     "text": [
      "1\n"
     ]
    },
    {
     "ename": "IndexError",
     "evalue": "list index out of range",
     "output_type": "error",
     "traceback": [
      "\u001b[1;31m---------------------------------------------------------------------------\u001b[0m",
      "\u001b[1;31mIndexError\u001b[0m                                Traceback (most recent call last)",
      "\u001b[1;32m<ipython-input-20-26f1e89ff7cd>\u001b[0m in \u001b[0;36m<module>\u001b[1;34m\u001b[0m\n\u001b[0;32m      4\u001b[0m \u001b[1;33m\u001b[0m\u001b[0m\n\u001b[0;32m      5\u001b[0m \u001b[1;31m# 记住IndexError发生原因\u001b[0m\u001b[1;33m\u001b[0m\u001b[1;33m\u001b[0m\u001b[1;33m\u001b[0m\u001b[0m\n\u001b[1;32m----> 6\u001b[1;33m \u001b[0mprint\u001b[0m\u001b[1;33m(\u001b[0m\u001b[0mL1\u001b[0m\u001b[1;33m[\u001b[0m\u001b[1;36m10\u001b[0m\u001b[1;33m]\u001b[0m\u001b[1;33m)\u001b[0m\u001b[1;33m\u001b[0m\u001b[1;33m\u001b[0m\u001b[0m\n\u001b[0m",
      "\u001b[1;31mIndexError\u001b[0m: list index out of range"
     ]
    }
   ],
   "source": [
    "L1 = [56,4,1,321,8974,]\n",
    "# 使用下标访问\n",
    "print(L1[2])\n",
    "\n",
    "# 记住IndexError发生原因\n",
    "print(L1[10])"
   ]
  },
  {
   "cell_type": "code",
   "execution_count": 36,
   "metadata": {},
   "outputs": [
    {
     "name": "stdout",
     "output_type": "stream",
     "text": [
      "[0, 1, 2, 3, 4]\n",
      "3136614400712\n",
      "3136614403016\n",
      "[0, 1, 2, 3, 4]\n",
      "[2, 3, 4, 5, 6, 7, 8, 9, 10]\n",
      "[0, 1, 2, 3, 4, 5, 6, 7, 8, 9, 10]\n"
     ]
    }
   ],
   "source": [
    "# 切片操作,左包括，右不包括\n",
    "L1 = [0,1,2,3,4,5,6,7,8,9,10]\n",
    "# 对比打印结果与下标的值\n",
    "print(L1[0:5])\n",
    "\n",
    "# 下面结果说明切片后生成的是一个全新的列表（也是原列表的子列表）\n",
    "# 通过内置函数id可以判断出切片操作是否生成了全新的列表\n",
    "L2 = L1[0:11]\n",
    "print(id(L1))\n",
    "print(id(L2))\n",
    "\n",
    "# 切片操作时，下标可以为空\n",
    "print(L1[:5])\n",
    "print(L1[2:])\n",
    "print(L1[:])"
   ]
  },
  {
   "cell_type": "code",
   "execution_count": 37,
   "metadata": {},
   "outputs": [
    {
     "name": "stdout",
     "output_type": "stream",
     "text": [
      "[0, 2, 4, 6, 8, 10]\n"
     ]
    }
   ],
   "source": [
    "# 分片可以控制增长幅度，默认增长幅度为1\n",
    "print(L1[::2])"
   ]
  },
  {
   "cell_type": "code",
   "execution_count": 38,
   "metadata": {},
   "outputs": [
    {
     "name": "stdout",
     "output_type": "stream",
     "text": [
      "[0, 1, 2, 3, 4, 5, 6, 7, 8, 9, 10]\n"
     ]
    }
   ],
   "source": [
    "# 下标可以超出列表范围，超出后不再考虑多余下标内容\n",
    "print(L1[:100])"
   ]
  },
  {
   "cell_type": "code",
   "execution_count": 47,
   "metadata": {},
   "outputs": [
    {
     "name": "stdout",
     "output_type": "stream",
     "text": [
      "[]\n",
      "[5, 6, 7, 8, 9]\n",
      "[9, 8, 7, 6, 5]\n"
     ]
    }
   ],
   "source": [
    "# 下标值的增长幅度可以为负数\n",
    "# 若下标值为负数，则表示顺序是从右往左\n",
    "# 规定：数组最后一个数字的下标是 -1\n",
    "# [0, 1, 2, 3, 4, 5, 6, 7, 8, 9, 10]\n",
    "#  0  1  2  3  4  5  6  7  8  9  10\n",
    "# -11-10-9 -8 -7 -6 -5 -4 -3 -2 -1\n",
    "\n",
    "# 下面例子为空，因为默认是从左向右移动\n",
    "print(L1[-1:-6])\n",
    "\n",
    "print(L1[-6:-1])\n",
    "\n",
    "# 若想要利用负数下标打印9，8，7，6，5，则应\n",
    "print(L1[-2:-7:-1])# 左包括右不包括"
   ]
  },
  {
   "cell_type": "code",
   "execution_count": 1,
   "metadata": {},
   "outputs": [
    {
     "name": "stdout",
     "output_type": "stream",
     "text": [
      "1\n",
      "2\n",
      "3\n",
      "4\n",
      "5\n",
      "6\n"
     ]
    }
   ],
   "source": [
    "# while 循环访问 list\n",
    "# 一般不用 while 遍历 list\n",
    "\n",
    "a = [1,2,3,4,5,6]\n",
    "\n",
    "length = len(a)\n",
    "# indx 表示的是 list 的下标\n",
    "indx = 0\n",
    "\n",
    "while indx < length:\n",
    "    print(a[indx])\n",
    "    indx += 1"
   ]
  },
  {
   "cell_type": "markdown",
   "metadata": {},
   "source": [
    "## 列表常用函数\n",
    "- append( )：在列表末尾追加一个内容\n",
    "- insert(index, data)：在序号为 index 的前一项插入内容 data\n",
    "- pop( )：取出列表中最后一个元素，并返回\n",
    "- del(index)：删除序号为 index 的元素\n",
    "- remove(data)：删除列表中的该内容，如果列表中没有该内容，则报错\n",
    "    - 删除操作前后两个列表ID相同，即在原列表直接操作\n",
    "- 在进行删除列表指定内容的操作时，应先使用try...excepty语句进行判断，或使用条件语句进行限制：\n",
    "    - if data in list:<br/>\n",
    "        list.del(index)<br/>\n",
    "       或list.remove(data)\n",
    "- clear( ）：清空列表，ID不变\n",
    "- reverse( )：翻转列表，ID不变\n",
    "- a.extend(b):将列表 b 的元素拼接到列表 a 的末尾，结果列表ID为原列表 a 的ID\n",
    "- count( )：返回列表中指定元素的个数\n",
    "- copy( )：列表的赋值操作为传地址操作，改变原列表内容，此时需要用 copy 函数\n",
    "    - 此函数为一个浅层拷贝函数，深拷贝需要用到特殊模块"
   ]
  },
  {
   "cell_type": "code",
   "execution_count": 3,
   "metadata": {},
   "outputs": [
    {
     "name": "stdout",
     "output_type": "stream",
     "text": [
      "[1, 2, 3, 4, 5, 6]\n",
      "[1, 2, 3, 4, 2222, 6]\n",
      "[1, 2, 3, 4, 2222, 6]\n"
     ]
    }
   ],
   "source": [
    "# 列表类型，变量赋值操作示例\n",
    "\n",
    "a = [1,2,3,4,5,6]\n",
    "print(a)\n",
    "\n",
    "b = a\n",
    "b[4] = 2222\n",
    "\n",
    "print(a) # 原列表内容被改变\n",
    "print(b)"
   ]
  },
  {
   "cell_type": "code",
   "execution_count": 5,
   "metadata": {},
   "outputs": [
    {
     "name": "stdout",
     "output_type": "stream",
     "text": [
      "[1, 2, 3, 4, 5, 6]\n",
      "[1, 2, 3, 4, 5, 6]\n",
      "[1, 2, 3, 4, 2222, 6]\n"
     ]
    }
   ],
   "source": [
    "# copy 函数示例，浅层拷贝\n",
    "\n",
    "a = [1,2,3,4,5,6]\n",
    "print(a)\n",
    "\n",
    "b = a.copy()\n",
    "b[4] = 2222\n",
    "\n",
    "print(a)\n",
    "print(b)"
   ]
  },
  {
   "cell_type": "markdown",
   "metadata": {},
   "source": [
    "### 解压赋值\n"
   ]
  },
  {
   "cell_type": "code",
   "execution_count": 4,
   "metadata": {},
   "outputs": [
    {
     "name": "stdout",
     "output_type": "stream",
     "text": [
      "1 2 3 4\n",
      "1 2\n"
     ]
    }
   ],
   "source": [
    "# 取列表全部值\n",
    "list1 = [1,2,3,4]\n",
    "x,y,z,n = list1\n",
    "print(x,y,z,n)\n",
    "\n",
    "# 只取列表的一部分值\n",
    "list1 = [1,2,3,4]\n",
    "x,y,*_ = list1\n",
    "print(x,y)"
   ]
  }
 ],
 "metadata": {
  "kernelspec": {
   "display_name": "Python 3",
   "language": "python",
   "name": "python3"
  },
  "language_info": {
   "codemirror_mode": {
    "name": "ipython",
    "version": 3
   },
   "file_extension": ".py",
   "mimetype": "text/x-python",
   "name": "python",
   "nbconvert_exporter": "python",
   "pygments_lexer": "ipython3",
   "version": "3.7.9"
  }
 },
 "nbformat": 4,
 "nbformat_minor": 2
}
