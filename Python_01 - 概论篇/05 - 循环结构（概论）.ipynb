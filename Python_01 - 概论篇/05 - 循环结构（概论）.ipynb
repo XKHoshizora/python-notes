{
 "cells": [
  {
   "cell_type": "markdown",
   "metadata": {},
   "source": [
    "# 循环结构\n",
    "- 重复执行某些固定动作或者处理固定的任务的结构\n",
    "- 分类\n",
    "    - for 循环\n",
    "    - while 循环"
   ]
  },
  {
   "cell_type": "markdown",
   "metadata": {},
   "source": [
    "## for 循环\n",
    "- 语法结构\n",
    "    \n",
    "        for 变量 in 序列：\n",
    "            语句1\n",
    "            语句2\n",
    "            .....\n",
    "- in 后必须是一个可迭代内容，不一定是列表"
   ]
  },
  {
   "cell_type": "code",
   "execution_count": 3,
   "metadata": {},
   "outputs": [
    {
     "name": "stdout",
     "output_type": "stream",
     "text": [
      "1\n",
      "101\n",
      "1001\n",
      "2\n",
      "102\n",
      "1002\n",
      "3\n",
      "103\n",
      "1003\n",
      "4\n",
      "104\n",
      "1004\n",
      "5\n",
      "105\n",
      "1005\n",
      "6\n",
      "106\n",
      "1006\n",
      "7\n",
      "107\n",
      "1007\n",
      "8\n",
      "108\n",
      "1008\n",
      "9\n",
      "109\n",
      "1009\n"
     ]
    }
   ],
   "source": [
    "# 这里提前用列表举例\n",
    "# 列表，比如 [1,2,3,4,5,6,7,8,9]\n",
    "\n",
    "List_1 = [1,2,3,4,5,6,7,8,9]\n",
    "\n",
    "for n in List_1:\n",
    "    print(n)\n",
    "    print(n + 100)\n",
    "    print(n + 1000)"
   ]
  },
  {
   "cell_type": "code",
   "execution_count": 4,
   "metadata": {},
   "outputs": [
    {
     "name": "stdout",
     "output_type": "stream",
     "text": [
      "想你了\n",
      "你谁啊？！\n",
      "你谁啊？！\n"
     ]
    }
   ],
   "source": [
    "# 打印学生姓名列表\n",
    "# 如果是bingbing，那肯定是我的爱呀\n",
    "# 如果是别的学生，那要冷酷的拒绝她\n",
    "\n",
    "List_stu = ['冰冰','美丽','善良']\n",
    "\n",
    "for stu in List_stu:\n",
    "    if stu == '冰冰':\n",
    "        print(\"想你了\")\n",
    "    else:\n",
    "        print(\"你谁啊？！\")"
   ]
  },
  {
   "cell_type": "markdown",
   "metadata": {},
   "source": [
    "## for - else 语句\n",
    "- for 循环结束的时候，有时需要执行一些收尾工作，此时需要用到 for - else 语句\n",
    "- else 语句是可选语句，即可有可无\n",
    "- 但当循环被（break等关键词）终止时，不执行之后的 else 的内容，while 循环一样"
   ]
  },
  {
   "cell_type": "code",
   "execution_count": 6,
   "metadata": {},
   "outputs": [
    {
     "name": "stdout",
     "output_type": "stream",
     "text": [
      "你谁啊？！\n",
      "你谁啊？！\n",
      "你谁啊？！\n",
      "冰冰我要去找你\n"
     ]
    }
   ],
   "source": [
    "# 打印学生姓名列表\n",
    "# 如果是bingbing，那肯定是我的爱呀\n",
    "# 如果是别的学生，那要冷酷的拒绝她\n",
    "\n",
    "List_stu = ['可爱','美丽','善良']\n",
    "\n",
    "for stu in List_stu:\n",
    "    if stu == '冰冰':\n",
    "        print(\"想你了\")\n",
    "    else:\n",
    "        print(\"你谁啊？！\")\n",
    "        \n",
    "else:\n",
    "    print(\"冰冰我要去找你\")"
   ]
  },
  {
   "cell_type": "markdown",
   "metadata": {},
   "source": [
    "## break, continue, pass 的用法\n",
    "- break\n",
    "    - 无条件结束整个循环，简称循环猝死\n",
    "    - 一个 break 只跳出一层循环\n",
    "- continue\n",
    "    - 立即结束本轮循环，进入下一次循环\n",
    "- pass\n",
    "    - 只是一个占位符，表示改行代码什么都不执行\n",
    "    - 没有跳过功能"
   ]
  },
  {
   "cell_type": "code",
   "execution_count": 1,
   "metadata": {},
   "outputs": [
    {
     "name": "stdout",
     "output_type": "stream",
     "text": [
      "1\n",
      "4564\n",
      "8\n",
      "0\n",
      "5\n",
      "89\n",
      "老子找到你啦，诶嘿\n"
     ]
    }
   ],
   "source": [
    "# 在一个数字队列中寻找数字7，如果找到，输出并结束\n",
    "# 确定是否包含，只需找到一个即可确定包含，不必继续找下去了，所以用 break\n",
    "\n",
    "dig_List = [1,4564,8,0,5,89,7,562,5,46,4,13,10,7]\n",
    "\n",
    "for dig in dig_List:\n",
    "    if dig == 7:\n",
    "        print(\"老子找到你啦，诶嘿\")\n",
    "        break\n",
    "    else:\n",
    "        print(dig)"
   ]
  },
  {
   "cell_type": "code",
   "execution_count": 4,
   "metadata": {},
   "outputs": [
    {
     "name": "stdout",
     "output_type": "stream",
     "text": [
      "2\n",
      "哈哈，你丫是双的\n",
      "4\n",
      "哈哈，你丫是双的\n",
      "6\n",
      "哈哈，你丫是双的\n",
      "8\n",
      "哈哈，你丫是双的\n",
      "10\n",
      "哈哈，你丫是双的\n"
     ]
    }
   ],
   "source": [
    "# continue 语句练习\n",
    "# 在数字 1 - 10 中，寻找所有偶数，找到偶数后输出\n",
    "\n",
    "n_List = [1,2,3,4,5,6,7,8,9,10]\n",
    "'''\n",
    "# continue 案例\n",
    "for n in n_List:\n",
    "    if n % 2 == 0:\n",
    "        print(n)\n",
    "        print(\"哈哈，你丫是双的\")\n",
    "    else:\n",
    "        continue\n",
    "'''\n",
    "# 此段代码与上面的代码等价\n",
    "for n in n_List:\n",
    "    if n % 2 == 1:\n",
    "         continue\n",
    "            \n",
    "    print(n)\n",
    "    print(\"哈哈，你丫是双的\")"
   ]
  },
  {
   "cell_type": "code",
   "execution_count": 3,
   "metadata": {},
   "outputs": [
    {
     "name": "stdout",
     "output_type": "stream",
     "text": [
      "你还小\n"
     ]
    }
   ],
   "source": [
    "# pass 案例1\n",
    "\n",
    "age = 19\n",
    "\n",
    "if age > 19:\n",
    "    pass\n",
    "else:\n",
    "    print(\"你还小\")"
   ]
  },
  {
   "cell_type": "code",
   "execution_count": 5,
   "metadata": {},
   "outputs": [
    {
     "name": "stdout",
     "output_type": "stream",
     "text": [
      "2\n",
      "20\n",
      "23\n",
      "25\n",
      "30\n",
      "40\n",
      "45\n",
      "50\n",
      "62\n",
      "2\n",
      "3\n"
     ]
    }
   ],
   "source": [
    "# pass 案例2\n",
    "\n",
    "ages = [2,20,23,25,30,40,45,50,62,2,3]\n",
    "\n",
    "for age in ages:\n",
    "    pass\n",
    "    print(age)"
   ]
  },
  {
   "cell_type": "markdown",
   "metadata": {},
   "source": [
    "## range 函数\n",
    "- 生成有序数列\n",
    "- 可生成特定的数字队列\n",
    "- range 函数生成的序列是，左包括右不包括\n",
    "- 一般在 Python 中，表示范围的数字都是左包括右不包括，randint 函数是个特例\n",
    "- range 函数在 Python 2.x 和 Python 3.x 中有严重区别"
   ]
  },
  {
   "cell_type": "code",
   "execution_count": 1,
   "metadata": {},
   "outputs": [
    {
     "name": "stdout",
     "output_type": "stream",
     "text": [
      "1\n",
      "2\n",
      "3\n",
      "4\n",
      "5\n",
      "6\n",
      "7\n",
      "8\n",
      "9\n",
      "10\n",
      "11\n",
      "12\n",
      "13\n",
      "14\n",
      "15\n",
      "16\n",
      "17\n",
      "18\n",
      "19\n",
      "20\n",
      "21\n",
      "22\n",
      "23\n",
      "24\n",
      "25\n",
      "26\n",
      "27\n",
      "28\n",
      "29\n",
      "30\n",
      "31\n",
      "32\n",
      "33\n",
      "34\n",
      "35\n",
      "36\n",
      "37\n",
      "38\n",
      "39\n",
      "40\n",
      "41\n",
      "42\n",
      "43\n",
      "44\n",
      "45\n",
      "46\n",
      "47\n",
      "48\n",
      "49\n"
     ]
    }
   ],
   "source": [
    "# range 案例1\n",
    "# 生成一个从 1 到 100 的数字序列\n",
    "\n",
    "r_List = range(1,50)\n",
    "\n",
    "for r in r_List:\n",
    "    print(r)"
   ]
  },
  {
   "cell_type": "code",
   "execution_count": 8,
   "metadata": {},
   "outputs": [
    {
     "name": "stdout",
     "output_type": "stream",
     "text": [
      "1\n",
      "2\n",
      "3\n",
      "4\n",
      "5\n",
      "6\n",
      "7\n",
      "8\n",
      "9\n"
     ]
    }
   ],
   "source": [
    "# range 案例2\n",
    "# 输出从 1 到 9 的数字\n",
    "for i in range(1,10):\n",
    "    print(i)"
   ]
  },
  {
   "cell_type": "code",
   "execution_count": 15,
   "metadata": {},
   "outputs": [
    {
     "name": "stdout",
     "output_type": "stream",
     "text": [
      "9\n",
      "8\n",
      "7\n",
      "6\n",
      "5\n",
      "4\n",
      "3\n",
      "2\n",
      "1\n"
     ]
    }
   ],
   "source": [
    "# range 案例3\n",
    "# 输出从 9 到 1 的数字\n",
    "for i in range(9,0,-1): # “-”表示倒序，“1”表示间隔为1\n",
    "    print(i)"
   ]
  },
  {
   "cell_type": "markdown",
   "metadata": {},
   "source": [
    "## while 循环\n",
    "- 表示当条件成立的时候循环，适应于不知道具体循环次数，但能确定在某个条件成立时就循环\n",
    "- 语法结构\n",
    "    \n",
    "        while 条件表达式：\n",
    "            语句块\n",
    "            \n",
    "        #另外一种表达方法\n",
    "        while  条件表达式：\n",
    "            语句块1\n",
    "        else：\n",
    "            语句块2"
   ]
  },
  {
   "cell_type": "code",
   "execution_count": 6,
   "metadata": {},
   "outputs": [
    {
     "name": "stdout",
     "output_type": "stream",
     "text": [
      "11\n",
      "11\n",
      "47\n"
     ]
    }
   ],
   "source": [
    "# while 循环案例1\n",
    "# 如果说年利率是 6.7%，本利是每年翻滚，多少年后本钱会翻倍？\n",
    "\n",
    "principal = 10000\n",
    "year = 0 # 翻倍所需要的年数\n",
    "\n",
    "while principal < 20000:\n",
    "    principal = principal * (1 + 0.067)\n",
    "    year += 1\n",
    "    \n",
    "print(year)\n",
    "\n",
    "\n",
    "# while 循环案例2\n",
    "# 本案例中循环体没有被执行，Why？如何改正？\n",
    "\n",
    "while principal < 20000:\n",
    "    principal = principal * (1 + 0.067)\n",
    "    year += 1\n",
    "else:\n",
    "    print(year)\n",
    "\n",
    "\n",
    "# while 循环案例3\n",
    "# 改正后\n",
    "\n",
    "principal = 10000\n",
    "year = 0\n",
    "\n",
    "while principal < 20000:\n",
    "    principal = principal * (1 + 0.067)\n",
    "    year += 1\n",
    "else:\n",
    "    print(year)"
   ]
  },
  {
   "cell_type": "code",
   "execution_count": 7,
   "metadata": {},
   "outputs": [
    {
     "name": "stdout",
     "output_type": "stream",
     "text": [
      "请输入一个数：110\n",
      "猜大啦！再来！\n",
      "请输入一个数：97\n",
      "猜小啦！再来！\n",
      "请输入一个数：98\n",
      "猜小啦！再来！\n",
      "请输入一个数：100\n",
      "猜大啦！再来！\n",
      "请输入一个数：99\n",
      "恭喜你，答对啦！\n"
     ]
    }
   ],
   "source": [
    "# \n",
    "n = 99\n",
    "count = 0\n",
    "\n",
    "while count < 5:\n",
    "    number = int(input('请输入一个数：'))\n",
    "    count += 1\n",
    "    if number == n:\n",
    "        print('恭喜你，答对啦！')\n",
    "        break\n",
    "    elif number < n:\n",
    "        print('猜小啦！再来！')\n",
    "    elif number > n:\n",
    "        print('猜大啦！再来！')\n",
    "else:\n",
    "    print('残念，次数用完啦！') # 答对时因为有 break，所以不执行"
   ]
  },
  {
   "cell_type": "markdown",
   "metadata": {},
   "source": [
    "## for 循环和 while 循环的区别\n",
    "- for 循环，有明确的循环次数\n",
    "- while 循环，没有明确的循环次数，但有明确的循环条件"
   ]
  }
 ],
 "metadata": {
  "kernelspec": {
   "display_name": "Python 3",
   "language": "python",
   "name": "python3"
  },
  "language_info": {
   "codemirror_mode": {
    "name": "ipython",
    "version": 3
   },
   "file_extension": ".py",
   "mimetype": "text/x-python",
   "name": "python",
   "nbconvert_exporter": "python",
   "pygments_lexer": "ipython3",
   "version": "3.7.9"
  }
 },
 "nbformat": 4,
 "nbformat_minor": 2
}
