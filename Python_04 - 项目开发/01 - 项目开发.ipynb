{
 "cells": [
  {
   "cell_type": "markdown",
   "metadata": {},
   "source": [
    "# 01.项目开发\n",
    "\n",
    "## 一个项目是如何从无到有的？\n",
    "    一、需求分析\n",
    "    1.拿到项目后，先跟客户讨论，制成《需求文档》\n",
    "    2.公司内部开会，制成《开发文档》\n",
    "    3.交付不同岗位程序员进行开发\n",
    "    岗位：\n",
    "        UI设计：设计软件的布局和外观\n",
    "        前端：拿到UI设计图之后，进行搭建（网页）等\n",
    "        后端：核心的业务逻辑，调取数据库进行数据的增删改查\n",
    "        测试：\n",
    "        运维：部署项目"
   ]
  }
 ],
 "metadata": {
  "kernelspec": {
   "display_name": "Python 3",
   "language": "python",
   "name": "python3"
  },
  "language_info": {
   "codemirror_mode": {
    "name": "ipython",
    "version": 3
   },
   "file_extension": ".py",
   "mimetype": "text/x-python",
   "name": "python",
   "nbconvert_exporter": "python",
   "pygments_lexer": "ipython3",
   "version": "3.7.9"
  }
 },
 "nbformat": 4,
 "nbformat_minor": 4
}
