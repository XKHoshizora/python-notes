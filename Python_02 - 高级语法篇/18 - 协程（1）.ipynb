{
 "cells": [
  {
   "cell_type": "markdown",
   "metadata": {},
   "source": [
    "# 18. 协程（1）\n",
    "- 参考资料：\n",
    "    - http://python.jobbole.com/86481/\n",
    "    - http://python.jobbole.com/87310/\n",
    "    - https://segmentfault.com/a/1190000009781688"
   ]
  },
  {
   "cell_type": "markdown",
   "metadata": {},
   "source": [
    "# 两个前提概念\n",
    "\n",
    "## 迭代器\n",
    "- 可迭代(Iterable)：直接作用于for循环的变量\n",
    "- 迭代器(Iterator)：不但可以作用于for循环，还可以被next调用\n",
    "    - next：将迭代器的 next() 方法调用转为 next() 函数。也会将 next() 方法重命名为 \\_\\_next__()。\n",
    "- 一个迭代器必定是一个可迭代对象，但一个可迭代对象不一定是迭代器\n",
    "    - list是典型的可迭代对象，但不是迭代器，因为不可以被next调用\n",
    "- 是否为迭代器，可通过isinstance判断\n",
    "    - 修复 isinstance() 函数第二个实参中重复的类型。\n",
    "    - 举例来说，isinstance(x, (int, int)) 会转换为 isinstance(x, int), isinstance(x, (int, float, int)) 会转换为 isinstance(x, (int, float))。\n",
    "- Iterable可以通过iter()函数转换为Iterator\n",
    "    - iter()：返回一个 iterator 对象。\n",
    "    - 格式：iter(object[, sentinel])\n",
    "    - 根据是否存在第二个实参，第一个实参的解释是非常不同的。\n",
    "    - 如果没有第二个实参，object 必须是支持迭代协议（有 __iter__() 方法）的集合对象，或必须支持序列协议（有 __getitem__() 方法，且数字参数从 0 开始）。\n",
    "        - 如果它不支持这些协议，会触发 TypeError。\n",
    "    - 如果有第二个实参 sentinel，那么 object 必须是可调用的对象。这种情况下生成的迭代器，每次迭代调用它的 __next__() 方法时都会不带实参地调用 object；如果返回的结果是 sentinel 则触发 StopIteration，否则返回调用结果。"
   ]
  },
  {
   "cell_type": "code",
   "execution_count": 2,
   "metadata": {},
   "outputs": [
    {
     "name": "stdout",
     "output_type": "stream",
     "text": [
      "0\n",
      "1\n",
      "2\n",
      "3\n",
      "4\n"
     ]
    }
   ],
   "source": [
    "# 可迭代对象 示例\n",
    "# 类似这样的称为可迭代，但 l 不是迭代器\n",
    "l = [i for i in range(5)]\n",
    "\n",
    "for idx in l:\n",
    "    print(idx)"
   ]
  },
  {
   "cell_type": "code",
   "execution_count": 3,
   "metadata": {},
   "outputs": [
    {
     "name": "stdout",
     "output_type": "stream",
     "text": [
      "0\n",
      "1\n",
      "2\n",
      "3\n",
      "4\n"
     ]
    }
   ],
   "source": [
    "# range是一个迭代器 示例\n",
    "for i in range(5):\n",
    "    print(i)"
   ]
  },
  {
   "cell_type": "code",
   "execution_count": 7,
   "metadata": {},
   "outputs": [
    {
     "name": "stdout",
     "output_type": "stream",
     "text": [
      "True\n",
      "False\n"
     ]
    }
   ],
   "source": [
    "# isinstance() 示例\n",
    "# 判断某个变量是否是一个实例\n",
    "\n",
    "# collections 模块将在Python3.8中被弃用，所以应该从collections.abc这个模块中导入\n",
    "from collections.abc import Iterable, Iterator\n",
    "\n",
    "ll = [1, 2, 3, 4, 5]\n",
    "\n",
    "# 判断是否可迭代\n",
    "print(isinstance(ll, Iterable))\n",
    "\n",
    "# 判断是否为迭代器\n",
    "print(isinstance(ll, Iterator))"
   ]
  },
  {
   "cell_type": "code",
   "execution_count": 10,
   "metadata": {},
   "outputs": [
    {
     "name": "stdout",
     "output_type": "stream",
     "text": [
      "True\n",
      "False\n",
      "True\n",
      "True\n"
     ]
    }
   ],
   "source": [
    "# iter()函数 示例\n",
    "s = 'I love bingbing'\n",
    "\n",
    "# 判断是否可迭代\n",
    "print(isinstance(s, Iterable))\n",
    "# 判断是否为迭代器\n",
    "print(isinstance(s, Iterator))\n",
    "\n",
    "# 转换\n",
    "s_iter = iter(s)\n",
    "\n",
    "# 判断是否可迭代\n",
    "print(isinstance(s_iter, Iterable))\n",
    "# 判断是否为迭代器\n",
    "print(isinstance(s_iter, Iterator))"
   ]
  },
  {
   "cell_type": "markdown",
   "metadata": {},
   "source": [
    "## 生成器（$Generator$）\n",
    "- 生成器：一边循环一边计算下一个元素的机制或算法\n",
    "- 生成器是一个用于创建迭代器的简单而强大的工具。\n",
    "- 生成器需要满足三个条件：\n",
    "    - 每次调用都生产出for循环需要的下一个元素\n",
    "    - 如果到达最后一个，报出StopIteration异常\n",
    "    - 可以被next()调用\n",
    "- 生成器的写法类似标准的函数，但当它们要返回数据时会使用 yield 语句。\n",
    "- 每次对生成器调用 next() 时，它会从上次离开位置恢复执行（它会记住上次执行语句时的所有数据值）。\n",
    "- 如何制作生成器：\n",
    "    1. 直接使用 [生成器表达式](https://docs.python.org/zh-cn/3.9/reference/expressions.html?highlight=yield#generator-expressions)\n",
    "    2. 如果函数中包含[yield表达式](https://docs.python.org/zh-cn/3.9/reference/expressions.html?highlight=yield#yield-expressions)，则这个函数就叫生成器，并用next()函数调用，遇到yield表达式返回\n",
    "- yield的执行方式类似于将函数进行了分段，然后每次调用生成器将一点一点地执行函数"
   ]
  },
  {
   "cell_type": "code",
   "execution_count": 14,
   "metadata": {},
   "outputs": [
    {
     "name": "stdout",
     "output_type": "stream",
     "text": [
      "<class 'list'>\n",
      "<class 'generator'>\n"
     ]
    }
   ],
   "source": [
    "# 直接使用生成器 示例\n",
    "\n",
    "l = [x*x for x in range(5)] # 放在中括号里是列表生成器\n",
    "g = (x*x for x in range(5)) # 放在小括号里是生成器表达式\n",
    "\n",
    "print(type(l))\n",
    "print(type(g))  "
   ]
  },
  {
   "cell_type": "code",
   "execution_count": 15,
   "metadata": {},
   "outputs": [
    {
     "name": "stdout",
     "output_type": "stream",
     "text": [
      "Step 1\n",
      "Step 2\n",
      "Step 3\n"
     ]
    }
   ],
   "source": [
    "# 普通函数 示例\n",
    "\n",
    "def odd():\n",
    "    print(\"Step 1\")\n",
    "    print(\"Step 2\")\n",
    "    print(\"Step 3\")\n",
    "    return None\n",
    "\n",
    "odd()"
   ]
  },
  {
   "cell_type": "code",
   "execution_count": 22,
   "metadata": {},
   "outputs": [
    {
     "name": "stdout",
     "output_type": "stream",
     "text": [
      "Step 1\n",
      "1\n",
      "Step 1\n",
      "1\n",
      "Step 1\n",
      "1\n"
     ]
    }
   ],
   "source": [
    "# yield 示例1\n",
    "\n",
    "# 改造为生成器，由yield负责返回\n",
    "def odd():\n",
    "    print(\"Step 1\")\n",
    "    yield 1\n",
    "    print(\"Step 2\")\n",
    "    yield 2\n",
    "    print(\"Step 3\")\n",
    "    yield 3\n",
    "\n",
    "# 调用生成器时需要使用next()函数\n",
    "one = next(odd())\n",
    "print(one)\n",
    "\n",
    "two = next(odd())\n",
    "print(two)\n",
    "\n",
    "three = next(odd())\n",
    "print(three)\n",
    "\n",
    "# 此处会出现问题，因为每次调用会重新打开生成器"
   ]
  },
  {
   "cell_type": "code",
   "execution_count": 23,
   "metadata": {},
   "outputs": [
    {
     "name": "stdout",
     "output_type": "stream",
     "text": [
      "Step 1\n",
      "1\n",
      "Step 2\n",
      "2\n",
      "Step 3\n",
      "3\n"
     ]
    }
   ],
   "source": [
    "# yield 示例2\n",
    "# 上面示例的修改\n",
    "# 改造为生成器，由yield负责返回\n",
    "def odd():\n",
    "    print(\"Step 1\")\n",
    "    yield 1\n",
    "    print(\"Step 2\")\n",
    "    yield 2\n",
    "    print(\"Step 3\")\n",
    "    yield 3\n",
    "\n",
    "# 此处加入一个实例来表示打开同一个生成器\n",
    "g = odd()\n",
    "\n",
    "# 调用生成器时需要使用next()函数\n",
    "one = next(g)\n",
    "print(one)\n",
    "\n",
    "two = next(g)\n",
    "print(two)\n",
    "\n",
    "three = next(g)\n",
    "print(three)"
   ]
  },
  {
   "cell_type": "code",
   "execution_count": 24,
   "metadata": {},
   "outputs": [
    {
     "name": "stdout",
     "output_type": "stream",
     "text": [
      "1\n",
      "1\n",
      "2\n",
      "3\n",
      "5\n"
     ]
    },
    {
     "data": {
      "text/plain": [
       "'Done'"
      ]
     },
     "execution_count": 24,
     "metadata": {},
     "output_type": "execute_result"
    }
   ],
   "source": [
    "# 使用for循环调用生成器 示例1\n",
    "\n",
    "# 正常的for循环\n",
    "def fib(max):\n",
    "    # 斐波那契额数列的生成器写法\n",
    "    n, a, b = 0, 0, 1 # 注意写法\n",
    "    while n < max:\n",
    "        print(b)\n",
    "        a, b = b, a+b # 注意写法\n",
    "        n += 1\n",
    "        \n",
    "    return 'Done'\n",
    "\n",
    "fib(5)"
   ]
  },
  {
   "cell_type": "code",
   "execution_count": 25,
   "metadata": {},
   "outputs": [
    {
     "name": "stdout",
     "output_type": "stream",
     "text": [
      "1\n",
      "1\n",
      "2\n",
      "3\n",
      "5\n"
     ]
    },
    {
     "ename": "StopIteration",
     "evalue": "Done",
     "output_type": "error",
     "traceback": [
      "\u001b[1;31m---------------------------------------------------------------------------\u001b[0m",
      "\u001b[1;31mStopIteration\u001b[0m                             Traceback (most recent call last)",
      "\u001b[1;32m<ipython-input-25-eb8d20c5a3f4>\u001b[0m in \u001b[0;36m<module>\u001b[1;34m\u001b[0m\n\u001b[0;32m     14\u001b[0m \u001b[1;33m\u001b[0m\u001b[0m\n\u001b[0;32m     15\u001b[0m \u001b[1;32mfor\u001b[0m \u001b[0mi\u001b[0m \u001b[1;32min\u001b[0m \u001b[0mrange\u001b[0m\u001b[1;33m(\u001b[0m\u001b[1;36m6\u001b[0m\u001b[1;33m)\u001b[0m\u001b[1;33m:\u001b[0m\u001b[1;33m\u001b[0m\u001b[1;33m\u001b[0m\u001b[0m\n\u001b[1;32m---> 16\u001b[1;33m     \u001b[0mrst\u001b[0m \u001b[1;33m=\u001b[0m \u001b[0mnext\u001b[0m\u001b[1;33m(\u001b[0m\u001b[0mg\u001b[0m\u001b[1;33m)\u001b[0m\u001b[1;33m\u001b[0m\u001b[1;33m\u001b[0m\u001b[0m\n\u001b[0m\u001b[0;32m     17\u001b[0m     \u001b[0mprint\u001b[0m\u001b[1;33m(\u001b[0m\u001b[0mrst\u001b[0m\u001b[1;33m)\u001b[0m\u001b[1;33m\u001b[0m\u001b[1;33m\u001b[0m\u001b[0m\n",
      "\u001b[1;31mStopIteration\u001b[0m: Done"
     ]
    }
   ],
   "source": [
    "# 使用for循环调用生成器 示例2\n",
    "\n",
    "# 调用生成器的for循环\n",
    "def fib(max):\n",
    "    # 斐波那契额数列的生成器写法\n",
    "    n, a, b = 0, 0, 1 # 注意写法\n",
    "    while n < max:\n",
    "        yield b\n",
    "        a, b = b, a+b # 注意写法\n",
    "        n += 1\n",
    "    \n",
    "    #需要注意，报出异常是的返回值是return的返回值\n",
    "    return 'Done'\n",
    "\n",
    "g = fib(5)\n",
    "\n",
    "for i in range(6):\n",
    "    rst = next(g)\n",
    "    print(rst)"
   ]
  },
  {
   "cell_type": "code",
   "execution_count": 26,
   "metadata": {},
   "outputs": [
    {
     "name": "stdout",
     "output_type": "stream",
     "text": [
      "1\n",
      "1\n",
      "2\n",
      "3\n",
      "5\n",
      "8\n",
      "13\n",
      "21\n",
      "34\n",
      "55\n"
     ]
    }
   ],
   "source": [
    "# 使用for循环调用生成器 示例3\n",
    "\n",
    "ge = fib(10)\n",
    "'''\n",
    "生成器的典型用法是在for循环中使用\n",
    "比较常用的典型生成器就是range()\n",
    "'''\n",
    "for i in ge: #在for循环中使用生成器\n",
    "    print(i)"
   ]
  },
  {
   "cell_type": "markdown",
   "metadata": {},
   "source": [
    "# 协程（$Coroutine$）\n",
    "- 历史历程\n",
    "    - 3.4引入协程，用yield实现\n",
    "    - 3.5引入协程语法\n",
    "    - 实现的协程比较好的包有：\n",
    "        - asyncio\n",
    "        - tornado\n",
    "        - gevent（包含greenlet的所有功能）\n",
    "        - greenlet（较老，是gevent的底层，主要控制协程的切换）\n",
    "- 定义：协程 是为非抢占式多任务产生子程序的计算机程序组件，协程允许不同入口点在不同位置暂停或开始执行程序。\n",
    "- 从技术角度讲，协程就是一个你可以暂停执行的函数，或者干脆把协程理解成生成器\n",
    "- 协程的实现：\n",
    "    - yield返回\n",
    "    - send调用\n",
    "- 协程的四个状态\n",
    "    - inspect.getgeneratorstate(…) 函数确定，该函数会返回下述字符串中的一个：\n",
    "        - GEN_CREATED：等待开始执行\n",
    "        - GEN_RUNNING：解释器正在执行\n",
    "        - GEN_SUSPENED：在yield表达式处暂停\n",
    "        - GEN_CLOSED：执行结束\n",
    "    - next预激（prime)\n",
    "- 协程终止\n",
    "    - 协程中未处理的异常会向上冒泡，传给 next 函数或 send 方法的调用方（即触发协程的对象）\n",
    "    - 终止协程的一种方式：发送某个哨符值，让协程退出。内置的 None 和 Ellipsis 等常量经常用作哨符值==。\n",
    "- yield from\n",
    "    - 调用协程为了得到返回值，协程必须正常终止\n",
    "    - 生成器正常终止会发出StopIteration异常，异常对象的vlaue属性保存返回值\n",
    "    - 使用yield from从内部捕获StopIteration异常\n",
    "    - 委派生成器\n",
    "        - 包含yield from表达式的生成器函数\n",
    "        - 委派生成器在yield from表达式处暂停，调用方可以直接把数据发给自生成器\n",
    "        - 子生成器在把产出的值发给调用放\n",
    "        - 自生成器在最后，解释器会抛出StopIteration，并且把返回值附加到异常对象上\n",
    "- 对于CPU和操作系统来说，协程是不存在的，协程只会被看做一条线程中的多个任务正在来回切换执行。\n",
    "    - 因为只是一条线程在执行，所以不会对CPU产生负担，而且也不会有数据共享问题。"
   ]
  },
  {
   "cell_type": "code",
   "execution_count": 27,
   "metadata": {},
   "outputs": [
    {
     "name": "stdout",
     "output_type": "stream",
     "text": [
      "1111\n",
      "-> start\n",
      "2222\n",
      "-> recived bingbing\n"
     ]
    },
    {
     "ename": "StopIteration",
     "evalue": "",
     "output_type": "error",
     "traceback": [
      "\u001b[1;31m---------------------------------------------------------------------------\u001b[0m",
      "\u001b[1;31mStopIteration\u001b[0m                             Traceback (most recent call last)",
      "\u001b[1;32m<ipython-input-27-2a3d6e67244c>\u001b[0m in \u001b[0;36m<module>\u001b[1;34m\u001b[0m\n\u001b[0;32m     13\u001b[0m \u001b[1;33m\u001b[0m\u001b[0m\n\u001b[0;32m     14\u001b[0m \u001b[0mprint\u001b[0m\u001b[1;33m(\u001b[0m\u001b[1;36m2222\u001b[0m\u001b[1;33m)\u001b[0m\u001b[1;33m\u001b[0m\u001b[1;33m\u001b[0m\u001b[0m\n\u001b[1;32m---> 15\u001b[1;33m \u001b[0msc\u001b[0m\u001b[1;33m.\u001b[0m\u001b[0msend\u001b[0m\u001b[1;33m(\u001b[0m\u001b[1;34m'bingbing'\u001b[0m\u001b[1;33m)\u001b[0m \u001b[1;31m# 发送给“x”\u001b[0m\u001b[1;33m\u001b[0m\u001b[1;33m\u001b[0m\u001b[0m\n\u001b[0m",
      "\u001b[1;31mStopIteration\u001b[0m: "
     ]
    }
   ],
   "source": [
    "# 协程 示例1\n",
    "def simple_coroutine():\n",
    "    print('-> start')\n",
    "    x = yield\n",
    "    print('-> recived', x)\n",
    "\n",
    "# 主线程\n",
    "sc = simple_coroutine()\n",
    "print(1111)\n",
    "\n",
    "# 可以使用sc.send(None)，效果一样\n",
    "next(sc) # 预激\n",
    "\n",
    "print(2222)\n",
    "sc.send('bingbing') # 发送给“x”"
   ]
  },
  {
   "cell_type": "code",
   "execution_count": 28,
   "metadata": {},
   "outputs": [
    {
     "name": "stdout",
     "output_type": "stream",
     "text": [
      "-> start\n",
      "5\n",
      "-> recived 5 6\n",
      "11\n",
      "-> recived 5 6 7\n"
     ]
    },
    {
     "ename": "StopIteration",
     "evalue": "",
     "output_type": "error",
     "traceback": [
      "\u001b[1;31m---------------------------------------------------------------------------\u001b[0m",
      "\u001b[1;31mStopIteration\u001b[0m                             Traceback (most recent call last)",
      "\u001b[1;32m<ipython-input-28-bf229b096b72>\u001b[0m in \u001b[0;36m<module>\u001b[1;34m\u001b[0m\n\u001b[0;32m     17\u001b[0m \u001b[0mbb\u001b[0m \u001b[1;33m=\u001b[0m \u001b[0msc\u001b[0m\u001b[1;33m.\u001b[0m\u001b[0msend\u001b[0m\u001b[1;33m(\u001b[0m\u001b[1;36m6\u001b[0m\u001b[1;33m)\u001b[0m \u001b[1;31m# 5, 6\u001b[0m\u001b[1;33m\u001b[0m\u001b[1;33m\u001b[0m\u001b[0m\n\u001b[0;32m     18\u001b[0m \u001b[0mprint\u001b[0m\u001b[1;33m(\u001b[0m\u001b[0mbb\u001b[0m\u001b[1;33m)\u001b[0m\u001b[1;33m\u001b[0m\u001b[1;33m\u001b[0m\u001b[0m\n\u001b[1;32m---> 19\u001b[1;33m \u001b[0mcc\u001b[0m \u001b[1;33m=\u001b[0m \u001b[0msc\u001b[0m\u001b[1;33m.\u001b[0m\u001b[0msend\u001b[0m\u001b[1;33m(\u001b[0m\u001b[1;36m7\u001b[0m\u001b[1;33m)\u001b[0m \u001b[1;31m# 5, 6, 7\u001b[0m\u001b[1;33m\u001b[0m\u001b[1;33m\u001b[0m\u001b[0m\n\u001b[0m\u001b[0;32m     20\u001b[0m \u001b[0mprint\u001b[0m\u001b[1;33m(\u001b[0m\u001b[0mcc\u001b[0m\u001b[1;33m)\u001b[0m\u001b[1;33m\u001b[0m\u001b[1;33m\u001b[0m\u001b[0m\n",
      "\u001b[1;31mStopIteration\u001b[0m: "
     ]
    }
   ],
   "source": [
    "# 协程的四种状态 示例\n",
    "\n",
    "def simple_coroutine(a):\n",
    "    print('-> start')\n",
    "\n",
    "    b = yield a\n",
    "    print('-> recived', a, b)\n",
    "\n",
    "    c = yield a + b\n",
    "    print('-> recived', a, b, c)\n",
    "\n",
    "# runc\n",
    "sc = simple_coroutine(5)\n",
    "\n",
    "aa = next(sc)\n",
    "print(aa)\n",
    "bb = sc.send(6) # 5, 6\n",
    "print(bb)\n",
    "cc = sc.send(7) # 5, 6, 7\n",
    "print(cc)"
   ]
  },
  {
   "cell_type": "code",
   "execution_count": 29,
   "metadata": {},
   "outputs": [
    {
     "name": "stdout",
     "output_type": "stream",
     "text": [
      "['A', 'B']\n",
      "['A', 'B']\n"
     ]
    }
   ],
   "source": [
    "# yield from 示例\n",
    "\n",
    "def gen():\n",
    "    for c in 'AB':\n",
    "        yield c\n",
    "# list直接用生成器作为参数\n",
    "print(list(gen()))\n",
    "\n",
    "def gen_new():\n",
    "    yield from 'AB'\n",
    "\n",
    "print(list(gen_new()))"
   ]
  },
  {
   "cell_type": "code",
   "execution_count": 30,
   "metadata": {},
   "outputs": [
    {
     "name": "stdout",
     "output_type": "stream",
     "text": [
      "{'boys_2': Res(count=9, average=40.422222222222224), 'boys_1': Res(count=9, average=1.3888888888888888)}\n"
     ]
    }
   ],
   "source": [
    "# 委派生成器 示例\n",
    "from collections import namedtuple\n",
    "\n",
    "'''\n",
    "解释：\n",
    "1. 外层 for 循环每次迭代会新建一个 grouper 实例，赋值给 coroutine 变量； grouper 是委派生成器。\n",
    "2. 调用 next(coroutine)，预激委派生成器 grouper，此时进入 while True 循环，调用子生成器 averager 后，在 yield from 表达式处暂停。\n",
    "3. 内层 for 循环调用 coroutine.send(value)，直接把值传给子生成器 averager。同时，当前的 grouper 实例（coroutine）在 yield from 表达式处暂停。\n",
    "4. 内层循环结束后， grouper 实例依旧在 yield from 表达式处暂停，因此， grouper函数定义体中为 results[key] 赋值的语句还没有执行。\n",
    "5. coroutine.send(None) 终止 averager 子生成器，子生成器抛出 StopIteration 异常并将返回的数据包含在异常对象的value中，yield from 可以直接抓取 StopItration 异常并将异常对象的 value 赋值给 results[key]\n",
    "'''\n",
    "ResClass = namedtuple('Res', 'count average')\n",
    "\n",
    "\n",
    "# 子生成器\n",
    "def averager():\n",
    "    total = 0.0\n",
    "    count = 0\n",
    "    average = None\n",
    "\n",
    "    while True:\n",
    "        term = yield\n",
    "        # None是哨兵值\n",
    "        if term is None:\n",
    "            break\n",
    "        total += term\n",
    "        count += 1\n",
    "        average = total / count\n",
    "\n",
    "    return ResClass(count, average)\n",
    "\n",
    "\n",
    "# 委派生成器\n",
    "def grouper(storages, key):\n",
    "    while True:\n",
    "        # 获取averager()返回的值\n",
    "        storages[key] = yield from averager()\n",
    "\n",
    "\n",
    "# 客户端代码\n",
    "def client():\n",
    "    process_data = {\n",
    "        'boys_2': [39.0, 40.8, 43.2, 40.8, 43.1, 38.6, 41.4, 40.6, 36.3],\n",
    "        'boys_1': [1.38, 1.5, 1.32, 1.25, 1.37, 1.48, 1.25, 1.49, 1.46]\n",
    "    }\n",
    "\n",
    "    storages = {}\n",
    "    for k, v in process_data.items():\n",
    "        # 获得协程\n",
    "        coroutine = grouper(storages, k)\n",
    "\n",
    "        # 预激协程\n",
    "        next(coroutine)\n",
    "\n",
    "        # 发送数据到协程\n",
    "        for dt in v:\n",
    "            coroutine.send(dt)\n",
    "\n",
    "        # 终止协程\n",
    "        coroutine.send(None)\n",
    "    print(storages)\n",
    "\n",
    "# run\n",
    "client()"
   ]
  },
  {
   "cell_type": "markdown",
   "metadata": {},
   "source": [
    "## 使用 greenlet 实现协程\n",
    "- 此处主要实现的是一个线程中任务的切换，不会在任务阻塞时自动切换到其他任务，但这符合协程的定义，也算是一个协程"
   ]
  },
  {
   "cell_type": "code",
   "execution_count": 4,
   "metadata": {},
   "outputs": [
    {
     "name": "stdout",
     "output_type": "stream",
     "text": [
      "我是任务1-1。\n",
      "我是任务2-1。\n",
      "我是任务2-2。\n",
      "我是任务1-2。\n"
     ]
    }
   ],
   "source": [
    "from greenlet import greenlet\n",
    "import time\n",
    "\n",
    "def mission1():\n",
    "    print('我是任务1-1。')\n",
    "    g2.switch()  # 切换到任务2\n",
    "    print('我是任务1-2。')\n",
    "\n",
    "\n",
    "def mission2():\n",
    "    print('我是任务2-1。')\n",
    "    time.sleep(3)  # 此处阻塞，但是不会自动切换为任务1，所以等了3秒\n",
    "    print('我是任务2-2。')\n",
    "    g1.switch()  # 切换到任务1\n",
    "    \n",
    "\n",
    "\n",
    "g1 = greenlet(mission1)\n",
    "g2 = greenlet(mission2)\n",
    "\n",
    "# 切换到任务1\n",
    "g1.switch()"
   ]
  },
  {
   "cell_type": "markdown",
   "metadata": {},
   "source": [
    "## 使用 gevent 实现协程\n",
    "- gevent 模块会自动检测阻塞事件，遇到阻塞会自动切换任务\n",
    "- 但是有些阻塞 gevent 模块并不认识。比如：不认识 time.sleep()，但可以使用 gevent.sleep()\n",
    "- 可以手动让 gevent 认识一些阻塞"
   ]
  },
  {
   "cell_type": "code",
   "execution_count": 5,
   "metadata": {},
   "outputs": [
    {
     "name": "stdout",
     "output_type": "stream",
     "text": [
      "我是任务1-1。\n",
      "我是任务1-2。\n",
      "我是任务2-1。\n",
      "我是任务3-1。\n",
      "我是任务3-2。\n",
      "我是任务2-2。\n"
     ]
    }
   ],
   "source": [
    "import gevent\n",
    "import time\n",
    "\n",
    "def mission1():\n",
    "    print('我是任务1-1。')\n",
    "    print('我是任务1-2。')\n",
    "\n",
    "\n",
    "def mission2():\n",
    "    print('我是任务2-1。')\n",
    "    gevent.sleep(3)  # 此处阻塞，自动切换任务\n",
    "    print('我是任务2-2。')\n",
    "\n",
    "\n",
    "def mission3():\n",
    "    print('我是任务3-1。')\n",
    "    time.sleep(3)  # 此处阻塞，但是不会自动切换为任务1，所以等了3秒\n",
    "    print('我是任务3-2。')\n",
    "\n",
    "\n",
    "m1 = gevent.spawn(mission1)\n",
    "m2 = gevent.spawn(mission2)\n",
    "m3 = gevent.spawn(mission3)\n",
    "\n",
    "# 阻塞\n",
    "m1.join()  # 阻塞至 m1 结束\n",
    "m2.join()  # 阻塞至 m2 结束\n",
    "m3.join()  # 阻塞至 m3 结束"
   ]
  },
  {
   "cell_type": "markdown",
   "metadata": {},
   "source": [
    "### 使用 gevent 中的 monkey 模块来让 gevevt 认识阻塞"
   ]
  },
  {
   "cell_type": "code",
   "execution_count": 8,
   "metadata": {},
   "outputs": [
    {
     "name": "stdout",
     "output_type": "stream",
     "text": [
      "我是任务1-1。\n",
      "我是任务2-1。\n",
      "我是任务3-1。\n",
      "我是任务3-2。\n",
      "我是任务2-2。\n",
      "我是任务1-2。\n"
     ]
    }
   ],
   "source": [
    "# 让 gevevt 认识阻塞\n",
    "# 要先导入 monkey 模块\n",
    "from gevent import monkey\n",
    "# 导入后直接使用下面的语句\n",
    "monkey.patch_all()\n",
    "# 然后再导入其他会引发阻塞的模块\n",
    "import time\n",
    "import gevent\n",
    "\n",
    "def mission1():\n",
    "    print('我是任务1-1。')\n",
    "    time.sleep(5)  # 此处阻塞，自动切换任务\n",
    "    print('我是任务1-2。')\n",
    "\n",
    "\n",
    "def mission2():\n",
    "    print('我是任务2-1。')\n",
    "    gevent.sleep(4)  # 此处阻塞，自动切换任务\n",
    "    print('我是任务2-2。')\n",
    "\n",
    "\n",
    "def mission3():\n",
    "    print('我是任务3-1。')\n",
    "    time.sleep(3)  # 此处阻塞，自动切换任务\n",
    "    print('我是任务3-2。')\n",
    "\n",
    "\n",
    "m1 = gevent.spawn(mission1)\n",
    "m2 = gevent.spawn(mission2)\n",
    "m3 = gevent.spawn(mission3)\n",
    "\n",
    "# 阻塞\n",
    "m1.join()  # 阻塞至 m1 结束\n",
    "m2.join()  # 阻塞至 m2 结束\n",
    "m3.join()  # 阻塞至 m3 结束"
   ]
  },
  {
   "cell_type": "code",
   "execution_count": null,
   "metadata": {},
   "outputs": [],
   "source": []
  }
 ],
 "metadata": {
  "kernelspec": {
   "display_name": "Python 3",
   "language": "python",
   "name": "python3"
  },
  "language_info": {
   "codemirror_mode": {
    "name": "ipython",
    "version": 3
   },
   "file_extension": ".py",
   "mimetype": "text/x-python",
   "name": "python",
   "nbconvert_exporter": "python",
   "pygments_lexer": "ipython3",
   "version": "3.9.1"
  }
 },
 "nbformat": 4,
 "nbformat_minor": 4
}
