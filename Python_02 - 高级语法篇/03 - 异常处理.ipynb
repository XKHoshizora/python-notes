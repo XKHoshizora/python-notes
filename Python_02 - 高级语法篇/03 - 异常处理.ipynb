{
 "cells": [
  {
   "cell_type": "markdown",
   "metadata": {},
   "source": [
    "# 03. 异常处理\n",
    "\n",
    "## 异常\n",
    "- 广义上的错误分为错误和异常\n",
    "- 错误可以人为避免\n",
    "- 异常指在语法逻辑正确的前提下，出现的问题，难以避免\n",
    "- 在Python中，异常是一个类，可以处理和使用"
   ]
  },
  {
   "cell_type": "markdown",
   "metadata": {},
   "source": [
    "## 异常和错误的分类\n",
    "Python中的异常都是从一个叫作“Exception”的类中继承的\n",
    "\n",
    "- AssertError\n",
    "    - 断言语句（assert）失败\n",
    "- AttributeError\n",
    "    - 尝试访问未知的对象属性\n",
    "- BaseException\n",
    "    - 所有异常的基类\n",
    "- EOFError\n",
    "    - 用户输入文件末尾标志EOF（Ctrl+d）\n",
    "- Exception\n",
    "    - 常规错误的基类\n",
    "- FloatingPointError\n",
    "    - 浮点计算错误\n",
    "- GeneratorExit\n",
    "    - generator.close()方法被调用的时候\n",
    "- ImportError\n",
    "    - 导入模块失败的时候\n",
    "- IndexError\n",
    "    - 索引超出序列的范围\n",
    "- KeyError\n",
    "    - 字典中查找一个不存在的关键字\n",
    "- KeyboardInterrupt\n",
    "    - 用户输入中断键（Ctrl+c）\n",
    "- MemoryError\n",
    "    - 内存溢出（可通过删除对象释放内存）\n",
    "- NameError\n",
    "    - 尝试访问一个不存在的变量\n",
    "- NotImplementedError\n",
    "    - 尚未实现的方法\n",
    "- OSError\n",
    "    - 操作系统产生的异常（例如打开一个不存在的文件）\n",
    "- OverflowError\n",
    "    - 数值运算超出最大限制\n",
    "- ReferenceError\n",
    "    - 弱引用（weak reference）试图访问一个已经被垃圾回收机制回收了的对象\n",
    "- RuntimeError\n",
    "    - 一般的运行时错误\n",
    "- StopIteration\n",
    "    - 迭代器没有更多的值\n",
    "- SyntaxError\n",
    "    - Python的语法错误\n",
    "- IndentationError\n",
    "    - 缩进错误\n",
    "- TabError\n",
    "    - Tab和空格混合使用\n",
    "- SystemError\n",
    "    - Python编译器系统错误\n",
    "- SystemExit\n",
    "    - Python编译器进程被关闭\n",
    "- TypeError\n",
    "    - 不同类型间的无效操作\n",
    "- UnboundLocalError\n",
    "    - 访问一个未初始化的本地变量（NameError的子类）\n",
    "- UnicodeError\n",
    "    - Unicode相关的错误（ValueError的子类）\n",
    "- UnicodeEncodeError\n",
    "    - Unicode编码时的错误（UnicodeError的子类）\n",
    "- UnicodeDecodeError\n",
    "    - Unicode解码时的错误（UnicodeError的子类）\n",
    "- UnicodeTranslateError\n",
    "    - Unicode转换时的错误（UnicodeError的子类）\n",
    "- ValueError\n",
    "    - 传入无效的参数\n",
    "- ZeroDivisionError\n",
    "    - 除数为零"
   ]
  },
  {
   "cell_type": "code",
   "execution_count": 4,
   "metadata": {},
   "outputs": [
    {
     "name": "stdout",
     "output_type": "stream",
     "text": [
      "请输入一个数字：0\n"
     ]
    },
    {
     "ename": "ZeroDivisionError",
     "evalue": "division by zero",
     "output_type": "error",
     "traceback": [
      "\u001b[1;31m---------------------------------------------------------------------------\u001b[0m",
      "\u001b[1;31mZeroDivisionError\u001b[0m                         Traceback (most recent call last)",
      "\u001b[1;32m<ipython-input-4-043b5eb433b1>\u001b[0m in \u001b[0;36m<module>\u001b[1;34m\u001b[0m\n\u001b[0;32m      2\u001b[0m \u001b[0mnum\u001b[0m \u001b[1;33m=\u001b[0m \u001b[0mint\u001b[0m\u001b[1;33m(\u001b[0m\u001b[0minput\u001b[0m\u001b[1;33m(\u001b[0m\u001b[1;34m\"请输入一个数字：\"\u001b[0m\u001b[1;33m)\u001b[0m\u001b[1;33m)\u001b[0m\u001b[1;33m\u001b[0m\u001b[1;33m\u001b[0m\u001b[0m\n\u001b[0;32m      3\u001b[0m \u001b[1;33m\u001b[0m\u001b[0m\n\u001b[1;32m----> 4\u001b[1;33m \u001b[0mrst\u001b[0m \u001b[1;33m=\u001b[0m \u001b[1;36m100\u001b[0m\u001b[1;33m/\u001b[0m\u001b[0mnum\u001b[0m\u001b[1;33m\u001b[0m\u001b[1;33m\u001b[0m\u001b[0m\n\u001b[0m\u001b[0;32m      5\u001b[0m \u001b[1;33m\u001b[0m\u001b[0m\n\u001b[0;32m      6\u001b[0m \u001b[0mprint\u001b[0m\u001b[1;33m(\u001b[0m\u001b[1;34m\"计算结果是：{0}\"\u001b[0m\u001b[1;33m.\u001b[0m\u001b[0mformat\u001b[0m\u001b[1;33m(\u001b[0m\u001b[0mrst\u001b[0m\u001b[1;33m)\u001b[0m\u001b[1;33m)\u001b[0m\u001b[1;33m\u001b[0m\u001b[1;33m\u001b[0m\u001b[0m\n",
      "\u001b[1;31mZeroDivisionError\u001b[0m: division by zero"
     ]
    }
   ],
   "source": [
    "# 除数为零异常示例\n",
    "num = int(input(\"请输入一个数字：\"))\n",
    "    \n",
    "rst = 100/num\n",
    "  \n",
    "print(\"计算结果是：{0}\".format(rst))"
   ]
  },
  {
   "cell_type": "markdown",
   "metadata": {},
   "source": [
    "## 对异常的处理\n",
    "- 虽不能保证程序永远正确运行，但是必须保证程序在最坏的情况下遇到的问题，可以被妥善处理\n",
    "- Python的异常处理模块全部语法如下：\n",
    "\n",
    "      try:\n",
    "          尝试实现某个操作，\n",
    "          如果没出现异常，任务就可以完成\n",
    "          如果出现异常，将异常从当前代码块扔出去尝试解决异常\n",
    "\n",
    "      except 异常类型1:\n",
    "          解决方案1：用于尝试在此处处理异常解决问题\n",
    "\n",
    "      except 异常类型2：\n",
    "          解决方案2：用于尝试在此处处理异常解决问题\n",
    "\n",
    "      except (异常类型1,异常类型2...)\n",
    "          解决方案：针对多个异常使用相同的处理方式\n",
    "\n",
    "      excpet:\n",
    "          解决方案：所有异常的解决方案\n",
    "\n",
    "      else:\n",
    "          如果没有出现任何异常，将会执行此处代码\n",
    "\n",
    "      finally:\n",
    "          管你有没有异常都要执行的代码\n",
    " \n",
    "     - 流程：\n",
    "         1. 执行 try 下面的语句\n",
    "         2. 如果出现异常，则在 except语句 中查找对应异常并进行处理\n",
    "         3. 如果没有出现异常，则执行 else语句 中的内容\n",
    "         4. 最后，无论是否出现异常，都要执行 finally语句\n",
    "\n",
    "- except语句 至少要有一个，else语句 和 finally语句 可有可无\n",
    "- 需要捕获异常并转化为实例\n",
    "- 多种Error的情况：\n",
    "    - 越具体的错误，需要越往前放\n",
    "    - 在异常类的继承关系中，子类的异常要放到父类之前\n",
    "    - 在处理异常的时候，一旦拦截到某一个异常，则不再继续往下查看，而直接进行下一段代码，即若有 finally语句块 ，则执行 finally语句块，没否则执行下一个大的语句块"
   ]
  },
  {
   "cell_type": "code",
   "execution_count": 6,
   "metadata": {},
   "outputs": [
    {
     "name": "stdout",
     "output_type": "stream",
     "text": [
      "请输入一个数字：0\n",
      "你输入的是个啥玩意儿\n"
     ]
    }
   ],
   "source": [
    "# 简单的异常处理示例1（Jupyter环境中，加入exit()语句时，出错会挂掉）\n",
    "\n",
    "try:\n",
    "    num = int(input(\"请输入一个数字：\")) # 此处要转化为int类型，因为默认输入的是str类型\n",
    "    \n",
    "    rst = 100/num\n",
    "    \n",
    "    print(\"计算结果是：{0}\".format(rst))\n",
    "\n",
    "except:\n",
    "    print(\"你输入的是个啥玩意儿\")\n",
    "    # exit()是退出程序\n",
    "    exit()"
   ]
  },
  {
   "cell_type": "code",
   "execution_count": 5,
   "metadata": {},
   "outputs": [
    {
     "name": "stdout",
     "output_type": "stream",
     "text": [
      "请输入一个数字：0\n",
      "你输入的是个啥玩意儿\n",
      "division by zero\n"
     ]
    }
   ],
   "source": [
    "# 简单的异常处理示例2（Jupyter环境中，出错会挂掉）\n",
    "# 给出错误提示信息\n",
    "\n",
    "try:\n",
    "    num = int(input(\"请输入一个数字：\")) # 此处要转化为int类型，因为默认输入的是str类型\n",
    "    \n",
    "    rst = 100/num\n",
    "    \n",
    "    print(\"计算结果是：{0}\".format(rst))\n",
    "\n",
    "# 捕获异常后，把异常实例化，出错信息会在实例中\n",
    "# 注意以下写法\n",
    "# 以下语句是捕获 ZeroDivisionError异常 并实例化为 实例e\n",
    "except ZeroDivisionError as e:\n",
    "    print(\"你输入的是个啥玩意儿\")\n",
    "    print(e) # 打印出来的是错误提示中的信息\n",
    "    # exit()是退出程序\n",
    "    exit()"
   ]
  },
  {
   "cell_type": "code",
   "execution_count": 4,
   "metadata": {},
   "outputs": [
    {
     "name": "stdout",
     "output_type": "stream",
     "text": [
      "请输入一个数字：5\n",
      "打错了\n",
      "name 'prin' is not defined\n"
     ]
    }
   ],
   "source": [
    "# 简单的异常处理示例3（Jupyter环境中，出错会挂掉）\n",
    "# 给出错误提示信息\n",
    "\n",
    "try:\n",
    "    num = int(input(\"请输入一个数字：\")) # 此处要转化为int类型，因为默认输入的是str类型\n",
    "    \n",
    "    rst = 100/num\n",
    "    \n",
    "    prin(\"计算结果是：{0}\".format(rst)) # 此处设置一个错误\n",
    "\n",
    "# 如果有多种Error的情况\n",
    "# 越具体的错误，需要越往前放\n",
    "# 在异常类的继承关系中，子类的异常要放到父类之前\n",
    "except ZeroDivisionError as e:\n",
    "    print(\"你输入的是个啥玩意儿\")\n",
    "    print(e) # 打印出来的是错误提示中的信息\n",
    "\n",
    "except NameError as e:\n",
    "    print(\"打错了\")\n",
    "    print(e)\n",
    "\n",
    "except AttributeError as e:\n",
    "    print(\"属性有问题\")\n",
    "    print(e)\n",
    "\n",
    "# 使用下面 Exception语句，任何异常都会被拦截\n",
    "# 最好都有这个语句\n",
    "except Exception as e:\n",
    "    print(\"我也不知道哪儿有问题\")\n",
    "    print(e)"
   ]
  },
  {
   "cell_type": "code",
   "execution_count": 1,
   "metadata": {},
   "outputs": [
    {
     "name": "stdout",
     "output_type": "stream",
     "text": [
      "请输入一个数字：dsfa\n",
      "我也不知道哪儿有问题\n",
      "invalid literal for int() with base 10: 'dsfa'\n"
     ]
    }
   ],
   "source": [
    "# 简单的异常处理示例4（Jupyter环境中，出错会挂掉）\n",
    "# 给出错误提示信息\n",
    "\n",
    "try:\n",
    "    num = int(input(\"请输入一个数字：\"))\n",
    "    \n",
    "    rst = 100/num\n",
    "    \n",
    "    print(\"计算结果是：{0}\".format(rst))\n",
    "\n",
    "except ZeroDivisionError as e:\n",
    "    print(\"你输入的是个啥玩意儿\")\n",
    "    print(e) # 打印出来的是错误提示中的信息\n",
    "\n",
    "except NameError as e:\n",
    "    print(\"打错了\")\n",
    "    print(e)\n",
    "\n",
    "except AttributeError as e:\n",
    "    print(\"属性有问题\")\n",
    "    print(e)\n",
    "\n",
    "# 使用下面 Exception语句，任何异常都会被拦截\n",
    "# 最好都有这个语句而且要写到最后\n",
    "except Exception as e:\n",
    "    print(\"我也不知道哪儿有问题\")\n",
    "    print(e)"
   ]
  },
  {
   "cell_type": "markdown",
   "metadata": {},
   "source": [
    "## 用户手动引发异常\n",
    "- 当某些情况，用户希望自己引发一个异常的时候，可以使用 raise关键字 来引发异常\n",
    "    - 格式：raise ErrorClassName\n",
    "    - ErrorClassName 是异常类的名称\n",
    "- 自定义异常\n",
    "    - 自定义异常一般必须是系统异常类的子类\n",
    "    - 格式：class IhakuError(ErrorClassName)\n",
    "        - 括号里是父类名"
   ]
  },
  {
   "cell_type": "code",
   "execution_count": 6,
   "metadata": {},
   "outputs": [
    {
     "name": "stdout",
     "output_type": "stream",
     "text": [
      "我爱冰冰\n",
      "3.14159265\n",
      "ValueError\n",
      "老子要回国找冰冰！\n"
     ]
    }
   ],
   "source": [
    "# raise示例1\n",
    "try:\n",
    "    print(\"我爱冰冰\")\n",
    "    print(3.14159265)\n",
    "    \n",
    "    # 手动引发异常\n",
    "    # 注意语法\n",
    "    raise ValueError\n",
    "    \n",
    "    print(\"冠状病毒赶紧滚蛋\")\n",
    "\n",
    "except NameError as e:\n",
    "    print(e)\n",
    "\n",
    "except ValueError as e:\n",
    "    print(\"ValueError\")\n",
    "\n",
    "except Exception as e:\n",
    "    print(\"有异常\")\n",
    "\n",
    "finally:\n",
    "    print(\"老子要回国找冰冰！\")"
   ]
  },
  {
   "cell_type": "code",
   "execution_count": 10,
   "metadata": {},
   "outputs": [
    {
     "name": "stdout",
     "output_type": "stream",
     "text": [
      "我爱冰冰\n",
      "3.14159265\n",
      "IhakuError\n",
      "老子要回国找冰冰！\n"
     ]
    }
   ],
   "source": [
    "# raise示例2\n",
    "# 自己定义异常\n",
    "# 需要注意：自定义异常必须是系统异常类的子类\n",
    "class IhakuError(ValueError):\n",
    "    pass\n",
    "\n",
    "try:\n",
    "    print(\"我爱冰冰\")\n",
    "    print(3.14159265)\n",
    "    \n",
    "    # 手动引发异常\n",
    "    # 注意语法\n",
    "    raise IhakuError\n",
    "    \n",
    "    print(\"冠状病毒赶紧滚蛋\")\n",
    "\n",
    "except NameError as e:\n",
    "    print(e)\n",
    "\n",
    "except IhakuError as e: # 如果没有该语句，则会执行其父类异常\n",
    "    print(\"IhakuError\")\n",
    "\n",
    "except ValueError as e:\n",
    "    print(\"ValueError\")\n",
    "\n",
    "except Exception as e:\n",
    "    print(\"有异常\")\n",
    "\n",
    "finally:\n",
    "    print(\"老子要回国找冰冰！\")"
   ]
  },
  {
   "cell_type": "code",
   "execution_count": 11,
   "metadata": {},
   "outputs": [
    {
     "name": "stdout",
     "output_type": "stream",
     "text": [
      "请输入一个数字：10\n",
      "计算结果是：10.0\n",
      "No Exception\n",
      "冠状病毒赶紧死球去\n"
     ]
    }
   ],
   "source": [
    "# else语句示例\n",
    "\n",
    "try:\n",
    "    num = int(input(\"请输入一个数字：\"))\n",
    "    \n",
    "    rst = 100/num\n",
    "    \n",
    "    print(\"计算结果是：{0}\".format(rst))\n",
    "\n",
    "except Exception as e:\n",
    "    print(\"Exception\")\n",
    "\n",
    "else:\n",
    "    print(\"No Exception\")\n",
    "\n",
    "finally:\n",
    "    print(\"冠状病毒赶紧死球去\")"
   ]
  },
  {
   "cell_type": "markdown",
   "metadata": {},
   "source": [
    "## 关于自定义异常\n",
    "- 只要是raise异常，则推荐自定义异常\n",
    "- 自定义异常时，一般包括一下内容：\n",
    "    - 自定义发生异常的异常代码\n",
    "    - 自定义发生异常后的提示信息\n",
    "    - 自定义发生异常的行数\n",
    "- 最终目的是，一旦发生异常，方便程序猿快速定位错误位置"
   ]
  },
  {
   "cell_type": "code",
   "execution_count": null,
   "metadata": {},
   "outputs": [],
   "source": []
  }
 ],
 "metadata": {
  "kernelspec": {
   "display_name": "Python 3",
   "language": "python",
   "name": "python3"
  },
  "language_info": {
   "codemirror_mode": {
    "name": "ipython",
    "version": 3
   },
   "file_extension": ".py",
   "mimetype": "text/x-python",
   "name": "python",
   "nbconvert_exporter": "python",
   "pygments_lexer": "ipython3",
   "version": "3.7.6"
  }
 },
 "nbformat": 4,
 "nbformat_minor": 4
}
