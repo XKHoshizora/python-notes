{
 "cells": [
  {
   "cell_type": "markdown",
   "metadata": {},
   "source": [
    "# 13. 持久化 - shelve"
   ]
  },
  {
   "cell_type": "markdown",
   "metadata": {},
   "source": [
    "# shelve\n",
    "- Python 对象持久化\n",
    "- 是一个持久化工具\n",
    "- “Shelf”是一种持久化的类似字典的对象\n",
    "- Shelf 中的值（不是键！）实际上可以为任意 Python 对象，即 pickle 模块能够处理的任何东西\n",
    "    - 包括大部分类实例、递归数据类型，以及包含大量共享子对象的对象\n",
    "    - 键则为普通的字符串\n",
    "- 需要导入"
   ]
  },
  {
   "cell_type": "code",
   "execution_count": 22,
   "metadata": {},
   "outputs": [],
   "source": [
    "import shelve"
   ]
  },
  {
   "cell_type": "markdown",
   "metadata": {},
   "source": [
    "## open()\n",
    "- open()：打开一个持久化字典\n",
    "- 格式：shelve.open(filename, flag='c', protocol=None, writeback=False)\n",
    "    -  filename 指定下层数据库的基准文件名\n",
    "        - 作为附带效果，会为 filename 添加一个扩展名并且可能创建更多的文件\n",
    "        - 默认情况下，下层数据库会以读写模式打开\n",
    "    - flag：可选参数，可以是：\n",
    "\n",
    "|值|意义|\n",
    "|:-:|:-:|\n",
    "|r|以只读方式打开现有数据库（默认|\n",
    "|w|以读写方式打开现有数据库|\n",
    "|c|以读写方式打开数据库，如果不存在则创建它|\n",
    "|n|始终创建一个新的空数据库，以读写方式打开|\n",
    "\n",
    "- \n",
    "    - protocol：形参，来指定 pickle 协议版本\n",
    "    - 如果可选的 writeback 形参设为 True，则所有被访问的条目都将在内存中被缓存，并会在 sync() 和 close() 时被写入\n",
    "        - 这可以使得对持久化字典中可变条目的修改更方便\n",
    "        - 但是如果访问的条目很多，这会消耗大量内存作为缓存，并会使得关闭操作变得非常缓慢\n",
    "        - 因为所有被访问的条目都需要写回到字典（无法确定被访问的条目中哪个是可变的，也无法确定哪个被实际修改了）"
   ]
  },
  {
   "cell_type": "markdown",
   "metadata": {},
   "source": [
    "## close()\n",
    "- close()：同步并关闭持久化 dict 对象，对已关闭 Shelf 的操作将失败并引发 ValueError"
   ]
  },
  {
   "cell_type": "code",
   "execution_count": 23,
   "metadata": {},
   "outputs": [],
   "source": [
    "# 使用shelve创建文件并使用\n",
    "\n",
    "# 打开文件\n",
    "# 此时，shv相当于一个字典\n",
    "shv = shelve.open(r'shelve测试.db')\n",
    "\n",
    "shv['one'] = 1\n",
    "shv['two'] = 2\n",
    "shv['three'] = 3\n",
    "\n",
    "shv.close()\n",
    "\n",
    "# 通过以上示例发现，shelve自动创建的不仅仅是一个shelve测试.db文件，还包括其他格式文件"
   ]
  },
  {
   "cell_type": "code",
   "execution_count": 24,
   "metadata": {},
   "outputs": [
    {
     "name": "stdout",
     "output_type": "stream",
     "text": [
      "1\n",
      "3\n"
     ]
    }
   ],
   "source": [
    "# shelve读取 示例\n",
    "\n",
    "shv = shelve.open(r'shelve测试.db')\n",
    "\n",
    "print(shv['one'])\n",
    "print(shv['three'])\n",
    "\n",
    "shv.close()"
   ]
  },
  {
   "cell_type": "code",
   "execution_count": 25,
   "metadata": {},
   "outputs": [
    {
     "name": "stdout",
     "output_type": "stream",
     "text": [
      "1\n",
      "报毛线错啊！\n"
     ]
    }
   ],
   "source": [
    "# shelve读取 示例2\n",
    "\n",
    "shv = shelve.open(r'shelve测试.db')\n",
    "\n",
    "try:\n",
    "    print(shv['one'])\n",
    "    print(shv['dasjhdk']) # 为了防止此处报错而无法关闭Shelf，所以用try...finally语句\n",
    "\n",
    "except Exception as e:\n",
    "    print('报毛线错啊！')\n",
    "\n",
    "finally:\n",
    "    shv.close()"
   ]
  },
  {
   "cell_type": "markdown",
   "metadata": {},
   "source": [
    "## shelve特性\n",
    "- 不支持多个应用并行写入\n",
    "    - 为了解决这个问题，open的时候可以使用 flag=r\n",
    "- 写回问题\n",
    "    - shelve默认情况下不会对持久化对象进行任何修改\n",
    "    - 解决方法： 强制写回：writeback=True"
   ]
  },
  {
   "cell_type": "code",
   "execution_count": 26,
   "metadata": {},
   "outputs": [
    {
     "name": "stdout",
     "output_type": "stream",
     "text": [
      "1\n"
     ]
    }
   ],
   "source": [
    "# shelve 只读打开\n",
    "shv = shelve.open(r'shelve测试.db', flag='r')\n",
    "\n",
    "try:\n",
    "    k1 = shv['one']\n",
    "    print(k1)\n",
    "\n",
    "except Exception as e:\n",
    "    print('报毛线错啊！')\n",
    "\n",
    "finally:\n",
    "    shv.close()"
   ]
  },
  {
   "cell_type": "code",
   "execution_count": 27,
   "metadata": {},
   "outputs": [
    {
     "name": "stdout",
     "output_type": "stream",
     "text": [
      "{'eins': 1, 'zwei': 2, 'drei': 3}\n"
     ]
    }
   ],
   "source": [
    "shv = shelve.open(r'shelve测试.db')\n",
    "try:\n",
    "    shv['one'] = {\"eins\":1, \"zwei\":2, \"drei\":3}\n",
    "\n",
    "except Exception as e:\n",
    "    print('报毛线错啊！')\n",
    "\n",
    "finally:\n",
    "    shv.close()\n",
    "\n",
    "\n",
    "shv = shelve.open(r'shelve测试.db')\n",
    "try:\n",
    "    one = shv['one']\n",
    "    print(one)\n",
    "\n",
    "except Exception as e:\n",
    "    print('报毛线错啊！')\n",
    "\n",
    "finally:\n",
    "    shv.close()"
   ]
  },
  {
   "cell_type": "code",
   "execution_count": 28,
   "metadata": {},
   "outputs": [
    {
     "name": "stdout",
     "output_type": "stream",
     "text": [
      "{'eins': 1, 'zwei': 2, 'drei': 3}\n",
      "{'eins': 1, 'zwei': 2, 'drei': 3}\n"
     ]
    }
   ],
   "source": [
    "# 当shelve忘记写回，需要使用强制写回\n",
    "# 错误示例\n",
    "\n",
    "shv = shelve.open(r'shelve测试.db')\n",
    "try:\n",
    "    k1 = shv['one']\n",
    "    print(k1)\n",
    "    # 此时，一旦shelve关闭，则内容还是存在于内存中，没有写回数据库\n",
    "    k1[\"eins\"] =100\n",
    "\n",
    "except Exception as e:\n",
    "    print('报毛线错啊！')\n",
    "\n",
    "finally:\n",
    "    shv.close()\n",
    "\n",
    "\n",
    "shv = shelve.open(r'shelve测试.db')\n",
    "try:\n",
    "    k1 = shv['one']\n",
    "    # 可以看出，\"eins\"的内容没有变化，没有写回数据库\n",
    "    print(k1)\n",
    "\n",
    "except Exception as e:\n",
    "    print('报毛线错啊！')\n",
    "\n",
    "finally:\n",
    "    shv.close()"
   ]
  },
  {
   "cell_type": "code",
   "execution_count": 29,
   "metadata": {},
   "outputs": [
    {
     "name": "stdout",
     "output_type": "stream",
     "text": [
      "{'eins': 1, 'zwei': 2, 'drei': 3}\n",
      "{'eins': 100, 'zwei': 2, 'drei': 3}\n"
     ]
    }
   ],
   "source": [
    "# 当shelve忘记写回，需要使用强制写回\n",
    "# 正确示例\n",
    "\n",
    "shv = shelve.open(r'shelve测试.db', writeback=True) # 此处需要更改\n",
    "try:\n",
    "    k1 = shv['one']\n",
    "    print(k1)\n",
    "    # 此时，一旦shelve关闭，则内容还是存在于内存中，没有写回数据库\n",
    "    k1[\"eins\"] =100\n",
    "\n",
    "except Exception as e:\n",
    "    print('报毛线错啊！')\n",
    "\n",
    "finally:\n",
    "    shv.close()\n",
    "\n",
    "\n",
    "shv = shelve.open(r'shelve测试.db')\n",
    "try:\n",
    "    k1 = shv['one']\n",
    "    # 可以看出，\"eins\"的内容没有变化，没有写回数据库\n",
    "    print(k1)\n",
    "\n",
    "except Exception as e:\n",
    "    print('报毛线错啊！')\n",
    "\n",
    "finally:\n",
    "    shv.close()"
   ]
  },
  {
   "cell_type": "code",
   "execution_count": 30,
   "metadata": {},
   "outputs": [
    {
     "name": "stdout",
     "output_type": "stream",
     "text": [
      "{'eins': 100, 'zwei': 2, 'drei': 3}\n",
      "{'eins': 100, 'zwei': 2000, 'drei': 3}\n"
     ]
    }
   ],
   "source": [
    "# shelve 使用 with语句 管理上下文环境\n",
    "\n",
    "with shelve.open(r'shelve测试.db', writeback= True) as shv:\n",
    "    k1 = shv['one']\n",
    "    print(k1)\n",
    "    k1['zwei'] = 2000\n",
    "\n",
    "with shelve.open(r'shelve测试.db', writeback= True) as shv:\n",
    "    print(shv['one'])"
   ]
  },
  {
   "cell_type": "code",
   "execution_count": null,
   "metadata": {},
   "outputs": [],
   "source": []
  }
 ],
 "metadata": {
  "kernelspec": {
   "display_name": "Python 3",
   "language": "python",
   "name": "python3"
  },
  "language_info": {
   "codemirror_mode": {
    "name": "ipython",
    "version": 3
   },
   "file_extension": ".py",
   "mimetype": "text/x-python",
   "name": "python",
   "nbconvert_exporter": "python",
   "pygments_lexer": "ipython3",
   "version": "3.7.9"
  }
 },
 "nbformat": 4,
 "nbformat_minor": 4
}
