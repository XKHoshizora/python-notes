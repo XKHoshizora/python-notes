{
 "cells": [
  {
   "cell_type": "markdown",
   "metadata": {},
   "source": [
    "# 装饰器（$Decorator$）\n",
    "- 在不改动函数代码的基础上无限制扩展函数功能的一种机制，**本质**上讲，装饰器是一个返回函数的高阶函数，即一个**闭包**。\n",
    "- 功能：在不改变原函数及其调用方式的情况下，对原函数进行拓展\n",
    "- 特点：\n",
    "    - 增强某一函数的功能\n",
    "    - 不修改原函数的定义\n",
    "    - 在代码运行期间动态增加功能\n",
    "    - 一旦定义，则可装饰任何函数\n",
    "    - 某个函数一旦被装饰，则会把装饰器功能添加到该函数功能内\n",
    "- 装饰器的使用：使用时需要用到“@”符号，此符号是Python的语法糖，也可以手动执行装饰器来使用\n",
    "    - 在定义一个不想更改，又带有扩展功能的函数之前，加上“@装饰器名”\n",
    "    - 优先执行装饰器功能\n",
    "    - 语法糖（Syntactic Sugar），也称糖衣语法，指在计算机语言中添加的某种语法，这种语法对语言的功能并没有影响，但是更方便程序员使用\n",
    "- 写代码需要遵循**开放封闭原则**，已经实现的功能代码**不允许被修改**，但**可以被扩展**"
   ]
  },
  {
   "cell_type": "code",
   "execution_count": 22,
   "metadata": {},
   "outputs": [],
   "source": [
    "# 装饰器固定格式\n",
    "def decorator(func):\n",
    "    def deco(*args, **kwargs):\n",
    "        ''' 执行函数前需要做的事 '''\n",
    "        f = func(*args, **kwargs) # 此处调用函数\n",
    "        ''' 执行完毕之后要做的事 '''\n",
    "        return f\n",
    "    return deco\n",
    "\n",
    "# 使用装饰器\n",
    "@decorator\n",
    "def func():\n",
    "    pass"
   ]
  },
  {
   "cell_type": "code",
   "execution_count": 19,
   "metadata": {},
   "outputs": [
    {
     "name": "stdout",
     "output_type": "stream",
     "text": [
      "aaaaaaaaaaaaaaaaaaaaaaaaaaaaaaaaaaaaaaaaaaaaaaaaaa\n",
      "0.5008773803710938\n",
      "--------------------------------------------------\n",
      "aaaaaaaaaaaaaaaaaaaaaaaaaaaaaaaaaaaaaaaaaaaaaaaaaa\n",
      "0.5010521411895752\n"
     ]
    }
   ],
   "source": [
    "import time\n",
    "\n",
    "def timer(func):\n",
    "    def inner():\n",
    "        start = time.time()\n",
    "        func()\n",
    "        print(time.time() - start)\n",
    "    return inner\n",
    "\n",
    "\n",
    "timer1 = timer(func1) # 会在此处执行一次\n",
    "def func1():\n",
    "    print('a'*50)\n",
    "    time.sleep(0.5)\n",
    "\n",
    "timer1() # 调用会再执行一次\n",
    "\n",
    "print('-'*50)\n",
    "\n",
    "@timer # = timer(func1)，这就是一个装饰器\n",
    "def func1():\n",
    "    print('a'*50)\n",
    "    time.sleep(0.5)\n",
    "    \n",
    "func1() # 使用装饰器之后，只需要直接引用原函数即可\n"
   ]
  },
  {
   "cell_type": "markdown",
   "metadata": {},
   "source": [
    "## 带参数的装饰器"
   ]
  },
  {
   "cell_type": "code",
   "execution_count": 14,
   "metadata": {},
   "outputs": [
    {
     "name": "stdout",
     "output_type": "stream",
     "text": [
      "3125\n",
      "0.0009965896606445312\n"
     ]
    }
   ],
   "source": [
    "import time\n",
    "\n",
    "def timer1(func):\n",
    "    def inner(x):\n",
    "        start = time.time()\n",
    "        func(x)\n",
    "        print(time.time() - start)\n",
    "    return inner\n",
    "\n",
    "@timer1\n",
    "def func2(x):\n",
    "    print(x**x)\n",
    "\n",
    "func2(5)"
   ]
  },
  {
   "cell_type": "markdown",
   "metadata": {},
   "source": [
    "## 多参数的装饰器"
   ]
  },
  {
   "cell_type": "code",
   "execution_count": 16,
   "metadata": {},
   "outputs": [
    {
     "name": "stdout",
     "output_type": "stream",
     "text": [
      "3125\n",
      "10000000000\n",
      "0.5003774166107178\n"
     ]
    }
   ],
   "source": [
    "import time\n",
    "\n",
    "def timer2(func):\n",
    "    def inner(*args, **kwargs):\n",
    "        start = time.time()\n",
    "        func(*args, **kwargs)\n",
    "        print(time.time() - start)\n",
    "    return inner\n",
    "\n",
    "@timer2\n",
    "def func3(x, y):\n",
    "    print(x**x)\n",
    "    time.sleep(0.5)\n",
    "    print(y**y)\n",
    "\n",
    "func3(5, 10)"
   ]
  },
  {
   "cell_type": "code",
   "execution_count": null,
   "metadata": {},
   "outputs": [],
   "source": []
  }
 ],
 "metadata": {
  "kernelspec": {
   "display_name": "Python 3",
   "language": "python",
   "name": "python3"
  },
  "language_info": {
   "codemirror_mode": {
    "name": "ipython",
    "version": 3
   },
   "file_extension": ".py",
   "mimetype": "text/x-python",
   "name": "python",
   "nbconvert_exporter": "python",
   "pygments_lexer": "ipython3",
   "version": "3.7.9"
  }
 },
 "nbformat": 4,
 "nbformat_minor": 4
}
