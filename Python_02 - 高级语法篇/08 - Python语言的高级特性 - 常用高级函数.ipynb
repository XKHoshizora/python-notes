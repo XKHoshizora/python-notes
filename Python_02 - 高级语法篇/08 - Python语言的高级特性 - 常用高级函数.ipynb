{
 "cells": [
  {
   "cell_type": "markdown",
   "metadata": {},
   "source": [
    "# 08. Python语言的高级特性 - 常用高级函数"
   ]
  },
  {
   "cell_type": "markdown",
   "metadata": {},
   "source": [
    "# 常用高级函数\n",
    "\n",
    "## zip()\n",
    "- 创建一个聚合了来自每个可迭代对象中的元素的迭代器\n",
    "- 格式：zip(*iterables)\n",
    "    - 其中的第 i 个元组包含来自每个参数序列或可迭代对象的第 i 个元素\n",
    "    - 当所输入可迭代对象中最短的一个被耗尽时，迭代器将停止迭代\n",
    "    - 函数会保证可迭代对象按从左至右的顺序被求值\n",
    "- 返回值：返回一个元组（tuple）\n",
    "    - 当只有一个可迭代对象参数时，它将返回一个单元组的迭代器\n",
    "    - 不带参数时，它将返回一个空迭代器"
   ]
  },
  {
   "cell_type": "code",
   "execution_count": 9,
   "metadata": {},
   "outputs": [
    {
     "name": "stdout",
     "output_type": "stream",
     "text": [
      "[0, 1, 2, 3, 4, 5, 6, 7, 8, 9] \n",
      " [0.6214188587703822, 0.41972199476611993, 0.1099239335207447, 0.13603726794083926, 0.8083233133624486, 0.7472668415721809, 0.8148294414809459, 0.5573244077766667, 0.023851428094382676, 0.9241510465204504]\n",
      "<class 'zip'>\n",
      "<zip object at 0x000001CE80D71408>\n",
      "\n",
      "(0, 0.6214188587703822)\n",
      "(1, 0.41972199476611993)\n",
      "(2, 0.1099239335207447)\n",
      "(3, 0.13603726794083926)\n",
      "(4, 0.8083233133624486)\n",
      "(5, 0.7472668415721809)\n",
      "(6, 0.8148294414809459)\n",
      "(7, 0.5573244077766667)\n",
      "(8, 0.023851428094382676)\n",
      "(9, 0.9241510465204504)\n"
     ]
    }
   ],
   "source": [
    "import random\n",
    "# zip 示例\n",
    "\n",
    "# 创建两个列表l1，l2\n",
    "l1 = [i for i in range(10)]\n",
    "\n",
    "l2 = []\n",
    "for i in l1:\n",
    "    l2.append(random.random())\n",
    "\n",
    "print(l1, '\\n', l2)\n",
    "\n",
    "z = zip(l1, l2)\n",
    "\n",
    "print(type(z))\n",
    "print(z)\n",
    "\n",
    "print()\n",
    "\n",
    "for i in z:\n",
    "    print(i)"
   ]
  },
  {
   "cell_type": "code",
   "execution_count": 16,
   "metadata": {},
   "outputs": [
    {
     "name": "stdout",
     "output_type": "stream",
     "text": [
      "('bing', 'ihaku')\n",
      "('520', '1314')\n",
      "('hoshi', 'zora')\n",
      "[]\n",
      "[('bing', 'ihaku'), ('520', '1314'), ('hoshi', 'zora')]\n"
     ]
    }
   ],
   "source": [
    "# zip可以用来将多组数据中序号相同的元素进行配对，无法配对的多余的元素将被删除\n",
    "l1 = [\"bing\", \"520\", \"hoshi\"]\n",
    "l2 = [\"ihaku\", \"1314\", \"zora\", \"爱冰冰\"]\n",
    "\n",
    "z = zip(l1, l2)\n",
    "\n",
    "for i in z:\n",
    "    print(i)\n",
    "\n",
    "# 此处为空，因为只可遍历一次\n",
    "l3 = [i for i in z]\n",
    "print(l3)\n",
    "\n",
    "# 此处不为空\n",
    "z = zip(l1, l2)\n",
    "l4 = [i for i in z]\n",
    "print(l4)"
   ]
  },
  {
   "cell_type": "markdown",
   "metadata": {},
   "source": [
    "## enumerate()\n",
    "- 返回一个枚举对象\n",
    "- 格式：enumerate(iterable, start=0)\n",
    "    - iterable：必须是一个序列，或 iterator，或其他支持迭代的对象\n",
    "    - start：开始序号\n",
    "- 返回值：返回一个元组，里面包含一个计数值（从 start 开始，默认为 0）和通过迭代 iterable 获得的值\n",
    "- 简言之，对可迭代对象里的每一元素，配上一个索引，然后索引和内容构成tuple类型"
   ]
  },
  {
   "cell_type": "code",
   "execution_count": 17,
   "metadata": {},
   "outputs": [
    {
     "name": "stdout",
     "output_type": "stream",
     "text": [
      "[(0, 'ihaku'), (1, 'bingbing'), (2, '1314'), (3, 'zora'), (4, '爱冰冰')]\n"
     ]
    }
   ],
   "source": [
    "# 示例1\n",
    "l1 = [\"ihaku\", \"bingbing\", \"1314\", \"zora\", \"爱冰冰\"]\n",
    "\n",
    "em = enumerate(l1)\n",
    "\n",
    "l2 = [i for i in em]\n",
    "\n",
    "print(l2)"
   ]
  },
  {
   "cell_type": "code",
   "execution_count": 18,
   "metadata": {},
   "outputs": [
    {
     "name": "stdout",
     "output_type": "stream",
     "text": [
      "[(100, 'ihaku'), (101, 'bingbing'), (102, '1314'), (103, 'zora'), (104, '爱冰冰')]\n"
     ]
    }
   ],
   "source": [
    "# 示例2\n",
    "l1 = [\"ihaku\", \"bingbing\", \"1314\", \"zora\", \"爱冰冰\"]\n",
    "\n",
    "em = enumerate(l1, start=100)\n",
    "\n",
    "l2 = [i for i in em]\n",
    "\n",
    "print(l2)"
   ]
  },
  {
   "cell_type": "markdown",
   "metadata": {},
   "source": [
    "## collections模块内的函数\n",
    "- 需要导入"
   ]
  },
  {
   "cell_type": "code",
   "execution_count": 29,
   "metadata": {},
   "outputs": [],
   "source": [
    "import collections"
   ]
  },
  {
   "cell_type": "markdown",
   "metadata": {},
   "source": [
    "## namedtuple()\n",
    "- 命名元组的工厂函数\n",
    "    - 命名元组赋予每个位置一个含义，提供可读性和自文档性\n",
    "    - 它们可以用于任何普通元组，并添加了通过名字获取值的能力，通过索引值也是可以的\n",
    "- 格式：collections.namedtuple(typename, field_names, *, rename=False, defaults=None, module=None)\n",
    "    - typename：所需返回的新的元组子类名\n",
    "    - field_names：是一个像 [‘x’, ‘y’] 一样的字符串序列\n",
    "        - 另外 field_names 可以是一个纯字符串，用空白或逗号分隔开元素名，比如 'x y' 或者 'x, y'\n",
    "    - \\*：任何有效的Python 标识符都可以作为域名，除了下划线开头的那些\n",
    "        - 另外不能是关键词 keyword 比如 class, for, return, global, pass, 或 raise\n",
    "    - 如果 rename 为真， 无效域名会自动转换成位置名\n",
    "        - 比如 ['abc', 'def', 'ghi', 'abc'] 转换成 ['abc', '_1', 'ghi', '_3'] ， 消除关键词 def 和重复域名 abc\n",
    "    - defaults 可以为 None 或者是一个默认值的 iterable\n",
    "        - 如果一个默认值域必须跟其他没有默认值的域在一起出现，defaults 就应用到最右边的参数\n",
    "        - 比如如果域名 ['x', 'y', 'z'] 和默认值 (1, 2) ，那么 x 就必须指定一个参数值 ，y 默认值 1 ， z 默认值 2\n",
    "    - 如果 module 值有定义，命名元组的 \\_\\_module__ 属性值就被设置\n",
    "- 返回值：返回一个新的元组子类，名为 typename\n",
    "- 命名元组实例没有字典，所以它们要更轻量，并且占用更小内存"
   ]
  },
  {
   "cell_type": "code",
   "execution_count": 22,
   "metadata": {},
   "outputs": [
    {
     "name": "stdout",
     "output_type": "stream",
     "text": [
      "2\n",
      "3\n",
      "2\n"
     ]
    }
   ],
   "source": [
    "# 示例，一个点\n",
    "\n",
    "Point = collections.namedtuple(\"Point\", ['x', 'y'])\n",
    "\n",
    "p = Point(2, 3)\n",
    "\n",
    "print(p.x)\n",
    "print(p.y)\n",
    "print(p[0])"
   ]
  },
  {
   "cell_type": "code",
   "execution_count": 25,
   "metadata": {},
   "outputs": [
    {
     "name": "stdout",
     "output_type": "stream",
     "text": [
      "Circle(x=2, y=3, r=4)\n",
      "<class '__main__.Circle'>\n"
     ]
    },
    {
     "data": {
      "text/plain": [
       "True"
      ]
     },
     "execution_count": 25,
     "metadata": {},
     "output_type": "execute_result"
    }
   ],
   "source": [
    "# 示例，一个圆\n",
    "\n",
    "Circle = collections.namedtuple(\"Circle\", ['x', 'y', 'r'])\n",
    "\n",
    "c = Circle(2, 3, 4)\n",
    "\n",
    "print(c)\n",
    "print(type(c))\n",
    "\n",
    "# 检测namedtuple是否是tuple的子类\n",
    "isinstance(c, tuple)"
   ]
  },
  {
   "cell_type": "markdown",
   "metadata": {},
   "source": [
    "## deque()\n",
    "- 发音是 “deck”，“double-ended queue”的简称\n",
    "- 返回一个新的双向队列对象，从左到右初始化(用方法 append()) ，从 iterable （迭代对象) 数据创建\n",
    "- 格式：collections.deque([iterable[, maxlen]])\n",
    "    - 如果 iterable 没有指定，新队列为空\n",
    "    - 如果 maxlen 没有指定或者是 None ，deques 可以增长到任意长度；否则，deque就限定到指定最大长度\n",
    "    - 一旦限定长度的deque满了，当新项加入时，同样数量的项就从另一端弹出\n",
    "- 返回值：新的双向队列对象\n",
    "- 比较方便地解决了频繁进行删除、插入等操作带来的效率问题"
   ]
  },
  {
   "cell_type": "code",
   "execution_count": 30,
   "metadata": {},
   "outputs": [
    {
     "name": "stdout",
     "output_type": "stream",
     "text": [
      "deque(['a', 'b', 'c'])\n",
      "deque(['a', 'b', 'c', 'd'])\n",
      "deque(['123', 'a', 'b', 'c', 'd'])\n"
     ]
    }
   ],
   "source": [
    "# 示例\n",
    "\n",
    "q = collections.deque(['a', 'b', 'c'])\n",
    "print(q)\n",
    "\n",
    "q.append('d')\n",
    "print(q)\n",
    "\n",
    "q.appendleft('123')\n",
    "print(q)"
   ]
  },
  {
   "cell_type": "markdown",
   "metadata": {},
   "source": [
    "# defaultdict()\n",
    "- 返回一个新的类似字典的对象\n",
    "- defaultdict 是内置 dict 类的子类，它重载了一个方法并添加了一个可写的实例变量，其余的功能与 dict 类相同\n",
    "- 格式：collections.defaultdict([default_factory[, ...]])\n",
    "    - 参数必须是一个函数\n",
    "    - 如果没有给出位置参数，将创建一个空字典\n",
    "    - 如果给出一个位置参数并且其属于映射对象，将创建一个具有与映射对象相同键值对的字典；否则，位置参数必须为一个 iterable 对象\n",
    "    - 如果给出了关键字参数，则关键字参数及其值会被加入到基于位置参数创建的字典\n",
    "    - 如果要加入的键已存在，来自关键字参数的值将替代来自位置参数的值\n",
    "- 返回值：新的类似字典的对象\n",
    "- 当直接读取dict不存在的属性时，直接返回默认值"
   ]
  },
  {
   "cell_type": "code",
   "execution_count": 35,
   "metadata": {},
   "outputs": [
    {
     "name": "stdout",
     "output_type": "stream",
     "text": [
      "1\n"
     ]
    },
    {
     "ename": "KeyError",
     "evalue": "'zora'",
     "output_type": "error",
     "traceback": [
      "\u001b[1;31m---------------------------------------------------------------------------\u001b[0m",
      "\u001b[1;31mKeyError\u001b[0m                                  Traceback (most recent call last)",
      "\u001b[1;32m<ipython-input-35-2692f6980928>\u001b[0m in \u001b[0;36m<module>\u001b[1;34m\u001b[0m\n\u001b[0;32m      6\u001b[0m \u001b[1;33m\u001b[0m\u001b[0m\n\u001b[0;32m      7\u001b[0m \u001b[1;31m# 当打印字典没有的关键字时，报错\u001b[0m\u001b[1;33m\u001b[0m\u001b[1;33m\u001b[0m\u001b[1;33m\u001b[0m\u001b[0m\n\u001b[1;32m----> 8\u001b[1;33m \u001b[0mprint\u001b[0m\u001b[1;33m(\u001b[0m\u001b[0md1\u001b[0m\u001b[1;33m[\u001b[0m\u001b[1;34m'zora'\u001b[0m\u001b[1;33m]\u001b[0m\u001b[1;33m)\u001b[0m\u001b[1;33m\u001b[0m\u001b[1;33m\u001b[0m\u001b[0m\n\u001b[0m",
      "\u001b[1;31mKeyError\u001b[0m: 'zora'"
     ]
    }
   ],
   "source": [
    "# 示例1\n",
    "\n",
    "# 定义一个普通字典\n",
    "d1 = {'bingbing':1, 'ihaku':2, 'hoshi':3}\n",
    "print(d1['bingbing'])\n",
    "\n",
    "# 当打印字典没有的关键字时，报错\n",
    "print(d1['zora'])"
   ]
  },
  {
   "cell_type": "code",
   "execution_count": 38,
   "metadata": {},
   "outputs": [
    {
     "name": "stdout",
     "output_type": "stream",
     "text": [
      "defaultdict(<function <lambda> at 0x000001CE823E98B8>, {'bingbing': 1, 'ihaku': 2})\n",
      "1\n",
      "love\n"
     ]
    }
   ],
   "source": [
    "# 示例2\n",
    "\n",
    "# 定义一个函数，lambda函数直接返回一个字符串\n",
    "func = lambda: 'love'\n",
    "# 当字典里没有所选关键字时，将调用函数\n",
    "d2 = collections.defaultdict(func)\n",
    "\n",
    "d2['bingbing'] = 1\n",
    "d2['ihaku'] = 2\n",
    "\n",
    "print(d2)\n",
    "\n",
    "print(d2['bingbing'])\n",
    "\n",
    "print(d2['zora'])"
   ]
  },
  {
   "cell_type": "markdown",
   "metadata": {},
   "source": [
    "## Counter()\n",
    "- 一个计数器工具，提供快速和方便的计数，统计字符串个数，并生成按照出现次数排序的字典\n",
    "- 也可统计字符串里每个字符的个数，并生成按照出现次数排序的字典\n",
    "- 一个 Counter 是一个 dict 的子类，用于计数可哈希对象\n",
    "- 格式：collections.Counter([iterable-or-mapping])\n",
    "    - 元素从一个 iterable 被计数或从其他的 mapping (or counter)初始化\n",
    "- 返回值：字典\n",
    "    - Counter对象有一个字典接口，如果引用的键没有任何记录，就返回一个0，而不是弹出一个 KeyError\n",
    "- 它是一个集合，元素像字典键(key)一样存储，它们的计数存储为值\n",
    "- 计数可以是任何整数值，包括0和负数\n",
    "- Counter 类有点像其他语言中的 bags 或 multisets\n",
    "- 设置一个计数为0不会从计数器中移去一个元素，可使用 del 来删除该元素"
   ]
  },
  {
   "cell_type": "code",
   "execution_count": 43,
   "metadata": {},
   "outputs": [
    {
     "name": "stdout",
     "output_type": "stream",
     "text": [
      "Counter({'h': 5, 'a': 5, 's': 4, 'j': 4, 'k': 4, 'm': 4, 'z': 4, ',': 4, 'd': 3, 'f': 3, 'n': 3, 'b': 3, 'i': 2, 'l': 2, '/': 2, \"'\": 2, 'o': 1, 'p': 1, '[': 1, '.': 1, ';': 1, 'A': 1, 'x': 1, ' ': 1, 'c': 1, 'e': 1, ']': 1})\n",
      "\n",
      "5\n"
     ]
    }
   ],
   "source": [
    "# 示例\n",
    "# 为什么下面结果不把dhsjiafn……作为键值，而是以其中每一个字母作为键值\n",
    "# 因为需要括号里内容为可迭代\n",
    "# 字符串可迭代，单个字符不可\n",
    "c = collections.Counter(\"dhsjiafnajhkbohklmasd/mp['zz,.;/,akA'xz c,mzbnjkfsed,n]mbhifhaslj\")\n",
    "print(c)\n",
    "\n",
    "print()\n",
    "\n",
    "print(c['h'])"
   ]
  },
  {
   "cell_type": "code",
   "execution_count": 46,
   "metadata": {},
   "outputs": [
    {
     "name": "stdout",
     "output_type": "stream",
     "text": [
      "Counter({'love': 3, 'miao': 2, 'bingbing': 1, 'yibo': 1, 'hoshizora': 1})\n",
      "\n",
      "3\n"
     ]
    }
   ],
   "source": [
    "# 示例2\n",
    "s = [\"bingbing\", \"love\", \"love\", \"love\", \"yibo\", \"hoshizora\", \"miao\", \"miao\"]\n",
    "c = collections.Counter(s)\n",
    "\n",
    "print(c)\n",
    "\n",
    "print()\n",
    "\n",
    "print(c['love'])"
   ]
  },
  {
   "cell_type": "code",
   "execution_count": null,
   "metadata": {},
   "outputs": [],
   "source": []
  }
 ],
 "metadata": {
  "kernelspec": {
   "display_name": "Python 3",
   "language": "python",
   "name": "python3"
  },
  "language_info": {
   "codemirror_mode": {
    "name": "ipython",
    "version": 3
   },
   "file_extension": ".py",
   "mimetype": "text/x-python",
   "name": "python",
   "nbconvert_exporter": "python",
   "pygments_lexer": "ipython3",
   "version": "3.7.6"
  }
 },
 "nbformat": 4,
 "nbformat_minor": 4
}
