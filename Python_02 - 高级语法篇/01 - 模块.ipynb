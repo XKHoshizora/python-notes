{
 "cells": [
  {
   "cell_type": "markdown",
   "metadata": {},
   "source": [
    "# 01. 模块\n",
    "- 一个模块就是一个包含Python代码的文件，其后缀名为“.py”。也就是说模块就是个Python文件\n",
    "- 使用模块的优势：\n",
    "    - 程序太大，编写与维护不方便，需要拆分\n",
    "    - 模块可以增加代码重复利用的方式\n",
    "    - 当做命名空间使用，避免命名冲突"
   ]
  },
  {
   "cell_type": "markdown",
   "metadata": {},
   "source": [
    "## 定义模块\n",
    "- 模块就是一个普通Python文件，可直接写\n",
    "- 模块名不能以数字开头，否则无法被识别导入\n",
    "    - 若遇到以数字开头的模块，可借助 importlib模块 来导入\n",
    "- 但是根据模块的规范，最好在模块中编写以下内容：\n",
    "    - 函数（尽量单一功能）\n",
    "    - 类（相似功能的组合等）\n",
    "    - 测试代码"
   ]
  },
  {
   "cell_type": "markdown",
   "metadata": {},
   "source": [
    "## 模块的使用\n",
    "- 直接导入模块，模块名即文件名\n",
    "    - \n",
    "- 格式：<br/>\n",
    "    import module_name （导入模块）<br/>\n",
    "    module_name.function_name （调用模块中的函数）<br/>\n",
    "    module_name.class_name （调用模块中的类）<br/>\n",
    "- 简化模块名（定义新的模块名）：<br/>\n",
    "    import module_name as mo_na （导入模块并叫做）<br/>\n",
    "    mo_na.function_name<br/>\n",
    "    mo_na.class_name<br/>\n",
    "- 借助 importlib模块 导入：<br/>\n",
    "    import importlib （导入importlib模块）<br/>\n",
    "    a = importlib.import_module(\"15634\") （相当于导入模块15634，并赋值给a）<br/>\n",
    "- 从模块中只导入某类、函数等：\n",
    "    - 格式：<br/>\n",
    "    from module_name import func_name, class_name<br/>\n",
    "    - 该方法可以有选择性的导入，模块中未导入的部分不被运行\n",
    "    - 在使用时，可直接使用导入的内容，不需要加前缀\n",
    "- from module_name import *\n",
    "    - 从该模块中导入全部内容，几乎在所有操作系统中“*”都代表“全部”\n",
    "    - 该方法和直接导入模块功能相同，但使用是不需要前缀\n",
    "    - 但不要前缀就有可能引起重名\n",
    "- from ... import * 这个方法只能用于模块等级（全局命名空间），不能用于函数内部，否则会报错\n",
    "    - 报错内容：SyntaxError: import * only allowed at module level\n",
    "- 可以使用 from ... import * 来导入指定的一些函数，但是要在模块内定义 \\_\\_all\\_\\_ 这个变量\n",
    "    - 比如：\\_\\_all\\_\\_ = ['func1', 'func2, 'func3', ...]\n",
    "\n",
    "### 单独执行模块时可以执行，导入模块的时候不执行的方法\n",
    "- 使用下面判断语句<br/>\n",
    "  if \\_\\_name\\_\\_ == '\\__main__':<br/>\n",
    "      print(\"我在单独执行模块时才会被执行\")<br/>\n",
    "- 该判断语句建议作为程序入口，即最早被执行\n",
    "- 该语句可以有效避免模块被导入时被动执行的问题"
   ]
  },
  {
   "cell_type": "markdown",
   "metadata": {},
   "source": [
    "## 模块的搜索路径和储存\n",
    "- 模块的搜索路径：即加载模块时，系统需要去寻找造的位置\n",
    "- 系统默认的模块搜索路径，可通过以下语句获取默认路径列表<br/>\n",
    "  import sys<br/>\n",
    "  sys.path<br/>\n",
    "- 添加搜索路径\n",
    "    - 即给列表添加元素（dir是需添加路径）：sys.path.append(dir)\n",
    "- 模块搜索及加载顺序：\n",
    "    1. 先搜索内存中已经加载好的模块\n",
    "    2. 搜索Python的内置模块\n",
    "    3. 搜索sys.path路径"
   ]
  },
  {
   "cell_type": "code",
   "execution_count": 5,
   "metadata": {},
   "outputs": [
    {
     "name": "stdout",
     "output_type": "stream",
     "text": [
      "<class 'list'>\n",
      "['C:\\\\Users\\\\hoshi\\\\Desktop\\\\Jupyter Notebook\\\\Python笔记\\\\Python - 高级语法篇', 'G:\\\\Anaconda3\\\\python37.zip', 'G:\\\\Anaconda3\\\\DLLs', 'G:\\\\Anaconda3\\\\lib', 'G:\\\\Anaconda3', '', 'G:\\\\Anaconda3\\\\lib\\\\site-packages', 'G:\\\\Anaconda3\\\\lib\\\\site-packages\\\\win32', 'G:\\\\Anaconda3\\\\lib\\\\site-packages\\\\win32\\\\lib', 'G:\\\\Anaconda3\\\\lib\\\\site-packages\\\\Pythonwin', 'G:\\\\Anaconda3\\\\lib\\\\site-packages\\\\IPython\\\\extensions', 'C:\\\\Users\\\\hoshi\\\\.ipython']\n"
     ]
    }
   ],
   "source": [
    "# 示例1\n",
    "import sys\n",
    "\n",
    "print(type(sys.path))\n",
    "print(sys.path)"
   ]
  },
  {
   "cell_type": "code",
   "execution_count": 6,
   "metadata": {},
   "outputs": [
    {
     "name": "stdout",
     "output_type": "stream",
     "text": [
      "<class 'list'>\n",
      "C:\\Users\\hoshi\\Desktop\\Jupyter Notebook\\Python笔记\\Python - 高级语法篇\n",
      "G:\\Anaconda3\\python37.zip\n",
      "G:\\Anaconda3\\DLLs\n",
      "G:\\Anaconda3\\lib\n",
      "G:\\Anaconda3\n",
      "\n",
      "G:\\Anaconda3\\lib\\site-packages\n",
      "G:\\Anaconda3\\lib\\site-packages\\win32\n",
      "G:\\Anaconda3\\lib\\site-packages\\win32\\lib\n",
      "G:\\Anaconda3\\lib\\site-packages\\Pythonwin\n",
      "G:\\Anaconda3\\lib\\site-packages\\IPython\\extensions\n",
      "C:\\Users\\hoshi\\.ipython\n"
     ]
    }
   ],
   "source": [
    "# 示例2（示例1的优化）\n",
    "import sys\n",
    "\n",
    "print(type(sys.path))\n",
    "\n",
    "for p in sys.path:\n",
    "    print(p)"
   ]
  },
  {
   "cell_type": "code",
   "execution_count": null,
   "metadata": {},
   "outputs": [],
   "source": []
  }
 ],
 "metadata": {
  "kernelspec": {
   "display_name": "Python 3",
   "language": "python",
   "name": "python3"
  },
  "language_info": {
   "codemirror_mode": {
    "name": "ipython",
    "version": 3
   },
   "file_extension": ".py",
   "mimetype": "text/x-python",
   "name": "python",
   "nbconvert_exporter": "python",
   "pygments_lexer": "ipython3",
   "version": "3.7.9"
  }
 },
 "nbformat": 4,
 "nbformat_minor": 2
}
