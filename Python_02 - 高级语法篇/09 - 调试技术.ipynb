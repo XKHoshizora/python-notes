{
 "cells": [
  {
   "cell_type": "markdown",
   "metadata": {},
   "source": [
    "# 09. 调试技术"
   ]
  },
  {
   "cell_type": "markdown",
   "metadata": {},
   "source": [
    "## 调试流程\n",
    "单元测试 → 集成测试 → 交给测试部门\n",
    "\n",
    "## 调试分类\n",
    "- 静态调试\n",
    "- 动态调试\n",
    "\n",
    "## pdb调试\n",
    "- pdb: python 调试库\n",
    "- 一般不用\n",
    "- 推荐文章\n",
    "    - [官方网页（英文)](https://docs.python.org/2/library/pdb.html)\n",
    "    - [pdb模块介绍](http://blog.csdn.net/carolzhang8406/article/details/6923997)\n",
    "    - [pdb调试技巧](https://www.ibm.com/developerworks/cn/linux/l-cn-pythondebugger/)\n",
    "        - 简单使用的介绍，推荐优先阅读\n",
    "    - [pdb详细中文介绍](http://blog.csdn.net/wyb_009/article/details/8896744)\n",
    "        - 主要是帮助文件的中文翻译\n",
    "    - [调试案例01](https://www.cnblogs.com/dkblog/archive/2010/12/07/1980682.html)\n",
    "    - [调试案例02](http://python.jobbole.com/81184/)\n",
    "\n",
    "## Pycharm调试\n",
    "- 两种调试模式\n",
    "    - run：整体运行程序\n",
    "    - debug：断点调试，可以设置断点来查看程序运行时的详细信息\n",
    "- 断点：程序的某一行，程序在debug模式下，遇到断点就会暂停\n",
    "\n",
    "## 单元测试\n",
    "- 推荐文档\n",
    "    - [官方测试文档集合](https://wiki.python.org/moin/PythonTestingToolsTaxonomy)\n",
    "    - [测试案例01](http://blog.csdn.net/a542551042/article/details/46696635)\n",
    "    - [PyUnit](https://wiki.python.org/moin/PyUnit)\n",
    "    - [PyUnit详细讲解案例02](http://www.jb51.net/article/64119.htm)\n",
    "    - [测试案例03](https://www.cnblogs.com/iamjqy/p/7155315.html) "
   ]
  },
  {
   "cell_type": "code",
   "execution_count": null,
   "metadata": {},
   "outputs": [],
   "source": []
  }
 ],
 "metadata": {
  "kernelspec": {
   "display_name": "Python 3",
   "language": "python",
   "name": "python3"
  },
  "language_info": {
   "codemirror_mode": {
    "name": "ipython",
    "version": 3
   },
   "file_extension": ".py",
   "mimetype": "text/x-python",
   "name": "python",
   "nbconvert_exporter": "python",
   "pygments_lexer": "ipython3",
   "version": "3.7.6"
  }
 },
 "nbformat": 4,
 "nbformat_minor": 4
}
