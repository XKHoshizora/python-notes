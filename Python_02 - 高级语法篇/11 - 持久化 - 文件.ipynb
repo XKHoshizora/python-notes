{
 "cells": [
  {
   "cell_type": "markdown",
   "metadata": {},
   "source": [
    "# 11. 持久化 - 文件"
   ]
  },
  {
   "cell_type": "markdown",
   "metadata": {},
   "source": [
    "# 文件\n",
    "- 长久保存信息的一种数据信息集合\n",
    "- 常用文件操作\n",
    "    - 打开/关闭\n",
    "        - 注意：文件一旦打开，就需要关闭操作\n",
    "    - 读写内容\n",
    "    - 查找内容"
   ]
  },
  {
   "cell_type": "markdown",
   "metadata": {},
   "source": [
    "## open函数\n",
    "- open()：负责打开文件\n",
    "- 格式：**open(file, mode='r', buffering=-1, encoding=None, errors=None, newline=None, closefd=True, opener=None)**\n",
    "    - **file**：是一个 path-like object，表示将要打开的文件的路径（绝对路径或者当前工作目录的相对路径），也可以是要被封装的整数类型文件描述符\n",
    "        - 如果是文件描述符，它会随着返回的 I/O 对象关闭而关闭，除非 closefd 被设为 False\n",
    "        - 该参数必须要有\n",
    "        - “r”表示：之后的字符串不进行转义\n",
    "    - **mode**：是一个可选字符串，用于指定打开文件的模式\n",
    "\n",
    "|字符|意义|备注|\n",
    "|:-:|:-:|:-|\n",
    "|r|读取（默认）|只读，同‘rt’。|\n",
    "|w|写入，并先截断文件，会覆盖以前的内容|同‘wt’。|\n",
    "|x|排它性创建，如果文件已存在则报错|只写，不可读，文件不存在才能创建。|\n",
    "|a|（append方法）写入，如果文件存在则在末尾追加|同‘at’。|\n",
    "|b|（binary方法）二进制模式写入||\n",
    "|t|文本模式（默认）||\n",
    "|+|打开用于更新（读取与写入）||\n",
    "|r+|打开文件不清空内容|同‘r+b’。|\n",
    "|w+|打开文件并清空内容|同‘w+b’。|\n",
    "|a+|打开文件用于读写|文件存在，则文件指针将会放在文件的结尾。文件打开时是追加模式。文件不存在，则创建新文件用于读写。|\n",
    "|ab|以二进制格式打开一个文件用于追加|文件存在，则文件指针将会放在文件结尾，即新内容会被写入到已有内容之后。文件不存在，则创建新文件进行写入。|\n",
    "|rb+|以二进制格式打开一个文件用于读写|文件指针将会放在文件开头。|\n",
    "|wb+|以二进制格式打开一个文件用于读写|文件存在则打开并从开头开始编辑，即原有内容会被删除。文件不存在，则创建新文件。|\n",
    "|ab+|以二进制格式打开一个文件用于追加|文件存在，则文件指针将会放在文件结尾。文件不存在，则创建新文件用于读写。|\n",
    "\n",
    "- \n",
    "    - **buffering**：是一个可选的整数，用于设置缓冲策略\n",
    "        - 传递0以切换缓冲关闭（仅允许在二进制模式下）\n",
    "        - 传递1选择行缓冲（仅在文本模式下可用）\n",
    "        - 传递>1的整数以指示固定大小的块缓冲区的大小（以字节为单位）\n",
    "        - 如果没有给出 buffering 参数，则默认缓冲策略的工作方式如下:\n",
    "            - 二进制文件以固定大小的块进行缓冲；使用启发式方法选择缓冲区的大小，尝试确定底层设备的“块大小”或使用 io.DEFAULT_BUFFER_SIZE\n",
    "                - 在许多系统上，缓冲区的长度通常为4096或8192字节\n",
    "            - “交互式”文本文件（ isatty() 返回 True 的文件）使用行缓冲。其他文本文件使用上述策略用于二进制文件\n",
    "    - **encoding**：是用于解码或编码文件的编码的名称，应只在文本模式下使用\n",
    "        - 默认编码依赖于平台，但可以使用任何Python支持的 text encoding \n",
    "    - **errors**：是一个可选的字符串参数，用于指定如何处理编码和解码错误 - 这不能在二进制模式下使用\n",
    "        - 可以使用各种标准错误处理程序，但是使用 codecs.register_error() 注册的任何错误处理名称也是有效的\n",
    "    - **newline**：控制 universal newlines 模式如何生效（它仅适用于文本模式）\n",
    "        - 它可以是 None，''，'\\n'，'\\r' 和 '\\r\\n'\n",
    "    - 如果 **closefd** 是 False 并且给出了文件描述符而不是文件名，那么当文件关闭时，底层文件描述符将保持打开状态\n",
    "        - 如果给出文件名则 closefd 必须为 True （默认值），否则将引发错误\n",
    "    - 可以通过传递可调用的 **opener** 来使用自定义开启器\n",
    "- 返回值：open() 函数所返回的 file object 类型取决于所用模式\n",
    "    - 当使用 open() 以文本模式 ('w', 'r', 'wt', 'rt' 等) 打开文件时，它将返回 io.TextIOBase (特别是 io.TextIOWrapper) 的一个子类 \n",
    "    - 当使用缓冲以二进制模式打开文件时，返回的类是 io.BufferedIOBase 的一个子类，具体的类会有多种：\n",
    "        - 在只读的二进制模式下，它将返回 io.BufferedReader\n",
    "        - 在写入二进制和追加二进制模式下，它将返回 io.BufferedWriter\n",
    "        - 在读/写模式下，它将返回 io.BufferedRandom\n",
    "    - 当禁用缓冲时，则会返回原始流，即 io.RawIOBase 的一个子类 io.FileIO\n",
    "- 参考：\n",
    "    - [Python open() 函数](https://www.runoob.com/python/python-func-open.html)"
   ]
  },
  {
   "cell_type": "code",
   "execution_count": 2,
   "metadata": {},
   "outputs": [],
   "source": [
    "# 打开文件，用‘w’方式\n",
    "# 这里的变量f称为“文件句柄”\n",
    "# “r”表示：之后的字符串不进行转义\n",
    "f = open(r'文件测试.txt', 'w')\n",
    "\n",
    "# 关闭文件，文件打开后必须关闭\n",
    "f.close()\n",
    "\n",
    "# 当需打开文件不存在时，以上操作相当于创建了一个文件"
   ]
  },
  {
   "cell_type": "markdown",
   "metadata": {},
   "source": [
    "## with语句\n",
    "- with语句使用的技术是一种被称作“上下文管理协议（$Context\\ Management\\ Protocol$）”的技术\n",
    "- with语句可以自动判断文件的 作用域， 自动关闭不再使用的已打开的文件句柄\n",
    "- 参考：\n",
    "    - [8. 复合语句 — Python 3.8.2rc1 文档](https://docs.python.org/zh-cn/3/reference/compound_stmts.html#with)\n",
    "    - [浅谈 Python 的 with 语句](https://www.ibm.com/developerworks/cn/opensource/os-cn-pythonwith/)\n",
    "- 在进行文件操作时，推荐使用 with语句"
   ]
  },
  {
   "cell_type": "code",
   "execution_count": 3,
   "metadata": {},
   "outputs": [],
   "source": [
    "# with语句 示例1\n",
    "# 格式：\n",
    "# with EXPRESSION as TARGET:\n",
    "#     SUITE\n",
    "\n",
    "with open(r'文件测试.txt', 'r') as f:\n",
    "    pass\n",
    "    # 下面语句块开始对文件f进行操作\n",
    "    # 在本模块中不需要再使用 close 关闭文件f"
   ]
  },
  {
   "cell_type": "markdown",
   "metadata": {},
   "source": [
    "## readline()"
   ]
  },
  {
   "cell_type": "code",
   "execution_count": 5,
   "metadata": {},
   "outputs": [
    {
     "name": "stdout",
     "output_type": "stream",
     "text": [
      "with 语句是从 Python 2.5 开始引入的一种与异常处理相关的功能（2.5 版本中要通过 from __future__ import with_statement 导入后才可以使用），从 2.6 版本开始缺省可用（参考 What's new in Python 2.6? 中 with 语句相关部分介绍）。with 语句适用于对资源进行访问的场合，确保不管使用过程中是否发生异常都会执行必要的“清理”操作，释放资源，比如文件使用后自动关闭、线程中锁的自动获取和释放等。\n"
     ]
    }
   ],
   "source": [
    "# with语句 示例2\n",
    "# 文件读取操作1\n",
    "\n",
    "with open(r'文件测试.txt', 'r') as f:\n",
    "    # 按行读取内容\n",
    "    strline = f.readline()\n",
    "    # 此结构能够保证完整读取文件内容直到结束\n",
    "    while strline: # 只要 strline 不为空，就执行\n",
    "        print(strline)\n",
    "        strline = f.readline()"
   ]
  },
  {
   "cell_type": "markdown",
   "metadata": {},
   "source": [
    "## list()\n",
    "list能用打开的文件作为参数，把文件内每一行内容作为一个元素"
   ]
  },
  {
   "cell_type": "code",
   "execution_count": 6,
   "metadata": {},
   "outputs": [
    {
     "name": "stdout",
     "output_type": "stream",
     "text": [
      "with 语句是从 Python 2.5 开始引入的一种与异常处理相关的功能（2.5 版本中要通过 from __future__ import with_statement 导入后才可以使用），从 2.6 版本开始缺省可用（参考 What's new in Python 2.6? 中 with 语句相关部分介绍）。with 语句适用于对资源进行访问的场合，确保不管使用过程中是否发生异常都会执行必要的“清理”操作，释放资源，比如文件使用后自动关闭、线程中锁的自动获取和释放等。\n"
     ]
    }
   ],
   "source": [
    "# 文件读取操作2\n",
    "# list能用打开的文件作为参数，把文件内每一行内容作为一个元素\n",
    "\n",
    "with open(r'文件测试.txt', 'r') as f:\n",
    "    # 以打开的文件f作为参数创建列表\n",
    "    l = list(f)\n",
    "    for line in l:\n",
    "        print(line)"
   ]
  },
  {
   "cell_type": "markdown",
   "metadata": {},
   "source": [
    "## read()\n",
    "- read是按字符读取文件内容\n",
    "- 允许输入参数来决定读取几个字符\n",
    "- 如果指定参数，则从当前位置开始读取指定个数字符；如果没有指定参数，则从当前位置读取到末尾"
   ]
  },
  {
   "cell_type": "code",
   "execution_count": 50,
   "metadata": {},
   "outputs": [
    {
     "name": "stdout",
     "output_type": "stream",
     "text": [
      "240\n",
      "with 语句是从 Python 2.5 开始引入的一种与异常处理相关的功能（2.5 版本中要通过 from __future__ import with_statement 导入后才可以使用），从 2.6 版本开始缺省可用（参考 What's new in Python 2.6? 中 with 语句相关部分介绍）。with 语句适用于对资源进行访问的场合，确保不管使用过程中是否发生异常都会执行必要的“清理”操作，释放资源，比如文件使用后自动关闭、线程中锁的自动获取和释放等。\n",
      "\n",
      "20\n",
      "with 语句是从 Python 2.5\n",
      "\n",
      "with 语句是从 Python 2.5 开始引入的一种与异常处理相关的功能（2.5 版本中要通过 from __future__ import with_statement 导入后才可以使用），从 2.6 版本开始缺省可用（参考 What's new in Python 2.6? 中 with 语句相关部分介绍）。with 语句适用于对资源进行访问的场合，确保不管使用过程中是否发生异常都会执行必要的“清理”操作，释放资源，比如文件使用后自动关闭、线程中锁的自动获取和释放等。"
     ]
    }
   ],
   "source": [
    "# 文件读取操作3\n",
    "# read是按字符读取文件内容\n",
    "# 允许输入参数来决定读取几个字符。如果指定参数，则从当前位置开始读取指定个数字符；如果没有指定参数，则从当前位置读取到末尾\n",
    "\n",
    "with open(r'文件测试.txt', 'r') as f:\n",
    "    strChar = f.read()\n",
    "    print(len(strChar))\n",
    "    print(strChar)\n",
    "\n",
    "print()\n",
    "\n",
    "with open(r'文件测试.txt', 'r') as f:\n",
    "    strChar = f.read(20)\n",
    "    print(len(strChar))\n",
    "    print(strChar)\n",
    "\n",
    "print()\n",
    "\n",
    "# 使用read读取文件，每次读取一个，使用循环读完\n",
    "# 尽量保持格式\n",
    "# read的参数表示的是字符，不是字节，包含换行符\n",
    "with open(r'文件测试.txt', 'r') as f:\n",
    "    while True:\n",
    "        strChar = f.read(1)\n",
    "        print(strChar, end=\"\")\n",
    "        if not strChar: break"
   ]
  },
  {
   "cell_type": "markdown",
   "metadata": {},
   "source": [
    "## seek\n",
    "- seek()：用于移动文件读取指针到指定位置\n",
    "- 格式：seek(offset, whence=0)\n",
    "    - offset：开始的偏移量，也就是代表需要移动偏移的字节数\n",
    "        - 移动的单位是字节(byte)\n",
    "        - 一个字母由1个字节构成\n",
    "        - 一个汉字由多个字节构成，根据编码方式不同而改变\n",
    "    - whence：可选，默认值为 0\n",
    "        - 0：从文件开头开始偏移\n",
    "        - 1：从文件当前位置开始偏移\n",
    "        - 2：从文件末尾开始偏移\n",
    "- 返回文件只针对 当前位置"
   ]
  },
  {
   "cell_type": "code",
   "execution_count": 32,
   "metadata": {},
   "outputs": [
    {
     "name": "stdout",
     "output_type": "stream",
     "text": [
      "开始引入的一种与异常处理相关的功能（2.5 版本中要通过 from __future__ import with_statement 导入后才可以使用），从 2.6 版本开始缺省可用（参考 What's new in Python 2.6? 中 with 语句相关部分介绍）。with 语句适用于对资源进行访问的场合，确保不管使用过程中是否发生异常都会执行必要的“清理”操作，释放资源，比如文件使用后自动关闭、线程中锁的自动获取和释放等。\n"
     ]
    }
   ],
   "source": [
    "# seek 示例\n",
    "# 打开文件后，从第5个字节处开始读取\n",
    "# 打开文件后，读取指针默认在0处\n",
    "with open(r'文件测试.txt', 'r') as f:\n",
    "    # seek移动单位是字节\n",
    "    f.seek(25)\n",
    "    strChar = f.read()\n",
    "    print(strChar)"
   ]
  },
  {
   "cell_type": "code",
   "execution_count": 57,
   "metadata": {},
   "outputs": [
    {
     "name": "stdout",
     "output_type": "stream",
     "text": [
      "with 语句是从 Python 2.5 开始引入的一种与异常处理相关的功能（2.5 版本中要通过 from __future__ import with_statement 导入后才可以使用），从 2.6 版本开始缺省可用（参考 What's new in Python 2.6? 中 with 语句相关部分介绍）。with 语句适用于对资源进行访问的场合，确保不管使用过程中是否发生异常都会执行必要的“清理”操作，释放资源，比如文件使用后自动关闭、线程中锁的自动获取和释放等。\n",
      "\n",
      "with 语句是从 Python 2.5 开始引入的一种与异常处理相关的功能（2.5 版本中要通过 from __future__ import with_statement 导入后才可以使用），从 2.6 版本开始缺省可用（参考 What's new in Python 2.6? 中 with 语句相关部分介绍）。with 语句适用于对资源进行访问的场合，确保不管使用过程中是否发生异常都会执行必要的“清理”操作，释放资源，比如文件使用后自动关闭、线程中锁的自动获取和释放等。"
     ]
    }
   ],
   "source": [
    "# 关于读取文件的练习\n",
    "# 打开文件，10个字符一组读出内容，然后显示在屏幕上\n",
    "# read的参数表示的是字符，不是字节\n",
    "# 每读一次，休息一秒钟\n",
    "\n",
    "# 让程序暂停，可以使用time下的sleep函数\n",
    "import time\n",
    "\n",
    "# 方法一\n",
    "with open(r'文件测试.txt', 'r') as f:\n",
    "    strChar = f.read(10)\n",
    "    while strChar:\n",
    "        print(strChar, end=\"\")\n",
    "        # sleep参数单位是秒\n",
    "        time.sleep(0.5)\n",
    "        strChar = f.read(10)\n",
    "\n",
    "print()\n",
    "print()\n",
    "\n",
    "# 方法二\n",
    "with open(r'文件测试.txt', 'r') as f:\n",
    "    while True:\n",
    "        strChar = f.read(10)\n",
    "        print(strChar, end=\"\")\n",
    "        time.sleep(0.5)\n",
    "        if not strChar: break"
   ]
  },
  {
   "cell_type": "markdown",
   "metadata": {},
   "source": [
    "## tell()\n",
    "- 用来显示文件读写指针的当前位置\n",
    "- tell返回值的单位是byte"
   ]
  },
  {
   "cell_type": "code",
   "execution_count": 63,
   "metadata": {
    "scrolled": false
   },
   "outputs": [
    {
     "name": "stdout",
     "output_type": "stream",
     "text": [
      "24\n",
      "with 语句是从 Python 2.5\n",
      "62\n",
      " 开始引入的一种与异常处理相关的功能（2\n",
      "88\n",
      ".5 版本中要通过 from __fut\n",
      "108\n",
      "ure__ import with_st\n",
      "139\n",
      "atement 导入后才可以使用），从 \n",
      "170\n",
      "2.6 版本开始缺省可用（参考 What\n",
      "190\n",
      "'s new in Python 2.6\n",
      "221\n",
      "? 中 with 语句相关部分介绍）。w\n",
      "257\n",
      "ith 语句适用于对资源进行访问的场合，\n",
      "297\n",
      "确保不管使用过程中是否发生异常都会执行必\n",
      "338\n",
      "要的“清理”操作，释放资源，比如文件使用\n",
      "377\n",
      "后自动关闭、线程中锁的自动获取和释放等。\n"
     ]
    }
   ],
   "source": [
    "# tell函数：用来显示文件读写指针的当前位置\n",
    "with open(r'文件测试.txt', 'r') as f:\n",
    "    strChar = f.read(20)\n",
    "    pos = f.tell()\n",
    "    \n",
    "    while strChar:\n",
    "        print(pos)\n",
    "        print(strChar, end=\"\")\n",
    "        strChar = f.read(20)\n",
    "        print(\"\")\n",
    "        pos = f.tell()\n",
    "\n",
    "# 结果说明：\n",
    "# tell的返回数字的单位是byte\n",
    "# read是以字符为单位"
   ]
  },
  {
   "cell_type": "markdown",
   "metadata": {},
   "source": [
    "## 文件的写入操作 - write() 与 writelines()\n",
    "- write(str)：将字符串写入文件\n",
    "- writelines(strlist)：将字符串或字符串列表写入文件\n",
    "- 区别：\n",
    "    - write函数 参数只能是字符串\n",
    "    - writerlines函数 参数可以是字符串，也可以是字符串列表"
   ]
  },
  {
   "cell_type": "code",
   "execution_count": 70,
   "metadata": {},
   "outputs": [],
   "source": [
    "# write 示例\n",
    "# 向文件中追加一句话\n",
    "\n",
    "# a代表以追加方式打开\n",
    "with open(r'文件测试.txt', 'a') as f:\n",
    "    f.write(\"\\n这特么都是什么乱七八糟的\\n我要回家！\")"
   ]
  },
  {
   "cell_type": "code",
   "execution_count": 74,
   "metadata": {},
   "outputs": [],
   "source": [
    "# writelines 示例\n",
    "with open(r'文件测试.txt', 'a') as f:\n",
    "    f.writelines([\"傻逼冠状病毒\", \"特么我啥时候能回去！\"])"
   ]
  },
  {
   "cell_type": "code",
   "execution_count": 76,
   "metadata": {},
   "outputs": [],
   "source": [
    "l = [\"I \", \"love \", \"bingbing!\"]\n",
    "\n",
    "# a代表追加方式打开\n",
    "with open(r'文件测试.txt', 'a') as f:\n",
    "    # 注意字符串内含有换行符\n",
    "    f.writelines(l)"
   ]
  },
  {
   "cell_type": "markdown",
   "metadata": {},
   "source": [
    "## replace()"
   ]
  },
  {
   "cell_type": "code",
   "execution_count": null,
   "metadata": {},
   "outputs": [],
   "source": []
  },
  {
   "cell_type": "markdown",
   "metadata": {},
   "source": [
    "## flush()\n",
    "- 方法是用来刷新缓冲区的，即将缓冲区中的数据立刻写入文件，同时清空缓冲区。不需要即时存入时，可被动等待输出缓冲区写入。\n",
    "- 一般情况下，文件关闭后会自动刷新缓冲区，但有时你需要在关闭前刷新它，这时就可以使用 flush() 方法。\n",
    "- 无需参数\n",
    "- 无返回值"
   ]
  },
  {
   "cell_type": "code",
   "execution_count": 1,
   "metadata": {},
   "outputs": [],
   "source": [
    "# flush() 示例\n",
    "with open(r'文件测试2.txt', 'a') as f:\n",
    "    f.writelines([\"傻逼冠状病毒\", \"特么我还没回去！\"])\n",
    "    \n",
    "    f.flush()"
   ]
  },
  {
   "cell_type": "code",
   "execution_count": null,
   "metadata": {},
   "outputs": [],
   "source": []
  }
 ],
 "metadata": {
  "kernelspec": {
   "display_name": "Python 3",
   "language": "python",
   "name": "python3"
  },
  "language_info": {
   "codemirror_mode": {
    "name": "ipython",
    "version": 3
   },
   "file_extension": ".py",
   "mimetype": "text/x-python",
   "name": "python",
   "nbconvert_exporter": "python",
   "pygments_lexer": "ipython3",
   "version": "3.7.9"
  }
 },
 "nbformat": 4,
 "nbformat_minor": 4
}
