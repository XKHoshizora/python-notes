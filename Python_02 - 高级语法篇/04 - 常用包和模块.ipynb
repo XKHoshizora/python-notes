{
 "cells": [
  {
   "cell_type": "markdown",
   "metadata": {},
   "source": [
    "# 04. 常用包和模块"
   ]
  },
  {
   "cell_type": "markdown",
   "metadata": {},
   "source": [
    "# 常用模块\n",
    "\n",
    "## 常用时间模块\n",
    "- math\n",
    "- calendar\n",
    "- time\n",
    "- datetime\n",
    "- timeit\n",
    "\n",
    "## 常用其他模块\n",
    "- os\n",
    "- shutil\n",
    "- zip\n",
    "- string\n",
    "- 模块一般都需要先导入，string是特例\n",
    "- calendar，time，datetime区别参考中文意思"
   ]
  },
  {
   "cell_type": "code",
   "execution_count": null,
   "metadata": {},
   "outputs": [],
   "source": []
  }
 ],
 "metadata": {
  "kernelspec": {
   "display_name": "Python 3",
   "language": "python",
   "name": "python3"
  },
  "language_info": {
   "codemirror_mode": {
    "name": "ipython",
    "version": 3
   },
   "file_extension": ".py",
   "mimetype": "text/x-python",
   "name": "python",
   "nbconvert_exporter": "python",
   "pygments_lexer": "ipython3",
   "version": "3.7.6"
  }
 },
 "nbformat": 4,
 "nbformat_minor": 4
}
