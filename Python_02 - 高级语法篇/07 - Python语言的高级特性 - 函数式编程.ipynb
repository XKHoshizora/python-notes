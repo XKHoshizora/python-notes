{
 "cells": [
  {
   "cell_type": "markdown",
   "metadata": {},
   "source": [
    "# 07. Python语言的高级特性 - 函数式编程"
   ]
  },
  {
   "cell_type": "markdown",
   "metadata": {},
   "source": [
    "# 函数式编程（$Functional\\ Programming$）\n",
    "- 基于 $\\lambda$ 演算的一种编程方式\n",
    "    - 程序中只有函数\n",
    "    - 函数可以作为参数，同样可以作为返回值\n",
    "    - 纯函数式编程语言：LISP，Haskell\n",
    "- Python函数式编程只是借鉴了纯函数式编程的一些特点，可以理解成一半函数式一半Python\n",
    "- 需要讲的内容：\n",
    "    - 高阶函数\n",
    "    - 返回函数\n",
    "    - 匿名函数\n",
    "    - 装饰器\n",
    "    - 偏函数"
   ]
  },
  {
   "cell_type": "markdown",
   "metadata": {},
   "source": [
    "## Lambda表达式（$Lambda\\ Expression$）\n",
    "- lambda表达式（有时称为 lambda 构型）被用于创建匿名函数\n",
    "- lambda表达式是一个匿名函数（即没有函数名的函数），基于数学中的 $\\lambda$ 演算得名\n",
    "- 与其它语言不同，Python的lambda表达式的函数体只能有单独的一条语句，也就是返回值表达式语句\n",
    "- 普通函数：可以最大程度复用代码\n",
    "    - 存在问题：\n",
    "        - 如果函数很小、很短，则会显得很啰嗦\n",
    "        - 如果函数被调用次数少，则会造成浪费\n",
    "        - 对于阅读者来说，则会造成阅读被迫中断\n",
    "- lambda表达式（匿名函数）：\n",
    "    - 一个表达式，函数体相对简单\n",
    "    - 不是一个代码块，仅仅是一个表达式\n",
    "    - 可以有一个或多个参数，用逗号隔开\n",
    "    - 通过lambda表达式创建的函数不能包含语句或标注\n",
    "- lambda表达式的用法：\n",
    "    1. 以“lambda”开头\n",
    "    2. 紧跟一定的参数（如果有的话）\n",
    "    3. 参数后用“:”将表达式主体隔开\n",
    "    4. 因为只是一个表达式，所以没有 return"
   ]
  },
  {
   "cell_type": "code",
   "execution_count": 3,
   "metadata": {},
   "outputs": [
    {
     "name": "stdout",
     "output_type": "stream",
     "text": [
      "8900\n"
     ]
    }
   ],
   "source": [
    "# lambda表达式 示例\n",
    "\n",
    "# 计算某个数的100倍\n",
    "stm = lambda x: 100 * x\n",
    "\n",
    "num = stm(89)\n",
    "\n",
    "print(num)"
   ]
  },
  {
   "cell_type": "code",
   "execution_count": 4,
   "metadata": {},
   "outputs": [
    {
     "data": {
      "text/plain": [
       "6563"
      ]
     },
     "execution_count": 4,
     "metadata": {},
     "output_type": "execute_result"
    }
   ],
   "source": [
    "# 多参数示例\n",
    "\n",
    "stm2 = lambda x,y,z: x + y ** z\n",
    "\n",
    "stm2(2,3,8)"
   ]
  },
  {
   "cell_type": "markdown",
   "metadata": {},
   "source": [
    "## 高阶函数\n",
    "- 将函数作为参数使用的函数，或将函数作为返回值的函数，叫做高阶函数"
   ]
  },
  {
   "cell_type": "code",
   "execution_count": 6,
   "metadata": {},
   "outputs": [
    {
     "name": "stdout",
     "output_type": "stream",
     "text": [
      "In funA\n"
     ]
    }
   ],
   "source": [
    "# 变量可以赋值\n",
    "\n",
    "# 函数名就是一个变量\n",
    "\n",
    "def funA():\n",
    "    print(\"In funA\")\n",
    "\n",
    "funB = funA\n",
    "\n",
    "funB()\n",
    "\n",
    "# 以上代码可得出：\n",
    "# 1.函数名是变量\n",
    "# 2.funA 与 funB 只是名称不同而已\n",
    "# 3.既然函数名是变量，则可以被当做参数传入另一个函数"
   ]
  },
  {
   "cell_type": "code",
   "execution_count": 9,
   "metadata": {},
   "outputs": [
    {
     "name": "stdout",
     "output_type": "stream",
     "text": [
      "2400\n",
      "2400\n",
      "240\n"
     ]
    }
   ],
   "source": [
    "# 高阶函数 示例\n",
    "\n",
    "# 假设 funA 是一个普通函数，返回一个传入数字的100倍数\n",
    "def funA(n):\n",
    "    return n * 100\n",
    "\n",
    "# 另外定义一个函数，将传入的参数变为原来的300倍\n",
    "def funB(n):\n",
    "    # 最终返回 300n\n",
    "    return funA(n) * 3\n",
    "\n",
    "print(funB(8))\n",
    "\n",
    "# 利用高阶函数实现\n",
    "def funC(n, f):\n",
    "    # 假设f函数是把n扩大100倍\n",
    "    return f(n) * 3\n",
    "\n",
    "print(funC(8, funA))\n",
    "\n",
    "# 比较 funB 与 funC ，显然 funC 更加灵活\n",
    "# 加入更改为需要扩大30倍，则 funB 无法实现\n",
    "def funD(n):\n",
    "    return n * 10\n",
    "\n",
    "print(funC(8, funD))"
   ]
  },
  {
   "cell_type": "markdown",
   "metadata": {},
   "source": [
    "## 系统常用高阶函数\n",
    "\n",
    "### map()\n",
    "- 原意为映射，即把集合或列表的每个元素，都按照一定的规则进行操作，生成一个新的集合或列表\n",
    "- map()：将 function 应用于 iterable 中每一项并输出其结果的迭代器\n",
    "    - 格式：map(function, iterable, ...)\n",
    "        - iterable：为可迭代对象\n",
    "    - 返回值：无，直接在原集合或列表中进行操作\n",
    "    - 如果传入了额外的 iterable 参数，function 必须接受相同个数的实参并被应用于从所有可迭代对象中并行获取的项\n",
    "    - 当有多个可迭代对象时，最短的可迭代对象耗尽则整个迭代就将结束\n",
    "    - 操作结果如果可迭代，则可以用for循环来输出"
   ]
  },
  {
   "cell_type": "code",
   "execution_count": 9,
   "metadata": {},
   "outputs": [
    {
     "name": "stdout",
     "output_type": "stream",
     "text": [
      "[0, 1, 2, 3, 4, 5, 6, 7, 8, 9]\n",
      "[0, 10, 20, 30, 40, 50, 60, 70, 80, 90]\n",
      "[0, 10, 20, 30, 40, 50, 60, 70, 80, 90]\n",
      "[]\n"
     ]
    }
   ],
   "source": [
    "# map函数 示例\n",
    "# 假设有一个列表，将列表里每一个元素都乘以100，并得到新的列表\n",
    "\n",
    "l1 = [i for i in range(10)]\n",
    "print(l1)\n",
    "\n",
    "l2 = []\n",
    "\n",
    "for i in l1:\n",
    "    l2.append(i * 10)\n",
    "\n",
    "print(l2)\n",
    "\n",
    "# 利用map实现\n",
    "def mulTen(n):\n",
    "    return n * 10\n",
    "\n",
    "l3 = map(mulTen, l1)\n",
    "l4 = []\n",
    "# map类型是一个可迭代的结构，且遍历完之后被清空\n",
    "# 使用for循环形成列表\n",
    "for i in l3:\n",
    "    l4.append(i)\n",
    "print(l4)\n",
    "\n",
    "# 因此此处生成一个空列表\n",
    "l5 = [i for i in l3]\n",
    "print(l5)"
   ]
  },
  {
   "cell_type": "markdown",
   "metadata": {},
   "source": [
    "### filter()\n",
    "- 过滤函数：对一组数据进行过滤，符合条件的数据会生成一个新的列表并返回\n",
    "- 与 map()函数 的比较：\n",
    "    - 相同点：都对可迭代对象里的每一个元素逐一进行操作\n",
    "    - 不同点：\n",
    "        - map()函数 会生成一个跟原数组元素数相对应的新数据组\n",
    "        - filter()函数 会生成一个只有符合条件的元素所组成的新数据组\n",
    "- filter()：用 iterable 中函数 function 返回真的那些元素，构建一个新的迭代器\n",
    "    - 利用给定函数进行判断\n",
    "    - 格式：filter(function, iterable)\n",
    "        - function：一个过滤函数\n",
    "        - iterable：可以是一个序列，一个支持迭代的容器，或一个迭代器\n",
    "        - 如果 function 是 None ，则会假设它是一个身份函数，即 iterable 中所有返回假的元素会被移除\n",
    "    - 过滤函数返回值：一定是个布尔值\n",
    "- 注意：filter(function, iterable) 相当于一个生成器表达式\n",
    "    - 当 function 不是 None 的时候为 (item for item in iterable if function(item))\n",
    "    - 当 function 是 None 的时候为 (item for item in iterable if item)"
   ]
  },
  {
   "cell_type": "code",
   "execution_count": 16,
   "metadata": {},
   "outputs": [
    {
     "name": "stdout",
     "output_type": "stream",
     "text": [
      "[0, 2, 4, 6, 8, 10, 12, 14, 16, 18, 20, 22, 24, 26, 28, 30, 32, 34, 36, 38, 40, 42, 44, 46, 48, 50, 52, 54, 56, 58, 60, 62, 64, 66, 68, 70, 72, 74, 76, 78, 80, 82, 84, 86, 88, 90, 92, 94, 96, 98]\n"
     ]
    }
   ],
   "source": [
    "# filter() 示例\n",
    "# 讲一个列表进行过滤，其中的偶数组成一个新的列表\n",
    "\n",
    "# 定义一个列表\n",
    "l = [i for i in range(100)]\n",
    "\n",
    "# 定义过滤函数，要求：有输入，返回布尔值\n",
    "def isEven(a):\n",
    "    return a % 2 == 0\n",
    "\n",
    "rst = filter(isEven, l)\n",
    "\n",
    "l2 = [i for i in rst]\n",
    "\n",
    "print(l2)"
   ]
  },
  {
   "cell_type": "markdown",
   "metadata": {},
   "source": [
    "### reduce()\n",
    "- 原意是归并、缩减，将一个可迭代对象最终归并为一个结果\n",
    "- reduce()：将两个参数的 function 从左至右积累地应用到 iterable 的条目，以便将该可迭代对象缩减为单一的值\n",
    "    - 格式：reduce(function, iterable[, initializer])\n",
    "        - 作为参数的函数 function 必须传入两个参数且必须有返回值，iterable 可以是列表或元组\n",
    "        - 如果存在可选项 initializer，它会被放在参与计算的可迭代对象的条目之前，并在可迭代对象为空时作为默认值\n",
    "        - 如果没有给出 initializer 并且 iterable 仅包含一个条目，则将返回第一项\n",
    "    - 返回值：按照函数计算出的最终结果\n",
    "- 使用 reduce()函数，需要导入 functools模块"
   ]
  },
  {
   "cell_type": "code",
   "execution_count": 11,
   "metadata": {},
   "outputs": [
    {
     "name": "stdout",
     "output_type": "stream",
     "text": [
      "45\n"
     ]
    }
   ],
   "source": [
    "# 示例\n",
    "from functools import reduce\n",
    "# 定义一个操作函数，必须有两个参数和返回值\n",
    "def myAdd(x, y):\n",
    "    return x + y\n",
    "\n",
    "num = reduce(myAdd, [i for i in range(10)])\n",
    "\n",
    "print(num)"
   ]
  },
  {
   "cell_type": "markdown",
   "metadata": {},
   "source": [
    "### sorted()\n",
    "- 用来排序\n",
    "- 将一个序列按照给定算法进行排序\n",
    "- python2 和 python3 相差巨大\n",
    "- sorted()：根据 iterable 中的项返回一个新的已排序列表\n",
    "    - 格式：sorted(iterable, *, key=None, reverse=False)\n",
    "        - 具有两个可选参数，它们都必须指定为关键字参数\n",
    "        - key：指定带有单个参数的函数，用于从 iterable 的每个元素中提取用于比较的键 (例如 key=str.lower)\n",
    "            - 默认值为 None (直接比较元素)\n",
    "        - reverse：为一个布尔值，如果设为 True，则每个列表元素将按反向顺序比较进行排序\n",
    "    - 返回值：返回已排序列表"
   ]
  },
  {
   "cell_type": "code",
   "execution_count": 21,
   "metadata": {},
   "outputs": [
    {
     "name": "stdout",
     "output_type": "stream",
     "text": [
      "[980, 764, 310, 628, 510, 658, 143, 549, 129, 81, 979, 821, 113, 302, 222, 949, 535, 125, 233, 121, 4, 514, 53, 411, 496, 66, 521, 603, 891, 184, 200, 39, 46, 120, 892, 924, 7, 783, 429, 562, 166, 88, 637, 393, 916, 618, 850, 127, 685, 186]\n",
      "\n",
      "[4, 7, 39, 46, 53, 66, 81, 88, 113, 120, 121, 125, 127, 129, 143, 166, 184, 186, 200, 222, 233, 302, 310, 393, 411, 429, 496, 510, 514, 521, 535, 549, 562, 603, 618, 628, 637, 658, 685, 764, 783, 821, 850, 891, 892, 916, 924, 949, 979, 980]\n",
      "\n",
      "[980, 979, 949, 924, 916, 892, 891, 850, 821, 783, 764, 685, 658, 637, 628, 618, 603, 562, 549, 535, 521, 514, 510, 496, 429, 411, 393, 310, 302, 233, 222, 200, 186, 184, 166, 143, 129, 127, 125, 121, 120, 113, 88, 81, 66, 53, 46, 39, 7, 4]\n"
     ]
    }
   ],
   "source": [
    "# 排序案例\n",
    "\n",
    "# 定义一个随机数列表\n",
    "rl = []\n",
    "for i in range(50):\n",
    "    n = random.randint(0,1000)\n",
    "    rl.append(n)\n",
    "print(rl)\n",
    "\n",
    "print()\n",
    "# 按照正序排列\n",
    "sl1 = sorted(rl)\n",
    "print(sl1)\n",
    "\n",
    "print()\n",
    "# 按照倒序排列\n",
    "sl2 = sorted(rl,reverse=True)\n",
    "print(sl2)"
   ]
  },
  {
   "cell_type": "code",
   "execution_count": 24,
   "metadata": {},
   "outputs": [
    {
     "name": "stdout",
     "output_type": "stream",
     "text": [
      "[-4345, 45, -43, 23, -23, 6, 2]\n"
     ]
    }
   ],
   "source": [
    "# 排序案例2\n",
    "# 按照绝对值的倒序排列\n",
    "\n",
    "a = [-43, 23, 45, 6, -23, 2, -4345]\n",
    "\n",
    "# abs是求绝对值的意思\n",
    "al = sorted(a, key=abs, reverse=True)\n",
    "\n",
    "print(al)"
   ]
  },
  {
   "cell_type": "code",
   "execution_count": 27,
   "metadata": {},
   "outputs": [
    {
     "name": "stdout",
     "output_type": "stream",
     "text": [
      "['BingBing', 'Hoshi', 'alove', 'ihaku', 'zora']\n",
      "['alove', 'BingBing', 'Hoshi', 'ihaku', 'zora']\n"
     ]
    }
   ],
   "source": [
    "# 排序案例3\n",
    "\n",
    "lstr = ['ihaku', 'Hoshi', 'BingBing', 'alove', 'zora']\n",
    "\n",
    "str1 = sorted(lstr)\n",
    "print(str1)\n",
    "\n",
    "str2 = sorted(lstr, key=str.lower)\n",
    "print(str2)"
   ]
  },
  {
   "cell_type": "markdown",
   "metadata": {},
   "source": [
    "## 返回函数\n",
    "- 该函数可以返回具体的值\n",
    "- 也可以返回一个函数作为结果\n",
    "- args：打印当前函数的参数列表\n",
    "    - *args：保存的是没有利用的所有多余参数，保存方式为元组\n",
    "    - \\*\\*args：输入多余参数有变量名，就保存在“\\**args”中保存，保存方式为字典\n",
    "    - 如果多余参数中既有“\\*args”类型，也有“\\**args”类型，则分别保存"
   ]
  },
  {
   "cell_type": "code",
   "execution_count": 28,
   "metadata": {},
   "outputs": [],
   "source": [
    "# 定义一个普通函数\n",
    "\n",
    "def myFunc(a):\n",
    "    print(\"In myFunc\")\n",
    "    return None"
   ]
  },
  {
   "cell_type": "code",
   "execution_count": 30,
   "metadata": {},
   "outputs": [
    {
     "name": "stdout",
     "output_type": "stream",
     "text": [
      "In myFunc\n",
      "None\n"
     ]
    }
   ],
   "source": [
    "a = myFunc(9)\n",
    "print(a)"
   ]
  },
  {
   "cell_type": "code",
   "execution_count": 32,
   "metadata": {},
   "outputs": [
    {
     "name": "stdout",
     "output_type": "stream",
     "text": [
      "<function myFunc2.<locals>.myFunc3 at 0x000001EB59D0B948>\n",
      "In myFunc3\n"
     ]
    },
    {
     "data": {
      "text/plain": [
       "3"
      ]
     },
     "execution_count": 32,
     "metadata": {},
     "output_type": "execute_result"
    }
   ],
   "source": [
    "# 将函数作为返回值返回，被返回的函数在函数体内定义\n",
    "\n",
    "def myFunc2():\n",
    "    def myFunc3():\n",
    "        print(\"In myFunc3\")\n",
    "        return 3\n",
    "    return myFunc3\n",
    "\n",
    "# 调用\n",
    "f3 = myFunc2()\n",
    "print(f3)\n",
    "\n",
    "f3()"
   ]
  },
  {
   "cell_type": "code",
   "execution_count": 35,
   "metadata": {},
   "outputs": [
    {
     "data": {
      "text/plain": [
       "45"
      ]
     },
     "execution_count": 35,
     "metadata": {},
     "output_type": "execute_result"
    }
   ],
   "source": [
    "# 复杂化返回函数示例\n",
    "# *args：保存的是没有利用的所有多余参数，保存方式为元组\n",
    "# 1.myFunc4函数：返回内部函数myFunc5\n",
    "# 2.myFunc5函数：使用了外部变量，这个变量是myFunc4的参数\n",
    "\n",
    "def myFunc4(*args):\n",
    "    def myFunc5():\n",
    "        rst = 0\n",
    "        for n in args:\n",
    "            rst += n\n",
    "        return rst\n",
    "    return myFunc5\n",
    "\n",
    "# 调用\n",
    "\n",
    "f5 = myFunc4(1,2,3,4,5,6,7,8,9,0)\n",
    "\n",
    "f5()\n",
    "\n",
    "# myFunc4函数是一个标准的闭包结构"
   ]
  },
  {
   "cell_type": "markdown",
   "metadata": {},
   "source": [
    "## 闭包（$Closure$）\n",
    "1. 定义一个函数，在该函数内部再定义一个或多个内部函数，且内部函数用到了外部函数的参数或局部变量\n",
    "2. 当内部函数被当做返回值时，相关参数和变量将被保存在返回函数中\n",
    "3. 此时，将内部函数与其用到的相关参数和变量统称为闭包\n",
    "- 特点：\n",
    "    - 嵌套函数\n",
    "    - 内部函数使用了外部函数的变量（包含传入外部函数的参数）\n",
    "    - 外部函数返回值为内部函数"
   ]
  },
  {
   "cell_type": "code",
   "execution_count": 39,
   "metadata": {},
   "outputs": [
    {
     "name": "stdout",
     "output_type": "stream",
     "text": [
      "9\n",
      "9\n",
      "9\n"
     ]
    }
   ],
   "source": [
    "# 闭包常见坑\n",
    "def count():\n",
    "    # 定义列表，列表里存放的是定义的函数\n",
    "    fs = []\n",
    "    for i in range(1,4):\n",
    "        # 定义了一个函数f\n",
    "        # f是一个闭包结构\n",
    "        def f():\n",
    "            return i*i\n",
    "        fs.append(f)\n",
    "    return fs\n",
    "\n",
    "f1,f2,f3 = count()\n",
    "\n",
    "print(f1()) # 期望返回1\n",
    "print(f2()) # 期望返回4\n",
    "print(f3()) # 期望返回9"
   ]
  },
  {
   "cell_type": "markdown",
   "metadata": {},
   "source": [
    "### 上述示例出现问题的原因\n",
    "- 造成上述状况的原因是,返回函数引用了变量i，i并非立即执行，而是等到三次循环都结束的时候才统一使用，此时i已经变成了3，最终调用时，返回的都是 3*3\n",
    "- 问题描述：返回闭包时，返回函数不能引用任何循环变量\n",
    "- 解决方案：再创建一个函数，用该函数的参数绑定循环变量的当前值，无论该循环变量以后如何改变，已经绑定的函数参数值不再改变"
   ]
  },
  {
   "cell_type": "code",
   "execution_count": 40,
   "metadata": {},
   "outputs": [
    {
     "name": "stdout",
     "output_type": "stream",
     "text": [
      "1\n",
      "4\n",
      "9\n"
     ]
    }
   ],
   "source": [
    "# 解决方案\n",
    "\n",
    "# 原函数\n",
    "# def count():\n",
    "#     fs = []\n",
    "#     for i in range(1,4):\n",
    "#         def f():\n",
    "#             return i*i\n",
    "#         fs.append(f)\n",
    "#     return fs\n",
    "\n",
    "# 修改后函数\n",
    "def count2():\n",
    "    def f(j):\n",
    "        def g():\n",
    "            return j*j\n",
    "        return g\n",
    "    fs = []\n",
    "    for i in range(1,4):\n",
    "        fs.append(f(i))\n",
    "    return fs\n",
    "\n",
    "f1,f2,f3 = count2()\n",
    "\n",
    "print(f1())\n",
    "print(f2())\n",
    "print(f3())"
   ]
  },
  {
   "cell_type": "markdown",
   "metadata": {},
   "source": [
    "## 装饰器（$Decorator$）\n",
    "- 在不改动函数代码的基础上无限制扩展函数功能的一种机制，本质上讲，装饰器是一个返回函数的高阶函数，即一个闭包\n",
    "- 特点：\n",
    "    - 增强某一函数的功能\n",
    "    - 不修改原函数的定义\n",
    "    - 在代码运行期间动态增加功能\n",
    "    - 一旦定义，则可装饰任何函数\n",
    "    - 某个函数一旦被装饰，则会把装饰器功能添加到该函数功能内\n",
    "- 装饰器的使用：使用时需要用到“@”符号，此符号是Python的语法糖，也可以手动执行装饰器来使用\n",
    "    - 在定义一个不想更改，又带有扩展功能的函数之前，加上“@装饰器名”\n",
    "    - 优先执行装饰器功能\n",
    "    - 语法糖（Syntactic Sugar），也称糖衣语法，指在计算机语言中添加的某种语法，这种语法对语言的功能并没有影响，但是更方便程序员使用\n",
    "- 写代码需要遵循开放封闭原则，已经实现的功能代码不允许被修改，但可以被扩展"
   ]
  },
  {
   "cell_type": "code",
   "execution_count": 45,
   "metadata": {},
   "outputs": [
    {
     "name": "stdout",
     "output_type": "stream",
     "text": [
      "Hello World!\n",
      "Hello World!\n"
     ]
    }
   ],
   "source": [
    "# 定义一个简单函数\n",
    "def hello():\n",
    "    print(\"Hello World!\")\n",
    "\n",
    "hello()\n",
    "\n",
    "# 相当于更换函数名\n",
    "f = hello\n",
    "f()"
   ]
  },
  {
   "cell_type": "code",
   "execution_count": 44,
   "metadata": {},
   "outputs": [
    {
     "name": "stdout",
     "output_type": "stream",
     "text": [
      "True\n",
      "2110335984840\n",
      "2110335984840\n",
      "hello\n",
      "hello\n"
     ]
    }
   ],
   "source": [
    "# 证明：f 与 hello 为同一函数\n",
    "\n",
    "# 方法一\n",
    "print(f == hello)\n",
    "\n",
    "# 方法二\n",
    "print(id(f))\n",
    "print(id(hello))\n",
    "\n",
    "# 方法三\n",
    "print(f.__name__)\n",
    "print(hello.__name__)"
   ]
  },
  {
   "cell_type": "code",
   "execution_count": 46,
   "metadata": {},
   "outputs": [],
   "source": [
    "# 当既想增加某一函数的功能，却又不想更改原函数时，使用装饰器\n",
    "\n",
    "# 示例：对hello函数进行功能扩展，每次执行hello万打印当前时间\n",
    "import time\n",
    "\n",
    "# 定义一个高阶函数，以需要扩展的函数作为参数\n",
    "def printTime(f):\n",
    "    def wrapper(*args, **kwargs):\n",
    "        print('Time：', time.ctime()) # 扩展功能：打印当前时间\n",
    "        return f(*args, **kwargs)\n",
    "    return wrapper"
   ]
  },
  {
   "cell_type": "code",
   "execution_count": 47,
   "metadata": {},
   "outputs": [
    {
     "name": "stdout",
     "output_type": "stream",
     "text": [
      "Time： Mon Feb 17 14:53:41 2020\n",
      "Hello World!\n"
     ]
    }
   ],
   "source": [
    "# 上面定义了一个装饰器，使用的时候需要用到“@”，此符号是Python的语法糖\n",
    "\n",
    "@printTime\n",
    "def hello():\n",
    "    print(\"Hello World!\")\n",
    "\n",
    "hello()"
   ]
  },
  {
   "cell_type": "code",
   "execution_count": 50,
   "metadata": {},
   "outputs": [
    {
     "name": "stdout",
     "output_type": "stream",
     "text": [
      "Time： Mon Feb 17 15:06:36 2020\n",
      "我被手动执行了\n"
     ]
    }
   ],
   "source": [
    "# 手动执行装饰器\n",
    "\n",
    "def hello2():\n",
    "    print('我被手动执行了')\n",
    "\n",
    "hello3 = printTime(hello2)\n",
    "\n",
    "hello3()"
   ]
  },
  {
   "cell_type": "markdown",
   "metadata": {},
   "source": [
    "## 偏函数（$Partial\\ Function$）\n",
    "- 参数固定的函数，相当于一个由特定参数的函数体\n",
    "- partial()：返回一个新的 部分对象，当被调用时其行为类似于 func 附带位置参数 args 和关键字参数 keywords 被调用\n",
    "- 格式：functools.partial(func, /, \\*args, \\**keywords)\n",
    "    - 可变参数\\*args：需要被固定的位置参数\n",
    "    - \\**kwargs关键字参数：如果原函数中关键字不存在，将会扩展，如果存在，就覆盖\n",
    "    - 如果为调用提供了更多的参数，它们会被附加到 args\n",
    "    - 如果提供了额外的关键字参数，它们会被扩展并重载 keywords\n",
    "- 返回值：一个新函数\n",
    "- functools.partial()的作用：将一个函数的某些参数固定，并返回一个新函数\n",
    "    1. 将所作用的函数作为partial（）函数的第一个参数\n",
    "    2. 原函数的各个参数依次作为partial（）函数的后续参数，原函数有关键字参数的一定要带上关键字，没有的话，按原有参数顺序进行补充\n",
    "- 需要导入 functools模块"
   ]
  },
  {
   "cell_type": "code",
   "execution_count": 51,
   "metadata": {},
   "outputs": [
    {
     "data": {
      "text/plain": [
       "342391"
      ]
     },
     "execution_count": 51,
     "metadata": {},
     "output_type": "execute_result"
    }
   ],
   "source": [
    "# 将字符串转化为十进制整数\n",
    "int('1234567')\n",
    "\n",
    "# 将八进制的字符串1234567，转化为十进制的整数\n",
    "int('1234567', base=8)"
   ]
  },
  {
   "cell_type": "code",
   "execution_count": 53,
   "metadata": {},
   "outputs": [
    {
     "data": {
      "text/plain": [
       "594484"
      ]
     },
     "execution_count": 53,
     "metadata": {},
     "output_type": "execute_result"
    }
   ],
   "source": [
    "# 新建一个函数，此函数默认输入的字符串是十六进制数字，并将该字符串转化为十进制整数返回\n",
    "\n",
    "def int16(x, base=16):\n",
    "    return int(x, base)\n",
    "\n",
    "int16(\"91234\")"
   ]
  },
  {
   "cell_type": "code",
   "execution_count": 54,
   "metadata": {},
   "outputs": [
    {
     "data": {
      "text/plain": [
       "594484"
      ]
     },
     "execution_count": 54,
     "metadata": {},
     "output_type": "execute_result"
    }
   ],
   "source": [
    "# 使用偏函数实现上面int16函数的功能\n",
    "import functools\n",
    "\n",
    "int16 = functools.partial(int, base=16) # 传入 int() 函数，并将 base 的值固定为 16\n",
    "\n",
    "int16(\"91234\")"
   ]
  },
  {
   "cell_type": "code",
   "execution_count": null,
   "metadata": {},
   "outputs": [],
   "source": []
  }
 ],
 "metadata": {
  "kernelspec": {
   "display_name": "Python 3",
   "language": "python",
   "name": "python3"
  },
  "language_info": {
   "codemirror_mode": {
    "name": "ipython",
    "version": 3
   },
   "file_extension": ".py",
   "mimetype": "text/x-python",
   "name": "python",
   "nbconvert_exporter": "python",
   "pygments_lexer": "ipython3",
   "version": "3.7.9"
  }
 },
 "nbformat": 4,
 "nbformat_minor": 4
}
