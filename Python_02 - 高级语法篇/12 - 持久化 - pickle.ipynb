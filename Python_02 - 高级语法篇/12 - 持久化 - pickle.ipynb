{
 "cells": [
  {
   "cell_type": "markdown",
   "metadata": {},
   "source": [
    "# 12. 持久化 - pickle"
   ]
  },
  {
   "cell_type": "markdown",
   "metadata": {},
   "source": [
    "# pickle\n",
    "- Python 对象序列化\n",
    "- 模块 pickle 实现了对一个 Python 对象结构的二进制序列化和反序列化\n",
    "- “pickling”是将 Python 对象及其所拥有的层次结构转化为一个字节流的过程，而“unpickling”是相反的操作，会将（来自一个 binary file 或者 bytes-like object 的）字节流转化回一个对象层次结构\n",
    "- pickling（和 unpickling）也被称为“序列化”,“编组”或者“平面化”。\n",
    "    - 为了避免混乱，也可采用术语“封存 (pickling)”和“解封 (unpickling)”\n",
    "- 序列化（持久化、落地）：把程序运行中的信息保存在磁盘上\n",
    "- 反序列化：序列化的逆过程\n",
    "- pickle 模块**并不安全**，只应该对信任的数据进行unpickle操作\n",
    "- 在处理不信任数据时，更安全的序列化格式如 json 可能更为适合\n",
    "- 需要导入"
   ]
  },
  {
   "cell_type": "code",
   "execution_count": 1,
   "metadata": {},
   "outputs": [],
   "source": [
    "import pickle"
   ]
  },
  {
   "cell_type": "markdown",
   "metadata": {},
   "source": [
    "## dump()\n",
    "- dump()：序列化，将对象 obj 封存以后的对象写入已打开的 file object file\n",
    "- 格式：pickle.dump(obj, file, protocol=None, *, fix_imports=True, buffer_callback=None)\n",
    "    - obj：需要封存的对象\n",
    "    - file：该参数必须有一个 write() 方法，该 write() 方法要能接收字节作为其唯一参数\n",
    "    - protocol：可选参数，是一个整数，告知 pickler 使用指定的协议\n",
    "        - 可选择的协议范围从 0 到 HIGHEST_PROTOCOL\n",
    "        - 如果没有指定，这一参数默认值为 DEFAULT_PROTOCOL\n",
    "        - 指定一个负数就相当于指定 HIGHEST_PROTOCOL\n",
    "    - 如果 fix_imports 为 True 且 protocol 小于 3，pickle 将尝试将 Python 3 中的新名称映射到 Python 2 中的旧模块名称，因此 Python 2 也可以读取封存的数据流\n",
    "    - buffer_callback：\n",
    "        - 如果 buffer_callback 为 None（默认情况），缓冲区视图（buffer view）将会作为 pickle 流的一部分被序列化到 file 中\n",
    "        - 如果 buffer_callback 不为 None，那它可以用缓冲区视图调用任意次\n",
    "            - 如果某次调用返回了 False 值（例如 None），则给定的缓冲区是 带外的，否则缓冲区是带内的（例如保存在了 pickle 流里面）\n",
    "        - 如果 buffer_callback 不是 None 且 protocol 是 None 或小于 5，就会报错"
   ]
  },
  {
   "cell_type": "markdown",
   "metadata": {},
   "source": [
    "## load()\n",
    "- load()：反序列化，从已打开的 file object 文件 中读取封存后的对象，重建其中特定对象的层次结构并返回\n",
    "- 格式：pickle.load(file, *, fix_imports=True, encoding=\"ASCII\", errors=\"strict\", buffers=None)\n",
    "    - 参数 file 必须有三个方法：\n",
    "        - read() 方法：接受一个整数参数\n",
    "        - readinto() 方法：接受一个缓冲区作为参数\n",
    "        - readline() 方法：不需要参数\n",
    "    - 可选的参数是 fix_imports, encoding 和 errors，用于控制由Python 2 生成的 pickle 流的兼容性\n",
    "    - buffers：\n",
    "        - 如果 buffers 为 None（默认值），则反序列化所需的所有数据都必须包含在 pickle 流中\n",
    "        - 如果 buffers 不为 None，则每次 pickle 流引用 带外 缓冲区视图时，消耗的对象都应该是可迭代的启用缓冲区的对象"
   ]
  },
  {
   "cell_type": "code",
   "execution_count": 4,
   "metadata": {},
   "outputs": [],
   "source": [
    "# 序列化 示例\n",
    "\n",
    "age = 19\n",
    "\n",
    "with open(r'pickle测试.txt', 'wb') as f:\n",
    "    pickle.dump(age, f)"
   ]
  },
  {
   "cell_type": "code",
   "execution_count": 5,
   "metadata": {},
   "outputs": [
    {
     "name": "stdout",
     "output_type": "stream",
     "text": [
      "19\n"
     ]
    }
   ],
   "source": [
    "# 反序列化 示例\n",
    "\n",
    "with open(r'pickle测试.txt', 'rb') as f:\n",
    "    age = pickle.load(f)\n",
    "    print(age)"
   ]
  },
  {
   "cell_type": "code",
   "execution_count": 6,
   "metadata": {},
   "outputs": [],
   "source": [
    "# 序列化 示例\n",
    "\n",
    "a = [23, 'ihaku', \" love 冰冰\", [175, 50]]\n",
    "\n",
    "with open(r'pickle测试.txt', 'wb') as f:\n",
    "    pickle.dump(a, f)"
   ]
  },
  {
   "cell_type": "code",
   "execution_count": 7,
   "metadata": {},
   "outputs": [
    {
     "name": "stdout",
     "output_type": "stream",
     "text": [
      "[23, 'ihaku', ' love 冰冰', [175, 50]]\n"
     ]
    }
   ],
   "source": [
    "# 反序列化 示例\n",
    "\n",
    "with open(r'pickle测试.txt', 'rb') as f:\n",
    "    a = pickle.load(f)\n",
    "    print(a)"
   ]
  },
  {
   "cell_type": "code",
   "execution_count": null,
   "metadata": {},
   "outputs": [],
   "source": []
  }
 ],
 "metadata": {
  "kernelspec": {
   "display_name": "Python 3",
   "language": "python",
   "name": "python3"
  },
  "language_info": {
   "codemirror_mode": {
    "name": "ipython",
    "version": 3
   },
   "file_extension": ".py",
   "mimetype": "text/x-python",
   "name": "python",
   "nbconvert_exporter": "python",
   "pygments_lexer": "ipython3",
   "version": "3.7.9"
  }
 },
 "nbformat": 4,
 "nbformat_minor": 4
}
