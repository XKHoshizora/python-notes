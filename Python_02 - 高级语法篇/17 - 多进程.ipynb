{
 "cells": [
  {
   "cell_type": "markdown",
   "metadata": {},
   "source": [
    "# 17. 多进程"
   ]
  },
  {
   "cell_type": "markdown",
   "metadata": {},
   "source": [
    "# 多线程替代方案——多进程\n",
    "\n",
    "## subprocess - 子进程管理\n",
    "- subprocess 模块允许你生成新的进程，连接它们的输入、输出、错误管道，并且获取它们的返回码。\n",
    "- 完全跳过线程，使用进程。\n",
    "- 是派生进程的主要替代方案。\n",
    "\n",
    "## multiprocessing - 基于进程的并行\n",
    "- multiprocessing 是一个用于产生进程的包，允许为多核或者多CPU派生进程，具有与 threading 模块相似API（应用程序接口）。\n",
    "- 使用threading接口派生，使用子进程。\n",
    "- multiprocessing 包同时提供本地和远程并发，使用子进程代替线程，有效避免 Global Interpreter Lock 带来的影响。因此， multiprocessing 模块允许程序员充分利用机器上的多核。\n",
    "\n",
    "## concurrent.futures - 启动并行任务\n",
    "- concurrent.futures 模块是新的异步执行模块，提供异步执行回调高层接口。\n",
    "- 是任务级别的操作"
   ]
  },
  {
   "cell_type": "markdown",
   "metadata": {},
   "source": [
    "# 多进程\n",
    "- 进程间通信（Interprocess Communication）\n",
    "- 进程之间**无任何共享资源**\n",
    "- 进程的创建：\n",
    "    - 直接生成Process实例对象，示例1\n",
    "    - 派生子类，示例2\n",
    "- 在OS中查看pid（Process ID，进程ID）、ppid（Parent Process ID，父进程ID）以及它们的关系，示例3\n",
    "- 生产者消费者模型，示例4\n",
    "    - JoinableQueue：JoinableQueue 类是 Queue 的子类，额外添加了 task_done() 和 join() 方法。\n",
    "    - 队列中哨兵的使用，示例4-1\n",
    "    - 哨兵的改进，示例4-2\n",
    "    - 哨兵的值可以随意设置，只用来做判断而已\n",
    "\n",
    "## 进程锁（LOCK）\n",
    "- 使用 multiprocessing 包中的 Process 模块内置的进程锁\n",
    "- 用法和多线程类似，但使用函数不同"
   ]
  },
  {
   "cell_type": "code",
   "execution_count": 6,
   "metadata": {},
   "outputs": [],
   "source": [
    "# 进程创建 示例1\n",
    "from time import sleep, ctime\n",
    "# 导入多进程模块\n",
    "import multiprocessing\n",
    "\n",
    "\n",
    "def clock(interval):\n",
    "    while True:\n",
    "        print(\"The time is %s\" % ctime())\n",
    "        sleep(interval)\n",
    "\n",
    "        \n",
    "if __name__ == '__main__':\n",
    "    p = multiprocessing.Process(target = clock, args = (5,))\n",
    "    p.start()\n",
    "    p.join()"
   ]
  },
  {
   "cell_type": "code",
   "execution_count": 8,
   "metadata": {},
   "outputs": [],
   "source": [
    "# 进程创建 示例2\n",
    "import multiprocessing\n",
    "from time import sleep, ctime\n",
    "\n",
    "\n",
    "class ClockProcess(multiprocessing.Process):\n",
    "    '''\n",
    "    两个函数比较重要\n",
    "    1. init构造函数\n",
    "    2. run\n",
    "    '''\n",
    "\n",
    "    def __init__(self, interval):\n",
    "        super().__init__()\n",
    "        self.interval = interval\n",
    "\n",
    "    def run(self):\n",
    "        while True:\n",
    "            print(\"The time is %s\" % ctime())\n",
    "            sleep(self.interval)\n",
    "\n",
    "\n",
    "if __name__ == '__main__':\n",
    "    p = ClockProcess(3)\n",
    "    p.start()\n",
    "    p.join()"
   ]
  },
  {
   "cell_type": "code",
   "execution_count": 5,
   "metadata": {},
   "outputs": [
    {
     "name": "stdout",
     "output_type": "stream",
     "text": [
      "main line\n",
      "module name: __main__\n",
      "parent process: 39588\n",
      "process id: 34296\n"
     ]
    }
   ],
   "source": [
    "# 查看进程ID 示例3\n",
    "from multiprocessing import Process\n",
    "import os\n",
    "\n",
    "\n",
    "def info(title):\n",
    "    print(title)\n",
    "    print('module name:', __name__)\n",
    "    # 得到父进程的ID\n",
    "    print('parent process:', os.getppid())\n",
    "    # 得到本身进程的ID\n",
    "    print('process id:', os.getpid())\n",
    "\n",
    "def func(name):\n",
    "    info('function func')\n",
    "    print('hello', name)\n",
    "\n",
    "\n",
    "if __name__ == '__main__':\n",
    "    info('main line')\n",
    "    p = Process(target=func, args=('bob',))\n",
    "    p.start()\n",
    "    p.join()"
   ]
  },
  {
   "cell_type": "code",
   "execution_count": null,
   "metadata": {},
   "outputs": [
    {
     "name": "stdout",
     "output_type": "stream",
     "text": [
      "Into procuder: Tue Mar 10 06:27:11 2020\n",
      "put 1 into q\n",
      "put 2 into q\n",
      "put 3 into q\n",
      "put 4 into q\n",
      "Out of procuder: Tue Mar 10 06:27:11 2020\n"
     ]
    }
   ],
   "source": [
    "# 生产者消费者模型 示例4\n",
    "import multiprocessing\n",
    "from time import ctime\n",
    "\n",
    "\n",
    "def consumer(input_q):\n",
    "    print(\"Into consumer:\", ctime())\n",
    "    while True:\n",
    "        # 处理项\n",
    "        item = input_q.get()\n",
    "        print (\"pull\", item, \"out of q\") # 此处替换为有用的工作\n",
    "        input_q.task_done() # 发出信号通知任务完成\n",
    "    print (\"Out of consumer:\", ctime()) # 此句未执行，因为q.join()收集到四个task_done()信号后，主进程启动，未等到print此句完成，程序就结束了\n",
    "\n",
    "def producer(sequence, output_q):\n",
    "    print (\"Into procuder:\", ctime())\n",
    "    for item in sequence:\n",
    "        output_q.put(item)\n",
    "        print (\"put\", item, \"into q\")\n",
    "    print (\"Out of procuder:\", ctime())\n",
    "\n",
    "\n",
    "# 建立进程\n",
    "if __name__ == '__main__':\n",
    "    q = multiprocessing.JoinableQueue()\n",
    "    # 运行消费者进程\n",
    "    cons_p = multiprocessing.Process (target = consumer, args = (q,))\n",
    "    cons_p.daemon = True  # 将 cons_p 设置为一个守护进程，这个操作必须在 start() 之前\n",
    "    cons_p.start()\n",
    "\n",
    "    # 生产多个项，sequence代表要发送给消费者的项序列\n",
    "    # 在实践中，这可能是生成器的输出或通过一些其他方式生产出来\n",
    "    sequence = [1,2,3,4]\n",
    "    producer(sequence, q)\n",
    "    # 等待所有项被处理\n",
    "    q.join()"
   ]
  },
  {
   "cell_type": "code",
   "execution_count": 1,
   "metadata": {},
   "outputs": [
    {
     "name": "stdout",
     "output_type": "stream",
     "text": [
      "Into procuder: Tue Mar 10 06:44:36 2020\n",
      "put 1 into q\n",
      "put 2 into q\n",
      "put 3 into q\n",
      "put 4 into q\n",
      "Out of procuder: Tue Mar 10 06:44:36 2020\n"
     ]
    }
   ],
   "source": [
    "# 哨兵的使用（当只有一个线程） 示例4-1\n",
    "import multiprocessing\n",
    "from time import ctime\n",
    "\n",
    "\n",
    "# 设置哨兵问题\n",
    "def consumer(input_q):\n",
    "    print(\"Into consumer:\", ctime())\n",
    "    while True:\n",
    "        item = input_q.get()\n",
    "        if item is None:\n",
    "            break\n",
    "        print(\"pull\", item, \"out of q\")\n",
    "    print (\"Out of consumer:\", ctime()) # 此句执行完成，再转入主进程\n",
    "\n",
    "def producer(sequence, output_q):\n",
    "    print (\"Into procuder:\", ctime())\n",
    "    for item in sequence:\n",
    "        output_q.put(item)\n",
    "        print (\"put\", item, \"into q\")\n",
    "    print (\"Out of procuder:\", ctime())\n",
    "\n",
    "    \n",
    "if __name__ == '__main__':\n",
    "    q = multiprocessing.Queue()\n",
    "    cons_p = multiprocessing.Process(target = consumer, args = (q,))\n",
    "    cons_p.start()\n",
    "\n",
    "    sequence = [1,2,3,4]\n",
    "    producer(sequence, q)\n",
    "\n",
    "    q.put(None) # 哨兵\n",
    "    cons_p.join()"
   ]
  },
  {
   "cell_type": "code",
   "execution_count": 2,
   "metadata": {},
   "outputs": [
    {
     "name": "stdout",
     "output_type": "stream",
     "text": [
      "Into procuder: Tue Mar 10 06:44:42 2020\n",
      "Out of procuder: Tue Mar 10 06:44:42 2020\n",
      "Into procuder: Tue Mar 10 06:44:42 2020\n",
      "Out of procuder: Tue Mar 10 06:44:42 2020\n",
      "Into procuder: Tue Mar 10 06:44:42 2020\n",
      "Out of procuder: Tue Mar 10 06:44:42 2020\n",
      "Into procuder: Tue Mar 10 06:44:42 2020\n",
      "Out of procuder: Tue Mar 10 06:44:42 2020\n"
     ]
    }
   ],
   "source": [
    "# 哨兵的改进（当有多个线程） 示例4-2\n",
    "import multiprocessing\n",
    "from time import ctime\n",
    "\n",
    "def consumer(input_q):\n",
    "    print (\"Into consumer:\", ctime())\n",
    "    while True:\n",
    "        item = input_q.get()\n",
    "        if item is None:\n",
    "            break\n",
    "        print(\"pull\", item, \"out of q\")\n",
    "    print (\"Out of consumer:\", ctime())\n",
    "\n",
    "def producer(sequence, output_q):\n",
    "    for item in sequence:\n",
    "        print (\"Into procuder:\", ctime())\n",
    "        output_q.put(item)\n",
    "        print (\"Out of procuder:\", ctime())\n",
    "\n",
    "if __name__ == '__main__':\n",
    "    q = multiprocessing.Queue()\n",
    "    cons_p1 = multiprocessing.Process (target = consumer, args = (q,))\n",
    "    cons_p1.start()\n",
    "\n",
    "    cons_p2 = multiprocessing.Process (target = consumer, args = (q,))\n",
    "    cons_p2.start()\n",
    "\n",
    "    sequence = [1,2,3,4]\n",
    "    producer(sequence, q)\n",
    "\n",
    "    q.put(None) # 哨兵1\n",
    "    q.put(None) # 哨兵2\n",
    "\n",
    "    cons_p1.join()\n",
    "    cons_p2.join()"
   ]
  },
  {
   "cell_type": "markdown",
   "metadata": {},
   "source": [
    "## 进程信号量"
   ]
  },
  {
   "cell_type": "code",
   "execution_count": null,
   "metadata": {},
   "outputs": [],
   "source": []
  },
  {
   "cell_type": "markdown",
   "metadata": {},
   "source": [
    "## 进程事件"
   ]
  },
  {
   "cell_type": "code",
   "execution_count": null,
   "metadata": {},
   "outputs": [],
   "source": []
  },
  {
   "cell_type": "markdown",
   "metadata": {},
   "source": [
    "## 进程池"
   ]
  },
  {
   "cell_type": "code",
   "execution_count": null,
   "metadata": {},
   "outputs": [],
   "source": []
  },
  {
   "cell_type": "markdown",
   "metadata": {},
   "source": [
    "## 子进程与主进程之间的关系\n",
    "\n",
    "- 正常情况下，主进程会等待子进程结束再结束。因为主进程要负责回收子进程占用的资源。\n",
    "- 主进程代码执行完毕不代表主进程的结束。\n",
    "- 设置守护进程之后，守护进程会随着主进程的代码执行完毕而结束，而此时主进程可以还没有结束。"
   ]
  },
  {
   "cell_type": "code",
   "execution_count": null,
   "metadata": {},
   "outputs": [],
   "source": []
  }
 ],
 "metadata": {
  "kernelspec": {
   "display_name": "Python 3",
   "language": "python",
   "name": "python3"
  },
  "language_info": {
   "codemirror_mode": {
    "name": "ipython",
    "version": 3
   },
   "file_extension": ".py",
   "mimetype": "text/x-python",
   "name": "python",
   "nbconvert_exporter": "python",
   "pygments_lexer": "ipython3",
   "version": "3.9.1"
  }
 },
 "nbformat": 4,
 "nbformat_minor": 4
}
