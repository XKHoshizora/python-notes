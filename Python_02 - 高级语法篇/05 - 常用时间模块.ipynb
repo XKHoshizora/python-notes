{
 "cells": [
  {
   "cell_type": "markdown",
   "metadata": {},
   "source": [
    "# 05. 常用时间模块\n",
    "- calendar\n",
    "- time\n",
    "- datetime\n",
    "- timeit"
   ]
  },
  {
   "cell_type": "markdown",
   "metadata": {},
   "source": [
    "## calendar\n",
    "- 与日历相关的模块\n",
    "\n",
    "- 内置函数：\n",
    "    - calendar：打印指定年份的日历\n",
    "        - 参数：\n",
    "            - w = 每个日期之间的间隔字符\n",
    "            - l = 每周所占用的行数\n",
    "            - c = 每个月之间的间隔字符数\n",
    "    - isleap：判断某一年是否是闰年\n",
    "    - leapdays：获取指定年份之间闰年的个数，左包含右不包含\n",
    "    - month：获取某个月的日历字符串\n",
    "        - 格式：calendar.month(年,月)\n",
    "    - monthrange：获取某个月从周几开始和天数\n",
    "        - 格式：calendar.monthrange(年,月)\n",
    "    - monthcalendar：返回一个月每天的矩阵列表\n",
    "    - prcal：即“print calendar”，直接打印日历\n",
    "    - prmonth：直接打印整个月的日历\n",
    "    - weekday：获取周几"
   ]
  },
  {
   "cell_type": "code",
   "execution_count": 2,
   "metadata": {
    "scrolled": true
   },
   "outputs": [
    {
     "name": "stdout",
     "output_type": "stream",
     "text": [
      "<class 'str'>\n",
      "                                  2020\n",
      "\n",
      "      January                   February                   March\n",
      "Mo Tu We Th Fr Sa Su      Mo Tu We Th Fr Sa Su      Mo Tu We Th Fr Sa Su\n",
      "       1  2  3  4  5                      1  2                         1\n",
      " 6  7  8  9 10 11 12       3  4  5  6  7  8  9       2  3  4  5  6  7  8\n",
      "13 14 15 16 17 18 19      10 11 12 13 14 15 16       9 10 11 12 13 14 15\n",
      "20 21 22 23 24 25 26      17 18 19 20 21 22 23      16 17 18 19 20 21 22\n",
      "27 28 29 30 31            24 25 26 27 28 29         23 24 25 26 27 28 29\n",
      "                                                    30 31\n",
      "\n",
      "       April                      May                       June\n",
      "Mo Tu We Th Fr Sa Su      Mo Tu We Th Fr Sa Su      Mo Tu We Th Fr Sa Su\n",
      "       1  2  3  4  5                   1  2  3       1  2  3  4  5  6  7\n",
      " 6  7  8  9 10 11 12       4  5  6  7  8  9 10       8  9 10 11 12 13 14\n",
      "13 14 15 16 17 18 19      11 12 13 14 15 16 17      15 16 17 18 19 20 21\n",
      "20 21 22 23 24 25 26      18 19 20 21 22 23 24      22 23 24 25 26 27 28\n",
      "27 28 29 30               25 26 27 28 29 30 31      29 30\n",
      "\n",
      "        July                     August                  September\n",
      "Mo Tu We Th Fr Sa Su      Mo Tu We Th Fr Sa Su      Mo Tu We Th Fr Sa Su\n",
      "       1  2  3  4  5                      1  2          1  2  3  4  5  6\n",
      " 6  7  8  9 10 11 12       3  4  5  6  7  8  9       7  8  9 10 11 12 13\n",
      "13 14 15 16 17 18 19      10 11 12 13 14 15 16      14 15 16 17 18 19 20\n",
      "20 21 22 23 24 25 26      17 18 19 20 21 22 23      21 22 23 24 25 26 27\n",
      "27 28 29 30 31            24 25 26 27 28 29 30      28 29 30\n",
      "                          31\n",
      "\n",
      "      October                   November                  December\n",
      "Mo Tu We Th Fr Sa Su      Mo Tu We Th Fr Sa Su      Mo Tu We Th Fr Sa Su\n",
      "          1  2  3  4                         1          1  2  3  4  5  6\n",
      " 5  6  7  8  9 10 11       2  3  4  5  6  7  8       7  8  9 10 11 12 13\n",
      "12 13 14 15 16 17 18       9 10 11 12 13 14 15      14 15 16 17 18 19 20\n",
      "19 20 21 22 23 24 25      16 17 18 19 20 21 22      21 22 23 24 25 26 27\n",
      "26 27 28 29 30 31         23 24 25 26 27 28 29      28 29 30 31\n",
      "                          30\n",
      "\n"
     ]
    }
   ],
   "source": [
    "# 示例1\n",
    "import calendar\n",
    "\n",
    "cal = calendar.calendar(2020)\n",
    "\n",
    "print(type(cal))\n",
    "print(cal)"
   ]
  },
  {
   "cell_type": "code",
   "execution_count": 7,
   "metadata": {},
   "outputs": [
    {
     "data": {
      "text/plain": [
       "False"
      ]
     },
     "execution_count": 7,
     "metadata": {},
     "output_type": "execute_result"
    }
   ],
   "source": [
    "# isleap：判断某一年是否是闰年\n",
    "calendar.isleap(2020)"
   ]
  },
  {
   "cell_type": "code",
   "execution_count": 10,
   "metadata": {},
   "outputs": [
    {
     "data": {
      "text/plain": [
       "6"
      ]
     },
     "execution_count": 10,
     "metadata": {},
     "output_type": "execute_result"
    }
   ],
   "source": [
    "# leapdays：获取指定年份之间闰年的个数\n",
    "calendar.leapdays(1996, 2020)"
   ]
  },
  {
   "cell_type": "code",
   "execution_count": 12,
   "metadata": {},
   "outputs": [
    {
     "name": "stdout",
     "output_type": "stream",
     "text": [
      "   February 2020\n",
      "Mo Tu We Th Fr Sa Su\n",
      "                1  2\n",
      " 3  4  5  6  7  8  9\n",
      "10 11 12 13 14 15 16\n",
      "17 18 19 20 21 22 23\n",
      "24 25 26 27 28 29\n",
      "\n"
     ]
    }
   ],
   "source": [
    "# month：获取某个月的日历字符串\n",
    "# 格式:calendar.month(年，月)\n",
    "# 回值：月日历的字符串\n",
    "m = calendar.month(2020, 2)\n",
    "print(m)"
   ]
  },
  {
   "cell_type": "code",
   "execution_count": 19,
   "metadata": {},
   "outputs": [
    {
     "name": "stdout",
     "output_type": "stream",
     "text": [
      "5\n",
      "29\n"
     ]
    },
    {
     "data": {
      "text/plain": [
       "(5, 29)"
      ]
     },
     "execution_count": 19,
     "metadata": {},
     "output_type": "execute_result"
    }
   ],
   "source": [
    "# monthrange：获取某个月从周几开始和天数\n",
    "# 格式：calendar.monthrange(年,月)\n",
    "# 回值：元组(周几开始,总天数)\n",
    "# 注意：周默认 0 -6 表示周一到周天\n",
    "w,t = calendar.monthrange(2020, 2)\n",
    "print(w)\n",
    "print(t)\n",
    "\n",
    "calendar.monthrange(2020, 2)"
   ]
  },
  {
   "cell_type": "code",
   "execution_count": 20,
   "metadata": {},
   "outputs": [
    {
     "name": "stdout",
     "output_type": "stream",
     "text": [
      "<class 'list'>\n",
      "[[0, 0, 0, 0, 0, 0, 1], [2, 3, 4, 5, 6, 7, 8], [9, 10, 11, 12, 13, 14, 15], [16, 17, 18, 19, 20, 21, 22], [23, 24, 25, 26, 27, 28, 29], [30, 31, 0, 0, 0, 0, 0]]\n"
     ]
    },
    {
     "data": {
      "text/plain": [
       "[[0, 0, 0, 0, 0, 0, 1],\n",
       " [2, 3, 4, 5, 6, 7, 8],\n",
       " [9, 10, 11, 12, 13, 14, 15],\n",
       " [16, 17, 18, 19, 20, 21, 22],\n",
       " [23, 24, 25, 26, 27, 28, 29],\n",
       " [30, 31, 0, 0, 0, 0, 0]]"
      ]
     },
     "execution_count": 20,
     "metadata": {},
     "output_type": "execute_result"
    }
   ],
   "source": [
    "# monthcalendar：返回一个月每天的矩阵列表\n",
    "# 格式：calendar.monthcalendar(年，月)\n",
    "# 回值：二级列表\n",
    "# 注意：矩阵中没有天数用0表示\n",
    "m = calendar.monthcalendar(2020, 3)\n",
    "print(type(m))\n",
    "print(m)\n",
    "\n",
    "calendar.monthcalendar(2020, 3)"
   ]
  },
  {
   "cell_type": "code",
   "execution_count": 21,
   "metadata": {
    "scrolled": true
   },
   "outputs": [
    {
     "name": "stdout",
     "output_type": "stream",
     "text": [
      "                                  2020\n",
      "\n",
      "      January                   February                   March\n",
      "Mo Tu We Th Fr Sa Su      Mo Tu We Th Fr Sa Su      Mo Tu We Th Fr Sa Su\n",
      "       1  2  3  4  5                      1  2                         1\n",
      " 6  7  8  9 10 11 12       3  4  5  6  7  8  9       2  3  4  5  6  7  8\n",
      "13 14 15 16 17 18 19      10 11 12 13 14 15 16       9 10 11 12 13 14 15\n",
      "20 21 22 23 24 25 26      17 18 19 20 21 22 23      16 17 18 19 20 21 22\n",
      "27 28 29 30 31            24 25 26 27 28 29         23 24 25 26 27 28 29\n",
      "                                                    30 31\n",
      "\n",
      "       April                      May                       June\n",
      "Mo Tu We Th Fr Sa Su      Mo Tu We Th Fr Sa Su      Mo Tu We Th Fr Sa Su\n",
      "       1  2  3  4  5                   1  2  3       1  2  3  4  5  6  7\n",
      " 6  7  8  9 10 11 12       4  5  6  7  8  9 10       8  9 10 11 12 13 14\n",
      "13 14 15 16 17 18 19      11 12 13 14 15 16 17      15 16 17 18 19 20 21\n",
      "20 21 22 23 24 25 26      18 19 20 21 22 23 24      22 23 24 25 26 27 28\n",
      "27 28 29 30               25 26 27 28 29 30 31      29 30\n",
      "\n",
      "        July                     August                  September\n",
      "Mo Tu We Th Fr Sa Su      Mo Tu We Th Fr Sa Su      Mo Tu We Th Fr Sa Su\n",
      "       1  2  3  4  5                      1  2          1  2  3  4  5  6\n",
      " 6  7  8  9 10 11 12       3  4  5  6  7  8  9       7  8  9 10 11 12 13\n",
      "13 14 15 16 17 18 19      10 11 12 13 14 15 16      14 15 16 17 18 19 20\n",
      "20 21 22 23 24 25 26      17 18 19 20 21 22 23      21 22 23 24 25 26 27\n",
      "27 28 29 30 31            24 25 26 27 28 29 30      28 29 30\n",
      "                          31\n",
      "\n",
      "      October                   November                  December\n",
      "Mo Tu We Th Fr Sa Su      Mo Tu We Th Fr Sa Su      Mo Tu We Th Fr Sa Su\n",
      "          1  2  3  4                         1          1  2  3  4  5  6\n",
      " 5  6  7  8  9 10 11       2  3  4  5  6  7  8       7  8  9 10 11 12 13\n",
      "12 13 14 15 16 17 18       9 10 11 12 13 14 15      14 15 16 17 18 19 20\n",
      "19 20 21 22 23 24 25      16 17 18 19 20 21 22      21 22 23 24 25 26 27\n",
      "26 27 28 29 30 31         23 24 25 26 27 28 29      28 29 30 31\n",
      "                          30\n"
     ]
    }
   ],
   "source": [
    "# prcal：print calendar 直接打印日历\n",
    "calendar.prcal(2020)"
   ]
  },
  {
   "cell_type": "code",
   "execution_count": 25,
   "metadata": {},
   "outputs": [
    {
     "name": "stdout",
     "output_type": "stream",
     "text": [
      "     March 2020\n",
      "Mo Tu We Th Fr Sa Su\n",
      "                   1\n",
      " 2  3  4  5  6  7  8\n",
      " 9 10 11 12 13 14 15\n",
      "16 17 18 19 20 21 22\n",
      "23 24 25 26 27 28 29\n",
      "30 31\n",
      "<class 'NoneType'>\n"
     ]
    }
   ],
   "source": [
    "# prmonth：直接打印整个月的日历\n",
    "# 格式：calendar.prmonth(年，月)\n",
    "# 返回值：无\n",
    "m = calendar.prmonth(2020, 3)\n",
    "print(type(m))"
   ]
  },
  {
   "cell_type": "code",
   "execution_count": 26,
   "metadata": {},
   "outputs": [
    {
     "data": {
      "text/plain": [
       "0"
      ]
     },
     "execution_count": 26,
     "metadata": {},
     "output_type": "execute_result"
    }
   ],
   "source": [
    "# weekday() 获取周几\n",
    "# 格式:calendar.weekday(年，月，日)\n",
    "# 返回值:周几对应的数字\n",
    "calendar.weekday(2020, 2, 3)"
   ]
  },
  {
   "cell_type": "markdown",
   "metadata": {},
   "source": [
    "## time"
   ]
  },
  {
   "cell_type": "markdown",
   "metadata": {},
   "source": [
    "### 时间戳\n",
    "- 一个时间表示，根据不同语言，可以使整数或浮点数\n",
    "- 是从“1970年1月1日0时0分0秒”开始到现在所经历的秒数\n",
    "- 如果表示的时间是“1970年1月1日0时0分0秒”之前，有可能出异常\n",
    "- 与系统位数有关：32位系统可以表示到“2038年01月19日03时14分07秒”，64位系统可以表示到“292,277,026,596年12月4日15时30分08秒”\n",
    "\n",
    "### UTC时间\n",
    "- UTC又称为世界协调时间，以英国的格林尼治天文所在地区的时间作为参考的时间，也叫做世界标准时间。\n",
    "- 中国时间是“UTC+8”东八区，日本时间是“UTC+9”东九区\n",
    "\n",
    "### 夏令时\n",
    "夏令时就是在夏天的时候将时间调快一小时，本意是督促大家早睡早起节省蜡烛！ 每天变成25个小时，本质没变还是24小时\n",
    "\n",
    "### 时间元组\n",
    "一个包含时间内容的普通元组\n",
    "\n",
    "    索引   内容        属性        值\n",
    "\n",
    "    0       年        tm_year     2020\n",
    "    1       月        tm_mon      1～12\n",
    "    2       日        tm_mday     1～31\n",
    "    3       时        tm_hour     0～23\n",
    "    4       分        tm_min      0～59\n",
    "    5       秒        tm_sec      0～61（60表示闰秒，61保留值）\n",
    "    6       周几      tm_wday     0～6\n",
    "    7       第几天    tm_yday     1～366（一年中的第几天）\n",
    "    8       夏令时    tm_isdst    0，1，-1（表示夏令时）"
   ]
  },
  {
   "cell_type": "code",
   "execution_count": 11,
   "metadata": {},
   "outputs": [
    {
     "name": "stdout",
     "output_type": "stream",
     "text": [
      "-32400\n",
      "-36000\n",
      "0\n"
     ]
    }
   ],
   "source": [
    "# time模块示例\n",
    "# 需要导入\n",
    "import time\n",
    "\n",
    "# 时间模块的属性\n",
    "\n",
    "# timezone：在无夏令时的情况下，获取当前时区和UTC时间差的秒数\n",
    "# 东九区与格林尼治标准时间相差的秒数\n",
    "print(time.timezone)\n",
    "\n",
    "# altzone：在夏令时的情况下，获取当前时区与UTC时间相差的秒数\n",
    "print(time.altzone)\n",
    "\n",
    "# daylight：测当前是否是夏令时时间状态，“0”表示“否”\n",
    "print(time.daylight)"
   ]
  },
  {
   "cell_type": "code",
   "execution_count": 12,
   "metadata": {},
   "outputs": [
    {
     "data": {
      "text/plain": [
       "1581150656.3266976"
      ]
     },
     "execution_count": 12,
     "metadata": {},
     "output_type": "execute_result"
    }
   ],
   "source": [
    "# 获取时间戳\n",
    "import time\n",
    "\n",
    "time.time()"
   ]
  },
  {
   "cell_type": "code",
   "execution_count": 7,
   "metadata": {},
   "outputs": [
    {
     "name": "stdout",
     "output_type": "stream",
     "text": [
      "20\n",
      "<class 'time.struct_time'>\n"
     ]
    },
    {
     "data": {
      "text/plain": [
       "time.struct_time(tm_year=2020, tm_mon=2, tm_mday=15, tm_hour=20, tm_min=59, tm_sec=43, tm_wday=5, tm_yday=46, tm_isdst=0)"
      ]
     },
     "execution_count": 7,
     "metadata": {},
     "output_type": "execute_result"
    }
   ],
   "source": [
    "# localtime：得到当前时间的时间结构\n",
    "# 可以通过点号操作符得到相应的属性元素的内容\n",
    "import time\n",
    "\n",
    "t = time.localtime()\n",
    "\n",
    "print(t.tm_hour)\n",
    "\n",
    "print(type(t))\n",
    "\n",
    "time.localtime()"
   ]
  },
  {
   "cell_type": "code",
   "execution_count": 8,
   "metadata": {},
   "outputs": [
    {
     "name": "stdout",
     "output_type": "stream",
     "text": [
      "Sat Feb 15 20:59:48 2020\n",
      "<class 'str'>\n"
     ]
    },
    {
     "data": {
      "text/plain": [
       "'Sat Feb 15 20:59:48 2020'"
      ]
     },
     "execution_count": 8,
     "metadata": {},
     "output_type": "execute_result"
    }
   ],
   "source": [
    "#asctime：返回元组的正常字符串化之后的时间格式 \n",
    "# 格式：time.asctime（时间元组）\n",
    "# 返回值：字符串 Sat Feb  8 17:40:00 2020\n",
    "import time\n",
    "\n",
    "t = time.localtime()\n",
    "\n",
    "tt = time.asctime(t)\n",
    "\n",
    "print(tt)\n",
    "\n",
    "print(type(tt))\n",
    "\n",
    "time.asctime(t)"
   ]
  },
  {
   "cell_type": "code",
   "execution_count": 9,
   "metadata": {},
   "outputs": [
    {
     "name": "stdout",
     "output_type": "stream",
     "text": [
      "Sat Feb 15 20:59:49 2020\n",
      "<class 'str'>\n"
     ]
    },
    {
     "data": {
      "text/plain": [
       "'Sat Feb 15 20:59:49 2020'"
      ]
     },
     "execution_count": 9,
     "metadata": {},
     "output_type": "execute_result"
    }
   ],
   "source": [
    "# ctime：获取字符串化的当前时间\n",
    "t = time.ctime()\n",
    "\n",
    "print(t)\n",
    "\n",
    "print(type(t))\n",
    "\n",
    "time.ctime()"
   ]
  },
  {
   "cell_type": "code",
   "execution_count": 10,
   "metadata": {},
   "outputs": [
    {
     "name": "stdout",
     "output_type": "stream",
     "text": [
      "1581768081.0\n",
      "<class 'float'>\n"
     ]
    }
   ],
   "source": [
    "# mktime：使用时间元组获取对应的时间戳\n",
    "# 格式：time.mktime(时间元组)\n",
    "# 返回值：浮点数时间戳\n",
    "\n",
    "lt = time.localtime()\n",
    "\n",
    "ts = time.mktime(lt)\n",
    "\n",
    "print(ts)\n",
    "\n",
    "print(type(ts))"
   ]
  },
  {
   "cell_type": "code",
   "execution_count": 11,
   "metadata": {},
   "outputs": [],
   "source": [
    "# clock：获取CPU执行时间，Python 3.0～3.3 版本可直接使用，3.6调用有问题，所以不建议使用"
   ]
  },
  {
   "cell_type": "code",
   "execution_count": 1,
   "metadata": {},
   "outputs": [
    {
     "name": "stdout",
     "output_type": "stream",
     "text": [
      "0\n",
      "1\n",
      "2\n",
      "3\n",
      "4\n",
      "5\n",
      "6\n",
      "7\n",
      "8\n",
      "9\n"
     ]
    }
   ],
   "source": [
    "# sleep：使程序进入睡眠，n 秒后继续运行\n",
    "import time\n",
    "\n",
    "for i in range(10):\n",
    "    print(i)\n",
    "    time.sleep(1)"
   ]
  },
  {
   "cell_type": "code",
   "execution_count": 33,
   "metadata": {},
   "outputs": [
    {
     "name": "stdout",
     "output_type": "stream",
     "text": [
      "2020年02月15日 22:18:24\n"
     ]
    }
   ],
   "source": [
    "# strftime：将时间元组转化为自定义的字符串格式\n",
    "\n",
    "'''\n",
    "格式      含义\n",
    " %a   本地（locale）简化星期名称    \n",
    " %A   本地完整星期名称    \n",
    " %b   本地简化月份名称    \n",
    " %B   本地完整月份名称    \n",
    " %c   本地相应的日期和时间表示    \n",
    " %d   一个月中的第几天（01 - 31）   \n",
    " %H   一天中的第几个小时（24 小时制，00 - 23）   \n",
    " %I   一天中的第几个小时（12 小时制，01 - 12）   \n",
    " %j   一年中的第几天（001 - 366）  \n",
    " %m   月份（01 - 12） \n",
    " %M   分钟数（00 - 59）    \n",
    " %p   本地 am 或者 pm 的相应符\n",
    " %S   秒（01 - 61）\n",
    " %U   一年中的星期数（00 - 53 星期天是一个星期的开始）第一个星期天之前的所有天数都放在第 0 周\n",
    " %w   一个星期中的第几天（0 - 6，0 是星期天）\n",
    " %W   和 %U 基本相同，不同的是 %W 以星期一为一个星期的开始  \n",
    " %x   本地相应日期  \n",
    " %X   本地相应时间  \n",
    " %y   去掉世纪的年份（00 - 99）    \n",
    " %Y   完整的年份   \n",
    " %z   用 +HHMM 或 -HHMM 表示距离格林威治的时区偏移（H 代表十进制的小时数，M 代表十进制的分钟数）      \n",
    " %%   %号本身\n",
    "'''\n",
    "\n",
    "# 把时间表示为：2020年2月15日 22:18\n",
    "import time\n",
    "\n",
    "t = time.localtime()\n",
    "\n",
    "ft = time.strftime(\"%Y{}%m{}%d{} %H:%M:%S\", t) # 使用中文字符将报错\n",
    "\n",
    "print(ft.format(\"年\",\"月\",\"日\"))"
   ]
  },
  {
   "cell_type": "markdown",
   "metadata": {},
   "source": [
    "## datetime\n",
    "- datetime模块 提供日期和时间的运算和表示"
   ]
  },
  {
   "cell_type": "code",
   "execution_count": 35,
   "metadata": {},
   "outputs": [],
   "source": [
    "import datetime"
   ]
  },
  {
   "cell_type": "code",
   "execution_count": 41,
   "metadata": {},
   "outputs": [
    {
     "name": "stdout",
     "output_type": "stream",
     "text": [
      "2020-02-15\n",
      "2020-02-15\n",
      "15\n",
      "2020\n",
      "2\n"
     ]
    }
   ],
   "source": [
    "# datetime 常见属性\n",
    "\n",
    "# datetime.date：代表一个理想化历法中的日期（年、月和日），即当今的格列高利历向前后两个方向无限延伸，提供year，month，day属性\n",
    "\n",
    "print(datetime.date(2020,2,15))\n",
    "\n",
    "d = datetime.date(2020,2,15)\n",
    "\n",
    "print(d)\n",
    "\n",
    "print(d.day)\n",
    "print(d.year)\n",
    "print(d.month)"
   ]
  },
  {
   "cell_type": "code",
   "execution_count": 44,
   "metadata": {},
   "outputs": [
    {
     "name": "stdout",
     "output_type": "stream",
     "text": [
      "22:54:12.000050\n",
      "22\n",
      "54\n",
      "12\n",
      "50\n"
     ]
    }
   ],
   "source": [
    "# datetime.time：代表某日的（本地）时间，它独立于任何特定日期，具有hour，minute，second，microsecond等内容\n",
    "\n",
    "t = datetime.time(22,54,12,50)\n",
    "\n",
    "print(t)\n",
    "\n",
    "print(t.hour)\n",
    "print(t.minute)\n",
    "print(t.second)\n",
    "print(t.microsecond)"
   ]
  },
  {
   "cell_type": "markdown",
   "metadata": {},
   "source": [
    "## datetime.datetime\n",
    "- 提供比较好用的时间而已\n",
    "- 类定义：\n",
    "\n",
    "         class datetime.datetime(year, month, day[, hour\n",
    "                  [, minute\n",
    "                  [, second\n",
    "                  [, microsecond\n",
    "                  [, tzinfo]]]]])\n",
    "        # The year, month and day arguments are required.\n",
    "        MINYEAR <= year <= MAXYEAR\n",
    "        1 <= month <= 12\n",
    "        1 <= day <= n\n",
    "        0 <= hour < 24\n",
    "        0 <= minute < 60\n",
    "        0 <= second < 60\n",
    "        0 <= microsecond < 10**\n",
    "\n",
    "- 类方法：\n",
    "    - datetime.today(): 返回当前本地datetime.随着 tzinfo None\n",
    "    - datetime.fromtimestamp(time.time())\n",
    "    - datetime.now([tz]): 返回当前本地日期和时间, 如果可选参数tz为None或没有详细说明,这个方法会像today()\n",
    "    - datetime.utcnow(): 返回当前的UTC日期和时间, 如果tzinfo None ,那么与now()类似\n",
    "    - datetime.fromtimestamp(timestamp[, tz]): 根据时间戳返回本地的日期和时间.tz指定时区\n",
    "    - datetime.utcfromtimestamp(timestamp): 根据时间戳返回 UTC datetime\n",
    "    - datetime.fromordinal(ordinal): 根据Gregorian ordinal 返回datetime\n",
    "    - datetime.combine(date, time): 根据date和time返回一个新的datetime\n",
    "    - datetime.strptime(date_string, format): 根据date_string和format返回一个datetime\n",
    "- 实例方法\n",
    "    - datetime.date(): 返回相同年月日的date对象\n",
    "    - datetime.time(): 返回相同时分秒微秒的time对象\n",
    "    - datetime.replace(kw): kw in [year, month, day, hour, minute, second, microsecond, tzinfo], 与date类似\n",
    "- 类属性\n",
    "    - datetime.min: datetime(MINYEAR, 1, 1)\n",
    "    - datetime.max: datetime(MAXYEAR, 12, 31, 23, 59, 59, 999999)\n",
    "- 实例属性(read-only)\n",
    "    - datetime.year: 1 至 9999\n",
    "    - datetime.month: 1 至 12\n",
    "    - datetime.day: 1 至 n\n",
    "    - datetime.hour: In range(24). 0 至 23\n",
    "    - datetime.minute: In range(60)\n",
    "    - datetime.second: In range(60)\n",
    "    - datetime.microsecond: In range(1000000)"
   ]
  },
  {
   "cell_type": "code",
   "execution_count": 2,
   "metadata": {},
   "outputs": [
    {
     "name": "stdout",
     "output_type": "stream",
     "text": [
      "2020-02-16 14:23:12.951346\n"
     ]
    }
   ],
   "source": [
    "from datetime import datetime as dt\n",
    "\n",
    "print(dt.now())"
   ]
  },
  {
   "cell_type": "code",
   "execution_count": 58,
   "metadata": {},
   "outputs": [
    {
     "name": "stdout",
     "output_type": "stream",
     "text": [
      "2020-02-15 23:05:49.210203\n",
      "2020-02-15 23:05:49.210202\n",
      "2020-02-15 14:05:49.210202\n",
      "2020-02-15 23:05:49.210203\n"
     ]
    },
    {
     "data": {
      "text/plain": [
       "datetime.datetime(2020, 2, 15, 0, 0)"
      ]
     },
     "execution_count": 58,
     "metadata": {},
     "output_type": "execute_result"
    }
   ],
   "source": [
    "# datetime.datetime：提供日期与时间的组合，需要导入\n",
    "from datetime import datetime\n",
    "\n",
    "# 常用类方法：\n",
    "# today()\n",
    "# now()\n",
    "# utcnow()\n",
    "# fromtimestamp()：从时间戳中返回本地时间\n",
    "\n",
    "dt = datetime(2020, 2, 15)\n",
    "print(dt.today())\n",
    "print(dt.now())\n",
    "print(dt.utcnow())\n",
    "print(dt.fromtimestamp(time.time()))"
   ]
  },
  {
   "cell_type": "code",
   "execution_count": 66,
   "metadata": {},
   "outputs": [
    {
     "name": "stdout",
     "output_type": "stream",
     "text": [
      "2020-02-15 23:14:42\n",
      "2020-02-16 00:14:42\n"
     ]
    }
   ],
   "source": [
    "# datetime.timedelta：表示两个 日期 或 时间 的间隔长度\n",
    "from datetime import datetime, timedelta\n",
    "\n",
    "t1 = datetime.now()\n",
    "print(t1.strftime(\"%Y-%m-%d %H:%M:%S\"))\n",
    "\n",
    "# 此处设置一个“一个小时”的时间间隔，即td表示一个小时的时间长度\n",
    "td = timedelta(hours=1)\n",
    "\n",
    "# 当前时间加上时间间隔后的时间\n",
    "t2 = (t1+td).strftime(\"%Y-%m-%d %H:%M:%S\")\n",
    "\n",
    "print(t2)"
   ]
  },
  {
   "cell_type": "markdown",
   "metadata": {},
   "source": [
    "# timeit\n",
    "- timeit模块 提供了一种简单的方法来计算一小段 Python 代码的耗时\n",
    "- 格式：timeit.timeit(stmt='pass', setup='pass', timer=<default timer>, number=1000000, globals=None)\n",
    "    - 参数：\n",
    "        - stmt：给定的代码语句，也可以是函数（为函数时不加后面的括号）\n",
    "        - setup：执行给定代码所需要的环境变量\n",
    "        - timer：给给定函数创建一个 Timer实例，构造函数接受一个将计时的语句、一个用于设置的附加语句和一个定时器函数\n",
    "        - number：执行次数\n",
    "        - globals：指定用于执行代码的命名空间"
   ]
  },
  {
   "cell_type": "code",
   "execution_count": 68,
   "metadata": {},
   "outputs": [
    {
     "name": "stdout",
     "output_type": "stream",
     "text": [
      "2.500713348388672\n"
     ]
    }
   ],
   "source": [
    "# time模块的测量示例\n",
    "def p():\n",
    "    time.sleep(2.5)\n",
    "\n",
    "t1 = time.time()\n",
    "\n",
    "p()\n",
    "\n",
    "t2 = time.time()\n",
    "\n",
    "print(t2 - t1)"
   ]
  },
  {
   "cell_type": "code",
   "execution_count": 71,
   "metadata": {},
   "outputs": [
    {
     "name": "stdout",
     "output_type": "stream",
     "text": [
      "2.3396937000034086\n",
      "4.804779099998996\n"
     ]
    }
   ],
   "source": [
    "# 生成列表两种方法的比较\n",
    "\n",
    "# 如果单纯比较生成一个列表的时间，可能很难实现\n",
    "import timeit\n",
    "\n",
    "c = '''\n",
    "sum = []\n",
    "for i in range(1000):\n",
    "    sum.append(i)\n",
    "'''\n",
    "\n",
    "# 利用timeit调用代码，执行100000次，查看运行时间\n",
    "t1 = timeit.timeit(stmt=\"[i for i in range(1000)]\", number=100000) # 使用了列表生成式\n",
    "\n",
    "# 测量代码c执行100000次运行时间\n",
    "t2 = timeit.timeit(stmt=c,number=100000)\n",
    "\n",
    "print(t1)\n",
    "print(t2)\n",
    "\n",
    "# 结论，使用列表生成式生成列表较快"
   ]
  },
  {
   "cell_type": "code",
   "execution_count": 82,
   "metadata": {},
   "outputs": [
    {
     "name": "stdout",
     "output_type": "stream",
     "text": [
      "Repeat for 0\n",
      "Repeat for 1\n",
      "Repeat for 2\n",
      "Repeat for 0\n",
      "Repeat for 1\n",
      "Repeat for 2\n",
      "Repeat for 0\n",
      "Repeat for 1\n",
      "Repeat for 2\n",
      "Repeat for 0\n",
      "Repeat for 1\n",
      "Repeat for 2\n",
      "Repeat for 0\n",
      "Repeat for 1\n",
      "Repeat for 2\n",
      "0.00022909999825060368\n"
     ]
    }
   ],
   "source": [
    "# timeit 可以执行一个函数，来测量一个函数的执行时间\n",
    "\n",
    "def doIt():\n",
    "    num = 3\n",
    "    for i in range(num):\n",
    "        print(\"Repeat for {0}\".format(i))\n",
    "\n",
    "t = timeit.timeit(stmt=doIt, number=5)\n",
    "\n",
    "print(t)"
   ]
  },
  {
   "cell_type": "code",
   "execution_count": 87,
   "metadata": {},
   "outputs": [
    {
     "name": "stdout",
     "output_type": "stream",
     "text": [
      "Repeat for 0\n",
      "Repeat for 1\n",
      "Repeat for 2\n",
      "Repeat for 0\n",
      "Repeat for 1\n",
      "Repeat for 2\n",
      "Repeat for 0\n",
      "Repeat for 1\n",
      "Repeat for 2\n",
      "Repeat for 0\n",
      "Repeat for 1\n",
      "Repeat for 2\n",
      "Repeat for 0\n",
      "Repeat for 1\n",
      "Repeat for 2\n",
      "0.00022529999841935933\n"
     ]
    }
   ],
   "source": [
    "# 带参数函数的示例\n",
    "\n",
    "s = '''\n",
    "def doIt(num):\n",
    "    for i in range(num):\n",
    "        print(\"Repeat for {0}\".format(i))\n",
    "'''\n",
    "# 执行doIt(num)，setup负责把环境变量设定好，将 环境变量的代码片段 与 需要执行的代码片段 合在一起\n",
    "# 相当于给timeit创建了一个小环境\n",
    "# 在该小环境中，代码执行的顺序大致是：\n",
    "'''\n",
    "def doIt(num):\n",
    "    .....\n",
    "    \n",
    "num = 3\n",
    "\n",
    "doIt(num)\n",
    "'''\n",
    "\n",
    "t = timeit.timeit(\"doIt(num)\", setup=s+\"num=3\", number=5)\n",
    "\n",
    "print(t)"
   ]
  },
  {
   "cell_type": "code",
   "execution_count": null,
   "metadata": {},
   "outputs": [],
   "source": []
  }
 ],
 "metadata": {
  "kernelspec": {
   "display_name": "Python 3",
   "language": "python",
   "name": "python3"
  },
  "language_info": {
   "codemirror_mode": {
    "name": "ipython",
    "version": 3
   },
   "file_extension": ".py",
   "mimetype": "text/x-python",
   "name": "python",
   "nbconvert_exporter": "python",
   "pygments_lexer": "ipython3",
   "version": "3.7.6"
  }
 },
 "nbformat": 4,
 "nbformat_minor": 4
}
