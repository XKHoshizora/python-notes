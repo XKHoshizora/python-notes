{
 "cells": [
  {
   "cell_type": "markdown",
   "metadata": {},
   "source": [
    "# 02. 包\n",
    "- 包是一种组织管理代码的方式\n",
    "- “包”里存放的是“模块”\n",
    "- 用于将模块包含在一起的文件夹就是包，即“包”相当于一个文件夹"
   ]
  },
  {
   "cell_type": "markdown",
   "metadata": {},
   "source": [
    "## 自定义包的结构\n",
    "- 包中必须要有 \\_\\_init\\_\\_.py 文件，该文件一般是空的<br/>\n",
    "\n",
    "| - - - 包<br/>\n",
    "| - - - | - - - \\_\\_init\\_\\_.py  包的标志文件，找到他就说明这是一个包<br/>\n",
    "| - - - | - - - 模块1<br/>\n",
    "| - - - | - - - 模块2<br/>\n",
    "| - - - | - - - 子包<br/>\n",
    "| - - - | - - - | - - - \\_\\_init\\_\\_.py  包的标志文件，找到他就说明这是一个包<br/>\n",
    "| - - - | - - - | - - - 子包模块1<br/>\n",
    "| - - - | - - - | - - - 子包模块2<br/>"
   ]
  },
  {
   "cell_type": "markdown",
   "metadata": {},
   "source": [
    "## 包的导入及使用\n",
    "\n",
    "### 直接导入一个包：import package_name\n",
    "- 该导入方式可以使用 \\_\\_init\\_\\_.py 中的内容\n",
    "- \\_\\_init\\_\\_.py 使用方法：<br/>\n",
    "  package_name.func_name()<br/>\n",
    "  package_name.class.func_name()<br/>\n",
    "- 该方式默认导入的只是 \\_\\_init\\_\\_.py 中的内容，如果要导入该包内的其他模块需要使用from ... import ...\n",
    "- 包名简化：import package_name as pkg\n",
    "\n",
    "### 导入包中的某模块：import package.module\n",
    "- 也可定义一个简化名：import package.module as pkm\n",
    "- 使用方法：<br/>\n",
    "  package.module.func_name()<br/>\n",
    "  package.module.class.func_name()<br/>\n",
    "  package.module.class.var<br/>\n",
    "\n",
    "### from ... import 导入：from package import module\n",
    "- 该导入方式不会执行 \\_\\_init\\_\\_.py 中的内容\n",
    "- 使用方法（不需要包名前缀）：\n",
    "  module.func_name()<br/>\n",
    "  module.class.func_name()<br/>\n",
    "- 可以一次性导入多个模块：from package import module1, module2, module3, ...\n",
    "- from package import *\n",
    "    - 只导入当前包 \\_\\_init\\_\\_.py 文件中所有的类和函数\n",
    "    - 使用方法（不需要前缀）：<br/>\n",
    "      func_name()<br/>\n",
    "      class_name.func_name()<br/>\n",
    "      class_name.var<br/>\n",
    "- from package.module import *\n",
    "    - 导入包中指定模块的所有内容\n",
    "    - 使用方法（不需要前缀）：<br/>\n",
    "      func_name()<br/>\n",
    "      class_name.func_name()<br/>\n",
    "      class_name.var<br/>\n",
    "- \\_\\_all\\_\\_ 的用法\n",
    "    - 指定在使用 from package import * 的时候，“*”能导入的内容\n",
    "    - \\_\\_init\\_\\_.py 如果为空文件，或 \\_\\_init\\_\\_.py 中未设定 \\_\\_all\\_\\_，则只可以导入  \\_\\_init\\_\\_.py 中的内容\n",
    "    - 如果 \\_\\_init\\_\\_.py 中设置了 \\_\\_all\\_\\_ 的值，则按照 \\_\\_all\\_\\_ 指定的子包或者模块进行加载，这样就不会加载 \\_\\_init\\_\\_.py 中的内容\n",
    "    - 设定方法：<br/>\n",
    "    \\_\\_all\\_\\_ = ['module1', 'package1', 'module2', ...]\n",
    "\n",
    "### 可以在当前包中直接导入其他包或其他包中模块的内容\n",
    "- import 完整的包或模块的路径"
   ]
  },
  {
   "cell_type": "markdown",
   "metadata": {},
   "source": [
    "## 命名空间\n",
    "- 用于区分不同位置不同功能，但有相同名称的函数或变量的一个特定前缀\n",
    "- 作用是防止命名冲突\n",
    "- 某个函数或类所属的包或模块即为其命名空间"
   ]
  },
  {
   "cell_type": "code",
   "execution_count": null,
   "metadata": {},
   "outputs": [],
   "source": []
  }
 ],
 "metadata": {
  "kernelspec": {
   "display_name": "Python 3",
   "language": "python",
   "name": "python3"
  },
  "language_info": {
   "codemirror_mode": {
    "name": "ipython",
    "version": 3
   },
   "file_extension": ".py",
   "mimetype": "text/x-python",
   "name": "python",
   "nbconvert_exporter": "python",
   "pygments_lexer": "ipython3",
   "version": "3.7.9"
  }
 },
 "nbformat": 4,
 "nbformat_minor": 4
}
