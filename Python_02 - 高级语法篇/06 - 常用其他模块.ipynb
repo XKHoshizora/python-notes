{
 "cells": [
  {
   "cell_type": "markdown",
   "metadata": {},
   "source": [
    "# 06. 常用其他模块"
   ]
  },
  {
   "cell_type": "markdown",
   "metadata": {},
   "source": [
    "# OS - 操作系统相关模块\n",
    "- 与操作系统相关，主要是文件操作\n",
    "- 与系统相关的操作，主要包含在三个模块里\n",
    "    - os：与操作系统目录相关\n",
    "    - os.path：系统路径相关操作\n",
    "    - shutil：高级文件操作，目录树的操作、文件赋值、删除、移动\n",
    "- 路径：\n",
    "    - 绝对路径： 总是从根目录上开始\n",
    "    - 相对路径： 基本以当前环境为开始的一个相对的地方"
   ]
  },
  {
   "cell_type": "markdown",
   "metadata": {},
   "source": [
    "## os模块\n",
    "- 需要导入\n",
    "- getcwd()：获取当前的工作目录\n",
    "    - 格式：os.getcwd()\n",
    "    - 返回值：当前工作目录的字符串\n",
    "    - 当前工作目录就是程序在进行文件相关操作，默认查找文件的目录\n",
    "- chdir()：改变当前的工作目录（change directory）\n",
    "    -  格式：os.chdir（路径）\n",
    "    -  返回值：无\n",
    "    - 注意：要把路径里的“\\”都改为“/”，否则报错\n",
    "- listdir()：获取一个目录中所有子目录和文件的名称列表\n",
    "    - 格式：os.listdir(路径)\n",
    "    - 返回值：所有子目录和文件名称的列表\n",
    "    - 注意：“.”开头的文件在Linux中表示隐藏文件\n",
    "- makedirs()：默认在当前目录下，递归创建文件夹\n",
    "    - 格式：os.makedirs(递归路径)\n",
    "    - 返回值：无\n",
    "    - 递归路径：多个文件夹层层包含的路径就是递归路径 例如：a/b/c...\n",
    "- system()：运行系统shell命令\n",
    "    - 格式：os.system(系统命令)\n",
    "    - 返回值：打开一个shell或者终端界面\n",
    "    - 对于执行较为复杂的命令，推荐使用subprocess模块\n",
    "- getenv()：获取指定的系统环境变量值\n",
    "    - 格式：os.getenv('环境变量名')\n",
    "    - 返回值：指定环境变量名对应的值\n",
    "    - 相应的还有putenv\n",
    "- exit()：退出当前程序\n",
    "    - 格式：exit()\n",
    "    - 返回值:无\n",
    "- Windows基础系统命令：\n",
    "    - 查看当前目录下文件和子文件夹：dir\n",
    "    - 创建文件夹：md 文件夹名\n",
    "    - 创建空的文件：type nul>文件名\n",
    "    - 创建有内容文件：echo \"内容\">文件名\n",
    "    - 查看文件内容：type +文件名\n",
    "    - 查看目录及子文件：dir\n",
    "    - 删除空文件夹：rd 文件夹名\n",
    "    - 删除文件及所有子文件：rd /s/q 文件夹名\n",
    "    - 删除文件：del 文件名"
   ]
  },
  {
   "cell_type": "code",
   "execution_count": 1,
   "metadata": {},
   "outputs": [],
   "source": [
    "import os"
   ]
  },
  {
   "cell_type": "code",
   "execution_count": 3,
   "metadata": {},
   "outputs": [
    {
     "name": "stdout",
     "output_type": "stream",
     "text": [
      "C:\\Users\\hoshi\\Desktop\\Jupyter Notebook\\Python笔记\\Python - 高级语法篇\n"
     ]
    }
   ],
   "source": [
    "# getcwd()：获取当前的工作目录\n",
    "\n",
    "mydir = os.getcwd()\n",
    "print(mydir)"
   ]
  },
  {
   "cell_type": "code",
   "execution_count": 25,
   "metadata": {},
   "outputs": [
    {
     "name": "stdout",
     "output_type": "stream",
     "text": [
      "C:\\Users\\hoshi\\Desktop\\Jupyter Notebook\n",
      "C:\\Users\\hoshi\\Desktop\\Jupyter Notebook\\Python笔记\\Python - 高级语法篇\n"
     ]
    }
   ],
   "source": [
    "# chdir()：改变当前的工作目录（change directory）\n",
    "\n",
    "os.chdir(\"C:/Users/hoshi/Desktop/Jupyter Notebook\")\n",
    "\n",
    "mydir = os.getcwd()\n",
    "\n",
    "print(mydir)\n",
    "\n",
    "os.chdir(\"C:/Users/hoshi/Desktop/Jupyter Notebook/Python笔记/Python - 高级语法篇\")\n",
    "\n",
    "mydir = os.getcwd()\n",
    "\n",
    "print(mydir)"
   ]
  },
  {
   "cell_type": "code",
   "execution_count": 26,
   "metadata": {},
   "outputs": [
    {
     "name": "stdout",
     "output_type": "stream",
     "text": [
      "['.ipynb_checkpoints', '01 - 模块.ipynb', '02 - 包.ipynb', '03 - 异常处理.ipynb', '04 - 常用包和模块.ipynb', '05 - 常用时间模块.ipynb', '06 - 常用其他模块.ipynb']\n"
     ]
    }
   ],
   "source": [
    "# listdir()：获取一个目录中所有子目录和文件的名称列表\n",
    "\n",
    "ld = os.listdir()\n",
    "\n",
    "print(ld)"
   ]
  },
  {
   "cell_type": "code",
   "execution_count": 30,
   "metadata": {},
   "outputs": [
    {
     "name": "stdout",
     "output_type": "stream",
     "text": [
      "C:\\Users\\hoshi\\Desktop\\Jupyter Notebook\\Python笔记\\Python - 高级语法篇\n",
      "None\n"
     ]
    }
   ],
   "source": [
    "# makedirs()：递归创建文件夹\n",
    "print(os.getcwd())\n",
    "\n",
    "rst = os.makedirs(\"BingBing\")\n",
    "\n",
    "print(rst)"
   ]
  },
  {
   "cell_type": "code",
   "execution_count": 37,
   "metadata": {},
   "outputs": [
    {
     "name": "stdout",
     "output_type": "stream",
     "text": [
      "0\n",
      "0\n"
     ]
    },
    {
     "data": {
      "text/plain": [
       "0"
      ]
     },
     "execution_count": 37,
     "metadata": {},
     "output_type": "execute_result"
    }
   ],
   "source": [
    "# system()：运行系统shell命令\n",
    "\n",
    "# “ls”是Linux系统中，列出当前路径中文件夹和文件的系统命令，但在Jupyter中只会表示成功（0）与否（1）\n",
    "# “dir”是Windows系统中，列出当前路径中文件夹和文件的系统命令，但在Jupyter中只会表示成功（0）与否（1）\n",
    "rst = os.system(\"dir\")\n",
    "print(rst)\n",
    "\n",
    "# “touch”是Linux系统中，在当前目录下创建一个文件夹，“0”表示成功，“1”表示否\n",
    "# “md”是Windows系统中，在当前目录下创建一个文件夹，“0”表示成功，“1”表示否\n",
    "rst = os.system(\"md bing.ihaku\")\n",
    "print(rst)\n",
    "\n",
    "os.system(\"rd bing.ihaku\") # 删除该空文件夹"
   ]
  },
  {
   "cell_type": "code",
   "execution_count": 41,
   "metadata": {},
   "outputs": [
    {
     "name": "stdout",
     "output_type": "stream",
     "text": [
      "G:\\Anaconda3;G:\\Anaconda3\\Library\\mingw-w64\\bin;G:\\Anaconda3\\Library\\usr\\bin;G:\\Anaconda3\\Library\\bin;G:\\Anaconda3\\Scripts;G:\\Python\\Scripts\\;G:\\Python\\;C:\\Program Files (x86)\\Intel\\Intel(R) Management Engine Components\\iCLS\\;C:\\Program Files\\Intel\\Intel(R) Management Engine Components\\iCLS\\;C:\\Windows\\system32;C:\\Windows;C:\\Windows\\System32\\Wbem;C:\\Windows\\System32\\WindowsPowerShell\\v1.0\\;C:\\Windows\\System32\\OpenSSH\\;C:\\Program Files (x86)\\NVIDIA Corporation\\PhysX\\Common;C:\\Program Files\\dotnet\\;C:\\Program Files\\NVIDIA Corporation\\NVIDIA NvDLISR;G:\\CTeX\\UserData\\miktex\\bin;G:\\CTeX\\MiKTeX\\miktex\\bin;G:\\CTeX\\CTeX\\ctex\\bin;G:\\CTeX\\CTeX\\cct\\bin;G:\\CTeX\\CTeX\\ty\\bin;G:\\CTeX\\Ghostscript\\gs9.05\\bin;G:\\CTeX\\GSview\\gsview;G:\\CTeX\\WinEdt;G:\\Git\\cmd;C:\\Users\\hoshi\\AppData\\Local\\Microsoft\\WindowsApps;C:\\Users\\hoshi\\AppData\\Local\\atom\\bin;G:\\PyCharm\\PyCharm Community Edition with Anaconda plugin 2019.2.3\\bin;\n"
     ]
    }
   ],
   "source": [
    "# getenv()：获取指定的系统环境变量值\n",
    "\n",
    "rst = os.getenv('PATH')\n",
    "print(rst)"
   ]
  },
  {
   "cell_type": "markdown",
   "metadata": {},
   "source": [
    "## 系统返回值\n",
    "- os.curdir：当前目录（curretn dir）的符号\n",
    "- os.pardir：父目录（parent dir）的符号\n",
    "- os.sep：当前系统的路径分隔符（为了避免不同系统下出错，一般不手打）\n",
    "    - Windows：“\\\\”\n",
    "    - Linux：“/”\n",
    "- os.linesep：当前系统的换行符号（不可见）\n",
    "    - Windows：“\\r\\n”或“\\n”\n",
    "    - Unix，Linux，MacOs：“\\n”\n",
    "- os.name：当前系统名称\n",
    "    - Windows：nt\n",
    "    - Unix，Linux，MacOs：posix\n",
    "- 注意：在进行路径相关的操作中，为避免出错，尽量不手动输入分隔符，以此来保证不同系统间的可移植性"
   ]
  },
  {
   "cell_type": "code",
   "execution_count": 42,
   "metadata": {},
   "outputs": [
    {
     "name": "stdout",
     "output_type": "stream",
     "text": [
      ".\n",
      "..\n"
     ]
    }
   ],
   "source": [
    "print(os.curdir)\n",
    "print(os.pardir)"
   ]
  },
  {
   "cell_type": "code",
   "execution_count": 43,
   "metadata": {},
   "outputs": [
    {
     "name": "stdout",
     "output_type": "stream",
     "text": [
      "\\\n",
      "\r\n",
      "\n"
     ]
    }
   ],
   "source": [
    "print(os.sep)\n",
    "print(os.linesep) # 不可见"
   ]
  },
  {
   "cell_type": "code",
   "execution_count": 45,
   "metadata": {},
   "outputs": [
    {
     "name": "stdout",
     "output_type": "stream",
     "text": [
      "nt\n"
     ]
    }
   ],
   "source": [
    "# 当前系统的名称\n",
    "print(os.name)"
   ]
  },
  {
   "cell_type": "markdown",
   "metadata": {},
   "source": [
    "## os.path模块\n",
    "- 与路径相关的模块，需要导入\n",
    "- abspath()：将路径 path 转化为绝对路径，“abselute”是“绝对”的意思\n",
    "    - 格式：os.path.abspath('path')\n",
    "    - 返回值：路径的绝对路径形式\n",
    "- basename()：返回路径 path 的基本名称\n",
    "    - 格式：os.path.basename('path')\n",
    "    - 返回值：文件名字符串\n",
    "    - 将路径传入函数 split() 之后，返回的一对值中的第二个元素\n",
    "    - 注意：此函数的结果与Unix basename 程序不同，basename 在 '/foo/bar/' 上返回 'bar'，而 basename() 函数返回一个空字符串 ('')\n",
    "- join()：合理地拼接一个或多个路径 path 部分\n",
    "    - 格式：os.path.join('path1', 'path2', …)\n",
    "    - 返回值：组合之后的新路径字符串\n",
    "    - 注意：\n",
    "        - 返回值的每个非空部分后面都紧跟一个目录分隔符（os.sep），除了最后一部分。这意味着如果最后一部分为空，则结果将以分隔符结尾\n",
    "        - 如果参数中某个部分是绝对路径，则绝对路径前的路径都将被丢弃，并从绝对路径部分开始连接\n",
    "        - 在 Windows 上，遇到绝对路径部分（例如 r'\\foo'）时，不会重置盘符\n",
    "        - 如果某部分路径包含盘符，则会丢弃所有先前的部分，并重置盘符\n",
    "        - 由于每个驱动器都有一个“当前目录”，所以 os.path.join(\"c:\", \"foo\") 表示驱动器 C: 上当前目录的相对路径 (c:foo)，而不是 c:\\foo\n",
    "- split()：将路径 path 拆分为一对\n",
    "    - 格式：os.path.split('path')\n",
    "    - 返回值：路径和文件或文件夹名组成的元组，即 (head, tail)，其中，tail 是路径的最后一部分，而 head 里是除最后部分外的所有内容\n",
    "    - 注意：\n",
    "        - tail 部分不会包含斜杠，如果 path 以斜杠结尾，则 tail 将为空\n",
    "        - 如果 path 中没有斜杠，head 将为空\n",
    "        - 如果 path 为空，则 head 和 tail 均为空\n",
    "        - head 末尾的斜杠会被去掉，除非它是根目录（即它仅包含一个或多个斜杠）\n",
    "- isdir()：检测路径 path 是否为当前目录\n",
    "    - 格式：os.path.isdir('path')\n",
    "    - 返回值：布尔值\n",
    "    - 如果 path 是现有的目录，则返回 True\n",
    "- exists()：检测文件或者目录是否存在\n",
    "    - 格式：os.path.exists('path')\n",
    "    - 返回值:布尔值\n",
    "    - 如果 path 指向一个已存在的路径或已打开的文件描述符，返回 True，对于失效的符号链接，返回 False"
   ]
  },
  {
   "cell_type": "code",
   "execution_count": 46,
   "metadata": {},
   "outputs": [],
   "source": [
    "import os.path as op"
   ]
  },
  {
   "cell_type": "code",
   "execution_count": 51,
   "metadata": {},
   "outputs": [
    {
     "name": "stdout",
     "output_type": "stream",
     "text": [
      "C:\\Users\\hoshi\\Desktop\\Jupyter Notebook\\Python笔记\\Python - 高级语法篇\n",
      "C:\\Users\\hoshi\\Desktop\\Jupyter Notebook\\Python笔记\n"
     ]
    }
   ],
   "source": [
    "# abspath()：将路径转化为绝对路径\n",
    "\n",
    "# “.”代表当前目录\n",
    "absp1 = op.abspath('.')\n",
    "print(absp)\n",
    "\n",
    "# “..”代表父目录\n",
    "absp2 = op.abspath('..')\n",
    "print(absp2)"
   ]
  },
  {
   "cell_type": "code",
   "execution_count": 61,
   "metadata": {},
   "outputs": [
    {
     "name": "stdout",
     "output_type": "stream",
     "text": [
      "Python - 高级语法篇\n",
      "\n"
     ]
    },
    {
     "data": {
      "text/plain": [
       "''"
      ]
     },
     "execution_count": 61,
     "metadata": {},
     "output_type": "execute_result"
    }
   ],
   "source": [
    "# basename()：返回路径的基本名称\n",
    "\n",
    "bn1 = op.basename('C:/Users/hoshi/Desktop/Jupyter Notebook/Python笔记/Python - 高级语法篇')\n",
    "print(bn1)\n",
    "\n",
    "bn2 = op.basename('/foo/bar/')\n",
    "print(bn2) # 返回空字符，如下\n",
    "op.basename('/foo/bar/')"
   ]
  },
  {
   "cell_type": "code",
   "execution_count": 75,
   "metadata": {},
   "outputs": [
    {
     "name": "stdout",
     "output_type": "stream",
     "text": [
      "C:Users\\hoshi\\Desktop\\Jupyter Notebook\\Python笔记\\Python - 高级语法篇\n"
     ]
    }
   ],
   "source": [
    "# join()：合理地拼接一个或多个路径部分\n",
    "\n",
    "fn = \"Python - 高级语法篇\"\n",
    "\n",
    "p = op.join(\"C:\", \"Users\", \"hoshi\", \"Desktop\", \"Jupyter Notebook\", \"Python笔记\", fn)\n",
    "\n",
    "print(p)"
   ]
  },
  {
   "cell_type": "code",
   "execution_count": 80,
   "metadata": {},
   "outputs": [
    {
     "name": "stdout",
     "output_type": "stream",
     "text": [
      "('C:Users\\\\hoshi\\\\Desktop\\\\Jupyter Notebook\\\\Python笔记', 'Python - 高级语法篇')\n",
      "C:Users\\hoshi\\Desktop\\Jupyter Notebook\\Python笔记\n",
      "Python - 高级语法篇\n"
     ]
    }
   ],
   "source": [
    "# split()：将路径拆分为一对\n",
    "\n",
    "t = op.split(p)\n",
    "print(t)\n",
    "\n",
    "# 将返回的元组进行分离\n",
    "a,b = t\n",
    "print(a)\n",
    "print(b)"
   ]
  },
  {
   "cell_type": "code",
   "execution_count": 86,
   "metadata": {},
   "outputs": [
    {
     "name": "stdout",
     "output_type": "stream",
     "text": [
      "True\n"
     ]
    }
   ],
   "source": [
    "# isdir()：检测路径是否为当前目录\n",
    "\n",
    "rst = op.isdir('C:/Users/hoshi/Desktop/Jupyter Notebook/Python笔记/Python - 高级语法篇')\n",
    "print(rst)"
   ]
  },
  {
   "cell_type": "code",
   "execution_count": 87,
   "metadata": {},
   "outputs": [
    {
     "name": "stdout",
     "output_type": "stream",
     "text": [
      "True\n"
     ]
    }
   ],
   "source": [
    "# exists()：检测目录或文件是否存在\n",
    "\n",
    "e = op.exists('C:/Users/hoshi/Desktop/Jupyter Notebook/Python笔记')\n",
    "print(e)"
   ]
  },
  {
   "cell_type": "markdown",
   "metadata": {},
   "source": [
    "## shutil模块\n",
    "- copy()：将文件 src 拷贝到文件或目录 dst\n",
    "    - 格式：shutil.copy(src, dst, *, follow_symlinks=True)\n",
    "        - src：来源路径\n",
    "        - dst：目标路径\n",
    "    - 返回值：新创建文件的路径\n",
    "    - 注意：\n",
    "        - src 和 dst 应为字符串\n",
    "        - 如果 dst 指定了一个目录，文件将使用 src 中的基准文件名拷贝到 dst\n",
    "        - 但拷贝的同时，可以给文件重命名\n",
    "        - 如果 follow_symlinks 为假值且 src 为符号链接，则 dst 也将被创建为符号链接\n",
    "        - 如果 follow_symlinks 为真值且 src 为符号链接，dst 将成为 src 所指向的文件的一个副本\n",
    "- copy2()：复制文件，保留元数据（文件信息）\n",
    "    - 类似于 copy()，区别在于 copy2() 还会尝试保留文件的元数据\n",
    "    - 格式：shutil.copy2(src, dst, *, follow_symlinks=True)\n",
    "    - 返回值：返回新创建文件的路径\n",
    "- copyfile()：将名为 src 的文件的内容（不包括元数据）拷贝到名为 dst 的文件并以尽可能高效的方式返回 dst\n",
    "    - 格式：shutil.copyfile(src, dst, *, follow_symlinks=True)\n",
    "        - src 和 dst 均为路径类对象或以字符串形式给出的路径名\n",
    "    - 返回值：返回 dst\n",
    "    - 注意：\n",
    "        - dst 必须是完整的目标文件名\n",
    "        - 目标位置必须是可写的；否则将引发 OSError 异常\n",
    "        - 如果 dst 已经存在，它将被替换\n",
    "        - 特殊文件如字符或块设备以及管道无法用此函数来拷贝\n",
    "- move()：递归地将一个文件或目录 (src) 移至另一位置 (dst) 并返回目标位置\n",
    "    - 格式：shutil.move(src, dst, copy_function=copy2)\n",
    "    - 返回值：目标位置\n",
    "    - 注意：\n",
    "        - 移动后会删除原文件，相当于剪切\n",
    "        - 如果目标是已存在的目录，则 src 会被移至该目录下\n",
    "        - 如果目标已存在但不是目录，它可能会被覆盖"
   ]
  },
  {
   "cell_type": "code",
   "execution_count": 2,
   "metadata": {},
   "outputs": [],
   "source": [
    "import shutil"
   ]
  },
  {
   "cell_type": "code",
   "execution_count": 3,
   "metadata": {},
   "outputs": [
    {
     "name": "stdout",
     "output_type": "stream",
     "text": [
      "C:\\Users\\hoshi\\Desktop\\test\\ihaku.txt\n"
     ]
    }
   ],
   "source": [
    "# copy()：将文件 src 拷贝到文件或目录 dst\n",
    "\n",
    "# 将某个文件复制到某个目标目录，并重命名\n",
    "# 此处可能会因为没有文件写入权限而报错\n",
    "rst = shutil.copy('C:\\\\Users\\\\hoshi\\\\Desktop\\\\Jupyter Notebook\\\\Python笔记\\\\Python - 高级语法篇\\\\bing.txt',\n",
    "                 'C:\\\\Users\\\\hoshi\\\\Desktop\\\\test\\\\ihaku.txt')\n",
    "\n",
    "print(rst)"
   ]
  },
  {
   "cell_type": "markdown",
   "metadata": {},
   "source": [
    "## 归档与压缩\n",
    "- 归档：把多个文件或者文件夹合并到一个文件当中\n",
    "- 压缩：用算法把多个文件或者文件夹无损或有损合并到一个文件当中\n",
    "- 以上两种说法，除了算法，其他无区别"
   ]
  },
  {
   "cell_type": "markdown",
   "metadata": {},
   "source": [
    "### 归档操作\n",
    "- make_archive()：创建一个归档文件（例如 zip 或 tar）并返回其名称\n",
    "    - 格式：shutil.make_archive(base_name, format[, root_dir[, base_dir[, verbose[, dry_run[, owner[, group[, logger]]]]]]])\n",
    "        - base_name：要创建的文件名称，包括路径，去除任何特定格式的扩展名\n",
    "        -  format：归档格式，为 \"zip\" (如果 zlib 模块可用), \"tar\", \"gztar\" (如果 zlib 模块可用), \"bztar\" (如果 bz2 模块可用) 或 \"xztar\" (如果 lzma 模块可用) 中的一个\n",
    "        - root_dir：一个目录，它将作为归档文件的根目录，例如：我们通常会在创建归档文件之前用 chdir 命令切换到 root_dir\n",
    "        - base_dir：我们要执行归档的起始目录，也就是说 base_dir 将成为归档文件中所有文件和目录共有的路径前缀\n",
    "            - root_dir 和 base_dir：默认均为当前目录\n",
    "        - 如果 dry_run 为真值，则不会创建归档文件，但将要被执行的操作会被记录到 logger\n",
    "        - owner 和 group：将在创建 tar 归档文件时被使用，默认会使用当前的所有者和分组\n",
    "        - logger：必须是一个兼容 PEP 282 的对象，通常为 logging.Logger 的实例\n",
    "        - verbose：该参数已不再使用并进入弃用状态\n",
    "    - 返回值：返回归档之后的文件路径\n",
    "    - 不删除原文件\n",
    "\n",
    "### 解包操作\n",
    "- unpack_archive()：解包一个归档文件\n",
    "    - 格式：shutil.unpack_archive(filename[, extract_dir[, format]])\n",
    "        - filename：归档文件的完整路径\n",
    "        - extract_dir：归档文件解包的目标目录名称。 如果未提供，则将使用当前工作目录\n",
    "        - format：归档格式，应为 \"zip\", \"tar\", \"gztar\", \"bztar\" 或 \"xztar\" 之一，或任何通过 register_unpack_format() 注册的其他格式\n",
    "            - 如果未提供，unpack_archive() 将使用归档文件的扩展名来检查是否注册了对应于该扩展名的解包器\n",
    "            - 在未找到任何解包器的情况下，将引发 ValueError\n",
    "    - 返回值：无"
   ]
  },
  {
   "cell_type": "code",
   "execution_count": 4,
   "metadata": {},
   "outputs": [
    {
     "name": "stdout",
     "output_type": "stream",
     "text": [
      "C:\\Users\\hoshi\\Desktop\\Jupyter Notebook\\Python笔记\\Python - 高级语法篇\\z1.zip\n"
     ]
    }
   ],
   "source": [
    "# make_archive()：归档操作\n",
    "# 格式:shutil.make_archive('归档之后的目录和文件名','后缀','需要归档的文件夹')\n",
    "\n",
    "rst = shutil.make_archive('C:\\\\Users\\\\hoshi\\\\Desktop\\\\Jupyter Notebook\\\\Python笔记\\\\Python - 高级语法篇\\\\z1',\n",
    "                          'zip',\n",
    "                          'C:\\\\Users\\\\hoshi\\\\Desktop\\\\Jupyter Notebook\\\\Python笔记\\\\Python - 高级语法篇\\\\abc')\n",
    "\n",
    "print(rst)"
   ]
  },
  {
   "cell_type": "code",
   "execution_count": 6,
   "metadata": {},
   "outputs": [
    {
     "name": "stdout",
     "output_type": "stream",
     "text": [
      "None\n"
     ]
    }
   ],
   "source": [
    "# unpack_archive()：解包操作\n",
    "# 格式：shutil.unpack_archive('归档文件地址','解包之后的地址')\n",
    "\n",
    "rst = shutil.unpack_archive('C:\\\\Users\\\\hoshi\\\\Desktop\\\\Jupyter Notebook\\\\Python笔记\\\\Python - 高级语法篇\\\\z1.zip',\n",
    "                          'C:\\\\Users\\\\hoshi\\\\Desktop\\\\Jupyter Notebook\\\\Python笔记\\\\Python - 高级语法篇\\\\abc2')\n",
    "\n",
    "print(rst)"
   ]
  },
  {
   "cell_type": "markdown",
   "metadata": {},
   "source": [
    "## zipfile模块\n",
    "- zip - 压缩包\n",
    "- ZIP 文件格式是一个常用的归档与压缩标准，这个模块提供了创建、读取、写入、添加及列出 ZIP 文件的工具\n",
    "- 需要导入\n",
    "\n",
    "### ZipFile()：打开一个 ZIP 文件\n",
    "- 格式：zipfile.ZipFile(file, mode='r', compression=ZIP_STORED, allowZip64=True, compresslevel=None, *, strict_timestamps=True)\n",
    "    - file：为一个指向文件的路径（字符串），一个类文件对象或一个 path-like object\n",
    "    - mode：应当为 'r' 来读取一个存在的文件，'w' 来截断并写入新的文件， 'a' 来添加到一个存在的文件，或者 'x' 来仅新建并写入新的文件\n",
    "        - 如果 mode 为 'x' 并且 file 指向已经存在的文件，则抛出 FileExistsError\n",
    "        - 如果 mode 为 'a' 且 file 为已存在的文件，则格外的文件将被加入\n",
    "        - 如果 file 不指向 ZIP 文件，之后一个新的 ZIP 归档将被追加为此文件，这是为了将 ZIP 归档添加到另一个文件（例如 python.exe）\n",
    "        - 如果 mode 为 'a' 并且文件不存在， 则会新建\n",
    "        - 如果 mode 为 'r' 或 'a'， 则文件应当可定位\n",
    "    - compression：在写入归档时要使用的 ZIP 压缩方法，应为 ZIP_STORED, ZIP_DEFLATED, ZIP_BZIP2 或 ZIP_LZMA\n",
    "        - 不可识别的值将导致引发 NotImplementedError\n",
    "        - 如果指定了 ZIP_DEFLATED, ZIP_BZIP2 或 ZIP_LZMA 但相应的模块 (zlib, bz2 或 lzma) 不可用，则会引发 RuntimeError\n",
    "        - 默认值为 ZIP_STORED\n",
    "    - 如果 allowZip64 为 True (默认值) 则当 zipfile 大于 4 GiB 时 zipfile 将创建使用 ZIP64 扩展的 ZIP 文件；如果该参数为 false 则当 ZIP 文件需要 ZIP64 扩展时 zipfile 将引发异常\n",
    "    - compresslevel：控制在将文件写入归档时要使用的压缩等级\n",
    "        - 当使用 ZIP_STORED 或 ZIP_LZMA 时无压缩效果\n",
    "        - 当使用 ZIP_DEFLATED 时接受整数 0 至 9\n",
    "        - 当使用 ZIP_BZIP2 时接受整数 1 至 9\n",
    "    - strict_timestamps：该参数在设为 False 时允许压缩早于 1980-01-01 的文件，代价是会将时间戳设为 1980-01-01；类似的行为也会对晚于 2107-12-31 的文件发生，时间戳也会被设为该上限值\n",
    "- 如果创建文件时使用 'w', 'x' 或 'a' 模式并且未向归档添加任何文件就执行了 closed，则会将适当的空归档 ZIP 结构写入文件\n",
    "- ZipFile 也是一个上下文管理器，因此支持 with 语句\n",
    "\n",
    "### getinfo()：获取ZIP文档内指定文件的信息\n",
    "- 格式：ZipFile.getinfo(name)\n",
    "- 返回值：返回一个 ZipInfo 对象，其中包含有关归档成员 name 的信息\n",
    "- 针对一个目前并不包含于归档中的名称调用 getinfo() 将会引发 KeyError\n",
    "\n",
    "### namelist()：返回按名称排序的归档成员列表\n",
    "- 格式：ZipFile.namelist()\n",
    "\n",
    "### extractall()：从归档中提取出所有成员放入当前工作目录\n",
    "- 格式：ZipFile.extractall(path=None, members=None, pwd=None)\n",
    "    - path：指定一个要提取到的不同目录\n",
    "    - members：为可选项且必须为 namelist() 所返回列表的一个子集\n",
    "    - pwd：用于解密文件的密码\n",
    "- 返回值：无\n",
    "- 警告：绝不要未经预先检验就从不可靠的源中提取归档文件。这样有可能在 path 之外创建文件，例如某些成员具有以 \"/\" 开始的文件名或带有两个点号 \"..\" 的文件名。此模块会尝试防止这种情况。"
   ]
  },
  {
   "cell_type": "code",
   "execution_count": 7,
   "metadata": {},
   "outputs": [],
   "source": [
    "import zipfile "
   ]
  },
  {
   "cell_type": "code",
   "execution_count": 9,
   "metadata": {},
   "outputs": [],
   "source": [
    "# ZipFile()：打开一个ZIP文件\n",
    "\n",
    "zf = zipfile.ZipFile('C:\\\\Users\\\\hoshi\\\\Desktop\\\\Jupyter Notebook\\\\Python笔记\\\\Python - 高级语法篇\\\\z1.zip')"
   ]
  },
  {
   "cell_type": "code",
   "execution_count": 10,
   "metadata": {},
   "outputs": [
    {
     "name": "stdout",
     "output_type": "stream",
     "text": [
      "<ZipInfo filename='对照顺序表.pdf' compress_type=deflate filemode='-rw-rw-rw-' file_size=580405 compress_size=530567>\n"
     ]
    }
   ],
   "source": [
    "# getinfo()：获取ZIP文档内指定文件的信息\n",
    "\n",
    "rst = zf.getinfo('对照顺序表.pdf')\n",
    "\n",
    "print(rst)"
   ]
  },
  {
   "cell_type": "code",
   "execution_count": 11,
   "metadata": {},
   "outputs": [
    {
     "name": "stdout",
     "output_type": "stream",
     "text": [
      "['MarkDown 使用方法（Atom 版）.md', 'Markdown 使用方法（jupyter notebook 版）.ipynb', '北京图灵学院Python 全系列教程全栈工程师-- 井关小熊学习笔记（基础知识篇）.docx', '对照顺序表.pdf']\n"
     ]
    }
   ],
   "source": [
    "# namelist()：返回按名称排序的归档成员列表\n",
    "\n",
    "nl = zf.namelist()\n",
    "\n",
    "print(nl)"
   ]
  },
  {
   "cell_type": "code",
   "execution_count": 12,
   "metadata": {},
   "outputs": [
    {
     "name": "stdout",
     "output_type": "stream",
     "text": [
      "None\n"
     ]
    }
   ],
   "source": [
    "# extractall()：从归档中提取出所有成员放入当前工作目录\n",
    "\n",
    "rst = zf.extractall('C:\\\\Users\\\\hoshi\\\\Desktop\\\\Jupyter Notebook\\\\Python笔记\\\\Python - 高级语法篇\\\\test')\n",
    "\n",
    "print(rst)"
   ]
  },
  {
   "cell_type": "markdown",
   "metadata": {},
   "source": [
    "## random模块\n",
    "- 该模块实现了各种分布的伪随机数生成器\n",
    "- 所有的随机模块都是伪随机模块\n",
    "- 不应将此模块的伪随机生成器用于安全目的\n",
    "- 需要导入\n",
    "- random()：返回 [0.0, 1.0) 范围内的下一个随机浮点数\n",
    "    - 格式：random.random()\n",
    "    - 返回值：[0.0, 1.0) 范围内的浮点数\n",
    "- choice()：从非空序列 seq 返回一个随机元素\n",
    "    - 格式：random.choice(seq)\n",
    "    - 返回值：序列中的一个随机元素\n",
    "    - 如果 seq 为空，则引发 IndexError\n",
    "- shuffle()：将序列 x 随机打乱位置\n",
    "    - 格式：random.shuffle(x[, random])\n",
    "        - random：可选参数，是一个0参数函数，在 [0.0, 1.0) 中返回随机浮点数；默认情况下，这是函数 random()\n",
    "    - 返回值：无，直接将原列表打乱\n",
    "- randint(a,b): 返回闭区间 [a, b] 内的一个随机整数\n",
    "    - 格式：random.randint(a, b)\n",
    "    - 相当于 randrange(a, b+1)"
   ]
  },
  {
   "cell_type": "code",
   "execution_count": 14,
   "metadata": {},
   "outputs": [],
   "source": [
    "import random"
   ]
  },
  {
   "cell_type": "code",
   "execution_count": 27,
   "metadata": {},
   "outputs": [
    {
     "name": "stdout",
     "output_type": "stream",
     "text": [
      "0.1516789624791841\n",
      "17\n"
     ]
    }
   ],
   "source": [
    "# random()：返回 [0.0, 1.0) 范围内的下一个随机浮点数\n",
    "\n",
    "print(random.random())\n",
    "\n",
    "# 生成一个 [0, 100) 之间的随机整数\n",
    "print((int)(100*random.random()))"
   ]
  },
  {
   "cell_type": "code",
   "execution_count": 29,
   "metadata": {},
   "outputs": [
    {
     "name": "stdout",
     "output_type": "stream",
     "text": [
      "190\n",
      "151bingbing\n"
     ]
    }
   ],
   "source": [
    "# choice()：从非空序列 seq 返回一个随机元素\n",
    "\n",
    "l = [i for i in range(1000)]\n",
    "\n",
    "print(random.choice(l))\n",
    "\n",
    "l2 = [str(i)+\"bingbing\" for i in range(1000)]\n",
    "\n",
    "print(random.choice(l2))"
   ]
  },
  {
   "cell_type": "code",
   "execution_count": 33,
   "metadata": {},
   "outputs": [
    {
     "name": "stdout",
     "output_type": "stream",
     "text": [
      "[0, 1, 2, 3, 4, 5, 6, 7, 8, 9]\n",
      "None\n",
      "[1, 0, 5, 9, 8, 2, 3, 6, 7, 4]\n"
     ]
    }
   ],
   "source": [
    "# shuffle()：将序列 x 随机打乱位置\n",
    "\n",
    "l = [i for i in range(10)]\n",
    "print(l)\n",
    "\n",
    "l2 = random.shuffle(l)\n",
    "print(l2)\n",
    "print(l)"
   ]
  },
  {
   "cell_type": "code",
   "execution_count": 34,
   "metadata": {},
   "outputs": [
    {
     "name": "stdout",
     "output_type": "stream",
     "text": [
      "617\n"
     ]
    }
   ],
   "source": [
    "# randint(a,b): 返回闭区间 [a, b] 内的一个随机整数\n",
    "\n",
    "print(random.randint(0,1000))"
   ]
  },
  {
   "cell_type": "markdown",
   "metadata": {},
   "source": [
    "## logging模块（日志处理模块）\n",
    "https://www.cnblogs.com/yyds/p/6901864.html"
   ]
  },
  {
   "cell_type": "code",
   "execution_count": null,
   "metadata": {},
   "outputs": [],
   "source": []
  }
 ],
 "metadata": {
  "kernelspec": {
   "display_name": "Python 3",
   "language": "python",
   "name": "python3"
  },
  "language_info": {
   "codemirror_mode": {
    "name": "ipython",
    "version": 3
   },
   "file_extension": ".py",
   "mimetype": "text/x-python",
   "name": "python",
   "nbconvert_exporter": "python",
   "pygments_lexer": "ipython3",
   "version": "3.7.6"
  }
 },
 "nbformat": 4,
 "nbformat_minor": 4
}
